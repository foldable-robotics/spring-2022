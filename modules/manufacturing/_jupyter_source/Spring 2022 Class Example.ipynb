{
 "cells": [
  {
   "cell_type": "markdown",
   "id": "ae239089",
   "metadata": {},
   "source": [
    "---\n",
    "title: Spring 2022 Shapely & Foldable Robotics Example\n",
    "type: tutorial\n",
    "---"
   ]
  },
  {
   "cell_type": "code",
   "execution_count": 1,
   "id": "f81d9321",
   "metadata": {},
   "outputs": [],
   "source": [
    "import shapely.geometry as sg\n",
    "from foldable_robotics.layer import Layer\n",
    "from foldable_robotics.laminate import Laminate"
   ]
  },
  {
   "cell_type": "code",
   "execution_count": 2,
   "id": "2260dd8d",
   "metadata": {},
   "outputs": [
    {
     "data": {
      "image/svg+xml": [
       "<svg xmlns=\"http://www.w3.org/2000/svg\" xmlns:xlink=\"http://www.w3.org/1999/xlink\" width=\"100.0\" height=\"100.0\" viewBox=\"-0.04 -0.04 1.08 1.08\" preserveAspectRatio=\"xMinYMin meet\"><g transform=\"matrix(1,0,0,-1,0,1.0)\"><path fill-rule=\"evenodd\" fill=\"#66cc99\" stroke=\"#555555\" stroke-width=\"0.0216\" opacity=\"0.6\" d=\"M 1.0,0.0 L 1.0,1.0 L 0.0,1.0 L 0.0,0.0 L 1.0,0.0 z\" /></g></svg>"
      ],
      "text/plain": [
       "<shapely.geometry.polygon.Polygon at 0x7f3a542ba280>"
      ]
     },
     "execution_count": 2,
     "metadata": {},
     "output_type": "execute_result"
    }
   ],
   "source": [
    "a = sg.box(0,0,1,1)\n",
    "a"
   ]
  },
  {
   "cell_type": "code",
   "execution_count": 3,
   "id": "1ed515e0",
   "metadata": {},
   "outputs": [],
   "source": [
    "b = Layer(a)"
   ]
  },
  {
   "cell_type": "code",
   "execution_count": 4,
   "id": "13e4adc2",
   "metadata": {},
   "outputs": [
    {
     "data": {
      "image/svg+xml": [
       "<svg xmlns=\"http://www.w3.org/2000/svg\" xmlns:xlink=\"http://www.w3.org/1999/xlink\" width=\"100.0\" height=\"100.0\" viewBox=\"-0.04 -0.04 1.08 1.08\" preserveAspectRatio=\"xMinYMin meet\"><g transform=\"matrix(1,0,0,-1,0,1.0)\"><g><path fill-rule=\"evenodd\" fill=\"#00FF00\" stroke=\"#555555\" stroke-width=\"0.0216\" opacity=\"0.6\" d=\"M 1.0,0.0 L 1.0,1.0 L 0.0,1.0 L 0.0,0.0 L 1.0,0.0 z\" /></g></g></svg>"
      ],
      "text/plain": [
       "<foldable_robotics.layer.Layer at 0x7f3a542ba5e0>"
      ]
     },
     "execution_count": 4,
     "metadata": {},
     "output_type": "execute_result"
    }
   ],
   "source": [
    "b"
   ]
  },
  {
   "cell_type": "code",
   "execution_count": 5,
   "id": "0e5d0301",
   "metadata": {},
   "outputs": [
    {
     "data": {
      "text/plain": [
       "[<shapely.geometry.polygon.Polygon at 0x7f3a542ba670>]"
      ]
     },
     "execution_count": 5,
     "metadata": {},
     "output_type": "execute_result"
    }
   ],
   "source": [
    "b.geoms"
   ]
  },
  {
   "cell_type": "code",
   "execution_count": 6,
   "id": "a5462beb",
   "metadata": {},
   "outputs": [
    {
     "data": {
      "image/svg+xml": [
       "<svg xmlns=\"http://www.w3.org/2000/svg\" xmlns:xlink=\"http://www.w3.org/1999/xlink\" width=\"100.0\" height=\"100.0\" viewBox=\"-0.04 -0.04 1.08 1.08\" preserveAspectRatio=\"xMinYMin meet\"><g transform=\"matrix(1,0,0,-1,0,1.0)\"><path fill-rule=\"evenodd\" fill=\"#66cc99\" stroke=\"#555555\" stroke-width=\"0.0216\" opacity=\"0.6\" d=\"M 1.0,0.0 L 1.0,1.0 L 0.0,1.0 L 0.0,0.0 L 1.0,0.0 z\" /></g></svg>"
      ],
      "text/plain": [
       "<shapely.geometry.polygon.Polygon at 0x7f3a542ba670>"
      ]
     },
     "execution_count": 6,
     "metadata": {},
     "output_type": "execute_result"
    }
   ],
   "source": [
    "b.geoms[0]"
   ]
  },
  {
   "cell_type": "code",
   "execution_count": 7,
   "id": "a57914bf",
   "metadata": {},
   "outputs": [
    {
     "data": {
      "image/svg+xml": [
       "<svg xmlns=\"http://www.w3.org/2000/svg\" xmlns:xlink=\"http://www.w3.org/1999/xlink\" width=\"100.0\" height=\"100.0\" viewBox=\"-0.12 -0.12 3.24 1.2400000000000002\" preserveAspectRatio=\"xMinYMin meet\"><g transform=\"matrix(1,0,0,-1,0,1.0)\"><g><path fill-rule=\"evenodd\" fill=\"#00FF00\" stroke=\"#555555\" stroke-width=\"0.06480000000000001\" opacity=\"0.6\" d=\"M 1.0,0.0 L 1.0,1.0 L 0.0,1.0 L 0.0,0.0 L 1.0,0.0 z\" /><path fill-rule=\"evenodd\" fill=\"#00FF00\" stroke=\"#555555\" stroke-width=\"0.06480000000000001\" opacity=\"0.6\" d=\"M 3.0,0.0 L 3.0,1.0 L 2.0,1.0 L 2.0,0.0 L 3.0,0.0 z\" /></g></g></svg>"
      ],
      "text/plain": [
       "<foldable_robotics.layer.Layer at 0x7f3a542bab20>"
      ]
     },
     "execution_count": 7,
     "metadata": {},
     "output_type": "execute_result"
    }
   ],
   "source": [
    "c = b | b.translate(2,0)\n",
    "c"
   ]
  },
  {
   "cell_type": "code",
   "execution_count": 8,
   "id": "2d10a1aa",
   "metadata": {},
   "outputs": [
    {
     "data": {
      "image/svg+xml": [
       "<svg xmlns=\"http://www.w3.org/2000/svg\" xmlns:xlink=\"http://www.w3.org/1999/xlink\" width=\"100.0\" height=\"100.0\" viewBox=\"-0.6239230484541326 -0.12392304845413264 3.3459223082615814 2.613871500692704\" preserveAspectRatio=\"xMinYMin meet\"><g transform=\"matrix(1,0,0,-1,0,2.3660254037844384)\"><g><path fill-rule=\"evenodd\" fill=\"#00FF00\" stroke=\"#555555\" stroke-width=\"0.06691844616523163\" opacity=\"0.6\" d=\"M 0.8660254037844387,0.49999999999999994 L 0.36602540378443876,1.3660254037844386 L -0.49999999999999994,0.8660254037844387 L 0.0,0.0 L 0.8660254037844387,0.49999999999999994 z\" /><path fill-rule=\"evenodd\" fill=\"#00FF00\" stroke=\"#555555\" stroke-width=\"0.06691844616523163\" opacity=\"0.6\" d=\"M 2.598076211353316,1.4999999999999998 L 2.098076211353316,2.3660254037844384 L 1.2320508075688774,1.8660254037844386 L 1.7320508075688774,0.9999999999999999 L 2.598076211353316,1.4999999999999998 z\" /></g></g></svg>"
      ],
      "text/plain": [
       "<foldable_robotics.layer.Layer at 0x7f3a542abee0>"
      ]
     },
     "execution_count": 8,
     "metadata": {},
     "output_type": "execute_result"
    }
   ],
   "source": [
    "d = c.rotate(30)\n",
    "d"
   ]
  },
  {
   "cell_type": "code",
   "execution_count": 9,
   "id": "6d6b577f",
   "metadata": {},
   "outputs": [
    {
     "data": {
      "image/svg+xml": [
       "<svg xmlns=\"http://www.w3.org/2000/svg\" xmlns:xlink=\"http://www.w3.org/1999/xlink\" width=\"100.0\" height=\"100.0\" viewBox=\"-0.66 -0.66 4.32 2.32\" preserveAspectRatio=\"xMinYMin meet\"><g transform=\"matrix(1,0,0,-1,0,0.9999999999999999)\"><g><path fill-rule=\"evenodd\" fill=\"#00FF00\" stroke=\"#555555\" stroke-width=\"0.0864\" opacity=\"0.6\" d=\"M 1.0,-0.5 L 0.0,-0.5 L -0.24999999999999895,-0.4330127018922199 L -0.43301270189221824,-0.2500000000000019 L -0.5,0.0 L -0.5,1.0 L -0.43301270189221924,1.2500000000000002 L -0.2499999999999999,1.4330127018922194 L 0.0,1.5 L 1.0,1.5 L 1.25,1.4330127018922192 L 1.4330127018922194,1.25 L 1.5,1.0 L 1.5669872981077808,1.2500000000000002 L 1.75,1.4330127018922194 L 2.0,1.5 L 3.0,1.5 L 3.25,1.4330127018922192 L 3.433012701892219,1.25 L 3.5,1.0 L 3.5,0.0 L 3.433012701892219,-0.25 L 3.25,-0.43301270189221935 L 3.0,-0.5 L 2.0,-0.5 L 1.750000000000001,-0.4330127018922199 L 1.5669872981077817,-0.2500000000000019 L 1.5,0.0 L 1.4330127018922192,-0.25 L 1.25,-0.43301270189221935 L 1.0,-0.5 z\" /></g></g></svg>"
      ],
      "text/plain": [
       "<foldable_robotics.layer.Layer at 0x7f3a542c9a30>"
      ]
     },
     "execution_count": 9,
     "metadata": {},
     "output_type": "execute_result"
    }
   ],
   "source": [
    "e = c.dilate(.5,3)\n",
    "e"
   ]
  },
  {
   "cell_type": "code",
   "execution_count": 10,
   "id": "e847be39",
   "metadata": {},
   "outputs": [
    {
     "data": {
      "image/svg+xml": [
       "<svg xmlns=\"http://www.w3.org/2000/svg\" xmlns:xlink=\"http://www.w3.org/1999/xlink\" width=\"100.0\" height=\"100.0\" viewBox=\"-0.39 -0.39 3.7800000000000002 1.7800000000000002\" preserveAspectRatio=\"xMinYMin meet\"><g transform=\"matrix(1,0,0,-1,0,1.0)\"><g><path fill-rule=\"evenodd\" fill=\"#00FF00\" stroke=\"#555555\" stroke-width=\"0.0756\" opacity=\"0.6\" d=\"M 0.967086875603151,-0.25 L 0.03291312439684866,-0.25 L -0.1205904774487391,-0.20886883385020635 L -0.20886883385020516,-0.12059047744874091 L -0.25,0.032913124396849264 L -0.25,0.9670868756031511 L -0.20886883385020594,1.1205904774487396 L -0.12059047744873964,1.2088688338502058 L 0.03291312439684922,1.25 L 0.9670868756031513,1.25 L 1.1205904774487396,1.2088688338502058 L 1.2088688338502058,1.1205904774487396 L 1.2585185434277328,0.9352952387243699 L 1.323223304703363,0.8232233047033632 L 1.4352952387243696,0.758518543427733 L 1.56470476127563,0.7585185434277328 L 1.6767766952966368,0.823223304703363 L 1.741481456572267,0.9352952387243697 L 1.791131166149794,1.1205904774487396 L 1.8794095225512601,1.2088688338502058 L 2.032913124396849,1.25 L 2.9670868756031514,1.25 L 3.120590477448739,1.208868833850206 L 3.208868833850206,1.1205904774487392 L 3.25,0.9670868756031513 L 3.25,0.03291312439684865 L 3.208868833850206,-0.12059047744873945 L 3.1205904774487396,-0.20886883385020602 L 2.967086875603151,-0.25 L 2.0329131243968486,-0.25 L 1.879409522551261,-0.20886883385020635 L 1.7911311661497948,-0.12059047744874088 L 1.741481456572267,0.06470476127563066 L 1.6767766952966365,0.17677669529663714 L 1.56470476127563,0.24148145657226713 L 1.4352952387243696,0.24148145657226705 L 1.323223304703363,0.1767766952966369 L 1.258518543427733,0.06470476127563031 L 1.208868833850206,-0.12059047744873945 L 1.1205904774487396,-0.20886883385020594 L 0.967086875603151,-0.25 z\" /></g></g></svg>"
      ],
      "text/plain": [
       "<foldable_robotics.layer.Layer at 0x7f3a542c9160>"
      ]
     },
     "execution_count": 10,
     "metadata": {},
     "output_type": "execute_result"
    }
   ],
   "source": [
    "f = e.erode(.25,3)\n",
    "f"
   ]
  },
  {
   "cell_type": "code",
   "execution_count": 11,
   "id": "76b81869",
   "metadata": {},
   "outputs": [],
   "source": [
    "g = Laminate(c,f,c)"
   ]
  },
  {
   "cell_type": "code",
   "execution_count": 12,
   "id": "390c43ea",
   "metadata": {},
   "outputs": [
    {
     "data": {
      "image/svg+xml": [
       "<svg xmlns=\"http://www.w3.org/2000/svg\" xmlns:xlink=\"http://www.w3.org/1999/xlink\" width=\"100.0\" height=\"100.0\" viewBox=\"-0.39 -0.39 3.7800000000000002 1.7800000000000002\" preserveAspectRatio=\"xMinYMin meet\"><g transform=\"matrix(1,0,0,-1,0,1.0)\"><g><path fill-rule=\"evenodd\" fill=\"#0c0786ff\" stroke=\"#555555\" stroke-width=\"0.0756\" opacity=\"0.6\" d=\"M 1.0,0.0 L 1.0,1.0 L 0.0,1.0 L 0.0,0.0 L 1.0,0.0 z\" /><path fill-rule=\"evenodd\" fill=\"#0c0786ff\" stroke=\"#555555\" stroke-width=\"0.0756\" opacity=\"0.6\" d=\"M 3.0,0.0 L 3.0,1.0 L 2.0,1.0 L 2.0,0.0 L 3.0,0.0 z\" /><path fill-rule=\"evenodd\" fill=\"#cb4777ff\" stroke=\"#555555\" stroke-width=\"0.0756\" opacity=\"0.6\" d=\"M 0.967086875603151,-0.25 L 0.03291312439684866,-0.25 L -0.1205904774487391,-0.20886883385020635 L -0.20886883385020516,-0.12059047744874091 L -0.25,0.032913124396849264 L -0.25,0.9670868756031511 L -0.20886883385020594,1.1205904774487396 L -0.12059047744873964,1.2088688338502058 L 0.03291312439684922,1.25 L 0.9670868756031513,1.25 L 1.1205904774487396,1.2088688338502058 L 1.2088688338502058,1.1205904774487396 L 1.2585185434277328,0.9352952387243699 L 1.323223304703363,0.8232233047033632 L 1.4352952387243696,0.758518543427733 L 1.56470476127563,0.7585185434277328 L 1.6767766952966368,0.823223304703363 L 1.741481456572267,0.9352952387243697 L 1.791131166149794,1.1205904774487396 L 1.8794095225512601,1.2088688338502058 L 2.032913124396849,1.25 L 2.9670868756031514,1.25 L 3.120590477448739,1.208868833850206 L 3.208868833850206,1.1205904774487392 L 3.25,0.9670868756031513 L 3.25,0.03291312439684865 L 3.208868833850206,-0.12059047744873945 L 3.1205904774487396,-0.20886883385020602 L 2.967086875603151,-0.25 L 2.0329131243968486,-0.25 L 1.879409522551261,-0.20886883385020635 L 1.7911311661497948,-0.12059047744874088 L 1.741481456572267,0.06470476127563066 L 1.6767766952966365,0.17677669529663714 L 1.56470476127563,0.24148145657226713 L 1.4352952387243696,0.24148145657226705 L 1.323223304703363,0.1767766952966369 L 1.258518543427733,0.06470476127563031 L 1.208868833850206,-0.12059047744873945 L 1.1205904774487396,-0.20886883385020594 L 0.967086875603151,-0.25 z\" /><path fill-rule=\"evenodd\" fill=\"#eff821ff\" stroke=\"#555555\" stroke-width=\"0.0756\" opacity=\"0.6\" d=\"M 1.0,0.0 L 1.0,1.0 L 0.0,1.0 L 0.0,0.0 L 1.0,0.0 z\" /><path fill-rule=\"evenodd\" fill=\"#eff821ff\" stroke=\"#555555\" stroke-width=\"0.0756\" opacity=\"0.6\" d=\"M 3.0,0.0 L 3.0,1.0 L 2.0,1.0 L 2.0,0.0 L 3.0,0.0 z\" /></g></g></svg>"
      ],
      "text/plain": [
       "<foldable_robotics.laminate.Laminate at 0x7f3a542c9910>"
      ]
     },
     "execution_count": 12,
     "metadata": {},
     "output_type": "execute_result"
    }
   ],
   "source": [
    "g"
   ]
  },
  {
   "cell_type": "code",
   "execution_count": 13,
   "id": "710d1661",
   "metadata": {},
   "outputs": [
    {
     "data": {
      "image/png": "[encoded data removed]",
      "text/plain": [
       "<Figure size 432x288 with 1 Axes>"
      ]
     },
     "metadata": {
      "needs_background": "light"
     },
     "output_type": "display_data"
    }
   ],
   "source": [
    "g.plot()"
   ]
  },
  {
   "cell_type": "code",
   "execution_count": 14,
   "id": "3fe68394",
   "metadata": {},
   "outputs": [
    {
     "data": {
      "image/png": "[encoded data removed]",
      "text/plain": [
       "<Figure size 432x288 with 1 Axes>"
      ]
     },
     "metadata": {
      "needs_background": "light"
     },
     "output_type": "display_data"
    },
    {
     "data": {
      "image/png": "[encoded data removed]",
      "text/plain": [
       "<Figure size 432x288 with 1 Axes>"
      ]
     },
     "metadata": {
      "needs_background": "light"
     },
     "output_type": "display_data"
    },
    {
     "data": {
      "image/png": "[encoded data removed]",
      "text/plain": [
       "<Figure size 432x288 with 1 Axes>"
      ]
     },
     "metadata": {
      "needs_background": "light"
     },
     "output_type": "display_data"
    }
   ],
   "source": [
    "for layer in g:\n",
    "    layer.plot(new=True)"
   ]
  },
  {
   "cell_type": "code",
   "execution_count": 15,
   "id": "dbd16df0",
   "metadata": {},
   "outputs": [
    {
     "data": {
      "text/plain": [
       "foldable_robotics.layer.Layer"
      ]
     },
     "execution_count": 15,
     "metadata": {},
     "output_type": "execute_result"
    }
   ],
   "source": [
    "h = g[1]\n",
    "type(h)"
   ]
  },
  {
   "cell_type": "code",
   "execution_count": null,
   "id": "af5944d7",
   "metadata": {},
   "outputs": [],
   "source": []
  }
 ],
 "metadata": {
  "kernelspec": {
   "display_name": "Python 3 (ipykernel)",
   "language": "python",
   "name": "python3"
  },
  "language_info": {
   "codemirror_mode": {
    "name": "ipython",
    "version": 3
   },
   "file_extension": ".py",
   "mimetype": "text/x-python",
   "name": "python",
   "nbconvert_exporter": "python",
   "pygments_lexer": "ipython3",
   "version": "3.9.7"
  }
 },
 "nbformat": 4,
 "nbformat_minor": 5
}
