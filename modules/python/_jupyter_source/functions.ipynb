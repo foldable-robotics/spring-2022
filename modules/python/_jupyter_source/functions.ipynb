{
 "cells": [
  {
   "cell_type": "markdown",
   "id": "5a3c91da",
   "metadata": {},
   "source": [
    "---\n",
    "title: functions and arguments\n",
    "---\n",
    "\n",
    "\n",
    "## Functions\n",
    "\n",
    "The structure of a function is:"
   ]
  },
  {
   "cell_type": "code",
   "execution_count": 1,
   "id": "01dbe5e4",
   "metadata": {},
   "outputs": [],
   "source": [
    "def my_function_1(my_variable_1,my_variable_2):\n",
    "    result = my_variable_1+my_variable_2\n",
    "    return result"
   ]
  },
  {
   "cell_type": "markdown",
   "id": "9690052a",
   "metadata": {},
   "source": [
    "Where ```my_function_1``` is the function, and ```my_variable_1``` and ```my_variable_2``` are the \"arguments\". You can define a function by running"
   ]
  },
  {
   "cell_type": "markdown",
   "id": "b24bcd26",
   "metadata": {},
   "source": [
    "There are a couple things to note: first, the function is declared using the ```def``` keyword.  This tells python to expect a function declaration.  You then give the name, all the variables inside a set of parehtheses, finished by a colon.  Everything _inside_ the function after that must be indented.\n",
    "\n",
    "Finally, you see the ```result``` keyword being used to return a calculated value.  This does not need to be on its own line, and is completely optional.  If you are setting a value to the result of whatever this function runs, however, ```return``` tells Python what value to return at the conclusion of this function."
   ]
  },
  {
   "cell_type": "markdown",
   "id": "72a6e9f9",
   "metadata": {},
   "source": [
    "You then \"call\" the function by running the function with two inputs supplied:"
   ]
  },
  {
   "cell_type": "code",
   "execution_count": 2,
   "id": "19fdac42",
   "metadata": {},
   "outputs": [
    {
     "data": {
      "text/plain": [
       "0"
      ]
     },
     "execution_count": 2,
     "metadata": {},
     "output_type": "execute_result"
    }
   ],
   "source": [
    "my_function_1(0,0)"
   ]
  },
  {
   "cell_type": "markdown",
   "id": "2a33ba75",
   "metadata": {},
   "source": [
    "You can use variables or literals when calling a function, and may set a value with whatever the function returns, as well"
   ]
  },
  {
   "cell_type": "code",
   "execution_count": 3,
   "id": "e7f06ddd",
   "metadata": {},
   "outputs": [
    {
     "name": "stdout",
     "output_type": "stream",
     "text": [
      "3\n"
     ]
    }
   ],
   "source": [
    "variable_1 = 1\n",
    "result = my_function_1(variable_1,2)\n",
    "print(result)"
   ]
  },
  {
   "cell_type": "markdown",
   "id": "3d46a0be",
   "metadata": {},
   "source": [
    "## Arguments\n",
    "\n",
    "There are two main types of variables you can supply to python functions: arguments and keyword arguments.  ```my_function_1``` is an example of what a function looks like with only arguments.  Keyword arguments can be used instead.  These supply a default value to the function, and are thus optional."
   ]
  },
  {
   "cell_type": "code",
   "execution_count": 8,
   "id": "50f4a843",
   "metadata": {},
   "outputs": [],
   "source": [
    "def my_function_2(my_kw_argument_1=0,my_kw_argument_2=0):\n",
    "    result = my_kw_argument_1*my_kw_argument_2\n",
    "    return result"
   ]
  },
  {
   "cell_type": "markdown",
   "id": "61ecc875",
   "metadata": {},
   "source": [
    "Now, when calling ```my_function_2```, you don't need to supply any variables, if your use-case doesn't need it."
   ]
  },
  {
   "cell_type": "code",
   "execution_count": 9,
   "id": "15c8f893",
   "metadata": {},
   "outputs": [
    {
     "data": {
      "text/plain": [
       "0"
      ]
     },
     "execution_count": 9,
     "metadata": {},
     "output_type": "execute_result"
    }
   ],
   "source": [
    "my_function_2()"
   ]
  },
  {
   "cell_type": "markdown",
   "id": "083c1c10",
   "metadata": {},
   "source": [
    "But you still can...with literals or variables"
   ]
  },
  {
   "cell_type": "code",
   "execution_count": 12,
   "id": "989d8923",
   "metadata": {},
   "outputs": [
    {
     "data": {
      "text/plain": [
       "90"
      ]
     },
     "execution_count": 12,
     "metadata": {},
     "output_type": "execute_result"
    }
   ],
   "source": [
    "my_var_2 = 45\n",
    "my_function_2(2,my_var_2)"
   ]
  },
  {
   "cell_type": "code",
   "execution_count": null,
   "id": "4070b534",
   "metadata": {},
   "outputs": [],
   "source": []
  }
 ],
 "metadata": {
  "kernelspec": {
   "display_name": "Python 3 (ipykernel)",
   "language": "python",
   "name": "python3"
  },
  "language_info": {
   "codemirror_mode": {
    "name": "ipython",
    "version": 3
   },
   "file_extension": ".py",
   "mimetype": "text/x-python",
   "name": "python",
   "nbconvert_exporter": "python",
   "pygments_lexer": "ipython3",
   "version": "3.9.7"
  }
 },
 "nbformat": 4,
 "nbformat_minor": 5
}
