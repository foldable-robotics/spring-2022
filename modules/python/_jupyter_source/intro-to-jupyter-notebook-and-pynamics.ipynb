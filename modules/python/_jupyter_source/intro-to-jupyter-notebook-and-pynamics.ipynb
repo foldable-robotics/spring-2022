{
 "cells": [
  {
   "cell_type": "markdown",
   "id": "a9464cfb",
   "metadata": {},
   "source": [
    "---\n",
    "title: Intro to Jupyter Notebook and Pynamics\n",
    "type: submodule\n",
    "---"
   ]
  },
  {
   "cell_type": "code",
   "execution_count": 1,
   "id": "0f370ccf",
   "metadata": {},
   "outputs": [],
   "source": [
    "import pynamics\n",
    "from pynamics.system import System\n",
    "from pynamics.frame import Frame\n",
    "import sympy\n",
    "\n",
    "system = System()\n",
    "pynamics.set_system(__name__,system)"
   ]
  },
  {
   "cell_type": "markdown",
   "id": "50fd4454",
   "metadata": {},
   "source": [
    "## Heading\n",
    "\n",
    "Text\n",
    "\n"
   ]
  },
  {
   "cell_type": "code",
   "execution_count": 2,
   "id": "7a0dbba3",
   "metadata": {},
   "outputs": [
    {
     "data": {
      "text/plain": [
       "Matrix([\n",
       "[cos(a)*cos(b), sin(a)*cos(b), -sin(b)],\n",
       "[      -sin(a),        cos(a),       0],\n",
       "[sin(b)*cos(a), sin(a)*sin(b),  cos(b)]])"
      ]
     },
     "execution_count": 2,
     "metadata": {},
     "output_type": "execute_result"
    }
   ],
   "source": [
    "a,b,c=sympy.symbols('a b c')\n",
    "\n",
    "N = Frame('N',system)\n",
    "A = Frame('A',system)\n",
    "B = Frame('B',system)\n",
    "\n",
    "A.rotate_fixed_axis(N,[0,0,1],a,system)\n",
    "B.rotate_fixed_axis(A,[0,1,0],b,system)\n",
    "\n",
    "R_BA = B.get_r_from(A)\n",
    "R_AN = A.get_r_from(N)\n",
    "R_BN = B.get_r_from(N)\n",
    "\n",
    "R_BA*R_AN"
   ]
  },
  {
   "cell_type": "code",
   "execution_count": 3,
   "id": "32513b5a",
   "metadata": {},
   "outputs": [
    {
     "data": {
      "text/plain": [
       "Matrix([\n",
       "[cos(a)*cos(b), sin(a)*cos(b), -sin(b)],\n",
       "[      -sin(a),        cos(a),       0],\n",
       "[sin(b)*cos(a), sin(a)*sin(b),  cos(b)]])"
      ]
     },
     "execution_count": 3,
     "metadata": {},
     "output_type": "execute_result"
    }
   ],
   "source": [
    "R_BN"
   ]
  },
  {
   "cell_type": "code",
   "execution_count": 4,
   "id": "9395a55c",
   "metadata": {},
   "outputs": [
    {
     "data": {
      "text/plain": [
       "3*N.x*cos(a) + 3*N.y*sin(a) + 2*N.z"
      ]
     },
     "execution_count": 4,
     "metadata": {},
     "output_type": "execute_result"
    }
   ],
   "source": [
    "v1 = 3*A.x+2*N.z\n",
    "v1.express(N)"
   ]
  },
  {
   "cell_type": "code",
   "execution_count": 5,
   "id": "7c061fd5",
   "metadata": {},
   "outputs": [
    {
     "data": {
      "text/plain": [
       "4*A.y + 7*N.z"
      ]
     },
     "execution_count": 5,
     "metadata": {},
     "output_type": "execute_result"
    }
   ],
   "source": [
    "v2 = 7*N.z+4*A.y\n",
    "v2"
   ]
  },
  {
   "cell_type": "code",
   "execution_count": 6,
   "id": "2a967b2e",
   "metadata": {},
   "outputs": [
    {
     "data": {
      "text/plain": [
       "14"
      ]
     },
     "execution_count": 6,
     "metadata": {},
     "output_type": "execute_result"
    }
   ],
   "source": [
    "v1.dot(v2)"
   ]
  },
  {
   "cell_type": "code",
   "execution_count": 7,
   "id": "0a12713e",
   "metadata": {},
   "outputs": [
    {
     "data": {
      "text/plain": [
       "10*A.x + 5*B.x"
      ]
     },
     "execution_count": 7,
     "metadata": {},
     "output_type": "execute_result"
    }
   ],
   "source": [
    "10*A.x+5*B.x"
   ]
  },
  {
   "cell_type": "code",
   "execution_count": 8,
   "id": "6f007620",
   "metadata": {},
   "outputs": [
    {
     "data": {
      "text/plain": [
       "13"
      ]
     },
     "execution_count": 8,
     "metadata": {},
     "output_type": "execute_result"
    }
   ],
   "source": [
    "v1.dot(v1)"
   ]
  },
  {
   "cell_type": "code",
   "execution_count": 9,
   "id": "e8665a1c",
   "metadata": {},
   "outputs": [
    {
     "data": {
      "text/plain": [
       "3.60555127546399"
      ]
     },
     "execution_count": 9,
     "metadata": {},
     "output_type": "execute_result"
    }
   ],
   "source": [
    "v1.length()"
   ]
  },
  {
   "cell_type": "code",
   "execution_count": 10,
   "id": "dc4515e5",
   "metadata": {},
   "outputs": [],
   "source": [
    "v3 = v1.cross(v2)\n"
   ]
  },
  {
   "cell_type": "code",
   "execution_count": 11,
   "id": "9a6a2fa3",
   "metadata": {},
   "outputs": [
    {
     "data": {
      "text/plain": [
       "3.57179676972449*N.x - 22.1865334794732*N.y + 12*N.z"
      ]
     },
     "execution_count": 11,
     "metadata": {},
     "output_type": "execute_result"
    }
   ],
   "source": [
    "from math import pi\n",
    "v4 = v3.express(N).subs({a:30*pi/180})\n",
    "v4"
   ]
  },
  {
   "cell_type": "code",
   "execution_count": 12,
   "id": "babefe8e",
   "metadata": {},
   "outputs": [
    {
     "data": {
      "text/plain": [
       "3.57179676972449"
      ]
     },
     "execution_count": 12,
     "metadata": {},
     "output_type": "execute_result"
    }
   ],
   "source": [
    "v4x = v4.dot(N.x)\n",
    "v4x"
   ]
  },
  {
   "cell_type": "code",
   "execution_count": null,
   "id": "0feaf240",
   "metadata": {},
   "outputs": [],
   "source": []
  }
 ],
 "metadata": {
  "kernelspec": {
   "display_name": "Python 3 (ipykernel)",
   "language": "python",
   "name": "python3"
  },
  "language_info": {
   "codemirror_mode": {
    "name": "ipython",
    "version": 3
   },
   "file_extension": ".py",
   "mimetype": "text/x-python",
   "name": "python",
   "nbconvert_exporter": "python",
   "pygments_lexer": "ipython3",
   "version": "3.9.7"
  }
 },
 "nbformat": 4,
 "nbformat_minor": 5
}
