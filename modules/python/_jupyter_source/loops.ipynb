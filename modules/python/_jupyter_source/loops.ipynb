{
 "cells": [
  {
   "cell_type": "markdown",
   "id": "45797c9b",
   "metadata": {},
   "source": [
    "---\n",
    "title: Loops\n",
    "---\n",
    "\n",
    "## Introduction\n",
    "\n",
    "Loops are used to repeat code over a fixed number of cycles, or indefinitely based on logic.  There are two main types of loops: ```for``` loops, and ```while``` loops.\n",
    "\n",
    "## For Loops\n",
    "\n",
    "For loops run code iteratively, once per item, over each item in an iterable data type like a tuple or list.  "
   ]
  },
  {
   "cell_type": "code",
   "execution_count": 1,
   "id": "0bb746c1",
   "metadata": {},
   "outputs": [
    {
     "name": "stdout",
     "output_type": "stream",
     "text": [
      "1\n",
      "2\n",
      "3\n",
      "4\n",
      "5\n"
     ]
    }
   ],
   "source": [
    "my_list = [1,2,3,4,5]\n",
    "\n",
    "for item in my_list:\n",
    "    print(item)"
   ]
  },
  {
   "cell_type": "markdown",
   "id": "1eb14ac5",
   "metadata": {},
   "source": [
    "## While Loops\n",
    "\n",
    "```while``` loops, run code cyclically based on a conditional statement"
   ]
  },
  {
   "cell_type": "code",
   "execution_count": 2,
   "id": "21a67e6d",
   "metadata": {},
   "outputs": [
    {
     "name": "stdout",
     "output_type": "stream",
     "text": [
      "0\n",
      "1\n",
      "2\n",
      "3\n",
      "4\n"
     ]
    }
   ],
   "source": [
    "ii = 0\n",
    "\n",
    "while ii<5:\n",
    "    print(ii)\n",
    "    ii=ii+1\n"
   ]
  },
  {
   "cell_type": "code",
   "execution_count": null,
   "id": "7fbb6bd2",
   "metadata": {},
   "outputs": [],
   "source": []
  }
 ],
 "metadata": {
  "kernelspec": {
   "display_name": "Python 3 (ipykernel)",
   "language": "python",
   "name": "python3"
  },
  "language_info": {
   "codemirror_mode": {
    "name": "ipython",
    "version": 3
   },
   "file_extension": ".py",
   "mimetype": "text/x-python",
   "name": "python",
   "nbconvert_exporter": "python",
   "pygments_lexer": "ipython3",
   "version": "3.9.7"
  }
 },
 "nbformat": 4,
 "nbformat_minor": 5
}
