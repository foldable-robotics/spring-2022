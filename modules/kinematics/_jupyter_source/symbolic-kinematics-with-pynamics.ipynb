{
 "cells": [
  {
   "cell_type": "markdown",
   "metadata": {},
   "source": [
    "---\n",
    "title: Symbolic Kinematics with Pynamics\n",
    "---\n"
   ]
  },
  {
   "cell_type": "code",
   "execution_count": 1,
   "metadata": {},
   "outputs": [],
   "source": [
    "%matplotlib inline"
   ]
  },
  {
   "cell_type": "markdown",
   "metadata": {},
   "source": []
  },
  {
   "cell_type": "code",
   "execution_count": 2,
   "metadata": {},
   "outputs": [],
   "source": [
    "# -*- coding: utf-8 -*-\n",
    "\"\"\"\n",
    "Written by Daniel M. Aukes\n",
    "Email: danaukes<at>gmail.com\n",
    "Please see LICENSE for full license.\n",
    "\"\"\"\n",
    "\n",
    "import pynamics\n",
    "from pynamics.frame import Frame\n",
    "from pynamics.variable_types import Differentiable,Constant\n",
    "from pynamics.system import System\n",
    "from pynamics.body import Body\n",
    "from pynamics.dyadic import Dyadic\n",
    "from pynamics.output import Output,PointsOutput\n",
    "from pynamics.particle import Particle\n",
    "import pynamics.integration\n",
    "import numpy\n",
    "import numpy.linalg\n",
    "import matplotlib.pyplot as plt\n",
    "from math import pi\n",
    "import sympy"
   ]
  },
  {
   "cell_type": "code",
   "execution_count": 3,
   "metadata": {},
   "outputs": [],
   "source": [
    "system = System()\n",
    "pynamics.set_system(__name__,system)"
   ]
  },
  {
   "cell_type": "markdown",
   "metadata": {},
   "source": [
    "Define Constants"
   ]
  },
  {
   "cell_type": "code",
   "execution_count": 4,
   "metadata": {},
   "outputs": [],
   "source": [
    "lA = Constant(1,'lA',system)\n",
    "lB = Constant(.2,'lB',system)"
   ]
  },
  {
   "cell_type": "markdown",
   "metadata": {},
   "source": [
    "define time-differentiable state variables"
   ]
  },
  {
   "cell_type": "code",
   "execution_count": 5,
   "metadata": {},
   "outputs": [],
   "source": [
    "qA,qA_d,qA_dd = Differentiable('qA',system)\n",
    "qB,qB_d,qB_dd = Differentiable('qB',system)"
   ]
  },
  {
   "cell_type": "markdown",
   "metadata": {},
   "source": [
    "create frames"
   ]
  },
  {
   "cell_type": "code",
   "execution_count": 6,
   "metadata": {},
   "outputs": [],
   "source": [
    "N = Frame('N',system)\n",
    "A = Frame('A',system)\n",
    "B = Frame('B',system)"
   ]
  },
  {
   "cell_type": "markdown",
   "metadata": {},
   "source": [
    "Rotate Frames relative to a parent frame"
   ]
  },
  {
   "cell_type": "code",
   "execution_count": 7,
   "metadata": {},
   "outputs": [],
   "source": [
    "system.set_newtonian(N)\n",
    "A.rotate_fixed_axis(N,[0,0,1],qA,system)\n",
    "B.rotate_fixed_axis(A,[0,0,1],qB,system)"
   ]
  },
  {
   "cell_type": "markdown",
   "metadata": {},
   "source": [
    "Define the kinematics of the system by creating vectors of important points"
   ]
  },
  {
   "cell_type": "code",
   "execution_count": 8,
   "metadata": {},
   "outputs": [],
   "source": [
    "pNA=0*N.x\n",
    "pAB=pNA+lA*A.x\n",
    "pBtip = pAB + lB*B.x"
   ]
  },
  {
   "cell_type": "markdown",
   "metadata": {},
   "source": [
    "Take the time derivative of the tip"
   ]
  },
  {
   "cell_type": "code",
   "execution_count": 9,
   "metadata": {},
   "outputs": [
    {
     "data": {
      "text/plain": [
       "lA*qA_d*A.y + lB*B.y*(qA_d + qB_d)"
      ]
     },
     "execution_count": 9,
     "metadata": {},
     "output_type": "execute_result"
    }
   ],
   "source": [
    "vBtip = pBtip.time_derivative()\n",
    "vBtip"
   ]
  },
  {
   "cell_type": "markdown",
   "metadata": {},
   "source": [
    "Assemble the output velocity vector"
   ]
  },
  {
   "cell_type": "code",
   "execution_count": 10,
   "metadata": {},
   "outputs": [],
   "source": [
    "dy = sympy.Matrix([vBtip.dot(N.x),vBtip.dot(N.y)])"
   ]
  },
  {
   "cell_type": "markdown",
   "metadata": {},
   "source": [
    "define the input vector"
   ]
  },
  {
   "cell_type": "code",
   "execution_count": 11,
   "metadata": {},
   "outputs": [],
   "source": [
    "dq = sympy.Matrix([qA_d,qB_d])"
   ]
  },
  {
   "cell_type": "markdown",
   "metadata": {},
   "source": [
    "Compute the Jacobian"
   ]
  },
  {
   "cell_type": "code",
   "execution_count": 12,
   "metadata": {},
   "outputs": [
    {
     "data": {
      "text/plain": [
       "Matrix([\n",
       "[-lA*sin(qA) - lB*sin(qA)*cos(qB) - lB*sin(qB)*cos(qA), -lB*sin(qA)*cos(qB) - lB*sin(qB)*cos(qA)],\n",
       "[ lA*cos(qA) - lB*sin(qA)*sin(qB) + lB*cos(qA)*cos(qB), -lB*sin(qA)*sin(qB) + lB*cos(qA)*cos(qB)]])"
      ]
     },
     "execution_count": 12,
     "metadata": {},
     "output_type": "execute_result"
    }
   ],
   "source": [
    "J = dy.jacobian(dq)\n",
    "J"
   ]
  },
  {
   "cell_type": "markdown",
   "metadata": {},
   "source": [
    "Define an arbitrary configuration"
   ]
  },
  {
   "cell_type": "code",
   "execution_count": 13,
   "metadata": {},
   "outputs": [],
   "source": [
    "q_num = {qA:30*pi/180,qB:15*pi/180}"
   ]
  },
  {
   "cell_type": "markdown",
   "metadata": {},
   "source": [
    "Calculate the jacobian at that point"
   ]
  },
  {
   "cell_type": "code",
   "execution_count": 14,
   "metadata": {},
   "outputs": [
    {
     "data": {
      "text/plain": [
       "array([[-0.64142136, -0.14142136],\n",
       "       [ 1.00744676,  0.14142136]])"
      ]
     },
     "execution_count": 14,
     "metadata": {},
     "output_type": "execute_result"
    }
   ],
   "source": [
    "J_num = J.subs(system.constant_values)\n",
    "J_num = J_num.subs(q_num)\n",
    "J_num = numpy.array(J_num.evalf(),dtype = float)\n",
    "J_num"
   ]
  },
  {
   "cell_type": "markdown",
   "metadata": {},
   "source": [
    "define the input velocity"
   ]
  },
  {
   "cell_type": "code",
   "execution_count": 15,
   "metadata": {},
   "outputs": [],
   "source": [
    "dq_num = numpy.array([[.1,.1]]).T"
   ]
  },
  {
   "cell_type": "markdown",
   "metadata": {},
   "source": [
    "Compute the output velocity"
   ]
  },
  {
   "cell_type": "code",
   "execution_count": 16,
   "metadata": {},
   "outputs": [
    {
     "data": {
      "text/plain": [
       "array([[-0.07828427],\n",
       "       [ 0.11488681]])"
      ]
     },
     "execution_count": 16,
     "metadata": {},
     "output_type": "execute_result"
    }
   ],
   "source": [
    "dy_num = J_num.dot(dq_num)\n",
    "dy_num"
   ]
  },
  {
   "cell_type": "markdown",
   "metadata": {},
   "source": [
    "Plot the system.  \n",
    "First create a list of points"
   ]
  },
  {
   "cell_type": "code",
   "execution_count": 17,
   "metadata": {},
   "outputs": [],
   "source": [
    "points = [pNA,pAB,pBtip]"
   ]
  },
  {
   "cell_type": "markdown",
   "metadata": {},
   "source": [
    "define the basis vectors to dot with"
   ]
  },
  {
   "cell_type": "code",
   "execution_count": 18,
   "metadata": {},
   "outputs": [],
   "source": [
    "express_in = [N.x,N.y]"
   ]
  },
  {
   "cell_type": "markdown",
   "metadata": {},
   "source": [
    "Dot each point by each basis vector and assemble into a matrix"
   ]
  },
  {
   "cell_type": "code",
   "execution_count": 19,
   "metadata": {},
   "outputs": [],
   "source": [
    "points = [[item.dot(bv) for bv in express_in] for item in points]\n",
    "points = sympy.Matrix(points)"
   ]
  },
  {
   "cell_type": "markdown",
   "metadata": {},
   "source": [
    "Convert the symbolic expression for points into a set of numerical values and convert to a numpy array"
   ]
  },
  {
   "cell_type": "code",
   "execution_count": 20,
   "metadata": {},
   "outputs": [
    {
     "data": {
      "text/plain": [
       "array([[0.        , 0.        ],\n",
       "       [0.8660254 , 0.5       ],\n",
       "       [1.00744676, 0.64142136]])"
      ]
     },
     "execution_count": 20,
     "metadata": {},
     "output_type": "execute_result"
    }
   ],
   "source": [
    "points = points.subs(system.constant_values)\n",
    "points_num = points.subs(q_num)\n",
    "points_num = numpy.array(points_num,dtype=float)\n",
    "points_num"
   ]
  },
  {
   "cell_type": "markdown",
   "metadata": {},
   "source": [
    "Using matplotlib, plot the arm with the .plot() method and the velocity with the .quiver() method"
   ]
  },
  {
   "cell_type": "code",
   "execution_count": 21,
   "metadata": {},
   "outputs": [
    {
     "data": {
      "image/png": "[encoded data removed]",
      "text/plain": [
       "<Figure size 432x288 with 1 Axes>"
      ]
     },
     "metadata": {
      "needs_background": "light"
     },
     "output_type": "display_data"
    }
   ],
   "source": [
    "plt.figure()\n",
    "plt.plot(points_num[:,0],points_num[:,1],'r-o')\n",
    "plt.quiver(points_num[-1,0],points_num[-1,1],dy_num[0],dy_num[1])\n",
    "plt.axis('equal')\n",
    "plt.show()"
   ]
  },
  {
   "cell_type": "code",
   "execution_count": 22,
   "metadata": {},
   "outputs": [
    {
     "data": {
      "text/plain": [
       "array([[  2.73205081],\n",
       "       [-12.39130907]])"
      ]
     },
     "execution_count": 22,
     "metadata": {},
     "output_type": "execute_result"
    }
   ],
   "source": [
    "dy_desired = numpy.array([[0,1]]).T\n",
    "dq_desired = numpy.linalg.inv(J_num).dot(dy_desired)\n",
    "dq_desired"
   ]
  },
  {
   "cell_type": "code",
   "execution_count": 23,
   "metadata": {},
   "outputs": [
    {
     "data": {
      "text/plain": [
       "array([[-2.22044605e-16],\n",
       "       [ 1.00000000e+00]])"
      ]
     },
     "execution_count": 23,
     "metadata": {},
     "output_type": "execute_result"
    }
   ],
   "source": [
    "dy = J_num.dot(dq_desired)\n",
    "dy"
   ]
  },
  {
   "cell_type": "code",
   "execution_count": 24,
   "metadata": {},
   "outputs": [
    {
     "data": {
      "image/png": "[encoded data removed]",
      "text/plain": [
       "<Figure size 432x288 with 1 Axes>"
      ]
     },
     "metadata": {
      "needs_background": "light"
     },
     "output_type": "display_data"
    }
   ],
   "source": [
    "plt.figure()\n",
    "plt.plot(points_num[:,0],points_num[:,1],'r-o')\n",
    "plt.quiver(points_num[-1,0],points_num[-1,1],dy[0],dy[1])\n",
    "plt.axis('equal')\n",
    "plt.show()"
   ]
  },
  {
   "cell_type": "code",
   "execution_count": 25,
   "metadata": {},
   "outputs": [
    {
     "data": {
      "text/plain": [
       "array([[0.82443406],\n",
       "       [0.14142136]])"
      ]
     },
     "execution_count": 25,
     "metadata": {},
     "output_type": "execute_result"
    }
   ],
   "source": [
    "F_end_effector = numpy.array([[-.5,.5]]).T\n",
    "T = J_num.T.dot(F_end_effector)\n",
    "T"
   ]
  },
  {
   "cell_type": "code",
   "execution_count": 26,
   "metadata": {},
   "outputs": [
    {
     "data": {
      "text/plain": [
       "array([[0.5]])"
      ]
     },
     "execution_count": 26,
     "metadata": {},
     "output_type": "execute_result"
    }
   ],
   "source": [
    "P_end_effector = F_end_effector.T.dot(dy)\n",
    "P_end_effector"
   ]
  },
  {
   "cell_type": "code",
   "execution_count": 27,
   "metadata": {},
   "outputs": [
    {
     "data": {
      "text/plain": [
       "array([[0.5]])"
      ]
     },
     "execution_count": 27,
     "metadata": {},
     "output_type": "execute_result"
    }
   ],
   "source": [
    "P_actuator = T.T.dot(dq_desired)\n",
    "P_actuator"
   ]
  },
  {
   "cell_type": "code",
   "execution_count": 28,
   "metadata": {},
   "outputs": [
    {
     "data": {
      "text/plain": [
       "array([[0.        , 0.26179939],\n",
       "       [0.11635528, 0.29088821],\n",
       "       [0.23271057, 0.31997703],\n",
       "       [0.34906585, 0.34906585],\n",
       "       [0.46542113, 0.37815467],\n",
       "       [0.58177642, 0.40724349],\n",
       "       [0.6981317 , 0.43633231],\n",
       "       [0.81448698, 0.46542113],\n",
       "       [0.93084227, 0.49450995],\n",
       "       [1.04719755, 0.52359878]])"
      ]
     },
     "execution_count": 28,
     "metadata": {},
     "output_type": "execute_result"
    }
   ],
   "source": [
    "q_traj = numpy.c_[numpy.r_[0:60:10j],numpy.r_[15:30:10j]]\n",
    "q_traj *= pi/180\n",
    "q_traj"
   ]
  },
  {
   "cell_type": "code",
   "execution_count": 29,
   "metadata": {},
   "outputs": [],
   "source": [
    "import scipy.interpolate\n",
    "t = numpy.r_[0:10]\n",
    "f = scipy.interpolate.interp1d(t,q_traj.T,kind='cubic',fill_value='extrapolate')\n",
    "t2=numpy.r_[0:10:7j]"
   ]
  },
  {
   "cell_type": "code",
   "execution_count": 30,
   "metadata": {},
   "outputs": [
    {
     "data": {
      "text/plain": [
       "[<matplotlib.lines.Line2D at 0x7f1a6dd3ca90>,\n",
       " <matplotlib.lines.Line2D at 0x7f1a6dd3caf0>]"
      ]
     },
     "execution_count": 30,
     "metadata": {},
     "output_type": "execute_result"
    },
    {
     "data": {
      "image/png": "[encoded data removed]",
      "text/plain": [
       "<Figure size 432x288 with 1 Axes>"
      ]
     },
     "metadata": {
      "needs_background": "light"
     },
     "output_type": "display_data"
    }
   ],
   "source": [
    "plt.figure()\n",
    "plt.plot(t2,f(t2).T)"
   ]
  },
  {
   "cell_type": "code",
   "execution_count": 31,
   "metadata": {},
   "outputs": [],
   "source": [
    "dq_dt = (f(t2[2:]) - f(t2[:-2]))/(t2[2]-t2[0])\n",
    "dq_dt = dq_dt.T\n",
    "t2 = t2[1:-1]"
   ]
  },
  {
   "cell_type": "code",
   "execution_count": 32,
   "metadata": {},
   "outputs": [
    {
     "name": "stdout",
     "output_type": "stream",
     "text": [
      "[-0.03647627  0.1396432 ]\n",
      "[-0.06376142  0.12906388]\n",
      "[-0.08824163  0.11319799]\n",
      "[-0.10890372  0.09275295]\n",
      "[-0.12490748  0.06862746]\n"
     ]
    },
    {
     "data": {
      "image/png": "[encoded data removed]",
      "text/plain": [
       "<Figure size 432x288 with 1 Axes>"
      ]
     },
     "metadata": {
      "needs_background": "light"
     },
     "output_type": "display_data"
    }
   ],
   "source": [
    "plt.figure()\n",
    "dy_dt = []\n",
    "J_num = []\n",
    "for item,dq_ii in zip(t2,dq_dt):\n",
    "    subs_ii = dict([(item1,item2) for item1,item2 in zip([qA,qB],f(item))])\n",
    "    points_num = points.subs(subs_ii)\n",
    "    points_num = numpy.array(points_num,dtype = float)\n",
    "    J_num_ii = J.subs(system.constant_values)\n",
    "    J_num_ii = J_num_ii.subs(subs_ii)\n",
    "    J_num_ii = numpy.array(J_num_ii,dtype = float)\n",
    "    J_num.append(J_num_ii)\n",
    "    dy_ii = J_num_ii.dot(dq_ii)\n",
    "    dy_dt.append(dy_ii)\n",
    "    print(dy_ii)\n",
    "    plt.plot(points_num[:,0],points_num[:,1],'r-o')\n",
    "    #plt.quiver(points_num[0,0]+.05,points_num[0,1],0,dq_ii[0])\n",
    "    #plt.quiver(points_num[1,0]+.05,points_num[1,1],0,dq_ii[1])\n",
    "    plt.quiver(points_num[-1,0],points_num[-1,1],dy_ii[0],dy_ii[1])\n",
    "dy_dt = numpy.array(dy_dt).T\n",
    "J_num = numpy.array(J_num)"
   ]
  },
  {
   "cell_type": "code",
   "execution_count": 33,
   "metadata": {},
   "outputs": [
    {
     "data": {
      "text/plain": [
       "[<matplotlib.lines.Line2D at 0x7f1a6dbfa280>]"
      ]
     },
     "execution_count": 33,
     "metadata": {},
     "output_type": "execute_result"
    },
    {
     "data": {
      "image/png": "[encoded data removed]",
      "text/plain": [
       "<Figure size 432x288 with 1 Axes>"
      ]
     },
     "metadata": {
      "needs_background": "light"
     },
     "output_type": "display_data"
    }
   ],
   "source": [
    "P = F_end_effector.T.dot(dy_dt)\n",
    "P\n",
    "plt.plot(t2,P.T)"
   ]
  },
  {
   "cell_type": "code",
   "execution_count": 34,
   "metadata": {},
   "outputs": [
    {
     "data": {
      "text/plain": [
       "array([[0.72285087, 0.79327691, 0.83099807, 0.83465928, 0.80435231],\n",
       "       [0.13586708, 0.141315  , 0.13849968, 0.12758574, 0.10921137]])"
      ]
     },
     "execution_count": 34,
     "metadata": {},
     "output_type": "execute_result"
    },
    {
     "data": {
      "image/png": "[encoded data removed]",
      "text/plain": [
       "<Figure size 432x288 with 1 Axes>"
      ]
     },
     "metadata": {
      "needs_background": "light"
     },
     "output_type": "display_data"
    }
   ],
   "source": [
    "torque = J_num.transpose(0,2,1).dot(F_end_effector)\n",
    "torque = torque.T.squeeze()\n",
    "plt.plot(t2,torque.T)\n",
    "torque"
   ]
  },
  {
   "cell_type": "code",
   "execution_count": 35,
   "metadata": {},
   "outputs": [
    {
     "data": {
      "text/plain": [
       "[<matplotlib.lines.Line2D at 0x7f1a6db4e700>]"
      ]
     },
     "execution_count": 35,
     "metadata": {},
     "output_type": "execute_result"
    },
    {
     "data": {
      "image/png": "[encoded data removed]",
      "text/plain": [
       "<Figure size 432x288 with 1 Axes>"
      ]
     },
     "metadata": {
      "needs_background": "light"
     },
     "output_type": "display_data"
    }
   ],
   "source": [
    "P2 = torque.T*dq_dt\n",
    "P2 = P2.sum(1)\n",
    "plt.plot(t2,P2.T)"
   ]
  }
 ],
 "metadata": {
  "kernelspec": {
   "display_name": "Python 3 (ipykernel)",
   "language": "python",
   "name": "python3"
  },
  "language_info": {
   "codemirror_mode": {
    "name": "ipython",
    "version": 3
   },
   "file_extension": ".py",
   "mimetype": "text/x-python",
   "name": "python",
   "nbconvert_exporter": "python",
   "pygments_lexer": "ipython3",
   "version": "3.9.7"
  }
 },
 "nbformat": 4,
 "nbformat_minor": 4
}
