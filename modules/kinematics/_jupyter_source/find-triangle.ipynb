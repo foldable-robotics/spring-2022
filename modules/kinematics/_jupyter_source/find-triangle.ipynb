{
 "cells": [
  {
   "cell_type": "markdown",
   "metadata": {},
   "source": [
    "---\n",
    "title: Solve Triangle\n",
    "type: tutorial\n",
    "summary: This example shows how to solve geometric constraints for a triangle of given length sides\n",
    "---"
   ]
  },
  {
   "cell_type": "code",
   "execution_count": 1,
   "metadata": {},
   "outputs": [],
   "source": [
    "%matplotlib inline\n",
    "import matplotlib.pyplot as plt\n",
    "import scipy.optimize\n",
    "import numpy"
   ]
  },
  {
   "cell_type": "code",
   "execution_count": 2,
   "metadata": {},
   "outputs": [],
   "source": [
    "desired_length1=1 \n",
    "desired_length2=2\n",
    "desired_length3=1.5\n",
    "p1_desired_location = 0,0"
   ]
  },
  {
   "cell_type": "code",
   "execution_count": 3,
   "metadata": {},
   "outputs": [],
   "source": [
    "def objective_function(variables):\n",
    "\n",
    "    x1,y1,x2,y2,x3,y3 = variables\n",
    "    p1 = numpy.array([x1,y1])\n",
    "    p2 = numpy.array([x2,y2])\n",
    "    p3 = numpy.array([x3,y3])\n",
    "    v0 = p1-p1_desired_location\n",
    "    v1 = p2-p1\n",
    "    v2 = p3-p2\n",
    "    v3 = p1-p3\n",
    "    l0 = (v0.dot(v0))**.5\n",
    "    l1 = (v1.dot(v1))**.5\n",
    "    l2 = (v2.dot(v2))**.5\n",
    "    l3 = (v3.dot(v3))**.5\n",
    "    \n",
    "    \n",
    "    error = []\n",
    "    error.append(l0)\n",
    "    error.append(y2-0)\n",
    "    error.append(l1-desired_length1)\n",
    "    error.append(l2-desired_length2)\n",
    "    error.append(l3-desired_length3)\n",
    "    \n",
    "    error = numpy.array(error)\n",
    "    error = (error.dot(error))**.5\n",
    "    return error    "
   ]
  },
  {
   "cell_type": "code",
   "execution_count": 4,
   "metadata": {},
   "outputs": [],
   "source": [
    "ini = [2,2,2,4,1,1]\n",
    "ini = [1,2,2,6,2,-1]\n",
    "result = scipy.optimize.minimize(objective_function,ini)"
   ]
  },
  {
   "cell_type": "code",
   "execution_count": 5,
   "metadata": {},
   "outputs": [
    {
     "name": "stdout",
     "output_type": "stream",
     "text": [
      "      fun: 2.805205929488596e-08\n",
      " hess_inv: array([[ 4.20912348e-08,  2.01373754e-08,  3.16652735e-08,\n",
      "        -1.45910266e-09, -2.60204036e-08,  6.01290234e-08],\n",
      "       [ 2.01373754e-08,  1.72506703e-07, -1.21032899e-07,\n",
      "        -3.53273530e-08, -4.88398332e-07,  3.16269784e-07],\n",
      "       [ 3.16652735e-08, -1.21032899e-07,  2.80136987e-07,\n",
      "         5.85286246e-08,  6.66233558e-07, -3.20501670e-07],\n",
      "       [-1.45910266e-09, -3.53273530e-08,  5.85286246e-08,\n",
      "         6.23220121e-08,  2.78001999e-07, -1.42074862e-07],\n",
      "       [-2.60204036e-08, -4.88398332e-07,  6.66233558e-07,\n",
      "         2.78001999e-07,  2.48504006e-06, -1.40354367e-06],\n",
      "       [ 6.01290234e-08,  3.16269784e-07, -3.20501670e-07,\n",
      "        -1.42074862e-07, -1.40354367e-06,  9.06084332e-07]])\n",
      "      jac: array([-0.34751085,  0.5300474 ,  0.60110923, -0.19491674,  0.02939089,\n",
      "        0.22001709])\n",
      "  message: 'Desired error not necessarily achieved due to precision loss.'\n",
      "     nfev: 978\n",
      "      nit: 59\n",
      "     njev: 138\n",
      "   status: 2\n",
      "  success: False\n",
      "        x: array([-1.87894284e-08,  1.08645312e-09,  9.99999987e-01, -1.95054762e-08,\n",
      "       -3.75000047e-01, -1.45236875e+00])\n"
     ]
    }
   ],
   "source": [
    "print(result)"
   ]
  },
  {
   "cell_type": "code",
   "execution_count": 6,
   "metadata": {},
   "outputs": [
    {
     "data": {
      "image/png": "[encoded data removed]",
      "text/plain": [
       "<Figure size 432x288 with 1 Axes>"
      ]
     },
     "metadata": {
      "needs_background": "light"
     },
     "output_type": "display_data"
    }
   ],
   "source": [
    "p = result.x.reshape((3,2))\n",
    "plot_lines = numpy.concatenate((p,p[0:1]),0)\n",
    "plt.plot(*(plot_lines.T))\n",
    "plt.axis('equal')\n",
    "for ii,item in enumerate(p):\n",
    "    plt.text(item[0],item[1],'p'+str(ii))\n"
   ]
  },
  {
   "cell_type": "code",
   "execution_count": 7,
   "metadata": {},
   "outputs": [
    {
     "data": {
      "text/plain": [
       "array([[-1.87894284e-08,  1.08645312e-09],\n",
       "       [ 9.99999987e-01, -1.95054762e-08],\n",
       "       [-3.75000047e-01, -1.45236875e+00]])"
      ]
     },
     "execution_count": 7,
     "metadata": {},
     "output_type": "execute_result"
    }
   ],
   "source": [
    "p"
   ]
  },
  {
   "cell_type": "code",
   "execution_count": null,
   "metadata": {},
   "outputs": [],
   "source": []
  }
 ],
 "metadata": {
  "kernelspec": {
   "display_name": "Python 3 (ipykernel)",
   "language": "python",
   "name": "python3"
  },
  "language_info": {
   "codemirror_mode": {
    "name": "ipython",
    "version": 3
   },
   "file_extension": ".py",
   "mimetype": "text/x-python",
   "name": "python",
   "nbconvert_exporter": "python",
   "pygments_lexer": "ipython3",
   "version": "3.9.7"
  }
 },
 "nbformat": 4,
 "nbformat_minor": 4
}
