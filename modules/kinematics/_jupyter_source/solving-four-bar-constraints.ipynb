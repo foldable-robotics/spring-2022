{
 "cells": [
  {
   "cell_type": "markdown",
   "metadata": {},
   "source": [
    "---\n",
    "title: Solving Nonlinear Four-Bar Constraints\n",
    "---\n"
   ]
  },
  {
   "cell_type": "markdown",
   "metadata": {},
   "source": [
    "Turn on inline plotting"
   ]
  },
  {
   "cell_type": "code",
   "execution_count": 1,
   "metadata": {},
   "outputs": [],
   "source": [
    "%matplotlib inline"
   ]
  },
  {
   "cell_type": "markdown",
   "metadata": {},
   "source": [
    "import required packages"
   ]
  },
  {
   "cell_type": "code",
   "execution_count": 2,
   "metadata": {},
   "outputs": [],
   "source": [
    "import pynamics\n",
    "from pynamics.frame import Frame\n",
    "from pynamics.variable_types import Differentiable,Constant\n",
    "from pynamics.system import System\n",
    "from pynamics.output import Output,PointsOutput\n",
    "import pynamics.integration\n",
    "import sympy\n",
    "import numpy\n",
    "import matplotlib.pyplot as plt\n",
    "plt.ion()\n",
    "from math import pi\n",
    "import scipy.optimize"
   ]
  },
  {
   "cell_type": "markdown",
   "metadata": {},
   "source": [
    "Create a pynamics system"
   ]
  },
  {
   "cell_type": "code",
   "execution_count": 3,
   "metadata": {},
   "outputs": [],
   "source": [
    "system = System()\n",
    "pynamics.set_system(__name__,system)"
   ]
  },
  {
   "cell_type": "markdown",
   "metadata": {},
   "source": [
    "Declare constants"
   ]
  },
  {
   "cell_type": "code",
   "execution_count": 4,
   "metadata": {},
   "outputs": [],
   "source": [
    "lA = Constant(2,'lA',system)\n",
    "lB = Constant(1.5,'lB',system)\n",
    "lC = Constant(1,'lC',system)\n",
    "lD = Constant(1,'lD',system)"
   ]
  },
  {
   "cell_type": "markdown",
   "metadata": {},
   "source": [
    "Create three differentiable state variables"
   ]
  },
  {
   "cell_type": "code",
   "execution_count": 5,
   "metadata": {},
   "outputs": [],
   "source": [
    "qA,qA_d,qA_dd = Differentiable('qA',system)\n",
    "qB,qB_d,qB_dd = Differentiable('qB',system)\n",
    "qC,qC_d,qC_dd = Differentiable('qC',system)\n",
    "qD,qD_d,qD_dd = Differentiable('qD',system)"
   ]
  },
  {
   "cell_type": "markdown",
   "metadata": {},
   "source": [
    "Create an initial guess for their starting positions.  Note that this is not necessarily accurate given the constraint that they are supposed to be connected with given, constant length.  We will use these initial values to seed the solver that will find a valid initial state"
   ]
  },
  {
   "cell_type": "code",
   "execution_count": 6,
   "metadata": {},
   "outputs": [],
   "source": [
    "initialvalues = {}\n",
    "initialvalues[qA]=90*pi/180\n",
    "initialvalues[qA_d]=0*pi/180\n",
    "initialvalues[qB]=-90*pi/180\n",
    "initialvalues[qB_d]=0*pi/180\n",
    "initialvalues[qC]=5*pi/180\n",
    "initialvalues[qC_d]=0*pi/180\n",
    "initialvalues[qD]=90*pi/180\n",
    "initialvalues[qD_d]=0*pi/180"
   ]
  },
  {
   "cell_type": "markdown",
   "metadata": {},
   "source": [
    "Retrieve state variables in the order they are stored in the system"
   ]
  },
  {
   "cell_type": "code",
   "execution_count": 7,
   "metadata": {},
   "outputs": [],
   "source": [
    "statevariables = system.get_state_variables()"
   ]
  },
  {
   "cell_type": "markdown",
   "metadata": {},
   "source": [
    "Create four frames"
   ]
  },
  {
   "cell_type": "code",
   "execution_count": 8,
   "metadata": {},
   "outputs": [],
   "source": [
    "N = Frame('N',system)\n",
    "A = Frame('A',system)\n",
    "B = Frame('B',system)\n",
    "C = Frame('C',system)\n",
    "D = Frame('D',system)"
   ]
  },
  {
   "cell_type": "markdown",
   "metadata": {},
   "source": [
    "Declare N as the Newtonian (fixed) frame"
   ]
  },
  {
   "cell_type": "code",
   "execution_count": 9,
   "metadata": {},
   "outputs": [],
   "source": [
    "system.set_newtonian(N)"
   ]
  },
  {
   "cell_type": "markdown",
   "metadata": {},
   "source": [
    "Rotate A,B, and C about their local Z axes."
   ]
  },
  {
   "cell_type": "code",
   "execution_count": 10,
   "metadata": {},
   "outputs": [],
   "source": [
    "A.rotate_fixed_axis(N,[0,0,1],qA,system)\n",
    "B.rotate_fixed_axis(A,[0,0,1],qB,system)\n",
    "C.rotate_fixed_axis(N,[0,0,1],qC,system)\n",
    "D.rotate_fixed_axis(C,[0,0,1],qD,system)"
   ]
  },
  {
   "cell_type": "markdown",
   "metadata": {},
   "source": [
    "Define vectors that will be used to solve for kinematics.  Note: this can be done several possible ways as in the figure below:\n",
    "\n",
    "![Four Bar Representations](/sketches/four-bar-representations.png)\n",
    "![Four Bar Representations](../../../../static/sketches/four-bar-representations.png)"
   ]
  },
  {
   "cell_type": "markdown",
   "metadata": {},
   "source": [
    "Define my rigid body kinematics\n",
    "\n",
    "![](/figures/kinematics/fourbar3.png)\n",
    "![](../../../../static/figures/kinematics/fourbar3.png)"
   ]
  },
  {
   "cell_type": "code",
   "execution_count": 11,
   "metadata": {},
   "outputs": [],
   "source": [
    "pNA = 0*N.x + 0*N.y + 0*N.z\n",
    "pAB = pNA + lA*A.x\n",
    "pBD = pAB + lB*B.x\n",
    "pNC = pNA\n",
    "pCD = pNC + lC*C.x\n",
    "pDB = pCD + lD*D.x"
   ]
  },
  {
   "cell_type": "code",
   "execution_count": 12,
   "metadata": {},
   "outputs": [
    {
     "data": {
      "text/plain": [
       "pynamics.vector.Vector"
      ]
     },
     "execution_count": 12,
     "metadata": {},
     "output_type": "execute_result"
    }
   ],
   "source": [
    "type(pNA)"
   ]
  },
  {
   "cell_type": "code",
   "execution_count": 13,
   "metadata": {},
   "outputs": [
    {
     "data": {
      "text/plain": [
       "pynamics.frame.Frame"
      ]
     },
     "execution_count": 13,
     "metadata": {},
     "output_type": "execute_result"
    }
   ],
   "source": [
    "type(A)"
   ]
  },
  {
   "cell_type": "code",
   "execution_count": 14,
   "metadata": {},
   "outputs": [
    {
     "data": {
      "text/plain": [
       "pynamics.vector.Vector"
      ]
     },
     "execution_count": 14,
     "metadata": {},
     "output_type": "execute_result"
    }
   ],
   "source": [
    "type(A.x)"
   ]
  },
  {
   "cell_type": "code",
   "execution_count": 15,
   "metadata": {},
   "outputs": [],
   "source": [
    "pout = pAB + 3*B.x-2*B.y"
   ]
  },
  {
   "cell_type": "markdown",
   "metadata": {},
   "source": [
    "Declare a list of points that will be used for plotting"
   ]
  },
  {
   "cell_type": "code",
   "execution_count": 16,
   "metadata": {},
   "outputs": [],
   "source": [
    "points = [pBD,pAB,pNA,pNC,pCD,pDB]"
   ]
  },
  {
   "cell_type": "markdown",
   "metadata": {},
   "source": [
    "create a list of initial values ini0 in the order of the system's state variables"
   ]
  },
  {
   "cell_type": "code",
   "execution_count": 17,
   "metadata": {},
   "outputs": [],
   "source": [
    "statevariables = system.get_state_variables()\n",
    "ini0 = [initialvalues[item] for item in statevariables]"
   ]
  },
  {
   "cell_type": "markdown",
   "metadata": {},
   "source": [
    "Define the closed loop kinematics of the four bar linkage."
   ]
  },
  {
   "cell_type": "code",
   "execution_count": 18,
   "metadata": {},
   "outputs": [],
   "source": [
    "eq_vector = [pBD-pDB]"
   ]
  },
  {
   "cell_type": "markdown",
   "metadata": {},
   "source": [
    "Dot the vector equation with N.x and N.y to create two scalar equations.  This will remove two degrees of freedom from our system."
   ]
  },
  {
   "cell_type": "code",
   "execution_count": 19,
   "metadata": {},
   "outputs": [
    {
     "data": {
      "text/plain": [
       "[lA*cos(qA) - lB*sin(qA)*sin(qB) + lB*cos(qA)*cos(qB) - lC*cos(qC) + lD*sin(qC)*sin(qD) - lD*cos(qC)*cos(qD), lA*sin(qA) + lB*sin(qA)*cos(qB) + lB*sin(qB)*cos(qA) - lC*sin(qC) - lD*sin(qC)*cos(qD) - lD*sin(qD)*cos(qC), qC]"
      ]
     },
     "execution_count": 19,
     "metadata": {},
     "output_type": "execute_result"
    }
   ],
   "source": [
    "eq_scalar = []\n",
    "eq_scalar.append((eq_vector[0]).dot(N.x))\n",
    "eq_scalar.append((eq_vector[0]).dot(N.y))\n",
    "eq_scalar.append(qC-0)\n",
    "eq_scalar"
   ]
  },
  {
   "cell_type": "markdown",
   "metadata": {},
   "source": [
    "## Solve for valid initial condition determined by independent variable"
   ]
  },
  {
   "cell_type": "markdown",
   "metadata": {},
   "source": [
    "identify independent and dependent variables"
   ]
  },
  {
   "cell_type": "code",
   "execution_count": 20,
   "metadata": {},
   "outputs": [],
   "source": [
    "qi = [qA]\n",
    "qd = [qB,qC,qD]"
   ]
  },
  {
   "cell_type": "markdown",
   "metadata": {},
   "source": [
    "for dependent variables, create an initial guess"
   ]
  },
  {
   "cell_type": "markdown",
   "metadata": {},
   "source": [
    "substitute constants into the scalar equations"
   ]
  },
  {
   "cell_type": "code",
   "execution_count": 21,
   "metadata": {},
   "outputs": [],
   "source": [
    "eq_scalar_c = [item.subs(system.constant_values) for item in eq_scalar]"
   ]
  },
  {
   "cell_type": "markdown",
   "metadata": {},
   "source": [
    "Create a dictionary for all independent variables and substitute in"
   ]
  },
  {
   "cell_type": "code",
   "execution_count": 22,
   "metadata": {},
   "outputs": [
    {
     "data": {
      "text/plain": [
       "[-1.5*sin(qB) + sin(qC)*sin(qD) + 9.18485099360515e-17*cos(qB) - cos(qC)*cos(qD) - cos(qC) + 1.22464679914735e-16, 9.18485099360515e-17*sin(qB) - sin(qC)*cos(qD) - sin(qC) - sin(qD)*cos(qC) + 1.5*cos(qB) + 2.0, qC]"
      ]
     },
     "execution_count": 22,
     "metadata": {},
     "output_type": "execute_result"
    }
   ],
   "source": [
    "defined = dict([(item,initialvalues[item]) for item in qi])\n",
    "eq_scalar_c = [item.subs(defined) for item in eq_scalar_c]\n",
    "eq_scalar_c"
   ]
  },
  {
   "cell_type": "markdown",
   "metadata": {},
   "source": [
    "convert to numpy array and sum the error"
   ]
  },
  {
   "cell_type": "code",
   "execution_count": 23,
   "metadata": {},
   "outputs": [],
   "source": [
    "error = (numpy.array(eq_scalar_c)**2).sum()"
   ]
  },
  {
   "cell_type": "markdown",
   "metadata": {},
   "source": [
    "Convert to a function that scipy can use.  Sympy has a \"labmdify\" function that evaluates an expression, but scipy needs a slightly different format."
   ]
  },
  {
   "cell_type": "code",
   "execution_count": 24,
   "metadata": {},
   "outputs": [],
   "source": [
    "f = sympy.lambdify(qd,error)\n",
    "\n",
    "def function(args):\n",
    "    return f(*args)"
   ]
  },
  {
   "cell_type": "markdown",
   "metadata": {},
   "source": [
    "Take the derivative of the equations to linearize with regard to the velocity variables"
   ]
  },
  {
   "cell_type": "code",
   "execution_count": 25,
   "metadata": {},
   "outputs": [],
   "source": [
    "guess = [initialvalues[item] for item in qd]"
   ]
  },
  {
   "cell_type": "code",
   "execution_count": 26,
   "metadata": {},
   "outputs": [],
   "source": [
    "result = scipy.optimize.minimize(function,guess)\n",
    "if result.fun>1e-3:\n",
    "    raise(Exception(\"out of tolerance\"))"
   ]
  },
  {
   "cell_type": "code",
   "execution_count": 27,
   "metadata": {},
   "outputs": [],
   "source": [
    "ini = []\n",
    "for item in system.get_state_variables():\n",
    "    if item in qd:\n",
    "        ini.append(result.x[qd.index(item)])\n",
    "    else:\n",
    "        ini.append(initialvalues[item])"
   ]
  },
  {
   "cell_type": "code",
   "execution_count": 28,
   "metadata": {},
   "outputs": [
    {
     "name": "stderr",
     "output_type": "stream",
     "text": [
      "2022-03-16 10:27:14,881 - pynamics.output - INFO - calculating outputs\n",
      "2022-03-16 10:27:14,883 - pynamics.output - INFO - done calculating outputs\n"
     ]
    },
    {
     "data": {
      "text/plain": [
       "<AxesSubplot:>"
      ]
     },
     "execution_count": 28,
     "metadata": {},
     "output_type": "execute_result"
    },
    {
     "data": {
      "image/png": "[encoded data removed]",
      "text/plain": [
       "<Figure size 432x288 with 1 Axes>"
      ]
     },
     "metadata": {
      "needs_background": "light"
     },
     "output_type": "display_data"
    }
   ],
   "source": [
    "points = PointsOutput(points, constant_values=system.constant_values)\n",
    "points.calc(numpy.array([ini0,ini]),numpy.array([0,1]))\n",
    "points.plot_time()"
   ]
  },
  {
   "cell_type": "code",
   "execution_count": 29,
   "metadata": {},
   "outputs": [
    {
     "data": {
      "text/plain": [
       "2.3019345538191714e-14"
      ]
     },
     "execution_count": 29,
     "metadata": {},
     "output_type": "execute_result"
    }
   ],
   "source": [
    "result.fun"
   ]
  },
  {
   "cell_type": "markdown",
   "metadata": {},
   "source": [
    "---------------------------\n",
    "\n",
    "## Consider Constraint Equations\n",
    "\n",
    "$$ 0 = \\left[\\begin{array}{c}\n",
    "f_1(q_1,...q_n)\n",
    "\\\\\n",
    "\\vdots\\\\\n",
    "f_m(q_1,...q_n)\n",
    "\\end{array}\\right]$$\n",
    "\n",
    "\n",
    "## Take the derivative\n",
    "\n",
    "$$ 0 = \\left[\\begin{array}{c}\n",
    "\\dot{f}_1(q_1,...q_n)\n",
    "\\\\\n",
    "\\vdots\\\\\n",
    "\\dot{f}_m(q_1,...q_n)\n",
    "\\end{array}\\right]=\\underbrace{\\left[\\begin{array}{ccc}\n",
    "j_{1q_1} & \\dots & j_{1q_n}\n",
    "\\\\\n",
    "\\vdots & \\ddots & \\vdots \\\\\n",
    "j_{mq_1} & \\dots & j_{mq_n}\n",
    "\\end{array}\\right]}_{J_{c}}\\left[\\begin{array}{c}\n",
    "\\dot{q}_1\\\\\\vdots\\\\\\dot{q}_n\\end{array}\\right]$$\n"
   ]
  },
  {
   "cell_type": "code",
   "execution_count": 30,
   "metadata": {},
   "outputs": [
    {
     "data": {
      "text/plain": [
       "Matrix([\n",
       "[qA_d*(-1.5*sin(qA)*cos(qB) - 2*sin(qA) - 1.5*sin(qB)*cos(qA)) + qB_d*(-1.5*sin(qA)*cos(qB) - 1.5*sin(qB)*cos(qA)) + qC_d*(sin(qC)*cos(qD) + sin(qC) + sin(qD)*cos(qC)) + qD_d*(sin(qC)*cos(qD) + sin(qD)*cos(qC))],\n",
       "[qA_d*(-1.5*sin(qA)*sin(qB) + 1.5*cos(qA)*cos(qB) + 2*cos(qA)) + qB_d*(-1.5*sin(qA)*sin(qB) + 1.5*cos(qA)*cos(qB)) + qC_d*(sin(qC)*sin(qD) - cos(qC)*cos(qD) - cos(qC)) + qD_d*(sin(qC)*sin(qD) - cos(qC)*cos(qD))],\n",
       "[                                                                                                                                                                                                             qC_d]])"
      ]
     },
     "execution_count": 30,
     "metadata": {},
     "output_type": "execute_result"
    }
   ],
   "source": [
    "eq_d=[(system.derivative(item)) for item in eq_scalar]\n",
    "eq_d = sympy.Matrix(eq_d)\n",
    "eq_d = eq_d.subs(system.constant_values)\n",
    "eq_d"
   ]
  },
  {
   "cell_type": "markdown",
   "metadata": {},
   "source": [
    "\n",
    "Now, given a valid configuration, solve for the linearized, velocity-based constraint equation.  If \n",
    "\n",
    "$$0= \\textbf{J}_c \\dot{q} = \\textbf{A} \\dot{q}_i + \\textbf{B} \\dot{q}_d$$\n",
    "\n",
    "where $\\textbf{A}_{(m \\times (n-m))}$, $\\textbf{B}_{(m \\times m)}$\n",
    "\n",
    "$$\\dot{q}=\\left[\\begin{array}{c}\n",
    "\\dot{q}_{i1} \\\\\n",
    "\\vdots \\\\\n",
    "\\dot{q}_{i(n-m)}\\\\\n",
    "\\hline\n",
    "\\dot{q}_{d1}\\\\\n",
    "\\vdots\\\\\n",
    "\\dot{q}_{dm}\n",
    "\\end{array}\\right]$$\n",
    "\n",
    "Define independent variables as a Sympy Matrix"
   ]
  },
  {
   "cell_type": "code",
   "execution_count": 31,
   "metadata": {},
   "outputs": [
    {
     "data": {
      "text/plain": [
       "Matrix([[qA_d]])"
      ]
     },
     "execution_count": 31,
     "metadata": {},
     "output_type": "execute_result"
    }
   ],
   "source": [
    "qi = sympy.Matrix([qA_d])\n",
    "qi"
   ]
  },
  {
   "cell_type": "markdown",
   "metadata": {},
   "source": [
    "Define dependent variables as a Sympy Matrix"
   ]
  },
  {
   "cell_type": "code",
   "execution_count": 32,
   "metadata": {},
   "outputs": [
    {
     "data": {
      "text/plain": [
       "Matrix([\n",
       "[qB_d],\n",
       "[qC_d],\n",
       "[qD_d]])"
      ]
     },
     "execution_count": 32,
     "metadata": {},
     "output_type": "execute_result"
    }
   ],
   "source": [
    "qd = sympy.Matrix([qB_d,qC_d,qD_d])\n",
    "qd"
   ]
  },
  {
   "cell_type": "markdown",
   "metadata": {},
   "source": [
    "take partial derivative of constraints with respect to independent and dependent variables:"
   ]
  },
  {
   "cell_type": "code",
   "execution_count": 33,
   "metadata": {},
   "outputs": [
    {
     "data": {
      "text/plain": [
       "Matrix([\n",
       "[-1.5*sin(qA)*cos(qB) - 2*sin(qA) - 1.5*sin(qB)*cos(qA)],\n",
       "[-1.5*sin(qA)*sin(qB) + 1.5*cos(qA)*cos(qB) + 2*cos(qA)],\n",
       "[                                                     0]])"
      ]
     },
     "execution_count": 33,
     "metadata": {},
     "output_type": "execute_result"
    }
   ],
   "source": [
    "AA = eq_d.jacobian(qi)\n",
    "AA"
   ]
  },
  {
   "cell_type": "code",
   "execution_count": 34,
   "metadata": {},
   "outputs": [
    {
     "data": {
      "text/plain": [
       "Matrix([\n",
       "[-1.5*sin(qA)*cos(qB) - 1.5*sin(qB)*cos(qA), sin(qC)*cos(qD) + sin(qC) + sin(qD)*cos(qC), sin(qC)*cos(qD) + sin(qD)*cos(qC)],\n",
       "[-1.5*sin(qA)*sin(qB) + 1.5*cos(qA)*cos(qB), sin(qC)*sin(qD) - cos(qC)*cos(qD) - cos(qC), sin(qC)*sin(qD) - cos(qC)*cos(qD)],\n",
       "[                                         0,                                           1,                                 0]])"
      ]
     },
     "execution_count": 34,
     "metadata": {},
     "output_type": "execute_result"
    }
   ],
   "source": [
    "BB = eq_d.jacobian(qd)\n",
    "BB"
   ]
  },
  {
   "cell_type": "markdown",
   "metadata": {},
   "source": [
    "## Solve the internal input/output Jacobian to find $q_d$ \n",
    "\n",
    "$$0= \\textbf{A} \\dot{q}_i + \\textbf{B} \\dot{q}_d$$\n",
    "$$-\\textbf{B}\\dot{q}_d = \\textbf{A}\\dot{q}_i$$\n",
    "$$\\dot{q}_d = \\underbrace{-\\textbf{B}^{-1}\\textbf{A}}_{C}\\dot{q}_i$$"
   ]
  },
  {
   "cell_type": "code",
   "execution_count": 35,
   "metadata": {
    "scrolled": true
   },
   "outputs": [
    {
     "data": {
      "text/plain": [
       "Matrix([\n",
       "[-(-1.5*sin(qC)*sin(qD) + 1.5*cos(qC)*cos(qD))*(-1.5*sin(qA)*cos(qB) - 2*sin(qA) - 1.5*sin(qB)*cos(qA))/(-2.25*sin(qA)*sin(qB)*sin(qC)*cos(qD) - 2.25*sin(qA)*sin(qB)*sin(qD)*cos(qC) + 2.25*sin(qA)*sin(qC)*sin(qD)*cos(qB) - 2.25*sin(qA)*cos(qB)*cos(qC)*cos(qD) + 2.25*sin(qB)*sin(qC)*sin(qD)*cos(qA) - 2.25*sin(qB)*cos(qA)*cos(qC)*cos(qD) + 2.25*sin(qC)*cos(qA)*cos(qB)*cos(qD) + 2.25*sin(qD)*cos(qA)*cos(qB)*cos(qC)) - (1.5*sin(qC)*cos(qD) + 1.5*sin(qD)*cos(qC))*(-1.5*sin(qA)*sin(qB) + 1.5*cos(qA)*cos(qB) + 2*cos(qA))/(-2.25*sin(qA)*sin(qB)*sin(qC)*cos(qD) - 2.25*sin(qA)*sin(qB)*sin(qD)*cos(qC) + 2.25*sin(qA)*sin(qC)*sin(qD)*cos(qB) - 2.25*sin(qA)*cos(qB)*cos(qC)*cos(qD) + 2.25*sin(qB)*sin(qC)*sin(qD)*cos(qA) - 2.25*sin(qB)*cos(qA)*cos(qC)*cos(qD) + 2.25*sin(qC)*cos(qA)*cos(qB)*cos(qD) + 2.25*sin(qD)*cos(qA)*cos(qB)*cos(qC))],\n",
       "[                                                                                                                                                                                                                                                                                                                                                                                                                                                                                                                                                                                                                                                                                                                                                                                                                                                              0],\n",
       "[                  -(1.0*sin(qA)*sin(qB) - 1.0*cos(qA)*cos(qB))*(-1.5*sin(qA)*cos(qB) - 2*sin(qA) - 1.5*sin(qB)*cos(qA))/(1.0*sin(qA)*sin(qB)*sin(qC)*cos(qD) + 1.0*sin(qA)*sin(qB)*sin(qD)*cos(qC) - 1.0*sin(qA)*sin(qC)*sin(qD)*cos(qB) + 1.0*sin(qA)*cos(qB)*cos(qC)*cos(qD) - 1.0*sin(qB)*sin(qC)*sin(qD)*cos(qA) + 1.0*sin(qB)*cos(qA)*cos(qC)*cos(qD) - 1.0*sin(qC)*cos(qA)*cos(qB)*cos(qD) - 1.0*sin(qD)*cos(qA)*cos(qB)*cos(qC)) - (-1.0*sin(qA)*cos(qB) - 1.0*sin(qB)*cos(qA))*(-1.5*sin(qA)*sin(qB) + 1.5*cos(qA)*cos(qB) + 2*cos(qA))/(1.0*sin(qA)*sin(qB)*sin(qC)*cos(qD) + 1.0*sin(qA)*sin(qB)*sin(qD)*cos(qC) - 1.0*sin(qA)*sin(qC)*sin(qD)*cos(qB) + 1.0*sin(qA)*cos(qB)*cos(qC)*cos(qD) - 1.0*sin(qB)*sin(qC)*sin(qD)*cos(qA) + 1.0*sin(qB)*cos(qA)*cos(qC)*cos(qD) - 1.0*sin(qC)*cos(qA)*cos(qB)*cos(qD) - 1.0*sin(qD)*cos(qA)*cos(qB)*cos(qC))]])"
      ]
     },
     "execution_count": 35,
     "metadata": {},
     "output_type": "execute_result"
    }
   ],
   "source": [
    "J_int= -BB.inv()*AA\n",
    "J_int"
   ]
  },
  {
   "cell_type": "markdown",
   "metadata": {},
   "source": [
    "That expression is quite long.  We can use the simplify function provided by sympy to shorten the expression:"
   ]
  },
  {
   "cell_type": "code",
   "execution_count": 36,
   "metadata": {},
   "outputs": [
    {
     "data": {
      "text/plain": [
       "Matrix([\n",
       "[1.33333333333333*sin(-qA + qC + qD)/sin(qA + qB - qC - qD) - 1.0],\n",
       "[                                                               0],\n",
       "[                              2.0*sin(qB)/sin(qA + qB - qC - qD)]])"
      ]
     },
     "execution_count": 36,
     "metadata": {},
     "output_type": "execute_result"
    }
   ],
   "source": [
    "J_int.simplify()\n",
    "J_int"
   ]
  },
  {
   "cell_type": "markdown",
   "metadata": {},
   "source": [
    "Solving for the dependent variables $q_d$:"
   ]
  },
  {
   "cell_type": "markdown",
   "metadata": {},
   "source": [
    "## Apply to end-effector\n",
    "\n",
    "$$\\textbf{v}_{out} = \\textbf{J}\\dot{\\textbf{q}}$$\n",
    "$$\\textbf{v}_{out} = \\textbf{D}\\dot{\\textbf{q}}_i+\\textbf{E}\\dot{\\textbf{q}}_d$$\n",
    "$$\\textbf{v}_{out} = \\textbf{D}\\dot{\\textbf{q}}_i+\\textbf{EC}\\dot{\\textbf{q}}_i$$\n",
    "$$\\textbf{v}_{out} = \\textbf{(D+EC)}\\dot{\\textbf{q}}_i$$\n",
    "\n",
    "Pick an end-effector"
   ]
  },
  {
   "cell_type": "code",
   "execution_count": 37,
   "metadata": {},
   "outputs": [
    {
     "data": {
      "text/plain": [
       "lA*A.x + 3*B.x - 2*B.y"
      ]
     },
     "execution_count": 37,
     "metadata": {},
     "output_type": "execute_result"
    }
   ],
   "source": [
    "pout"
   ]
  },
  {
   "cell_type": "code",
   "execution_count": 38,
   "metadata": {},
   "outputs": [
    {
     "data": {
      "text/plain": [
       "Matrix([\n",
       "[-lA*qA_d*sin(qA) - ((2*qA_d + 2*qB_d)*sin(qB) + (3*qA_d + 3*qB_d)*cos(qB))*sin(qA) + ((2*qA_d + 2*qB_d)*cos(qB) - (3*qA_d + 3*qB_d)*sin(qB))*cos(qA)],\n",
       "[ lA*qA_d*cos(qA) + ((2*qA_d + 2*qB_d)*sin(qB) + (3*qA_d + 3*qB_d)*cos(qB))*cos(qA) + ((2*qA_d + 2*qB_d)*cos(qB) - (3*qA_d + 3*qB_d)*sin(qB))*sin(qA)]])"
      ]
     },
     "execution_count": 38,
     "metadata": {},
     "output_type": "execute_result"
    }
   ],
   "source": [
    "vout = pout.time_derivative()\n",
    "#vout = vout.subs(subs)\n",
    "vout = sympy.Matrix([vout.dot(N.x),vout.dot(N.y)])\n",
    "vout"
   ]
  },
  {
   "cell_type": "code",
   "execution_count": 39,
   "metadata": {},
   "outputs": [
    {
     "data": {
      "text/plain": [
       "Matrix([\n",
       "[-lA*sin(qA) + (-3*sin(qB) + 2*cos(qB))*cos(qA) + (-2*sin(qB) - 3*cos(qB))*sin(qA)],\n",
       "[  lA*cos(qA) + (-3*sin(qB) + 2*cos(qB))*sin(qA) + (2*sin(qB) + 3*cos(qB))*cos(qA)]])"
      ]
     },
     "execution_count": 39,
     "metadata": {},
     "output_type": "execute_result"
    }
   ],
   "source": [
    "Ji = vout.jacobian(qi)\n",
    "Ji"
   ]
  },
  {
   "cell_type": "code",
   "execution_count": 40,
   "metadata": {},
   "outputs": [
    {
     "data": {
      "text/plain": [
       "Matrix([\n",
       "[(-3*sin(qB) + 2*cos(qB))*cos(qA) + (-2*sin(qB) - 3*cos(qB))*sin(qA), 0, 0],\n",
       "[ (-3*sin(qB) + 2*cos(qB))*sin(qA) + (2*sin(qB) + 3*cos(qB))*cos(qA), 0, 0]])"
      ]
     },
     "execution_count": 40,
     "metadata": {},
     "output_type": "execute_result"
    }
   ],
   "source": [
    "Jd = vout.jacobian(qd)\n",
    "Jd"
   ]
  },
  {
   "cell_type": "code",
   "execution_count": 41,
   "metadata": {},
   "outputs": [
    {
     "data": {
      "text/plain": [
       "Matrix([\n",
       "[-lA*sin(qA) + ((-3*sin(qB) + 2*cos(qB))*cos(qA) + (-2*sin(qB) - 3*cos(qB))*sin(qA))*(1.33333333333333*sin(-qA + qC + qD)/sin(qA + qB - qC - qD) - 1.0) + (-3*sin(qB) + 2*cos(qB))*cos(qA) + (-2*sin(qB) - 3*cos(qB))*sin(qA)],\n",
       "[   lA*cos(qA) + ((-3*sin(qB) + 2*cos(qB))*sin(qA) + (2*sin(qB) + 3*cos(qB))*cos(qA))*(1.33333333333333*sin(-qA + qC + qD)/sin(qA + qB - qC - qD) - 1.0) + (-3*sin(qB) + 2*cos(qB))*sin(qA) + (2*sin(qB) + 3*cos(qB))*cos(qA)]])"
      ]
     },
     "execution_count": 41,
     "metadata": {},
     "output_type": "execute_result"
    }
   ],
   "source": [
    "J = Ji+Jd*J_int\n",
    "J"
   ]
  },
  {
   "cell_type": "code",
   "execution_count": null,
   "metadata": {},
   "outputs": [],
   "source": []
  }
 ],
 "metadata": {
  "kernelspec": {
   "display_name": "Python 3 (ipykernel)",
   "language": "python",
   "name": "python3"
  },
  "language_info": {
   "codemirror_mode": {
    "name": "ipython",
    "version": 3
   },
   "file_extension": ".py",
   "mimetype": "text/x-python",
   "name": "python",
   "nbconvert_exporter": "python",
   "pygments_lexer": "ipython3",
   "version": "3.9.7"
  }
 },
 "nbformat": 4,
 "nbformat_minor": 4
}
