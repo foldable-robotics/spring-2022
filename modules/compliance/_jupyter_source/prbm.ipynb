{
 "cells": [
  {
   "cell_type": "markdown",
   "id": "union-handy",
   "metadata": {},
   "source": [
    "---\n",
    "title: Approximating compliant beams with the pseudo-rigid-body model\n",
    "---\n",
    "\n",
    "Note: this page comes with certain limitations.  First, it assumes small angle deflections, which you cannot assume for compliant mechanisms.  Second, it dos not consider displacement in x, only y and $\\theta$.  Finally, it only considers transverse loads, but not the impact of axial loading.\n",
    "\n",
    "With that said, it's an interesting and simple derivation.  For more information about large displacements, I encourage you to look at:\n",
    "\n",
    "Howell, L. L., and A. Midha. “Parametric Deflection Approximations for End-Loaded, Large-Deflection Beams in Compliant Mechanisms.” Journal of Mechanical Design 117, no. 1 (March 1, 1995): 156–65. https://doi.org/10.1115/1.2826101.\n"
   ]
  },
  {
   "cell_type": "code",
   "execution_count": 1,
   "id": "unnecessary-community",
   "metadata": {},
   "outputs": [],
   "source": [
    "import sympy"
   ]
  },
  {
   "cell_type": "code",
   "execution_count": 2,
   "id": "coral-triangle",
   "metadata": {},
   "outputs": [],
   "source": [
    "q = sympy.Symbol('q')\n",
    "d = sympy.Symbol('d')\n",
    "L = sympy.Symbol('L')\n",
    "P = sympy.Symbol('P')\n",
    "h = sympy.Symbol('h')\n",
    "b = sympy.Symbol('b')\n",
    "E = sympy.Symbol('E')\n",
    "x = sympy.Symbol('x')"
   ]
  },
  {
   "cell_type": "code",
   "execution_count": 3,
   "id": "respected-watts",
   "metadata": {},
   "outputs": [],
   "source": [
    "subs = {}\n",
    "#subs[k]=1000\n",
    "subs[P]=.1\n",
    "subs[L]=.1\n",
    "subs[b]=.01\n",
    "subs[h]=.01\n",
    "subs[E]=1e7\n",
    "subs[x]=.5"
   ]
  },
  {
   "cell_type": "markdown",
   "id": "insured-accommodation",
   "metadata": {},
   "source": [
    "![](/figures-external/beam-deflection.jpg)\n",
    "\n",
    "## Approximating a cantilever with a single revolute joint\n",
    "\n",
    "Arbitrarily placing a compliant joint halfway along its length can be used to approximate a cantilever beam.\n",
    "\n",
    "## Euler-Bernoulli Equations\n",
    "\n",
    "Point Load at the end:\n",
    "\n",
    "$$d = \\frac{PL^3}{3EI}$$\n",
    "\n",
    "Cross-sectional moment of inertia for a rectangle\n",
    "\n",
    "$$I = \\frac{bh^3}{12}$$\n",
    "\n",
    "Inserted:\n",
    "$$d = \\frac{4PL^3h^3}{Eb}$$\n",
    "\n",
    "$$E_{rectangle} = \\frac{4PL^3h^3}{db}$$\n",
    "$$E = \\frac{PL^3}{3dI}$$"
   ]
  },
  {
   "cell_type": "markdown",
   "id": "everyday-vanilla",
   "metadata": {},
   "source": [
    "Cross sectional moment of inertia for a rectangle"
   ]
  },
  {
   "cell_type": "code",
   "execution_count": 4,
   "id": "discrete-neighborhood",
   "metadata": {},
   "outputs": [],
   "source": [
    "I = b*h**3/12"
   ]
  },
  {
   "cell_type": "code",
   "execution_count": 5,
   "id": "small-royalty",
   "metadata": {},
   "outputs": [
    {
     "data": {
      "text/latex": [
       "$\\displaystyle 0.004$"
      ],
      "text/plain": [
       "0.00400000000000000"
      ]
     },
     "execution_count": 5,
     "metadata": {},
     "output_type": "execute_result"
    }
   ],
   "source": [
    "d1 = P*L**3/3/E/I\n",
    "d1.subs(subs)"
   ]
  },
  {
   "cell_type": "code",
   "execution_count": 6,
   "id": "frank-array",
   "metadata": {},
   "outputs": [],
   "source": [
    "q1 = P*L**2/2/E/I"
   ]
  },
  {
   "cell_type": "code",
   "execution_count": 7,
   "id": "dynamic-atlanta",
   "metadata": {},
   "outputs": [
    {
     "data": {
      "text/latex": [
       "$\\displaystyle 0.06$"
      ],
      "text/plain": [
       "0.0600000000000000"
      ]
     },
     "execution_count": 7,
     "metadata": {},
     "output_type": "execute_result"
    }
   ],
   "source": [
    "q1.subs(subs)"
   ]
  },
  {
   "cell_type": "markdown",
   "id": "severe-separation",
   "metadata": {},
   "source": [
    "## 2-Link Approximation\n",
    "\n",
    "### Matching Displacement\n",
    "x at .5\n",
    "\n",
    "$$d = L(1-x) \\sin{\\theta}$$\n",
    "\n",
    "<!--$$\\sin^{-1}\\frac{d}{L}=\\theta$$-->\n",
    "\n",
    "$$\\tau=k\\theta = PL(1-x)\\cos\\theta $$\n",
    "\n",
    "Using a small Angle approximation, $\\cos\\theta = 1$\n",
    "\n",
    "$$k\\theta = PL(1-x)$$\n",
    "$$\\theta = \\frac{PL(1-x)}{k}$$\n",
    "$$d=L(1-x)\\sin\\left(\\frac{PL(1-x)}{k}\\right)$$\n",
    "\n",
    "$$d=L(1-x)\\sin\\left(\\frac{PL(1-x)}{k}\\right)=\\frac{PL^3}{3EI}$$\n",
    "$$(1-x)\\sin\\left(\\frac{PL(1-x)}{k}\\right)=\\frac{PL^2}{3EI}$$\n",
    "\n",
    "$$\\frac{PL(1-x)}{k}=\\sin^{-1} \\left(\\frac{PL^2}{3EI(1-x)}\\right)$$\n",
    "\n",
    "$${k}=\\frac{PL(1-x)}{\\sin^{-1} \\left(\\frac{PL^2}{3EI(1-x)}\\right)}$$"
   ]
  },
  {
   "cell_type": "code",
   "execution_count": 8,
   "id": "roman-klein",
   "metadata": {},
   "outputs": [
    {
     "data": {
      "text/latex": [
       "$\\displaystyle 0.0624332120451467$"
      ],
      "text/plain": [
       "0.0624332120451467"
      ]
     },
     "execution_count": 8,
     "metadata": {},
     "output_type": "execute_result"
    }
   ],
   "source": [
    "k1 = P*L*(1-x)/(sympy.asin(P*L**2/(3*E*I*(1-x))))\n",
    "k1.subs(subs)"
   ]
  },
  {
   "cell_type": "markdown",
   "id": "sorted-socket",
   "metadata": {},
   "source": [
    "The displacement matches"
   ]
  },
  {
   "cell_type": "code",
   "execution_count": 9,
   "id": "hindu-selling",
   "metadata": {},
   "outputs": [
    {
     "data": {
      "text/latex": [
       "$\\displaystyle 0.004$"
      ],
      "text/plain": [
       "0.00400000000000000"
      ]
     },
     "execution_count": 9,
     "metadata": {},
     "output_type": "execute_result"
    }
   ],
   "source": [
    "d2 = L*(1-x)*sympy.sin(P*L*(1-x)/k1)\n",
    "d2.subs(subs)"
   ]
  },
  {
   "cell_type": "markdown",
   "id": "subtle-taylor",
   "metadata": {},
   "source": [
    "But the orientation does not"
   ]
  },
  {
   "cell_type": "code",
   "execution_count": 10,
   "id": "electoral-apparel",
   "metadata": {},
   "outputs": [],
   "source": [
    "q2 = P*L*(1-x)/k1"
   ]
  },
  {
   "cell_type": "code",
   "execution_count": 11,
   "id": "dedicated-graduate",
   "metadata": {},
   "outputs": [
    {
     "data": {
      "text/latex": [
       "$\\displaystyle 0.080085580033659$"
      ],
      "text/plain": [
       "0.0800855800336590"
      ]
     },
     "execution_count": 11,
     "metadata": {},
     "output_type": "execute_result"
    }
   ],
   "source": [
    "q2.subs(subs)"
   ]
  },
  {
   "cell_type": "markdown",
   "id": "anonymous-worst",
   "metadata": {},
   "source": [
    "### Matching Theta\n",
    "\n",
    "From Cantilever beam equations:\n",
    "\n",
    "$$\\theta = \\frac{PL^2}{2EI}$$\n",
    "\n",
    "From approximation above, again assuming small angles:\n",
    "\n",
    "$$\\theta = \\frac{PL(1-x)}{k}$$\n",
    "\n",
    "$$\\theta = \\frac{PL^2}{2EI}= \\frac{PL(1-x)}{k}$$\n",
    "$$\\frac{L}{2EI}= \\frac{1-x}{k}$$\n",
    "$$k=\\frac{2EI(1-x)}{L}$$\n",
    "\n",
    "Using the value solved for to equate orientation:"
   ]
  },
  {
   "cell_type": "code",
   "execution_count": 12,
   "id": "hindu-imaging",
   "metadata": {},
   "outputs": [],
   "source": [
    "k2 = 2*E*I*(1-x)/(L)"
   ]
  },
  {
   "cell_type": "markdown",
   "id": "surprised-dimension",
   "metadata": {},
   "source": [
    "Now orientation matches"
   ]
  },
  {
   "cell_type": "code",
   "execution_count": 13,
   "id": "arbitrary-wayne",
   "metadata": {},
   "outputs": [],
   "source": [
    "q3 = P*L*(1-x)/k2"
   ]
  },
  {
   "cell_type": "code",
   "execution_count": 14,
   "id": "julian-gentleman",
   "metadata": {},
   "outputs": [
    {
     "data": {
      "text/latex": [
       "$\\displaystyle 0.06$"
      ],
      "text/plain": [
       "0.0600000000000000"
      ]
     },
     "execution_count": 14,
     "metadata": {},
     "output_type": "execute_result"
    }
   ],
   "source": [
    "q3.subs(subs)"
   ]
  },
  {
   "cell_type": "markdown",
   "id": "addressed-entertainment",
   "metadata": {},
   "source": [
    "But displacement does not"
   ]
  },
  {
   "cell_type": "code",
   "execution_count": 15,
   "id": "bearing-sheffield",
   "metadata": {},
   "outputs": [],
   "source": [
    "d3 = L*(1-x)*sympy.sin(P*L*(1-x)/k2)\n"
   ]
  },
  {
   "cell_type": "code",
   "execution_count": 16,
   "id": "practical-radio",
   "metadata": {},
   "outputs": [
    {
     "data": {
      "text/latex": [
       "$\\displaystyle 0.004$"
      ],
      "text/plain": [
       "0.00400000000000000"
      ]
     },
     "execution_count": 16,
     "metadata": {},
     "output_type": "execute_result"
    }
   ],
   "source": [
    "d1.subs(subs)"
   ]
  },
  {
   "cell_type": "code",
   "execution_count": 17,
   "id": "novel-lover",
   "metadata": {},
   "outputs": [
    {
     "data": {
      "text/latex": [
       "$\\displaystyle 0.00299820032397223$"
      ],
      "text/plain": [
       "0.00299820032397223"
      ]
     },
     "execution_count": 17,
     "metadata": {},
     "output_type": "execute_result"
    }
   ],
   "source": [
    "d3.subs(subs)"
   ]
  },
  {
   "cell_type": "markdown",
   "id": "incoming-fabric",
   "metadata": {},
   "source": [
    "### Matching Both\n",
    "Now asking the question, what location x permits you to accurately model the deflection and angle of a cantilever beam with a single joint?"
   ]
  },
  {
   "cell_type": "code",
   "execution_count": 18,
   "id": "packed-estimate",
   "metadata": {},
   "outputs": [],
   "source": [
    "del subs[x]"
   ]
  },
  {
   "cell_type": "markdown",
   "id": "invisible-arena",
   "metadata": {},
   "source": [
    "Create an error vector"
   ]
  },
  {
   "cell_type": "code",
   "execution_count": 19,
   "id": "governing-surfing",
   "metadata": {},
   "outputs": [
    {
     "data": {
      "text/latex": [
       "$\\displaystyle \\left[\\begin{matrix}0\\\\0.06 - \\operatorname{asin}{\\left(\\frac{0.04}{1 - x} \\right)}\\end{matrix}\\right]$"
      ],
      "text/plain": [
       "Matrix([\n",
       "[                        0],\n",
       "[0.06 - asin(0.04/(1 - x))]])"
      ]
     },
     "execution_count": 19,
     "metadata": {},
     "output_type": "execute_result"
    }
   ],
   "source": [
    "error = []\n",
    "error.append(d1-d2)\n",
    "error.append(q1-q2)\n",
    "error= sympy.Matrix(error)\n",
    "error = error.subs(subs)\n",
    "error"
   ]
  },
  {
   "cell_type": "markdown",
   "id": "great-mailing",
   "metadata": {},
   "source": [
    "import optimization toolkit"
   ]
  },
  {
   "cell_type": "code",
   "execution_count": 20,
   "id": "instructional-herald",
   "metadata": {},
   "outputs": [],
   "source": [
    "import scipy.optimize"
   ]
  },
  {
   "cell_type": "markdown",
   "id": "considered-usage",
   "metadata": {},
   "source": [
    "Turn \"error\" into a function that can be run using the ```sympy.lambdify``` function"
   ]
  },
  {
   "cell_type": "code",
   "execution_count": 21,
   "id": "exact-disney",
   "metadata": {},
   "outputs": [],
   "source": [
    "f = sympy.lambdify((x),error)"
   ]
  },
  {
   "cell_type": "markdown",
   "id": "corrected-athens",
   "metadata": {},
   "source": [
    "Scipy.optimize.minimize needs args supplied as a list, so define a new wrapper function that formats inputs correctly"
   ]
  },
  {
   "cell_type": "code",
   "execution_count": 22,
   "id": "sporting-innocent",
   "metadata": {},
   "outputs": [],
   "source": [
    "def f2(args):\n",
    "    a = f(*args)\n",
    "    b = (a**2).sum()\n",
    "    return b"
   ]
  },
  {
   "cell_type": "code",
   "execution_count": 23,
   "id": "healthy-person",
   "metadata": {},
   "outputs": [
    {
     "data": {
      "text/plain": [
       "      fun: 2.0974856866229214e-09\n",
       " hess_inv: array([[65.11062045]])\n",
       "      jac: array([-8.23593665e-06])\n",
       "  message: 'Optimization terminated successfully.'\n",
       "     nfev: 14\n",
       "      nit: 4\n",
       "     njev: 7\n",
       "   status: 0\n",
       "  success: True\n",
       "        x: array([0.33242421])"
      ]
     },
     "execution_count": 23,
     "metadata": {},
     "output_type": "execute_result"
    }
   ],
   "source": [
    "sol = scipy.optimize.minimize(f2,[.25])\n",
    "sol"
   ]
  },
  {
   "cell_type": "markdown",
   "id": "durable-auction",
   "metadata": {},
   "source": [
    "Now add x back to the list of substitutions"
   ]
  },
  {
   "cell_type": "code",
   "execution_count": 24,
   "id": "demographic-senegal",
   "metadata": {},
   "outputs": [],
   "source": [
    "subs[x]=sol.x[0]"
   ]
  },
  {
   "cell_type": "markdown",
   "id": "outstanding-biodiversity",
   "metadata": {},
   "source": [
    "So a virtual joint at x=1/3 correctly approximates displacement and orientation."
   ]
  },
  {
   "cell_type": "code",
   "execution_count": 25,
   "id": "streaming-binary",
   "metadata": {},
   "outputs": [
    {
     "data": {
      "text/latex": [
       "$\\displaystyle 0.004$"
      ],
      "text/plain": [
       "0.00400000000000000"
      ]
     },
     "execution_count": 25,
     "metadata": {},
     "output_type": "execute_result"
    }
   ],
   "source": [
    "d2.subs(subs)"
   ]
  },
  {
   "cell_type": "code",
   "execution_count": 26,
   "id": "processed-enforcement",
   "metadata": {},
   "outputs": [
    {
     "data": {
      "text/latex": [
       "$\\displaystyle 0.0599542016846748$"
      ],
      "text/plain": [
       "0.0599542016846748"
      ]
     },
     "execution_count": 26,
     "metadata": {},
     "output_type": "execute_result"
    }
   ],
   "source": [
    "q2.subs(subs)"
   ]
  },
  {
   "cell_type": "code",
   "execution_count": null,
   "id": "enhanced-patient",
   "metadata": {},
   "outputs": [],
   "source": []
  }
 ],
 "metadata": {
  "kernelspec": {
   "display_name": "Python 3 (ipykernel)",
   "language": "python",
   "name": "python3"
  },
  "language_info": {
   "codemirror_mode": {
    "name": "ipython",
    "version": 3
   },
   "file_extension": ".py",
   "mimetype": "text/x-python",
   "name": "python",
   "nbconvert_exporter": "python",
   "pygments_lexer": "ipython3",
   "version": "3.9.7"
  }
 },
 "nbformat": 4,
 "nbformat_minor": 5
}
