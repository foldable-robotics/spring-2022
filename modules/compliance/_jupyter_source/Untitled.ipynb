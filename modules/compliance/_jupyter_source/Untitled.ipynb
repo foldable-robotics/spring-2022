{
 "cells": [
  {
   "cell_type": "code",
   "execution_count": 1,
   "id": "straight-event",
   "metadata": {},
   "outputs": [],
   "source": [
    "import sympy"
   ]
  },
  {
   "cell_type": "code",
   "execution_count": 2,
   "id": "developmental-qualification",
   "metadata": {},
   "outputs": [],
   "source": [
    "q = sympy.Symbol('q')\n",
    "d = sympy.Symbol('d')\n",
    "L = sympy.Symbol('L')\n",
    "P = sympy.Symbol('P')\n",
    "k = sympy.Symbol('k')\n",
    "h = sympy.Symbol('h')\n",
    "b = sympy.Symbol('b')\n",
    "E = sympy.Symbol('E')"
   ]
  },
  {
   "cell_type": "code",
   "execution_count": 3,
   "id": "unlimited-illustration",
   "metadata": {},
   "outputs": [],
   "source": [
    "I = b*h**3/12"
   ]
  },
  {
   "cell_type": "code",
   "execution_count": 4,
   "id": "desperate-straight",
   "metadata": {},
   "outputs": [],
   "source": [
    "eq = []\n",
    "eq.append(2*d/L-sympy.sin(q))"
   ]
  },
  {
   "cell_type": "code",
   "execution_count": 5,
   "id": "expensive-hacker",
   "metadata": {},
   "outputs": [],
   "source": [
    "eq.append(k*q-P*sympy.cos(q))"
   ]
  },
  {
   "cell_type": "code",
   "execution_count": 6,
   "id": "analyzed-nightmare",
   "metadata": {},
   "outputs": [],
   "source": [
    "eq = sympy.Matrix(eq)"
   ]
  },
  {
   "cell_type": "code",
   "execution_count": 7,
   "id": "planned-vault",
   "metadata": {},
   "outputs": [],
   "source": [
    "subs = {}\n",
    "subs[k]=1000\n",
    "subs[P]=1\n",
    "subs[L]=1\n",
    "subs[b]=1\n",
    "subs[h]=1\n",
    "subs[E]=1\n",
    "eq=eq.subs(subs)"
   ]
  },
  {
   "cell_type": "code",
   "execution_count": 8,
   "id": "insured-ethnic",
   "metadata": {},
   "outputs": [
    {
     "data": {
      "text/latex": [
       "$\\displaystyle \\left[\\begin{matrix}2 d - \\sin{\\left(q \\right)}\\\\1000 q - \\cos{\\left(q \\right)}\\end{matrix}\\right]$"
      ],
      "text/plain": [
       "Matrix([\n",
       "[   2*d - sin(q)],\n",
       "[1000*q - cos(q)]])"
      ]
     },
     "execution_count": 8,
     "metadata": {},
     "output_type": "execute_result"
    }
   ],
   "source": [
    "eq"
   ]
  },
  {
   "cell_type": "raw",
   "id": "changing-tourist",
   "metadata": {},
   "source": [
    "sympy.solve(eq,[q,d])"
   ]
  },
  {
   "cell_type": "code",
   "execution_count": 9,
   "id": "utility-inside",
   "metadata": {},
   "outputs": [
    {
     "data": {
      "text/latex": [
       "$\\displaystyle \\left[\\begin{matrix}2 d - \\sin{\\left(q \\right)}\\\\1000 q - \\cos{\\left(q \\right)}\\end{matrix}\\right]$"
      ],
      "text/plain": [
       "Matrix([\n",
       "[   2*d - sin(q)],\n",
       "[1000*q - cos(q)]])"
      ]
     },
     "execution_count": 9,
     "metadata": {},
     "output_type": "execute_result"
    }
   ],
   "source": [
    "eq"
   ]
  },
  {
   "cell_type": "code",
   "execution_count": 10,
   "id": "exotic-basket",
   "metadata": {},
   "outputs": [],
   "source": [
    "f = sympy.lambdify((q,d),eq)"
   ]
  },
  {
   "cell_type": "code",
   "execution_count": 11,
   "id": "crucial-programmer",
   "metadata": {},
   "outputs": [
    {
     "data": {
      "text/plain": [
       "array([[  1.15852902],\n",
       "       [999.45969769]])"
      ]
     },
     "execution_count": 11,
     "metadata": {},
     "output_type": "execute_result"
    }
   ],
   "source": [
    "f(1,1)"
   ]
  },
  {
   "cell_type": "code",
   "execution_count": 12,
   "id": "homeless-andrew",
   "metadata": {},
   "outputs": [],
   "source": [
    "def f2(args):\n",
    "    a = f(*args)\n",
    "    b = (a**2).sum()\n",
    "    return b"
   ]
  },
  {
   "cell_type": "code",
   "execution_count": 13,
   "id": "dimensional-sugar",
   "metadata": {},
   "outputs": [
    {
     "data": {
      "text/plain": [
       "      fun: 5.001987345149595e-11\n",
       " hess_inv: array([[5.00000385e-07, 2.49013460e-07],\n",
       "       [2.49013460e-07, 1.25000842e-01]])\n",
       "      jac: array([7.56303886e-04, 2.07728640e-09])\n",
       "  message: 'Desired error not necessarily achieved due to precision loss.'\n",
       "     nfev: 60\n",
       "      nit: 4\n",
       "     njev: 16\n",
       "   status: 2\n",
       "  success: False\n",
       "        x: array([0.00099999, 0.00049999])"
      ]
     },
     "execution_count": 13,
     "metadata": {},
     "output_type": "execute_result"
    }
   ],
   "source": [
    "import scipy.optimize\n",
    "scipy.optimize.minimize(f2,[1,1])"
   ]
  },
  {
   "cell_type": "code",
   "execution_count": null,
   "id": "lightweight-frequency",
   "metadata": {},
   "outputs": [],
   "source": []
  }
 ],
 "metadata": {
  "kernelspec": {
   "display_name": "Python 3 (ipykernel)",
   "language": "python",
   "name": "python3"
  },
  "language_info": {
   "codemirror_mode": {
    "name": "ipython",
    "version": 3
   },
   "file_extension": ".py",
   "mimetype": "text/x-python",
   "name": "python",
   "nbconvert_exporter": "python",
   "pygments_lexer": "ipython3",
   "version": "3.9.7"
  }
 },
 "nbformat": 4,
 "nbformat_minor": 5
}
