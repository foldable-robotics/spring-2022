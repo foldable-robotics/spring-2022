{
 "cells": [
  {
   "cell_type": "markdown",
   "metadata": {},
   "source": [
    "---\n",
    "title: Fitting a Dynamic Model\n",
    "---\n",
    "\n",
    "## Introduction\n",
    "\n",
    "This example takes us through the beginning of the triple pendulum example again.  "
   ]
  },
  {
   "cell_type": "code",
   "execution_count": 1,
   "metadata": {},
   "outputs": [],
   "source": [
    "# -*- coding: utf-8 -*-\n",
    "\n",
    "import pynamics\n",
    "from pynamics.frame import Frame\n",
    "from pynamics.variable_types import Differentiable,Constant\n",
    "from pynamics.system import System\n",
    "from pynamics.body import Body\n",
    "from pynamics.dyadic import Dyadic\n",
    "from pynamics.output import Output,PointsOutput\n",
    "from pynamics.particle import Particle\n",
    "import pynamics.integration\n",
    "import numpy\n",
    "import matplotlib.pyplot as plt\n",
    "plt.ion()\n",
    "from math import pi"
   ]
  },
  {
   "cell_type": "markdown",
   "metadata": {},
   "source": [
    "We need to import some additional libraries for optimization and interpolation"
   ]
  },
  {
   "cell_type": "code",
   "execution_count": 2,
   "metadata": {},
   "outputs": [],
   "source": [
    "import logging\n",
    "import pynamics.integration\n",
    "import pynamics.system\n",
    "import numpy.random\n",
    "import scipy.interpolate\n",
    "import scipy.optimize\n",
    "import cma"
   ]
  },
  {
   "cell_type": "markdown",
   "metadata": {},
   "source": [
    "The rest of this code proceeds as in the triple pendulum example..."
   ]
  },
  {
   "cell_type": "code",
   "execution_count": 3,
   "metadata": {},
   "outputs": [],
   "source": [
    "system = System()\n",
    "pynamics.set_system(__name__,system)\n",
    "\n",
    "lA = Constant(1,'lA',system)\n",
    "lB = Constant(1,'lB',system)\n",
    "lC = Constant(1,'lC',system)\n",
    "\n",
    "mA = Constant(1,'mA',system)\n",
    "mB = Constant(1,'mB',system)\n",
    "mC = Constant(1,'mC',system)\n",
    "\n",
    "g = Constant(9.81,'g',system)\n",
    "b = Constant(1e1,'b',system)\n",
    "k = Constant(1e1,'k',system)\n",
    "\n",
    "preload1 = Constant(0*pi/180,'preload1',system)\n",
    "preload2 = Constant(0*pi/180,'preload2',system)\n",
    "preload3 = Constant(0*pi/180,'preload3',system)\n",
    "\n",
    "Ixx_A = Constant(1,'Ixx_A',system)\n",
    "Iyy_A = Constant(1,'Iyy_A',system)\n",
    "Izz_A = Constant(1,'Izz_A',system)\n",
    "Ixx_B = Constant(1,'Ixx_B',system)\n",
    "Iyy_B = Constant(1,'Iyy_B',system)\n",
    "Izz_B = Constant(1,'Izz_B',system)\n",
    "Ixx_C = Constant(1,'Ixx_C',system)\n",
    "Iyy_C = Constant(1,'Iyy_C',system)\n",
    "Izz_C = Constant(1,'Izz_C',system)\n",
    "\n",
    "tol = 1e-12\n",
    "\n",
    "tinitial = 0\n",
    "tfinal = 10\n",
    "fps = 30\n",
    "tstep = 1/fps\n",
    "t = numpy.r_[tinitial:tfinal:tstep]\n",
    "\n",
    "qA,qA_d,qA_dd = Differentiable('qA',system)\n",
    "qB,qB_d,qB_dd = Differentiable('qB',system)\n",
    "qC,qC_d,qC_dd = Differentiable('qC',system)\n",
    "\n",
    "initialvalues = {}\n",
    "initialvalues[qA]=-45*pi/180\n",
    "initialvalues[qA_d]=0*pi/180\n",
    "initialvalues[qB]=0*pi/180\n",
    "initialvalues[qB_d]=0*pi/180\n",
    "initialvalues[qC]=0*pi/180\n",
    "initialvalues[qC_d]=0*pi/180\n",
    "\n",
    "statevariables = system.get_state_variables()\n",
    "ini = [initialvalues[item] for item in statevariables]\n",
    "\n",
    "N = Frame('N')\n",
    "A = Frame('A')\n",
    "B = Frame('B')\n",
    "C = Frame('C')\n",
    "\n",
    "system.set_newtonian(N)\n",
    "\n",
    "A.rotate_fixed_axis(N,[0,0,1],qA,system)\n",
    "B.rotate_fixed_axis(A,[0,0,1],qB,system)\n",
    "C.rotate_fixed_axis(B,[0,0,1],qC,system)\n",
    "\n",
    "pNA=0*N.x\n",
    "pAB=pNA+lA*A.x\n",
    "pBC = pAB + lB*B.x\n",
    "pCtip = pBC + lC*C.x\n",
    "\n",
    "pAcm=pNA+lA/2*A.x\n",
    "pBcm=pAB+lB/2*B.x\n",
    "pCcm=pBC+lC/2*C.x\n",
    "\n",
    "wNA = N.getw_(A)\n",
    "wAB = A.getw_(B)\n",
    "wBC = B.getw_(C)\n",
    "\n",
    "IA = Dyadic.build(A,Ixx_A,Iyy_A,Izz_A)\n",
    "IB = Dyadic.build(B,Ixx_B,Iyy_B,Izz_B)\n",
    "IC = Dyadic.build(C,Ixx_C,Iyy_C,Izz_C)\n",
    "\n",
    "BodyA = Body('BodyA',A,pAcm,mA,IA,system)\n",
    "BodyB = Body('BodyB',B,pBcm,mB,IB,system)\n",
    "BodyC = Body('BodyC',C,pCcm,mC,IC,system)\n",
    "\n",
    "system.addforce(-b*wNA,wNA)\n",
    "system.addforce(-b*wAB,wAB)\n",
    "system.addforce(-b*wBC,wBC)\n",
    "\n",
    "system.add_spring_force1(k,(qA-preload1)*N.z,wNA) \n",
    "system.add_spring_force1(k,(qB-preload2)*N.z,wAB)\n",
    "system.add_spring_force1(k,(qC-preload3)*N.z,wBC)\n",
    "\n",
    "system.addforcegravity(-g*N.y)"
   ]
  },
  {
   "cell_type": "markdown",
   "metadata": {},
   "source": [
    "We're going to run this example without constraints\n",
    "\n",
    "Proceeding..."
   ]
  },
  {
   "cell_type": "code",
   "execution_count": 4,
   "metadata": {},
   "outputs": [
    {
     "name": "stderr",
     "output_type": "stream",
     "text": [
      "2021-07-22 16:26:31,103 - pynamics.system - INFO - getting dynamic equations\n"
     ]
    }
   ],
   "source": [
    "f,ma = system.getdynamics()"
   ]
  },
  {
   "cell_type": "markdown",
   "metadata": {},
   "source": [
    "## Modifications\n",
    "\n",
    "Now here's where the code diverges.  Instead of just integrating the system with the values specified when the constants were created, we're going to split our set of constants into ones we know from calculating them, measuring them, or specifying them, and the constants we _don't know_ because they are difficult to measure independently or only manifest in the full system.  In other words, we are separating our constants into ones we are supplying ourselves to the model, and the ones we are hoping to find using optimization\n",
    "\n",
    "In this case, as an example, we specify that the damping ratio and joint stiffness are unknown:"
   ]
  },
  {
   "cell_type": "code",
   "execution_count": 5,
   "metadata": {},
   "outputs": [],
   "source": [
    "unknown_constants = [b,k]"
   ]
  },
  {
   "cell_type": "markdown",
   "metadata": {},
   "source": [
    "From the set of system constants already defined, we can say that all the other constants are \"known\"; we use the default values specified above for these"
   ]
  },
  {
   "cell_type": "code",
   "execution_count": 6,
   "metadata": {},
   "outputs": [],
   "source": [
    "known_constants = list(set(system.constant_values.keys())-set(unknown_constants))\n",
    "known_constants = dict([(key,system.constant_values[key]) for key in known_constants])"
   ]
  },
  {
   "cell_type": "markdown",
   "metadata": {},
   "source": [
    "Also different from the original triple pendulum example: we supply the known constants earlier, when we generate our integration function.  This can help speed up integration by eliminating constants that do not change every time we integrate, making sympy's substitution process shorter.  Pynamics gives you the ability to specify constants when creating the state-space equations or during integration.  Note that we are only supplying the known constants at this point."
   ]
  },
  {
   "cell_type": "code",
   "execution_count": 7,
   "metadata": {},
   "outputs": [
    {
     "name": "stderr",
     "output_type": "stream",
     "text": [
      "2021-07-22 16:26:31,407 - pynamics.system - INFO - solving a = f/m and creating function\n",
      "2021-07-22 16:26:31,861 - pynamics.system - INFO - substituting constrained in Ma-f.\n",
      "2021-07-22 16:26:31,923 - pynamics.system - INFO - done solving a = f/m and creating function\n",
      "2021-07-22 16:26:31,923 - pynamics.system - INFO - calculating function for lambdas\n"
     ]
    }
   ],
   "source": [
    "func1,lambda1 = system.state_space_post_invert(f,ma,return_lambda = True,constants = known_constants)"
   ]
  },
  {
   "cell_type": "markdown",
   "metadata": {},
   "source": [
    "Now we create a function to run the integration.  The input arguments (args) of this function are the unknown contants that we are trying to solve for.   We then create a dictionary (constants) that we feed into the integration step, so that each time we run this function, we can be generating the motion of a  system with different $b$ and $k$ values."
   ]
  },
  {
   "cell_type": "code",
   "execution_count": 8,
   "metadata": {},
   "outputs": [],
   "source": [
    "def run_sim(args):\n",
    "    constants = dict([(key,value) for key,value in zip(unknown_constants,args)])\n",
    "    states=pynamics.integration.integrate(func1,ini,t,rtol=tol,atol=tol,hmin=tol, args=({'constants':constants},))\n",
    "    return states"
   ]
  },
  {
   "cell_type": "markdown",
   "metadata": {},
   "source": [
    "Define the points that make up the motion-tracked points.  Note: your data should already be normalized for the proper scaling and orientation."
   ]
  },
  {
   "cell_type": "code",
   "execution_count": 9,
   "metadata": {},
   "outputs": [],
   "source": [
    "points = [pNA,pAB,pBC,pCtip]"
   ]
  },
  {
   "cell_type": "markdown",
   "metadata": {},
   "source": [
    "## Synthesizing Data (optional)\n",
    "\n",
    "Because I don't have a three-link pendulum on hand, I have to create some data to which the next part of my code can be fit.  The next steps create some synthetic, noisy data to demonstrate our model-fitting procedure with.  In normal circumstances, you would be supplying input data in the form of x-y point values extracted from motion data.  In this case, we first generate some data for a given model, add some noise, and then solve with a different initial guess for those same parameters.\n",
    "\n",
    "When modifying this code for your use, this is where you would want to insert data from your own experiment\n",
    "\n",
    "First, run the simulation at a selected set of values for b and k"
   ]
  },
  {
   "cell_type": "code",
   "execution_count": 10,
   "metadata": {},
   "outputs": [
    {
     "name": "stderr",
     "output_type": "stream",
     "text": [
      "2021-07-22 16:26:31,998 - pynamics.integration - INFO - beginning integration\n",
      "2021-07-22 16:26:31,998 - pynamics.system - INFO - integration at time 0000.00\n",
      "2021-07-22 16:26:32,190 - pynamics.system - INFO - integration at time 0000.47\n",
      "2021-07-22 16:26:32,374 - pynamics.system - INFO - integration at time 0001.65\n",
      "2021-07-22 16:26:32,563 - pynamics.system - INFO - integration at time 0006.07\n",
      "2021-07-22 16:26:32,746 - pynamics.system - INFO - integration at time 0006.76\n",
      "2021-07-22 16:26:32,935 - pynamics.system - INFO - integration at time 0007.14\n",
      "2021-07-22 16:26:33,128 - pynamics.system - INFO - integration at time 0007.50\n",
      "2021-07-22 16:26:33,321 - pynamics.system - INFO - integration at time 0007.88\n",
      "2021-07-22 16:26:33,505 - pynamics.system - INFO - integration at time 0008.26\n",
      "2021-07-22 16:26:33,694 - pynamics.system - INFO - integration at time 0008.63\n",
      "2021-07-22 16:26:33,875 - pynamics.system - INFO - integration at time 0008.94\n",
      "2021-07-22 16:26:34,078 - pynamics.system - INFO - integration at time 0009.25\n",
      "2021-07-22 16:26:34,264 - pynamics.system - INFO - integration at time 0009.57\n",
      "2021-07-22 16:26:34,448 - pynamics.system - INFO - integration at time 0009.88\n",
      "2021-07-22 16:26:34,503 - pynamics.integration - INFO - finished integration\n"
     ]
    }
   ],
   "source": [
    "input_data = run_sim([1.1e2,9e2])"
   ]
  },
  {
   "cell_type": "markdown",
   "metadata": {},
   "source": [
    "Next, create an Output to compute the motion of our markers"
   ]
  },
  {
   "cell_type": "code",
   "execution_count": 11,
   "metadata": {},
   "outputs": [],
   "source": [
    "points_output = PointsOutput(points,system)"
   ]
  },
  {
   "cell_type": "markdown",
   "metadata": {},
   "source": [
    "Then compute the output points.  We can plot them to see what they should look like"
   ]
  },
  {
   "cell_type": "code",
   "execution_count": 12,
   "metadata": {},
   "outputs": [
    {
     "name": "stderr",
     "output_type": "stream",
     "text": [
      "2021-07-22 16:26:34,587 - pynamics.output - INFO - calculating outputs\n",
      "2021-07-22 16:26:34,602 - pynamics.output - INFO - done calculating outputs\n"
     ]
    },
    {
     "data": {
      "text/plain": [
       "<AxesSubplot:>"
      ]
     },
     "execution_count": 12,
     "metadata": {},
     "output_type": "execute_result"
    },
    {
     "data": {
      "image/png": "[encoded data removed]",
      "text/plain": [
       "<Figure size 432x288 with 1 Axes>"
      ]
     },
     "metadata": {
      "needs_background": "light"
     },
     "output_type": "display_data"
    }
   ],
   "source": [
    "y = points_output.calc(input_data,t)\n",
    "points_output.plot_time()\n",
    "# points_output.animate(fps = fps,movie_name = 'render.mp4',lw=2,marker='o',color=(1,0,0,1),linestyle='-')"
   ]
  },
  {
   "cell_type": "markdown",
   "metadata": {},
   "source": [
    "Now create some random noise the same shape as y and add the noise to y.  We're doing this so that our optimization process gets some data that looks like we might expect it to if it were to come from a real sensor.  The scaling of the error can be tuned, and will affect the model we obtain as well as the model's accuracy.  This is a problem when working with real data too."
   ]
  },
  {
   "cell_type": "code",
   "execution_count": 13,
   "metadata": {},
   "outputs": [],
   "source": [
    "r = numpy.random.randn(*(y.shape))*.01\n",
    "y += y + r"
   ]
  },
  {
   "cell_type": "markdown",
   "metadata": {},
   "source": [
    "Reshape the y vector so it is 2D, for saving to a csv file"
   ]
  },
  {
   "cell_type": "code",
   "execution_count": 14,
   "metadata": {},
   "outputs": [],
   "source": [
    "y = y.reshape((len(t),-1))\n",
    "numpy.savetxt(\"data.csv\", y, delimiter=\",\")\n",
    "# save the synthesized input data"
   ]
  },
  {
   "cell_type": "markdown",
   "metadata": {},
   "source": [
    "## Loading Data\n",
    "\n",
    "Now load the input data."
   ]
  },
  {
   "cell_type": "code",
   "execution_count": 15,
   "metadata": {},
   "outputs": [],
   "source": [
    "y = numpy.genfromtxt('data.csv', delimiter=',')"
   ]
  },
  {
   "cell_type": "markdown",
   "metadata": {},
   "source": [
    "Because raw data may not correspond exactly to the simulated time series data, you will need to interpolate the data to fit the time series you are planning to run in your simulation.  Since you have predefined your time series, ```t```, you can precomute the interpolated input data, ```fyt```."
   ]
  },
  {
   "cell_type": "code",
   "execution_count": 16,
   "metadata": {},
   "outputs": [],
   "source": [
    "fy = scipy.interpolate.interp1d(t,y.T,fill_value='extrapolate')\n",
    "fyt = fy(t).T"
   ]
  },
  {
   "cell_type": "markdown",
   "metadata": {},
   "source": [
    "plot the input data.  You should see a small bit of noise in the system."
   ]
  },
  {
   "cell_type": "code",
   "execution_count": 17,
   "metadata": {},
   "outputs": [
    {
     "data": {
      "text/plain": [
       "[<matplotlib.lines.Line2D at 0x17a0866de50>,\n",
       " <matplotlib.lines.Line2D at 0x17a0866df10>,\n",
       " <matplotlib.lines.Line2D at 0x17a0866dfd0>,\n",
       " <matplotlib.lines.Line2D at 0x17a0867b0d0>,\n",
       " <matplotlib.lines.Line2D at 0x17a0867b190>,\n",
       " <matplotlib.lines.Line2D at 0x17a0867b250>,\n",
       " <matplotlib.lines.Line2D at 0x17a0867b310>,\n",
       " <matplotlib.lines.Line2D at 0x17a0867b3d0>]"
      ]
     },
     "execution_count": 17,
     "metadata": {},
     "output_type": "execute_result"
    },
    {
     "data": {
      "image/png": "[encoded data removed]",
      "text/plain": [
       "<Figure size 432x288 with 1 Axes>"
      ]
     },
     "metadata": {
      "needs_background": "light"
     },
     "output_type": "display_data"
    }
   ],
   "source": [
    "plt.figure()\n",
    "plt.plot(t,fyt)"
   ]
  },
  {
   "cell_type": "markdown",
   "metadata": {},
   "source": [
    "Now define a function that calculates the sum of squared error between your guessed system and your input data.  This function is in the form required to work with ```scipy.optimize.minimize()``` as well as the CMA package."
   ]
  },
  {
   "cell_type": "code",
   "execution_count": 18,
   "metadata": {},
   "outputs": [],
   "source": [
    "def calc_error(args):\n",
    "    states_guess = run_sim(args)\n",
    "    y_guess = points_output.calc(states_guess,t)\n",
    "    y_guess = y_guess.reshape((300,-1))\n",
    "    error = fyt - y_guess\n",
    "    error **=2\n",
    "    error = error.sum()\n",
    "    return error    "
   ]
  },
  {
   "cell_type": "markdown",
   "metadata": {},
   "source": [
    "stop logging integration INFO messages for simplicity's sake."
   ]
  },
  {
   "cell_type": "code",
   "execution_count": 19,
   "metadata": {},
   "outputs": [],
   "source": [
    "pynamics.system.logger.setLevel(logging.ERROR)"
   ]
  },
  {
   "cell_type": "markdown",
   "metadata": {},
   "source": [
    "Create an initial guess for $b$ and $k$"
   ]
  },
  {
   "cell_type": "code",
   "execution_count": 20,
   "metadata": {},
   "outputs": [],
   "source": [
    "k_guess = [1e2,1e3]"
   ]
  },
  {
   "cell_type": "markdown",
   "metadata": {},
   "source": [
    "We can try to optimize using a number of methods.  The [scipy.optimize](https://docs.scipy.org/doc/scipy/reference/optimize.html) package's [minimize](https://docs.scipy.org/doc/scipy/reference/generated/scipy.optimize.minimize.html#scipy.optimize.minimize) function permits one to try a variety of methods, as well as to include constraints or bounds as well as a number of other arguments.\n",
    "\n",
    "In this case, we select either CMA or a scipy method based on the string in the ```method``` variable.\n",
    "\n",
    "**Note:** The optimization process can take a long time.  Change the method to 'CMA' or 'BGFS' to actually run it."
   ]
  },
  {
   "cell_type": "code",
   "execution_count": 21,
   "metadata": {},
   "outputs": [],
   "source": [
    "method = None\n",
    "#method = 'CMA'\n",
    "#method = 'BFGS'\n",
    "\n",
    "if method is None:\n",
    "    result = k_guess\n",
    "elif method == 'CMA':\n",
    "    es = cma.CMAEvolutionStrategy(k_guess, 0.5)\n",
    "    es.logger.disp_header()\n",
    "    while not es.stop():\n",
    "          X = es.ask()\n",
    "          es.tell(X, [calc_error(x) for x in X])\n",
    "          es.logger.add()\n",
    "          es.logger.disp([-1])\n",
    "    result = es.best.x\n",
    "else:\n",
    "    sol = scipy.optimize.minimize(calc_error,k_guess,method = method)\n",
    "    print(sol.fun)\n",
    "    result = sol.x\n"
   ]
  },
  {
   "cell_type": "markdown",
   "metadata": {},
   "source": [
    "Now, calculate the error of the best fit model against the input data."
   ]
  },
  {
   "cell_type": "code",
   "execution_count": 22,
   "metadata": {},
   "outputs": [
    {
     "name": "stderr",
     "output_type": "stream",
     "text": [
      "2021-07-22 16:26:35,296 - pynamics.integration - INFO - beginning integration\n",
      "2021-07-22 16:26:37,354 - pynamics.integration - INFO - finished integration\n",
      "2021-07-22 16:26:37,358 - pynamics.output - INFO - calculating outputs\n",
      "2021-07-22 16:26:37,370 - pynamics.output - INFO - done calculating outputs\n"
     ]
    },
    {
     "data": {
      "text/plain": [
       "4199.79424341493"
      ]
     },
     "execution_count": 22,
     "metadata": {},
     "output_type": "execute_result"
    }
   ],
   "source": [
    "calc_error(result)"
   ]
  },
  {
   "cell_type": "markdown",
   "metadata": {},
   "source": [
    "Compare that to the error of the actual model against the noisy version of itself:"
   ]
  },
  {
   "cell_type": "code",
   "execution_count": 23,
   "metadata": {},
   "outputs": [
    {
     "name": "stderr",
     "output_type": "stream",
     "text": [
      "2021-07-22 16:26:37,392 - pynamics.integration - INFO - beginning integration\n",
      "2021-07-22 16:26:39,444 - pynamics.integration - INFO - finished integration\n",
      "2021-07-22 16:26:39,448 - pynamics.output - INFO - calculating outputs\n",
      "2021-07-22 16:26:39,464 - pynamics.output - INFO - done calculating outputs\n"
     ]
    },
    {
     "data": {
      "text/plain": [
       "4199.79424341493"
      ]
     },
     "execution_count": 23,
     "metadata": {},
     "output_type": "execute_result"
    }
   ],
   "source": [
    "calc_error(k_guess)"
   ]
  },
  {
   "cell_type": "markdown",
   "metadata": {},
   "source": [
    "Now plot the resulting motion and render a movie of the best-fit model."
   ]
  },
  {
   "cell_type": "code",
   "execution_count": 25,
   "metadata": {},
   "outputs": [
    {
     "name": "stderr",
     "output_type": "stream",
     "text": [
      "2021-07-22 16:26:46,992 - pynamics.integration - INFO - beginning integration\n",
      "2021-07-22 16:26:49,127 - pynamics.integration - INFO - finished integration\n",
      "2021-07-22 16:26:49,127 - pynamics.output - INFO - calculating outputs\n",
      "2021-07-22 16:26:49,143 - pynamics.output - INFO - done calculating outputs\n"
     ]
    },
    {
     "data": {
      "text/plain": [
       "<AxesSubplot:>"
      ]
     },
     "execution_count": 25,
     "metadata": {},
     "output_type": "execute_result"
    },
    {
     "data": {
      "image/png": "[encoded data removed]",
      "text/plain": [
       "<Figure size 432x288 with 1 Axes>"
      ]
     },
     "metadata": {
      "needs_background": "light"
     },
     "output_type": "display_data"
    },
    {
     "data": {
      "image/png": "[encoded data removed]",
      "text/plain": [
       "<Figure size 432x288 with 1 Axes>"
      ]
     },
     "metadata": {
      "needs_background": "light"
     },
     "output_type": "display_data"
    }
   ],
   "source": [
    "input_data_all2 = run_sim(result)\n",
    "y2 = points_output.calc(input_data_all2,t)\n",
    "points_output.plot_time()\n",
    "points_output.animate(fps = fps,movie_name = 'render.mp4',lw=2,marker='o',color=(1,0,0,1),linestyle='-')"
   ]
  },
  {
   "cell_type": "markdown",
   "metadata": {},
   "source": [
    "Required to animate in jupyter notebook:"
   ]
  },
  {
   "cell_type": "code",
   "execution_count": 26,
   "metadata": {},
   "outputs": [
    {
     "data": {
      "text/html": [
       "<video width=\"432\" height=\"288\" controls autoplay loop>\n",
       "  <source type=\"video/mp4\" src=\"data:video/mp4;base64,AAAAIGZ0eXBNNFYgAAACAE00ViBpc29taXNvMmF2YzEAAAAIZnJlZQAAZCltZGF0AAACoAYF//+c\n",
       "3EXpvebZSLeWLNgg2SPu73gyNjQgLSBjb3JlIDE2MSAtIEguMjY0L01QRUctNCBBVkMgY29kZWMg\n",
       "LSBDb3B5bGVmdCAyMDAzLTIwMjAgLSBodHRwOi8vd3d3LnZpZGVvbGFuLm9yZy94MjY0Lmh0bWwg\n",
       "LSBvcHRpb25zOiBjYWJhYz0xIHJlZj0zIGRlYmxvY2s9MTowOjAgYW5hbHlzZT0weDM6MHgxMTMg\n",
       "bWU9aGV4IHN1Ym1lPTcgcHN5PTEgcHN5X3JkPTEuMDA6MC4wMCBtaXhlZF9yZWY9MSBtZV9yYW5n\n",
       "ZT0xNiBjaHJvbWFfbWU9MSB0cmVsbGlzPTEgOHg4ZGN0PTEgY3FtPTAgZGVhZHpvbmU9MjEsMTEg\n",
       "ZmFzdF9wc2tpcD0xIGNocm9tYV9xcF9vZmZzZXQ9LTIgdGhyZWFkcz02IGxvb2thaGVhZF90aHJl\n",
       "YWRzPTEgc2xpY2VkX3RocmVhZHM9MCBucj0wIGRlY2ltYXRlPTEgaW50ZXJsYWNlZD0wIGJsdXJh\n",
       "eV9jb21wYXQ9MCBjb25zdHJhaW5lZF9pbnRyYT0wIGJmcmFtZXM9MyBiX3B5cmFtaWQ9MiBiX2Fk\n",
       "YXB0PTEgYl9iaWFzPTAgZGlyZWN0PTEgd2VpZ2h0Yj0xIG9wZW5fZ29wPTAgd2VpZ2h0cD0yIGtl\n",
       "eWludD0yNTAga2V5aW50X21pbj0yNSBzY2VuZWN1dD00MCBpbnRyYV9yZWZyZXNoPTAgcmNfbG9v\n",
       "a2FoZWFkPTQwIHJjPWNyZiBtYnRyZWU9MSBjcmY9MjMuMCBxY29tcD0wLjYwIHFwbWluPTAgcXBt\n",
       "YXg9NjkgcXBzdGVwPTQgaXBfcmF0aW89MS40MCBhcT0xOjEuMDAAgAAACvtliIQAM//+9uy+BTX9\n",
       "n9CXESzF2kpwPiqkgIB3NMAAAAMAAHgdKF7oOEqr0MAAG4Yk+GkP/xASuT2cLvrqGvxzKpq5L3wz\n",
       "qVrgRIZjr7IrpQ7VVV0y+zEVD6ustSwphHITuLtAc9qmVhjhgAX6fPVAFRF+M5Hx0I6K3O79HXzG\n",
       "u6wyDGxPSczNNiAUuGnNk6pVlSPaWE8Ol5BT0Vxp6XmDU0dpDZ7VsF23DIsx+2iMUGdpX5eBVAcw\n",
       "kaf/U74VD8WGzkMbW7zdFaQxE5yJ23nXS5Q44LOOWEWgYf6mliPXsPa2te0IXrKNm+werJll/fLe\n",
       "hKeHMoTGpsZfpi+328SWJiDOwlHAoJ9ma5jIYmyyVwhWps737iw8acylDAMXLvyq2/IFSHibAR5n\n",
       "A9eUnL+9kziaqfoVEhbB+cP4pXc5dsal8DEw4TKyumW+0MVszjEJIiO+enzgslO4KDTdTHe/CTZa\n",
       "9niJPFIJ7+yM3MwCHxs6Q/z+BXAv/1STt9kARrFjhIg8Jk8IuChr2CpV4gT0+y23hqOiGEZlJAAj\n",
       "aTnrZrjJPsobxHNng1ek2Z/nk/1JYCMCErb1KGBT6XkeCdQKGZQPZniv1axMoUNDTBTwDtNzMs36\n",
       "Z84rrFjQ6bKKqbtVyTdF+F2ffhADiePrsPt7W0mlh4mm2QeMGPiCScUg+ReoBhn3DZsDYRivU87i\n",
       "KTlAD7bBZDEJ/kgQSDAUKyHBOd5AAe6rgmky/Zn2/RrODPZo/8z7AU5RmfiF9zg7mT+J0Ry9O5x+\n",
       "ZjBf8Yr/dX9Cq9pQOQg54Bcm/BFNzsNHohijF9wE6OhFsyOaiGNA1UhyctpDsaHLjV7PBPgP3Bwn\n",
       "uSQdk9VeYBN04fkoQOA+oCcTOAt2ImM/xbdu9lz3hdW+28ry81uP7bk84QdQScaYEyPMHACTmQqm\n",
       "m0mIsRtVPYM+r/wvEdVAwP6QYwmn82BFeEnsRWEg4Qjvt1kvhvkxRxyjhFybMJQxTTFVbaHMjlI6\n",
       "E7AULJiSUmAZQVeUBBIMfIAFi3Q/IaBfy/Oc49DB8OyxHxpsd1979+ZHinF0KXjwjdvd9nPDLrx2\n",
       "qVa0siPp8WfsQ1X1U0pO8g83Y9D9CdoQykCO/9mKrBtCWmyqpvmJaBK+0AS3I2mEZeUkSeuCuB/O\n",
       "/4WPC8H+yKjQ6I991VgWkJcJIA2P0TU/kbGOV0XMjYNYz9xzm2xOe08XAag3i1/TU+nlZQpPzoYm\n",
       "DzStnytnieh5qvNAgsHBzdqTHuXjKnsHtzoWI/pR8wHpngyMFii2hCnq2oSGMARQ90iXG2B7kpS9\n",
       "HCgg9VitPupqEz5UMJfsQAarqFwSFbt90yLUHd2VNfnzU+xBlyuGiErBQRcWF2w8X1N7FEctD8C0\n",
       "J1oEs0Y0YdY1g7J9WKpk7sSMa/C368QMq8B967aPiOA+r3YnGiBU5tQaygoyqywRJwIqoX1O0+CE\n",
       "jQr2liAg8sJezgv0rXQ4O8+OaR83IYXJvGUUxjDzkxGqy4oAKxWfwWtB1GA83gFHmfNgZTvqwVXl\n",
       "RQHbW7caWiK2COILNiYjpAfE0mP2VMQiJBhKc04KWyV9YuvLZgySTz1qXAdy7Daa5F31/2kgI567\n",
       "Jndu/Xt/wrP7ba/fdoPxh27NshGUQuv1OTfu/naXgOe6oQSYJIC7d7AgyXa77gBujyH4IbWHLFGy\n",
       "YH0JCfTpx4D+1DL7ZqyYMg5pp8pw6kzFLTYErA7765ep6IiYnxbuSetEZ/M4NphpHk+0vLsdlcIs\n",
       "tUBrCbQszm+KEBSG/6yP/5xjRiYJChTiyJBR/Qe8URweaL+tOtli030NZa9CYZTiZ9JYpbHaJyA0\n",
       "oM/PoTe/nt8ZJ0HS/HFAmF6qivy9LwO3lVqwC3WOU6MGE8hb6mhjXQhpCUlm5tvZZnPEDgn/kVlG\n",
       "aWs+8eqZbLqLwaJhz58ag1Hr+lwsLryDR9jWSJSrDdS125GlzWSbbuylG0zUl0BQi8qmsm3rOTLU\n",
       "SGRMZsGArq++B2KaO+iva8nUAL5mhDAH2DGp0l5TSENoPzddbW+SbqC7AxHuboCo39L5CYMyJRR3\n",
       "xyYQcr3oQkuSagA3KvftnuiIOxnXpy8qXwQ326JG6DC4H65s1H9T55YM9cr+bEXtKpeP+pvxkPsc\n",
       "G1MjrZXkbnXSpABX1HUPC5jtz/m8V/ahv/3XRxz75DegHtm6+kIlzYWv7jJUBBdPZGaAQTSYmEHR\n",
       "1Gy9kglJNRBL9oKTRlOLROpURKEL2YCvN7FqkqZE26QUx3QdCkg9JL/Xfg1QOiqFDbD8FNnAlk16\n",
       "1TzjYRxLoPa3qoqCYQg0LrK1EIEWsN7i8PZzMvzVskasCgmD5yngUckBc6YCojezoq6QE6Bp6g24\n",
       "q5UvtgkGqMMZ+Hn1LHo9aM+8HxtUD4ZsC0cKH0NBt4HOLXYaFJDxillYLYDuL6e9YKOR1KCCtEfT\n",
       "/Vdkbl2ktG3vZJtNRYhJsLg/gOYUvm3u/V8in3Kp6TtxHRJTB6sf8GTXoFrslLv2TiBNr6sDjKY9\n",
       "tea7CsZhlRpVpdDRvRSJd7Kf7Ok2OpU/HY/FjdlbNc323V3lfsCP/V5Hl8eAJcnmzBeckWfMlZMX\n",
       "HqsxmnoElJSNQwdsBJp8v8D+0E+g0wDW0Gj43MCp1w9pRC9+nVSCYZFNqUgl+bGZMzWH3bvn7s0X\n",
       "5HJUun08bxZQ+InlvitcYk3r+olWdwtkAL5Oy8affNHzBqeRqgydX5DyZPJbz1Tm7oVwRCxz2xEm\n",
       "WIBzAG+7vWe1dPxYgIX3GrwVxYeV5hTHxbgFL2gg5DTyuvtUvwKUclJ3LBxBVUSfHUwoDEuiaBZs\n",
       "7U5+0oAf7iVD6luQ14VEX/XDFGdaZI6u+ZbUGlIU5VKgv8czO+/tXZ+XVNyatu75IJdPjrR/Q3aq\n",
       "1v1EU6BNyerzlKPxH0Xo05503UGxTeN3OOxNjIOWHMOr1liSDmdZtp1S9Aqj5SATE2PNVSwy+Mit\n",
       "VldoBUzbX0hahZuGgy+/mn+pXVPBAOv00zqr2B4G2QVLQ4WVWvRdayjneWjgkDRpKlq5gfT4780Y\n",
       "cBlDD3/OUzfo9mpkWWcpNHg91OhBAq/+dRjn+zBzoXTNjASQwcxI42qzqCoRG33sOpnBcuP4zI/e\n",
       "tiEet86mc1c4vRaWLjZ6gXaNkRMjxZzSkWdqLPrFR8dplx4nb1Pi9IkKLBK577Eo4SOqjPGnRG2b\n",
       "bbQZxGHbY2eg3ZRXgza69cRP8JhQzhpNMxS+ZMdOOH7K892SnczPL+Jo5R8BS3rD19fiWq8qnPA/\n",
       "Buob0HOPlKXmnoG0asS5UXiCaCEp4J3YfuaL2dDzkJsREP29S+k+gif+k0Ht9KFliW9umc6dvk9C\n",
       "4e26RPnJxFMbCzUdnNygjyp0jWEGyHiWpDhHlnWGSrtT/5T3Z4V0MBH4CHUeINRorB0aVmcMvMll\n",
       "HZMF9vWJjnPvZZAVM50b4aOPl88yti4hLcVpKLuCZeu8fp79hiNxmXVK2riJ7ot1Gv0otqwYahZh\n",
       "jYSAFazRzqq/Be3MuBL5xSUEAANi18xANzUFW8v4tu/A3se3kZ4EoLSczIMqDa5nX4Qr1tgzbryk\n",
       "nim3lyAYRBJHkT5K+uWZiA2MkGWUO7JlBQZf69SwjQWH/otRtFi1zQjo4XBQGedyKDTT/CACWLqV\n",
       "wZNqeCKbYCIzr2CorY08hFdOt4cnspFzTuorho/f3gSioFl1D82BDF28+jLJhmFvKJkigtD9gAEq\n",
       "chkwgiEAAAQLQZoibEL//oywBpDLQJDkFNanOMzo1VPXVqD/wsyByQlQTwNldOLZw2gLdsWmhn4K\n",
       "Dn4DI6Mjn1xufiIr2ksuPZnah/wW3m431p3jteU1eut4/ZATQF3HqRiK6bM5POiBwOHPfDbYWULc\n",
       "CU2mrWIdS/lZWphUoiOhGhsfHJzRmdwKPURAR7t0qHIN4NXlRRNmcbDXjel1vRMzBhHtsJU8OkAv\n",
       "4y56JL6QluEvjIYXrVW0eRAa2T5zGX8yB0YYhkfR1+5jYxXPuV+fxsuHukLWAEFOYUZ7Aw7+WMMG\n",
       "9Iq8kG9dU+AYnk8edGxNlKlA5QrHVYOLwcl71FK50UW2EMt4HZL+dFbauI25jGC63e+P2QfTHobw\n",
       "rvJO/aYtZ7K1w1IAcLa3o+6Wjzh8fAfFRbJ3LlXvjHWNtSyPjzaExPIVir2TRENzrM0xiJM34Pz+\n",
       "UOuyY+NX75KDoVPqWIV4+Y0jRWZEm1agSVNvqqlKb9LSmm/0MaQDFwJsasCLn72LO3GvFs4YljGD\n",
       "xiOJUQZoIhn0HjYZxD6ruaouubI2yBDcGfxM44SuKjo1GNSEubMExmpC7wI3WV5GLo7ar8gS1ziL\n",
       "CAygK2PZGZrs+QVBkgY/IFQN3xg41uK0m4CH5f3XTVOYnokpI3+QEspPuuiZb8aoK/j9kw0jAJKG\n",
       "PRxdna0NFLV4Pnte/B1TqrBB262yBzSbaqIz8ng/w7cVvGVvkMV4AMs2iZTdjpmozlf547sP9AON\n",
       "65XI/0zUU9/P3oOBt5i0qPHrP8r8jO7vv9ATl6U/b04+Z5p9+npx1DMD6YvCXTgbigjuNlDreRDc\n",
       "4OivrGoLcxhitY+X1wNL4xf1UwOMS3ulOcmOgKBqZSTmDTpx/XV/6WJ28kTxfsWsCpQ9OXNT5o84\n",
       "PtVQ3gj3arWkmLGzqirjdzXSdqG+HE5OlBRM1xnJ6hJSBA3W2beJB0L5WxMp6MG/zGgkdcHSF1YH\n",
       "KMKSRCmju77MhlactcomfsLWWQgjiXqKUKHiw7veOWKQhWn9QPkyuIV75w7127mS3V6LF3uIuRC9\n",
       "VsFuXKsKcMYZacpT7OH+Ot+NoMRT1rj+pj9gjqVqheLPqPOcs9vWraPm3BP4aggoxketGmL54PEd\n",
       "iu+hM0DpKUbKXTm90+XQp+3wlnw3QAuw2/c9WT7ZUkBNpXbC9XUveQ1DHIXNQYZTny9g5ygAr/fF\n",
       "QEfLFsSK3upazEb1fK4nho4bMnEYikr1WLwdYdz3Khc6rAcBMVzLtz6CfgC8B1cQPd6nwzxSSKPj\n",
       "/+rFz5RqBD9J/tbaBKm/V6SQyPII1r6dTm7xtZcYEwXdWKXGAzbsVrcMguEcJP75WOnsFhVdYMQj\n",
       "O5soom4QKqv1wiyftsXa4AKGAAAAowGeQXkJ/wBxQaNWrt79tMK/2ybEKj47XURAQfZQCIg285yC\n",
       "in1NTeQo3bTBu5QyxX4aSrZDBx703jo++7nP7HQhRKeOnPnk0qY9bzxCIholjGi1GjGnpTLBIf0r\n",
       "2aKv4yD6SW3kXcH5SHbYseT5loWEAEQduEYiSKAX4rwmsB0bfCtsjT23v/lvWfnqMyPhIVIr0rWk\n",
       "ANM6EMAjXn8I4YB5ae0AAAIrQZpDPCGTKYQz//6eEAGRFf7sGpDABCOh5iWokIgAemmPoZOhpkb2\n",
       "1/erdF4m5AafudmHZ70c0VPGNAgOoiCV2IEFJCRbod2GsbE+uVBnteNzSTBPcOw/dpcp6HsuWmL8\n",
       "N3eibudvkwMaGfkvFDflu8z0+SAqTVCBnJC6trgztc4oJ0ViuYk0ekiIHAqBy8OaYkL2N5M/OD/m\n",
       "kQsSBIzudXgkNzFRbA/PY7oAYoG4Fq+zuU+Qrc89jcPiQ75Kjse8WxESmrKFcLOhuw2DCUqgw46y\n",
       "AqRbGFK4fnT8I72OWAAYCATflXiARWouymO+26bBBZJUtVnKWabed2GGz05uQggmMdLC7aowJewk\n",
       "C7DRqINtKlQs5rqxM+sj/tsSYbhyi41ZuJCOviSc/PNzxPY8Px8ocQUNcnACXQsDfFaPgFJvTql2\n",
       "2uzIiY/G7cL73h8Ez8maf0dEGUUC2Z1qtTjQ0Aoc0ZAd8c2jxrdA3YwdiK9vYmJNuKRFReJyjgnn\n",
       "f9CoX7aI06VczvLr98GPEUiONAPQqkkhTpmLuFgP3hpJE2izop1mPyGjSxcVpiOqVYeXSTgWF9BW\n",
       "4fqr7FQ2gzuR57gaa7veuozWuRJ59R+E5y+P+lwSOQpXX1B0W6Oxj+FJ31LXt0AKYnc4JXjKsFQD\n",
       "8So+ho6BniCRZzGlEgwfMUrQ8ccBHA7PACzM6h0/VIdJujqHwEd4cYN1lCdkbiLkKpKC2zh+HCLf\n",
       "UBdwAAACg0GaZEnhDyZTAhn//p4QAZMSpY2QwAgTjtXYP3hd2gd1xaWw6/4MlCwCGsg0dyD/dvon\n",
       "IMlEZsfjzoOoI5wO890UgzjeVAj3fEIc6frhFqKFfhxTSVUMomg7u1GOpJPW7us6rFcfDH3L0z1T\n",
       "XpWBkq30DAxIk2DMqasbabTOoGdAHD6byuXY3EciJh0qB+Qkq4YqsWab4qLjteFq99V7j3tB69hZ\n",
       "p/jiC3u9G6xViFpWCYuxH5eECCDE4pwVauRjAv1UbqSPrm4+aXnAN55E7FwFjibmSSJspwuqYEsq\n",
       "cIKijVa2iQcrwd4+eVSfAIs6fFBdFt7Eiu5QiN36qOz6c0i5m7G8N20ypzDiDhpX89QxkCeCYq8C\n",
       "wMl1Yz9koH+OKvp6fmfDmNDNCyNVrf3W0w8eVIsuOFXB2JknEjKyyQAGK1v3PH9Agyw7nrAd7ksX\n",
       "JA4kXfoMfsYs8987N5d4KqG8YjjqAGCzUL6zaUj85mfU16DW5OPB6b7bXXo6f+W845Hb4tdwG076\n",
       "wSApZAPseAixMcBFV7XGkiGSMaZFOSCMZuJxtKz7UGuoWDflB8FlxQ++bUETbNTdDjuuFSMD0bDF\n",
       "WAXohW6DvZ7uhd9icsurkTbfXjrDO9OiY9E5DOzBG3SxRpKHkyZN6TI/M0LZsQfAGQS7r224UXAF\n",
       "v9tr9oFt8wnlEJ/7sK7T4bzJgkb2BognSAkOTdClDtpW0DSM+o44mS16L7/DiU+iOLylVG59B46x\n",
       "ZlEAuFqOEP6xA6bTOsD5TUUFAuKltO2dzMkQrGq+KlLUaCprSWA60tP7ZL7B1Z7d0N/an31rlbKw\n",
       "o5immENfteohsvtTGpTmpCcXCdz38XEAAAKLQZqFSeEPJlMCGf/+nhAGdqnGACWEgghPZs2z7HgF\n",
       "2w+qQLOADTXkM0kCUXvpEJioYIU80xJuYK7+TGL7oi4EF3mtpswd+UyMHqA+E+cS9RvctL9TNfI1\n",
       "3KFYZKOJa1BZVeFUPRntSqSXEVNo/65Mhmghlf8q40zhNsE41aFwPSMytWtsX871VqjiVIOphkHd\n",
       "9Qzps2IU49+HS2VM93q/IeH1AaJKHZFjKoM81YhvAZqsZtnWhd1SdjscwPo3lhHYJeA3PTyvP+Bu\n",
       "CL7ks6QYEUXeWXTQU5fhDnT4aaG2DP1VbWs/9R8E9fTyafgmOJj/LkSsX9acsvagyJ1LjoT18Z9h\n",
       "0AcKiUyUv04VJm4koXjdonKoNUFsXxIqkZ0PNfiyihElxER/Kci1yKfK1scK7LR2N2vYKY4RTWMH\n",
       "oWZRlVgfJI7K2mipK3BgwBJoFsqMa5ZoVJVc4k3b7YoMxC0xbXpRddLnYvyYoM9Ck39fMQ5SFoCJ\n",
       "OMabV40goyHflzZEIWPyM0hKweNL9y4/+SatHxC3x7Tis5F1RqFk1vxAftXQZgDW+EwVLcyvoaCx\n",
       "o/clx/iH5kN6OilwcW3g78arspePcInFzYYgedd422LUDtfh6Zul/qHm81TITBlGNA5wVQ3vjU8k\n",
       "LwPU3aAf4M3Wn3JXynFK4s7Yx2yNIMxBdKDGrfe3S5NdslFk3b0WLit8L6eFnJ3fBtRzxjA+/RRJ\n",
       "EehZoegXbUOaoBSn0QR3u19KWYCNhv/04h7CaKOMImI2emhhUl//g/qSECOOqGZ0nEucMYQVXaVg\n",
       "HjoAHuLHoo7cBA2vx9Juls/RNNbYwWdnZ0MmMZE42w6S5+mzhutY1cg7enYsJAAEuebNAAACO0Ga\n",
       "qEnhDyZTAhf//oywAZbU9ybDqi4ArVE2HFmGVRDN9mSCrU7cjQ/HQWhaY7R9Sfds/aJ87saVKoaG\n",
       "OIznvq43NI3N3VL4Vqft7mf0Xk7DHp7ziM5eSBGCFKnRUIPgHT5BfarlPUVRG06YeoEKDPnqklZ8\n",
       "0gcvKHDUzk9Zh/eWLpmcHwx6PdeiBFzApv0KbBOpUq4Gyny2AABBkusYRNmIaZGBvsnLsfkEzMM6\n",
       "UcMKXyABHHeXtW8PgcTYeycdMp2E02k3FOth5jKk+I1ShnvmJj2JYr77jGrO5b5GFa5qzrzJYbzm\n",
       "oumEIM/4fRUKPkhD+ZgsXEDwOsXX4x1PKDnFsuh0OTzBjrMoJoRBRoG4zKYia11GO07NzLhLTTwx\n",
       "NltPLo06jfPZEJUJOdCHMeI8r6KRmKrentFNFoI2aaIpP+jtfQvxqoZyfBXpbuKTr5oe8gtx+Jus\n",
       "Pi8qGQ0QsJsHEViwpzY+h5Yhn9EHwlGOCAI5yFSqq+bkaCkUtT84ZLtQHGTcon/TWN0gc0tn88F/\n",
       "1I0tvRtEfx9yFrPwP1J5ixu6ePAeW/YIeHr3fS9LHwwG2cHDf3bhBZqnIc7JT10mzvPC79iJi6Zn\n",
       "vkegIlQeWbrwU5u2DxaMgF341cH+0oqqfF50pOC+hkE3HKF+x5KsJIMWWMyLyKq9G7VT93+fhS3f\n",
       "k6crNhlAmMWqQkG4rdguPcGQo1ueDw1L7cJFizL5+3qd1UamUvGsTVWKOOrrqb46wJMuKlI7lBEA\n",
       "AAKCQZ7GRRE8K/8AU0Skoc6NBFIgqgAhYNlgxHopdGp9qHWgHAhDcKZi9G/s8L2v+tnpkgwh2acK\n",
       "9RDT6VHHNoGtSMjUNVZtjhkTDrP5gCgJnXT4diNxnlGgusulNs2uSbYfbhvZEJKevUpuzSo0u0FO\n",
       "7WXwPSj1BAz9yL1G/J+qqKmVvptAbp3ej0NJeWHniJJ4pP1jyfRxQAh3JSm2ey5sU0gM5jltmnh8\n",
       "0vA7d63aUcKgTXzdsxlxIwVst9fcO1yqnLD5uKsIBmwVog0FIBuBbN3j2wSQtBhAo/YPojy9ugik\n",
       "/g1ugz6CoPjKtUmbTzXLYZ4beHcV3wcmJUEqTxKFN8HigRQFQVFfe2HgvO02thOvysBah8dWqLUa\n",
       "LjIhRFlMe+KbrbHJ+JfrELRt77fFDbawieALRj2VVlOvWWuj2HNP5M3aib/l0z9P7wBoI4u5NB9R\n",
       "ZEe+ur8R5aj9azX/62Hxn4ZQ3hNmX0/4AlExu3pF4YderKYZjy5IrIJHIfbE3MSc1FIxNkMtg5K7\n",
       "4mYkGBe60b1ul8LHFe3ZANSrPfFqKIGfWNTl/sLgaZjqOld1sWzRhI6v8ef3IM8WcpYaBh+kNON4\n",
       "10Hwm6P3WPqVHAW1YxUjnSEXq0Igpu9FUOdQN/uyBUgorWKcOWCpO0OksZ0MiAeTzZbJH09ym8MR\n",
       "Lx9PoeiqYcRWsR1vZg49vf16HzKMPthVTIS0OJjT5sjMOugs49FOF5WRkLDy8nogOP4sNZHEvZrx\n",
       "FcphH+elHm2ZwSfhEIj/bbM36TiWpimisQtnJzWhxw+uiDn3JsadAZThD2Zf7oTazjrn6yiyYy7N\n",
       "MsDX3C4FNahFNZ2sALP+rK9jAAABswGe52pCfwBrIZeAAA+iTIVKH8lSRDAAO+D5LxeMMNSPIqfI\n",
       "1iWCbmjLmFCBN/SNFj3VC/XMVQhknKJrqaoI5hAN/93axKpS2jZ26XZCno+W9Je97hWUWQ2xb/PJ\n",
       "N5W8JW3bI3M3mF9fdY/JF2oapG/2Nw3aiiQQB5AGlQGwgAw0S+xFDuqi0Dssd6vXMBQjuyttwRdb\n",
       "0l29GCaE8BxvgjE0s+gwpL1pbuN4xBpAmwGpeJv2ysaqVq4faOo72StK+lRf7kPF4vNdyHYF7qFq\n",
       "3xAWGkXiw5UVApd7aqjbS80Pr1AyRIH2ExF58msMDbsnam9FfVpAzEOHdGmAO7m3BwyYPU6DjQMK\n",
       "rBLgULfXY3Y+0kZ2nqX0XJUC9/0OLCdid/E+tFuNjiZPbLw73saHb/G9B/E8ChhpEKkN/C9yveXH\n",
       "eg7pY2vEj6yLGFWTLBSeWZCYjEoolFt+Vj5uAVMLx48Vi1ilha0Mx6tVeP5vQ0v75r2QJ6FkLbWb\n",
       "MTorpQchjSR2xtdem4YUiHM/3bfGdJn7Gxl4ZN/8llOHG0sOyXGudswRho3rdOr1oRuNvjyAktML\n",
       "aAAAAaBBmulJqEFomUwIX//+jLABlBALJBDRU5CeADmqCRyWqjqrJ3rSqKfFAjt4BS9Ut3frIwv2\n",
       "aZ9CnRtLYNV6gYU7iehOcxXk2j3fUx5T77iWduSNZO7R5Ab0Asci8u51LRJremcPYaYD15UEsPDP\n",
       "YKedABWNDHiRu/9jFVZaXExjtUEuq2ID5jFNupmaQaQapdFceShA2IAq21hWXfPRcoQDSDJYDhN0\n",
       "BETGvva+Wczgtwl1Ex+vO9nFVkiZXZMhH9CgJii3SRKCkxVtEulGXspd9QlsZIBBjnJta37vf+ND\n",
       "IvU+vhZ5ZpfDBK+3FFOvSQ51x6eWKnH94VETtVVyGdy0Ad2L5NxIJ1NCfvT5Z+a990ig7jjzZtWJ\n",
       "d7gR3OeAJFB7w3skOazz3X950E3i56DjTYk1Yuc1nVxyYVx7RhhLmBFBVZgb3gZSPDp5x+zco1Yk\n",
       "PXBhO2Yo5rMAVDdoefg31iV9uql1f8gLTSHYvHIZv91o6NsPC9GK/H800On/M9uFOmVe7NXHMFBE\n",
       "QEaUQs+xZ0MmzS6jhHNauHMOn51xwAAAAf1BmwpJ4QpSZTAhn/6eEALB7Lg42WvN2toShVAkX4cR\n",
       "D3ubQW7yohhPrHJ2D4GLDuM5rgaAdAeq43JR5SIH1S8iUiIPuejeQ8mn2ZcPxEXK0qqjP1gGup+K\n",
       "Mb3EebEE/jcoPug23+rOtgiHLV2J14xJmeRwYww/FBw5HKuTn3n5C/oxJDBhmNjstdwg6DkgkSaB\n",
       "TMpdcPIdFvXoloU50uHypYSf54137XCpD68jZr5Ro423OfWDEdlc24+iNrtx5/WvFcg+5qyEqvdb\n",
       "Ou4ErulddzhhrdO76REV59RqSRqQNQ/TTb1HxiAss9poNHoV3KqZgeCK3JnQkEj4BfPfe1RGS8nL\n",
       "LSDs8VTn3n7bhFvXHIhHM/1BLNFGv50b0qNPKouyT57FKKS9LtBtqYM4/z4WkrJPX1YADaNgnQK6\n",
       "PNhG0mn41xJiPWhkzbXrSt802T5ycuirHED80OfZSx6bvz19k7+2lbkOVkdTgCYatLdWDWSsewnY\n",
       "y21HRb4hfpbq72KVDAVAmzkTM4cKm6suEa+qcaGVgie0n6MoAwaC1ZOwyT8FQ2vi/Wn3qCvwAdu6\n",
       "EbIVHFgdZIlCh+RVV/wJTnNscqJrXvCls5rQG2NVt3VCmGXppIPX9p7jqx+2qFPmnKZ8VcujJGEK\n",
       "3rO4Mg3oE+cGUaQpaKs8AfMBlRRsWQAAActBmytJ4Q6JlMCGf/6eEASQjA4ALqPVcsC/JBP57UfC\n",
       "2ia/4FsjYSc4oDvZNIureLqOqxPB8uGcenfXHMyOesXw+4o6zF/tCIfFh9a/uO033+8pm2ZOgzna\n",
       "2EZMQ7L1BIQoSldAgh1+/O1ueQiYa65TTfypA01C9hFM7SKNaKNqBPPtRcEDz08JagjSM1XgJ55l\n",
       "C2YEJZ4eJb5t+RrV5YAzFFRhIek40z0qp5p+9fcOEW/x9b94MSlK6arOxLIHud3nLFBf3NoaL6T/\n",
       "S6XAZ4kz6PVL13UIbsMYvYyq4lQN26J3tbUHav3+iGykAme6NwzDc5ZLd2EmHixQSmDJ588EYhfZ\n",
       "T8RYMHiIqGmZI0sQFrhF+MKnLNZZ+5KPtFUA8qNepiWJcHv2qhZIS6Cj4gqOmiazFm3JwdH90S78\n",
       "NL/33msWchBDVlPOSESsRfkl/9QI3TXgrZyTaLRcb6N8rnej8ctnQ9ibsGFYJo+cGVhYNjVZWuME\n",
       "xJ2RH0LvzCMHTx7pxmoUOFpl3qR6UEpKRnJsFOcULg/+Ey9IGxDNcSXjhUVT3DH133pCnW3jdiJd\n",
       "ndz01MG6wkpoFz6ICEHjwEbQvvOjRDjr9jzstYAAAAFpQZtMSeEPJlMCGf/+nhAE1/zhQP96IrTT\n",
       "0EV5GmoMskRQxsCuUIDMzILi2GcoEYkOYZPMzMO+UUYgV/exy+s7+23JF73Bbht0TJLqtPswcx/5\n",
       "5cKSURwBJ6G2Rl3tdIrFu1yCJFq9FqeQScvm5LoWFbTJBz+aEvV9jFlKGNyu71RYoLk0YuB6ot7U\n",
       "N93AnON0XRszJEpNJ/oWW8qcdRmZUeTmABb/+n1u26zuEdj0gqPFGDAPcx5hAiOoXCRjRGKq7dLr\n",
       "THM4hhr5JdM2nB9VE37HES6HDyUw+ndhysA9XaFwEG3Nr8SW9igRRrYFqFj6jkEe4GvFD9PEGuna\n",
       "K33E5uJ9t6qeIEFduSbUwoqYGqVkYogigIoPQjPadmPh01OFMXY1g1osFkrLGSBUkEf+FJeyZEHC\n",
       "YEbCi3wV9QUYf+85me73lbdlZ8Ybeu0GrpUjJBf220NCzkZ1oXW6Wsy8Xc5Al4m3Wib3XwAAAGVB\n",
       "m25J4Q8mUwURPDP//p4QDX8WLrAetwW4z6pRng3b9B/AAJeEQBkHrS/DUn14WEm1w2XMqxAC9kpg\n",
       "ksMmQsMRQEzcwd2I0M3QG1zrElVxQVVPNfGg2v2Pz334gHkaF994W/YOgQAAAHgBn41qQn8CWizk\n",
       "cjMxK8oxdMbIdb99U+3FW8ADT+WHXANLNjl6upASw6BeW78/kwd/TWqcA1X/WMDDArxY+ILh4T4m\n",
       "4jqUFvEn85/4eS/eWx/0VvbiScT8Rao6PXeRm+MRSbaOoESn/3eT/DI7qGYHPhzWlnxMCoEAAACO\n",
       "QZuPSeEPJlMCGf/+nhAEsVDVS/FMB7tyx7ImS9MR9dwAEoLjIzFEe6AWVXGyk7MStYZJU9/9SNY0\n",
       "KK2HrOr7QBHYxGFSPt5bfXQuhCnplSud7SM2kTZoXvECoUZAXrOGB9T2piK0OTqtbe3oi2YiMf/2\n",
       "qnOeHk2m0BGkyDpMcJLEGHNdDMhvE7litbvq1QAAAPpBm7BJ4Q8mUwIZ//6eEA1/Fi6VtNORTrTT\n",
       "4nMa7BAC1xU9vIILlGUimTJJf/5R4l5mwMpyCKWKMmh7bk4bGhHRd++BUSaeALAfE9tYQVnET3oE\n",
       "9+t47ZHLBIpDnmV2Yz30SKhSVBmsHUbSYUdpUaacJ5iKGw5a3kjtckaSfHn/JDLi82P0e1Uz36bg\n",
       "Z1Y3aOojTABTPKmA3cfzq4xwyY4zHDqVb97SmAtIgyITOMuU+KOdd3nOJG8eqJF6ZTe3gWtaw9gA\n",
       "bS+O0ygvNg9VwGgdSNyXiz4YcJtmUDGLJs5iCgkbwFCnzDVBgUipeuSsFhCJBHIoDF2J8NygAAAB\n",
       "UUGb0knhDyZTBRE8M//+nhAENYNdU8ALH1DevKRpsPfRjfNoq+UcBAxyVQN1FAAJig1h///ay8Bj\n",
       "y5NW3sFRBg6d0pEQFeqS0CpokXJM7yyINlYlgB/EHwU94TXjxAkx0zUQFKXxxPlC9dXh54XyIz53\n",
       "67jIiFrmO9ghHF08IQsudMhzKuQcy4PAIKJeTgoUtXyaHhXw0onpRqxhO8dd1umLsBlk/FJ/xGp3\n",
       "IzTaVv/IwCAGc7fqU/gQnYbwwJc5Jwn5M1P38uEAf/qyENepIYU4W6+Up4erQRMM3qLOHhPhyPj6\n",
       "RqEheT/uaY3lqc+xMiPuwTCPc737D1MPsiyc0hY1BQm8t6nvsflL6OfzrocvDJFuKwld+NsLZsPG\n",
       "JHdkRZQDovLRkcabIUPnYIQfb+e/b8ZWwgQVFeZ8oKG/i980jKuzMHmgQaqZYCTBW5XzgyoAAAC6\n",
       "AZ/xakJ/ASWK/W/BOyILXPT3WtU2ogTEteqBh1XFMwH1KM54ax7b5gLZ8jNaCR674TYbIo48Nuq/\n",
       "wD/oxH7ugg5vs+XtPHSqJN6nn+cDVeNQ5MzrSEssF7zNQ3r/QwyefJIM4YSTBE+gDGFXSfHV1s9l\n",
       "R/vf6n2Xm2TMlShGVNQVL6DF0akENQeHOk8qyyiGpOANA/7mz4+WiyjfHg+OF1Tw/E0Y+yvijLvp\n",
       "Me5yah4GpVf++7gWxjuBAAABA0Gb80nhDyZTAhn//p4QAtfMulTFjWAhk+rq8S/mpkxYFpxJUMeP\n",
       "RACf3Dtp3VI+xpmafXO35CRSGFMHpvzQAvxOAR5Zewz6iKsactRWge6P26b4elVZpPt0HbGJDnHy\n",
       "dNS18M/DHYZ7INyg5/5QtLEz8o57FM8A6QsL041ciE9XZpIS+uMpir0dLO+F79o/gKgLFxvflgVH\n",
       "nx9KtDhH+8jtwgw1U3dyOrwzXEfQ1zJSIE/RTckoZTqQIIurzGEHI5dbFSWDYf7i/b8X8Uk6ctJo\n",
       "H/jSthWRWgSfwTuDDL1DZ6OEySbLiSKxtsIVNeo8dm2+DYIUKHhwWnTdUjO0eZYAoIAAAAIgQZoV\n",
       "SeEPJlMFETwz//6eEAGSaBlAkcAg8z3lcJEzsd25TJjKCZApZ9Xg9uKotM4R47TJs1pppssjZL3m\n",
       "yWIPeEDbFjDVoQTptBbigbw64iaeRRbu3eksJUUXAvUuWpmy2cYdK4CL4Rl7KJe8aUFbcoExy48/\n",
       "aI9ScBQnVdDLdFu9SD27GnXzkU2wjsLpDCBPTlVJyY9wQ8LyqWAg739XWcJzRND9IaM6kYRNxg4g\n",
       "fYiSDR5GrP8fPq8CwnHf2QVYTsxir/Gqzs7EPu7kQHSG+Ciyqh45ntZBPcgCDd/BYHIfPteNQVxu\n",
       "PPsNBMJgtK8sd71rGF1rQn2b4DeNQVhjgHvsxrzGQBdQXcbQj8TALs1IP9JstvxokxDuLqU6zOAT\n",
       "5UtZnbaSWcU4WfVULNASNiK8Im0+EQB92+yOhNY6Gd3GASYZkHaZVbQVuwAXVuQvM+edHd/0MhMw\n",
       "tnO9q52A51uy06BrQe0ROKjuY0u0NkPEU9IM7tjvdBtvVqblG1dkEASrQI+032MWrufuGC3zC4rs\n",
       "E7Wa0OWqspxLN2SPqALs99ATJ395mqBVTaLGwQCLTTn1w6rVOC03Wz4hjzghc9ROSDpS/7jWzNxg\n",
       "BCoPzQyJbx3w+FVaAbo5tpnmSLPX/AThoukcY3fjeCLLk97GM8l65u6qz+p5x3H0nCEsLFFoiIO7\n",
       "Rmrxay1X0sl0wSA5Tr+JduCjo0SoR579+d7PgAAAAKgBnjRqQn8AaVLQoiJ0x/nSHPTv71rCAD2T\n",
       "v6PLwwTOf26TdpPByATw1Xc7cXJTjl6sUnIchEJRwTHb9vb+sF19Femhctf68YsQIuJSlMnlikkz\n",
       "RB2ke/vXX8NtMRmKGcHGVPXn80s0TENSqodWVFXLXvH69KVn68n7nmWAtwwK8Iz/jDUps6ok3iP2\n",
       "T8yr6dL2519sdYyreg21SDcsvBjIw9fyx5gwcUEAAAFmQZo2SeEPJlMCGf/+nhABkhFey84BqUkj\n",
       "1kVGoK3XDiiLag+4ePSKDI+LhmIyh4b78bz4TQg7dP+w7QxORzlNgkLwMmrT8p53c2vXnV1fVOE5\n",
       "p3ukcLK7zbdY2MWbGaAkyUFpD3kDscJCK/si008minabQmo/Tq+j7mkiopg6o4BWVb0c1Mn5B94y\n",
       "yrzJRYqXSyFByzkmZ96dMMdKrzbyu6toRUpeYDJ688r/FtZRaCNLQrnUIpBjtJaQOrbPF68NuS81\n",
       "AOCN9Kks6ZXv91+di0DpK3WQ/kJ4oeTUcwP+Gde5NPZLwNZ/h+W8MFS/PRKh8mfwGd6ohtLMNj0N\n",
       "d2+zMpq9LbobUA8HdYGD3QyPReuf4Lhp+Qq2Y+cRflFQcSYZFuUvufjQ1kYGv+C0cGIPw2XJtDGW\n",
       "EEmXX1RF8aG1D13vSOUMIio2cUgdTUDQmLgQuq5eP1Sn18nZkaafHsiNCigy6RupgAAAAUFBmlhJ\n",
       "4Q8mUwURPDf//qeEAGcE8QH0AhGfoZGrJnVWaIxo0w7+bh8Q6xsUhnn37ExTd+O0PkBceYyWzF1U\n",
       "i26Zd6Ye9E50NVE0TDXSJm9oJavOyPPInPtfzkiBdQw+5391Yrwo+aXOSKKS0OrnxdHEZHY6rJE1\n",
       "SCbVHOdPBItoFTg2nmDGGgHSKEpshKipeNEi/AQt+2mLt41iq8mmOh8+9FZ1nqoFJfp4DW4Ljiz/\n",
       "MyqNH+wCI9g6zN3+hXd011MhrPIXEe/kUGuvhYOR5KZDBW+YC+h7XKTGGKGWr1Fi3hu4IT2szOoF\n",
       "ZLB8GouDSPvTDWJQiQZfSznSEWX/fCOR72kYirUCknnpcR57Jr+BVm294Cld7Pi3o3/EUVjiwJY6\n",
       "BqHwmH5qVEoaU6C+EIsEJVC+DhXfEAZiw0qH5fw3rpkAAABrAZ53akJ/AGbr3z5WAi/Gkn4ZqNX0\n",
       "AA/xN3DH/TS+MwRLFnZQoPDQv52HwIXeTMH9kPXqGbv/rbcG/MuzbZAeld7lDSlhSQs6HCFbQXGn\n",
       "gBrp6CheQ57gMhxeB3wIcNOQ2q9q8olxec78MucAAABcQZp8SeEPJlMCGf/+nhABc7cRnRuvmYMJ\n",
       "qAufTnH2swoAAIpVw3FiQmSsrE+JYFe2WsAzVzGc08ZehIfYe8YpTExigSJu/bOH3e98LHfgtrfB\n",
       "l002noIC+o91XsAAAAB4QZ6aRRE8K/8AUdTW1TH/vk0H4NkeCimAEs8gXM1HLaFROn9n4F7SOhFa\n",
       "hq8qQfdiU9YFodUdGTy36ExJOPT9b2t1/H28nPMQa+ogGd9hFC/+kLcEGN8sHrGkSKmN16+biOZl\n",
       "uDp3ffBNHmgdTbUqf7h/FCb2Tfm5AAAAUAGeuXRCfwBkeio8y6cdTLds2YPYnqfwgtGqbaed9Nfk\n",
       "+oACDnKIiFGp5vPCL7c9m6L0e1c1h1hOJ91D/0AAMvkbA3/ttnDaLPJSQU+avDcUAAAARAGeu2pC\n",
       "fwBdEN7zd0Bgh/lpXvE69vHP+nCQAai3XQWK+fNJKlvoUytEdcTnSyMAxSp9qV60tMRtx7LG+7X2\n",
       "YnHHNGOLAAAAw0GavUmoQWiZTAhn//6eEAGSE1BhYdC46iP9JuDGdqmADb2EnWH4rLBqrDwX6R39\n",
       "B7f/M/hb0dRvJrGObi4KK1iF9bXIG6Xz3KtOP5LbyiVC+mgqtlgw6dZ+BC5oFnTYOg/qwu74VPes\n",
       "OAL6fag4wOf8xxTohu7lKUd+AcSfwTMSFvJvGZbQM0isG/Wcv3j+zEBESHkAVCGa+T4rVvwzF6Dl\n",
       "CFd0QE7OgxANKNkL9Kp+47ke/H5zztFE8GhMO/jffr1PDwAAALxBmt5J4QpSZTAhn/6eEAGSE3FR\n",
       "gBasHk22TJ54xV+xMuzizaIt32u3MgNeUQ/Oktk7rzfzzNDn4ODCnjIAjvhbfxFEX0wX76gPP6iD\n",
       "KMqwX0Km/ttZ3WizMP1AUklAGAm9Z2h4VWyPdbOiVjjPUbyBaheujdMlXmM+oSxAsB9YnRpeeNZW\n",
       "TA2M0c+FQJVrRl8oXgYbyf1r7bZAfTecstY5H5kILv5z9kNwVCvnpAK7tQq2WeYKhCaTjN3zoAAA\n",
       "AOxBmv9J4Q6JlMCG//6nhABnBS4SUgDxKgCCVj8wFJlmZWoz+H43S20fUmlurFSAgsMS1Xt8AJNV\n",
       "dv5S3tX/puuQTU6t9UiDSzp2DojcGTinVpvpw/E2FIZSX/WUB1ZUmeFOLpbfnFs6TZqxhAY2TWbt\n",
       "qk8HrBGf63RCpn9XAC2/+FMqTjQDc9X7GrT8E3VKLNREn9HLWrXc0wuL6202F/W0KQZVKuHmvP0m\n",
       "bpqgInTEIG+FomMesrZUlimIfPayc4kyFP6ZSqRw4TyS0M3ceEoaR48sC0bb5deIdDHHVMfPQmoy\n",
       "Dz9kGEhzBAtmiAAAAQ9BmwBJ4Q8mUwIb//6nhABnBT8zJAIRn5aYb50jP/7gi9afOFUqmRPhlz1D\n",
       "PPM+srBGNw5qXEizTahNYwr1Ip1/s0N+ymoUpsbxmGXN0ZFsk9VPDLD0cbwNvFknCCbo1qbaiQjB\n",
       "fEHBOC8wNk2yQs+bEUspVdt3bHUUmUFlGSavMkoPHeaVPYNUxLs3ClWLIbc1HVwYUSRbPTVYAve1\n",
       "Hi70+OUkkI3qkSM4NZ9Thqlvh5HP+b+ZzGq63WOSGbEsXRdTIf2lm7REZKGtVDS23a01EE0fycnm\n",
       "oD5YaT8N7ujk7qff1CHPJC8BIQNzWsMqdM+wp4GMWq6t4s8NsHIWbvC2yLDkbcjrqhVhDdbh6rmB\n",
       "AAABg0GbJEnhDyZTAhv//qeEAGcIMxlCEAUA9L2bn1++4DaBszeKgCpEWoeDEvq9N0e8P3dweeCk\n",
       "oWXNTXjp1cs7jufVSlTJipl4Y5wtHQypydRapqvWCxsxvSZKbQXwctHrmwAxxduJBMRkpMcsgNy+\n",
       "KJoZ0XKY6iJimrwJPCK8eLQRGyg6396SY+0rCF1gAw3xJs+h1lwEd6X5bKPkfg4yEcOzrJ9AZ/go\n",
       "jQsZQU8LOZmdWk7vgSjTc5z+XiquN1GnKGDrpPcOUUc/PG8bIgVWvnxeq2yawNF6R6vWGDLMYLY0\n",
       "EuzIEzGNGc7ZWONC5dHCPBmequGq5XB+Z2PHSd7tscUUmM0/BObW3XKj33wWx43Kxy4NOT4HXVXc\n",
       "ur6Zc4Jsifx/o9WmBpw5v7fHjq4j3PGSrAjwq6oRMBGQFTySgvBCbIbmPbmfQ5FwonxcQIyiYTAW\n",
       "oa9a39ognvmNbbNGXBa6E+a2F/wcSqx1TirBkLBdf3QTXXKnuZc4YSR4jwzWd7Nb8AAAALJBn0JF\n",
       "ETwr/wBRx5lYhuoXUXz8iOYcxuj0rFgY1oAVUa0ap/wLpvxWy9nOfsfBNjsdjnPjPCfHfUU5uwNI\n",
       "PAl4AvZ3OFuJOnP/woxtBYvrf7NSP9b0O4RhS1dRMqaA9IYU54dlPI3uPk0YUlJVBhK7t+NAMCVy\n",
       "z9XA+ahEkXqJTlXM36+q7SrIRJcX1RQsfqk8c9bz4D7V/8CGP25+8Gnxnt+ySsavWx6basSSW6Gf\n",
       "hY3JAAAATgGfYXRCfwBkeAKHXNWwu59elt4/YGTzjzOMtsUAA18oyGdfJjJ9lP432iEAjYkjkcYH\n",
       "eJgf27HEUXvMVMLaaZflmCXwXznU7f4Hehu65wAAAE4Bn2NqQn8AX0XLJew2UPy0akuIy1HWoACd\n",
       "I8TvvKjGbjhwqChhYZBB/HKFhGqwzEasrG+jT9c4PcKCmU40HEqiVRCIrBPF3xlaCgkom4EAAADH\n",
       "QZtoSahBaJlMCG///qeEALXzLtSG6QuB0tGRZFKKjnlN0YAQi6DZnBPhtj1lQSoheNW/spTVtkJ1\n",
       "WbDvUySE/Wil4r7DcchzgaeSWngwyIlcCqBeFYMm8aN0N4RfuJL6xuv7mcp/Qz6olG4pWwvRJ2fS\n",
       "+bv0WJxI7s/8/Mddx8qC4RpERPo6AxFZIAfz/3dbDU3GJI7WqRJ6xC/AZN3QKdrXe3bGJ8B+7aQv\n",
       "s3a4eARLK3SUe+IAKfyLbkWLqSkbXMxm2+Jv0QAAAC1Bn4ZFESwr/wBPmicj7AwhlG79pf2DfWqA\n",
       "N+Fg5qJYYLny/G5BzbvwZH8JJmEAAAA/AZ+ldEJ/AF0M21CBXHU/e+TAgAfnrr0H9Z+KFfbmP0oe\n",
       "9pcGgv8qzus4pAz1pk3TpeXuEGY7GMvo2wpEw4otAAAAJgGfp2pCfwBdLKlCPa+usQYQxjluB8S0\n",
       "sIxn/2KbIzhlaVC6JRoCAAAA/0GbrEmoQWyZTAhv//6nhABnBTPILBRUVYKXur2mt/iHoFQAOYC4\n",
       "f2DXMdlLCtugRbpxENK0YNAXsggOIkT+seYR23T+rgt33cVNOM8E6f/7R0ZR/UMeU9rDK0u5c8Bs\n",
       "DIGNyxyFBiQRF7FHn6CJ0yoG/zmPcCnKVLAjhc7mZwFJPp+KJaTGhsw6njV28DmJrVREvod0XtWK\n",
       "3D+G4Kwv0FiKS71050saGMQHlZinaVZBzc/Tdpn6UpZF/2D/nrwzu+slcVTmSMSdC1E8TUZzg8Qx\n",
       "3DoQwyGDio9DWRTvfpN9zSWbAXQe2OUZiSTX1X1uAXPA2vZ8CLiaZgkDMpJjoAAAAFdBn8pFFSwr\n",
       "/wBLfLD+uaSUsQEgn7ODTtYTuAAuU86XPyhhz2WgCZoy/ogJoh/NtGwd6CGJCme8abcg24eNxnE9\n",
       "BvRg8gOGaSfyMzEiiiBRYio6BnbnoaEAAAA7AZ/pdEJ/AFit82FFgCPACaq+NNZe3gsiFSVVUsps\n",
       "0D+EY1Su8kniupHFwAzsdXEF+REsd2NBgRbWUY8AAAAxAZ/rakJ/AF9f90r9pdQc5imQDFFZY5gD\n",
       "rJzGc+svdpPZQqJe6alhdhhgZjbULrI1kAAAAM9Bm+5JqEFsmUwUTDf//qeEAGcFWxCQCYIykuqL\n",
       "3u4dQeaYp+xHnq7Y9+7FNUfoljxdBzNRsWet9dvcdSApw+qkYDMYuCK3Ap6WDHtMnl15sIyJwjnC\n",
       "dahOv0vDw+yqwdl6okOyzp3RFZVl0BSgdL/kMoQ+Oq2lSF+P6vVUQWT5Fa66S47219qpWunXkF7D\n",
       "azvbe6+ijuDYRyKoRGbElfhUvgriqssaunXgcrHMgxmhIeCQiGftOkmtPY/vheHrDd2p4lkEkkZp\n",
       "rTFmwQFhrIEAAAA+AZ4NakJ/AFiREcdqHalGKbp3AP+riYjlLbVYDTInLaJgIogAaq/KoHr5LoDf\n",
       "QSM4GBqmPAvImUHoyC3g+IEAAADPQZoSSeEKUmUwIb/+p4QAZwU3ffQCEZ+RlCCFM1g2xiSMNZLz\n",
       "HTyhbUguImwn/vZ1w4tm3b+PQz3ZHF/JOqtPTXyfzuBbgZQ5N581GJrfooY9Zd3q6pWqUkLbylN8\n",
       "zBq1s+SQTNVDp42qtFaTx90GePZVm+oZfMjAmKCPJ67pvbWIOv6FUPl1+UBhWGzl42w9zwY2PdIa\n",
       "ZixHq7NtxSY1NfhvtPc9Ah8Il+vNbbwIU5WVhNFDJ22B1GTfSN+4dFNJPv8Gf1L1lhVIrFXj0c1P\n",
       "AAAASUGeMEU0TCv/AEddBkRSiM9ypnCfxtwo5Fh/adyxrQIAPYgGItr2cYOF852wNS3pFbZ/2Q/7\n",
       "gLjJzShDonwDkYJSVxsWETkjAUkAAAA4AZ5PdEJ/AF99GIXWG1wAJpCqVwi3uWogzK4bBCXF/S3e\n",
       "NUbjkeFpORbZQoEJowGwF91McHhTE24AAAAhAZ5RakJ/AC/PK9/uFN7xcDC46PG7r2d7TMno/CNs\n",
       "gBjRAAAAJEGaVkmoQWiZTAhv//6nhAAk0/EJIp8LnjZ792jlQmU/JxLidAAAAC5BnnRFESwr/wBH\n",
       "YC6CF1N7QDA/XMu3mgPS96BTv7560+CmCIpu2GxLISEwXATsAAAAGAGek3RCfwAvvoPC2vKZKCbh\n",
       "9XHp8VRhAwAAAA8BnpVqQn8AL88nrpEkScAAAADaQZqaSahBbJlMCG///qeEAGRe1J9ZzcDH+4GC\n",
       "ABym5WG9oM7nOE+0j9sv5C2MszFrMO7dhpuxsMcKvpfQcafrBaFdfrYycYpUFaHcAHzWap7Ng+19\n",
       "kvZB+f0/DhRn3HDwXoxU6mjym2t+McfGobKIOudF6XTJZG1hT+IJPv+ydwgMuYOH4PZLwuKs4Aqx\n",
       "00uj33uIUfPWRqfGqKcAVlHaw1FqO/LuPxlI5lEFRErEHnbmEYd2ZxWhWyFxfoP2fOuvLqEZC5Sz\n",
       "K28qpvJ1eVa0ejechcatyOhO2xEAAAA5QZ64RRUsK/8AP42R0gBreptJcW8KJj5Xh/+jSqZgrsoj\n",
       "7k7FFV5BD+cR2YuUOy5I3VVkrn6iACLhAAAAFAGe13RCfwAvyCgctemE0D/ZeKc4AAAAIQGe2WpC\n",
       "fwBTfru5+WUolO0JYnTkumMds2iV6Yq44LZG3QAAALdBmt5JqEFsmUwIb//+p4QAZwQUAM91AHuu\n",
       "hF6moT45Vz3SdWsDKp3Ql0oarHKoWw8hQxiqZW7lw+kUl6Rx31Wy3BCwWA4I6RQHKjKT6RkrZjgE\n",
       "Wl2u7mx7aPVRNd+DbRM+CfW/md0fqRYOJzy+l6L2SpqxuDQMUg3syeiOhPR/bu7ebI8rA2D3Fb4y\n",
       "pK98C3Z9zNza2QhBgC8Nd/ygaSis/2EbecPcQ9DVt8+gtEEOxFqtnx32m4AAAAAhQZ78RRUsK/8A\n",
       "PNXrBudINO6WQNoGRz5dvzTfFlj82GRBAAAAEwGfG3RCfwBffOKBudmM/GYMNEEAAAAUAZ8dakJ/\n",
       "ADEPAWVvcM8JnGuf9ZwAAAA/QZsCSahBbJlMCG///qeEAFhtSbN2IFhvX9gAJoHNFCazMUXbQZxe\n",
       "DbqImJWcaxKi17PFlm2Im8mWHG9O+OnMAAAAH0GfIEUVLCv/AD4ZgJlXc93Ryp7zrxmEOBiN1AEY\n",
       "PKEAAAASAZ9fdEJ/AFHRnqFLcNLpPTuNAAAAEQGfQWpCfwAvzxlA+LrvCMKhAAAASEGbRkmoQWyZ\n",
       "TAhv//6nhABa2fhoxTHBYZhYsbLtEnT15qgLhXGYxJJLapdJqbweQK+dVNFZ816MCgvQS9pGRvYs\n",
       "dcQFhZytEAAAABlBn2RFFSwr/wA81ere6XiGmxrUmGgDh0HBAAAAEQGfg3RCfwAvvnFA+FqDZIVB\n",
       "AAAAEQGfhWpCfwAvzxlA+LrvCMKhAAAAaUGbikmoQWyZTAhv//6nhABh3zL7m0AVM6518yK19QRA\n",
       "JTOn3ugXUnZ32MlaK+GCaw9Zr7U1RNUPJlM1fD25Mv0mfNhtjr4zexf2ZjgZn3e4I8ENuXPuqGgZ\n",
       "7rbz0pgn4Ouw+/lSPSTYnwAAABVBn6hFFSwr/wAABNgz9k1iElGyiCAAAAAPAZ/HdEJ/AAAGR9Du\n",
       "yotAAAAADQGfyWpCfwAABWbgUMEAAAA/QZvOSahBbJlMCG///qeEAFrX3axsINAKnvB8CaZ3sn4k\n",
       "7wyqg0lAw/7DpTQlWTuPmj3NOl9rQZnyh/xC1fqGAAAAF0Gf7EUVLCv/ADoMpjiDCt8SIzrgzbrA\n",
       "AAAADQGeC3RCfwAABWUZgUEAAAARAZ4NakJ/AEt3AHEF1EWZpUEAAAAdQZoSSahBbJlMCG///qeE\n",
       "AEe+RsS68o0SDeFCE3EAAAAXQZ4wRRUsK/8AOgBscQYXXNFqj0GbdYAAAAARAZ5PdEJ/AEtakoE+\n",
       "CtobSoAAAAANAZ5RakJ/AAAFZuBQwQAAADVBmlZJqEFsmUwIb//+p4QATUnzfpoERFIlAH9fqKVf\n",
       "Eht2mn/gjjasZODOrzN4V/XJYEt3UAAAABNBnnRFFSwr/wAABHVY4u1Y0w6IAAAADQGek3RCfwAA\n",
       "BWUZgUEAAAANAZ6VakJ/AAAFZuBQwAAAACBBmppJqEFsmUwIb//+p4QAVi1hZPK1AIEuXUry1Djh\n",
       "xwAAABNBnrhFFSwr/wAABHVY4u1Y0w6JAAAADQGe13RCfwAABWUZgUAAAAANAZ7ZakJ/AAAFZuBQ\n",
       "wQAAABRBmt5JqEFsmUwIb//+p4QAAAMB3QAAABNBnvxFFSwr/wAABHVY4u1Y0w6JAAAADQGfG3RC\n",
       "fwAABWUZgUEAAAANAZ8dakJ/AAAFZuBQwAAAABRBmwJJqEFsmUwIb//+p4QAAAMB3QAAABNBnyBF\n",
       "FSwr/wAABHVY4u1Y0w6JAAAADQGfX3RCfwAABWUZgUAAAAANAZ9BakJ/AAAFZuBQwQAAABRBm0ZJ\n",
       "qEFsmUwIb//+p4QAAAMB3QAAABNBn2RFFSwr/wAABHVY4u1Y0w6JAAAADQGfg3RCfwAABWUZgUEA\n",
       "AAANAZ+FakJ/AAAFZuBQwQAAABRBm4pJqEFsmUwIb//+p4QAAAMB3QAAABNBn6hFFSwr/wAABHVY\n",
       "4u1Y0w6IAAAADQGfx3RCfwAABWUZgUAAAAANAZ/JakJ/AAAFZuBQwQAAABRBm85JqEFsmUwIb//+\n",
       "p4QAAAMB3QAAABNBn+xFFSwr/wAABHVY4u1Y0w6IAAAADQGeC3RCfwAABWUZgUEAAAANAZ4NakJ/\n",
       "AAAFZuBQwQAAABRBmhJJqEFsmUwIb//+p4QAAAMB3QAAABNBnjBFFSwr/wAABHVY4u1Y0w6IAAAA\n",
       "DQGeT3RCfwAABWUZgUAAAAANAZ5RakJ/AAAFZuBQwQAAABRBmlZJqEFsmUwIb//+p4QAAAMB3QAA\n",
       "ABNBnnRFFSwr/wAABHVY4u1Y0w6IAAAADQGek3RCfwAABWUZgUEAAAANAZ6VakJ/AAAFZuBQwAAA\n",
       "ABRBmppJqEFsmUwIb//+p4QAAAMB3QAAABNBnrhFFSwr/wAABHVY4u1Y0w6JAAAADQGe13RCfwAA\n",
       "BWUZgUAAAAANAZ7ZakJ/AAAFZuBQwQAAABRBmt5JqEFsmUwIb//+p4QAAAMB3QAAABNBnvxFFSwr\n",
       "/wAABHVY4u1Y0w6JAAAADQGfG3RCfwAABWUZgUEAAAANAZ8dakJ/AAAFZuBQwAAAABRBmwJJqEFs\n",
       "mUwIb//+p4QAAAMB3QAAABNBnyBFFSwr/wAABHVY4u1Y0w6JAAAADQGfX3RCfwAABWUZgUAAAAAN\n",
       "AZ9BakJ/AAAFZuBQwQAAABRBm0ZJqEFsmUwIb//+p4QAAAMB3QAAABNBn2RFFSwr/wAABHVY4u1Y\n",
       "0w6JAAAADQGfg3RCfwAABWUZgUEAAAANAZ+FakJ/AAAFZuBQwQAAABRBm4pJqEFsmUwIb//+p4QA\n",
       "AAMB3QAAABNBn6hFFSwr/wAABHVY4u1Y0w6IAAAADQGfx3RCfwAABWUZgUAAAAANAZ/JakJ/AAAF\n",
       "ZuBQwQAAABRBm85JqEFsmUwIb//+p4QAAAMB3QAAABNBn+xFFSwr/wAABHVY4u1Y0w6IAAAADQGe\n",
       "C3RCfwAABWUZgUEAAAANAZ4NakJ/AAAFZuBQwQAAABRBmhJJqEFsmUwIb//+p4QAAAMB3QAAABNB\n",
       "njBFFSwr/wAABHVY4u1Y0w6IAAAADQGeT3RCfwAABWUZgUAAAAANAZ5RakJ/AAAFZuBQwQAAABRB\n",
       "mlZJqEFsmUwIb//+p4QAAAMB3QAAABNBnnRFFSwr/wAABHVY4u1Y0w6IAAAADQGek3RCfwAABWUZ\n",
       "gUEAAAANAZ6VakJ/AAAFZuBQwAAAABRBmppJqEFsmUwIb//+p4QAAAMB3QAAABNBnrhFFSwr/wAA\n",
       "BHVY4u1Y0w6JAAAADQGe13RCfwAABWUZgUAAAAANAZ7ZakJ/AAAFZuBQwQAAABRBmt5JqEFsmUwI\n",
       "b//+p4QAAAMB3QAAABNBnvxFFSwr/wAABHVY4u1Y0w6JAAAADQGfG3RCfwAABWUZgUEAAAANAZ8d\n",
       "akJ/AAAFZuBQwAAAABRBmwJJqEFsmUwIb//+p4QAAAMB3QAAABNBnyBFFSwr/wAABHVY4u1Y0w6J\n",
       "AAAADQGfX3RCfwAABWUZgUAAAAANAZ9BakJ/AAAFZuBQwQAAABRBm0ZJqEFsmUwIb//+p4QAAAMB\n",
       "3QAAABNBn2RFFSwr/wAABHVY4u1Y0w6JAAAADQGfg3RCfwAABWUZgUEAAAANAZ+FakJ/AAAFZuBQ\n",
       "wQAAABRBm4pJqEFsmUwIb//+p4QAAAMB3QAAABNBn6hFFSwr/wAABHVY4u1Y0w6IAAAADQGfx3RC\n",
       "fwAABWUZgUAAAAANAZ/JakJ/AAAFZuBQwQAAABRBm85JqEFsmUwIb//+p4QAAAMB3QAAABNBn+xF\n",
       "FSwr/wAABHVY4u1Y0w6IAAAADQGeC3RCfwAABWUZgUEAAAANAZ4NakJ/AAAFZuBQwQAAABRBmhJJ\n",
       "qEFsmUwIb//+p4QAAAMB3QAAABNBnjBFFSwr/wAABHVY4u1Y0w6IAAAADQGeT3RCfwAABWUZgUAA\n",
       "AAANAZ5RakJ/AAAFZuBQwQAAABRBmlZJqEFsmUwIb//+p4QAAAMB3QAAABNBnnRFFSwr/wAABHVY\n",
       "4u1Y0w6IAAAADQGek3RCfwAABWUZgUEAAAANAZ6VakJ/AAAFZuBQwAAAABRBmppJqEFsmUwIb//+\n",
       "p4QAAAMB3QAAABNBnrhFFSwr/wAABHVY4u1Y0w6JAAAADQGe13RCfwAABWUZgUAAAAANAZ7ZakJ/\n",
       "AAAFZuBQwQAAABRBmt5JqEFsmUwIb//+p4QAAAMB3QAAABNBnvxFFSwr/wAABHVY4u1Y0w6JAAAA\n",
       "DQGfG3RCfwAABWUZgUEAAAANAZ8dakJ/AAAFZuBQwAAAABRBmwJJqEFsmUwIb//+p4QAAAMB3QAA\n",
       "ABNBnyBFFSwr/wAABHVY4u1Y0w6JAAAADQGfX3RCfwAABWUZgUAAAAANAZ9BakJ/AAAFZuBQwQAA\n",
       "ABRBm0ZJqEFsmUwIb//+p4QAAAMB3QAAABNBn2RFFSwr/wAABHVY4u1Y0w6JAAAADQGfg3RCfwAA\n",
       "BWUZgUEAAAANAZ+FakJ/AAAFZuBQwQAAABRBm4pJqEFsmUwIb//+p4QAAAMB3QAAABNBn6hFFSwr\n",
       "/wAABHVY4u1Y0w6IAAAADQGfx3RCfwAABWUZgUAAAAANAZ/JakJ/AAAFZuBQwQAAABRBm85JqEFs\n",
       "mUwIb//+p4QAAAMB3QAAABNBn+xFFSwr/wAABHVY4u1Y0w6IAAAADQGeC3RCfwAABWUZgUEAAAAN\n",
       "AZ4NakJ/AAAFZuBQwQAAABRBmhJJqEFsmUwIb//+p4QAAAMB3QAAABNBnjBFFSwr/wAABHVY4u1Y\n",
       "0w6IAAAADQGeT3RCfwAABWUZgUAAAAANAZ5RakJ/AAAFZuBQwQAAABRBmlZJqEFsmUwIb//+p4QA\n",
       "AAMB3QAAABNBnnRFFSwr/wAABHVY4u1Y0w6IAAAADQGek3RCfwAABWUZgUEAAAANAZ6VakJ/AAAF\n",
       "ZuBQwAAAABRBmppJqEFsmUwIb//+p4QAAAMB3QAAABNBnrhFFSwr/wAABHVY4u1Y0w6JAAAADQGe\n",
       "13RCfwAABWUZgUAAAAANAZ7ZakJ/AAAFZuBQwQAAABRBmt5JqEFsmUwIb//+p4QAAAMB3QAAABNB\n",
       "nvxFFSwr/wAABHVY4u1Y0w6JAAAADQGfG3RCfwAABWUZgUEAAAANAZ8dakJ/AAAFZuBQwAAAABRB\n",
       "mwJJqEFsmUwIb//+p4QAAAMB3QAAABNBnyBFFSwr/wAABHVY4u1Y0w6JAAAADQGfX3RCfwAABWUZ\n",
       "gUAAAAANAZ9BakJ/AAAFZuBQwQAAABRBm0ZJqEFsmUwIb//+p4QAAAMB3QAAABNBn2RFFSwr/wAA\n",
       "BHVY4u1Y0w6JAAAADQGfg3RCfwAABWUZgUEAAAANAZ+FakJ/AAAFZuBQwQAAABRBm4pJqEFsmUwI\n",
       "b//+p4QAAAMB3QAAABNBn6hFFSwr/wAABHVY4u1Y0w6IAAAADQGfx3RCfwAABWUZgUAAAAANAZ/J\n",
       "akJ/AAAFZuBQwQAAABRBm85JqEFsmUwIb//+p4QAAAMB3QAAABNBn+xFFSwr/wAABHVY4u1Y0w6I\n",
       "AAAADQGeC3RCfwAABWUZgUEAAAANAZ4NakJ/AAAFZuBQwQAAABRBmhJJqEFsmUwIb//+p4QAAAMB\n",
       "3QAAABNBnjBFFSwr/wAABHVY4u1Y0w6IAAAADQGeT3RCfwAABWUZgUAAAAANAZ5RakJ/AAAFZuBQ\n",
       "wQAAABRBmlZJqEFsmUwIb//+p4QAAAMB3QAAABNBnnRFFSwr/wAABHVY4u1Y0w6IAAAADQGek3RC\n",
       "fwAABWUZgUEAAAANAZ6VakJ/AAAFZuBQwAAAABRBmplJqEFsmUwIT//98QAAAwBFwQAAAA9BnrdF\n",
       "FSwn/wAABWfOKnEAAAANAZ7YakJ/AAAFZuBQwAAADA5liIIABD/+94G/MstfIrrJcfnnfSyszzzk\n",
       "PHJdia640AAAAwAM3Yie4PCtdD0V4AAgNXj+InT/wAM6UjBSTS8J/ue1PkiotWcrpqKzFw8XCz6s\n",
       "f6DhNycqWkbY4usdrDUuYIZcMkLM6jrxYS6ziG2Qcs0+KJ7kMbdFylHnIuAAAQYOKKB38FPdOS4q\n",
       "wavWD1LA/pFBb3KxzypUDqvNEjimKMxphJ7h6Axx2qNx2Ms8mYTbj2CHELYJFeQtdSTNCuQACgP3\n",
       "7itCebDWSY6Z0UHdZ9seaIYJz5QntyompiHlBmBEc2SsqOE77jqa3TLJL3jcqEgROE1aA+SA+PmD\n",
       "rINulYuBb4eZiBTqVDpI24BRQVFfCGnCvlnBFb4nKbDF9c3d/zmGcs/Q8ix7og7OQjgwplXTUOcr\n",
       "sxB/Z/aXgBP5xXaCUu9Okc3CuluTYFoO1zg5SMIX7n1JzF6GbDia0WBkn4D5YMZfXrOr5O+3NaC6\n",
       "LNHW1UNRIidKlLaHIev6KYYEqJQbQCCnzXXHAcfliKM7zf4Wi+igWhbXRitAvYH85a/gUQqZOrLq\n",
       "IQDMPQh3yy0GTs2cFLaVzUEzRVctfU5LxMWUpW/jpMN2vMwZ2adljmeuvyPgmrWvWfFnTuGflrgj\n",
       "GBMXTekf8Lmee4A9U9bI1Wzpjvh0u8plXJacWPX4/EbKsKFGjpCYtIDov5LdK6Eo8RAK+3NxlNCX\n",
       "XOsgE7bsz+gKJW3nvuI9qdeO4BRAJ6oMA/kkgDkMFlRTYNJyoloigQJ9NtVL/QIiUiaoaivL1Tqo\n",
       "5mmNWyI+1P/e30G4pVtO1ZxIXDcCcDb/FG9M8CRg2LSLBN2D7SMDuR4dtT/OPqxA2t4/nN17+HuZ\n",
       "2/f6QtCkNcwInl+F+1JScrBAcgITruCi5CQ3QWy7qdtDYnvH+7EfVS+Vn9LSqrjF421S3Jfrefho\n",
       "/RUWcJtxv5K4z8pLRHKwhlotBkwfbiaMkVHWgE/OUpxZYqE/BkTMXesewxj0ddkWPwZqWFZu3ipc\n",
       "yl+pVEmxLM1pBLMOz/cG0XAzRg00nvMheJQJ0UJhzjR5nFMyMONwzCN0QykVGETf8nC86Zp2WfaJ\n",
       "EWYTurrlA9TH1n3Po458sguAhZIGjexm0Oq924pqxluYcW1B//AL795zPhSuMeA2sI06LazKaDdJ\n",
       "2zBNLV7dLvO+glLHHNFAbhnZ4sFxsozqdMNo09RsvM4ookKFXwIRo+tBiz6+rP3AyEbjom+BVrr1\n",
       "+sefJyg+F75pxeAE/pzuhfFRJbyKqrwmhoPlwbHF2thZHqdmu9enrzBi0J07BFUMArrxQwg3MYLl\n",
       "i6W1FkAcJ1DiBeSG/enyXw+PSOLKqXwzflS5qQ1MqJIK6PoTq71JncFbu4WpUsVokC9BxF7y1LVI\n",
       "lS0CwHj4oclSfu1ajLEk6u7o+tgvABjary3izYb1bOxoJcGTWhpVyHrSrcHqV3ejrgLc2++nGQ6e\n",
       "uS4YfSLQmsNgOKwx3eO5XkxpSfKSHjMfM5u/nxiCc9bjQ30p9FN15XzYqq06pJJs+hd3HEkJwLdK\n",
       "9jdPzV3CDFLROLijzKlIrswtpTjVlAkvJKCPdMPiQEToGUzh5lUnjpAXsJqoGpnfWx8+I5a5pDl9\n",
       "V8Uvt07OthpOcLxTLUVPLnnFZNd4LQ+C6DJRFPFsMYtsJGfpXweVq2H7b4JPSor//wxPtWvMlY9E\n",
       "Z6amRem7Eoqk+6F0jWJ3UoL+kaAiAA2MDnKIwBTC9uj97+nO4pTN4uFvSvEJRqL/EA5CMf8djnJR\n",
       "ug19Cc1XKQzRctjviCDWp1ZdhQT+Gn1r3Yp7pFvwR/mpVr8FlpZ0Ges6WJmR+iiVmEEVVn61i+A9\n",
       "5eEMsbahTHNTWJNSMSzss+YtD6/1e+NLG14lrDDwpLEwPABDsalnrsXtTov6hs0qqwCg2u5/p5tV\n",
       "xTJxmKPGN9CbK+eKyj1mxmNMPj5+T1gavX1s88jItKz1yi7XCBgnk6C1aWoFmCXAKCEKs8a3gqPg\n",
       "DNmsB6u9M4wJXuzLbsBne52roubQQnwLgxedhz4wMwYD2Bd9OVqdZAoAhcq4/nEcknCwGB1aXHil\n",
       "K3xHUgWUm2RHFiMlCF1zlIe88CWZ8qNC+RDfdZ3+VWzrA6udcJYpHwukh7c4xrED6GO5vcGljHda\n",
       "OBqrHRM0PAnF23+mrkEu589MsMIqgkXer5v3xR3LgsbhUuYtNQzCmtikHX0Fn8N/FN/NN2ICYjGy\n",
       "NoiOkebBYQlrAKAO7rFPWhKBk3E59PD8zf0bj01qwBgO/Qv8gBXwg9J0GKBaR/6iTkKwR8vJVr5x\n",
       "Y7khuC0EYEZirzYzkm6Dnj368aqVXGDe0tXvjVZpTVbB7wToZJp5f3stXUGs9o5Xli249343IxGT\n",
       "Vy3KmHMK65ome5sKG6cs5D/Xf8ADNxx0HnZaqW6fGe+H40u52h9IqfITd3EIjDfTDkRLUd5n3MMj\n",
       "qaTIMTJOQSlis6AnNdZlyxOOb9SuIikJ0n8q2SO0KlJr8cOU3hERxIva+3MB9x8At7JgUeD6yzZ9\n",
       "KvMpk7/ileabyKo/rAU/HFYugX+ZRRTdBdUetLLJTauovv+mU9gByTgYK/WkETPPen5ryXA+aJas\n",
       "+wmCnNBq7HtSNyBwvgpyWatBC2V60KzcBXB/tf1UQV477gwLqYMPIGzvVB/48UkFF7/PfE67ZkPI\n",
       "KYFysdq2JOYfpn/M6//uVqgQ45J8VcflrgVSIWJnZHaE8PFcSLApPta4YMtj4H/gAuJn6f+W45JO\n",
       "C8eXllouFf5JfadexurUvf033SixJ60Wc6SYsSVpGFCPzWqnSaYetGl40chZzkh1mmh3yGI5A0Mr\n",
       "hbgaumj+p0MRtxwDyFMXBEejUCpK6+c1X695VQcf9iNgfKl2vAeoJpYjm9kYRMMt9ak7JCxwREq4\n",
       "K19Uk62zZFGb4K68JDtXPjr5L5RoGRQFvtjzGcgXDsnwu4laH3tFaPRbDBjlItyerQ+CPRoEyUYK\n",
       "QEdd+0bpdBJzR8RjOxiyNJn138ABX6Wrw3CoptXYtc4TH89jswDGXhSKLPT33kIc10dWFM4phjG5\n",
       "3HAbOx9Oc7pkD/uRSrxQiv2n+2S2L8Hkpn0v/xXJIOqaTyPSB0AfuWrL26tPTCQcLz12z9u9aiez\n",
       "dypaB9J/Yk9Cm7m9v/+dc3XoPIWvBgSBj4KkaijsqG3/Dwrae5bXF7/5G97st1YAJ6iZ7eT3JsR5\n",
       "KAgfFjvewiumslDliGUzdnlholO1kUzhXaNWbM2wOxVAZmD8vDP8QaWeVIrjgRIZjk/P17S5/vKK\n",
       "gbRK+7gDB3Be+ZPHawUgSPYvYrP69Jn9jOH1wQ/TLUJrCDZ4+plTz6gqeT1QW7MFkHzBrdShWopj\n",
       "PbNi3QhDCFlc/ty4oZ9MFyV0QPXcX6hv9rXJOgYndpl9hN9WQ/JUxuqUrxtBBTbUauXDT9nHkvo9\n",
       "/7ZBo/BFVcf92EhwC08WjWzjDahBPZPIDimTCAG40feGbx6pO8zbiNFAfcFzwMb+IeALpc6HGEnj\n",
       "tWlB6GG3VqYnjauiJBN2yIL9AnT8N2FEynjB0fSH8VhNXBrFaWZYFTMer1KKvtxN7cNMXa0sGkqf\n",
       "0dRlXxwWSnQOux6csDENMfz7FjVWIhYT+66ESUWxpg3Qj2tU1SxsWWrxcMAG8Sb1hV6NDylMb4Sf\n",
       "ZHcdSQwZ49bxoLj+NDWNc6m+SPHJUFl7niVJKl83FC36zKpRS8hGZaFPIucOGrdx3/1pNnMdBAlg\n",
       "dwug8GyHspXKBEZze5VyxzLV5LRyIYKkdNZSKG5rDu5RkBvV+9L1jAiAOII6F5LQO5+YVgNWmEi9\n",
       "FvTfIQj2XbGBla3oqqw2J24KfhOgDNStWG1nJTCZE5XUJs603AHedtz/xZr7Rv2C4tlQzXJWV8t+\n",
       "PmBI9Y4+1uNc1kG7j3hEKAKw+U+Xktey0SrqtHpyHJI/qmrKBD9mXvbC9bWpKoxz4u65W5bc68nx\n",
       "lmXv/9IEOWTb1l7EI07xHzPMcNS5ef0cuOVLvN5IBh47+0DXsm/7xiRY7v2DEHU5D2DTq71Heykk\n",
       "H9r1UDFWf+CL/uO3TEARYZlxKxY0AzunE1ZXHaGFCEMoAIf4S0JpwQAAAOxBmiRsQ3/+p4QAa/Dz\n",
       "QAVAY/5r+1KF8Hs6/I6mkGhBs8S9KjVs1nZsKtq+e/nCCdZR3hKJKPS0mVOc9NjGFgXNAr6N/uqe\n",
       "WiOEEsEnV3h034O0XKpkydtyDRlO5pPcC/VPRf8xhFPrOKDNA7JEvRQPWqHgwX6Q5kuxdVxgF74n\n",
       "1YGHLtRNVWRBXThLkU5sf+QTSNBCZu0/qXHpv/niV8vI4v4OKi03UuOjMPssofWBCw8TirOHMaHu\n",
       "VU72Oxc0/ItjtXKw8atwKxPIPa7bEYjAVyG9mTEgSJsWAT3rtUpE0u3yAJGxLxZRhtetSAAAADFB\n",
       "nkJ4hX8AWJon4/LY+cNqpjzlNDrVNeMqHUoDNoBxQ9ezly1UbjZkAJwZ0b9v8whZAAAAJAGeYXRC\n",
       "fwBxNfS0GC70BuUmvmDnek1tPnZsYFEIO3UtF2/8EwAAABgBnmNqQn8AS3cAcgupOUEcqo66yvqb\n",
       "mpgAAAAlQZpoSahBaJlMCG///qeEAEe+RsI4ViofsPPdRZNC/2HOMM8IGQAAABpBnoZFESwr/wA6\n",
       "AHlqRwU0vPvtCN2FvHjJHwAAABYBnqV0Qn8AS1qSgnwW37I1KxuL1nZTAAAACwGep2pCfwAAAwHz\n",
       "AAAAFEGarEmoQWyZTAhv//6nhAAAAwHdAAAAEUGeykUVLCv/ACTBmY43V0PrAAAACwGe6XRCfwAA\n",
       "AwHzAAAACwGe62pCfwAAAwHzAAAAFEGa8EmoQWyZTAhv//6nhAAAAwHdAAAAEUGfDkUVLCv/ACTB\n",
       "mY43V0PrAAAACwGfLXRCfwAAAwHzAAAACwGfL2pCfwAAAwHzAAAAFEGbNEmoQWyZTAhv//6nhAAA\n",
       "AwHdAAAAEUGfUkUVLCv/ACTBmY43V0PrAAAACwGfcXRCfwAAAwHzAAAACwGfc2pCfwAAAwHzAAAA\n",
       "FEGbeEmoQWyZTAhv//6nhAAAAwHdAAAAEUGflkUVLCv/ACTBmY43V0PrAAAACwGftXRCfwAAAwHz\n",
       "AAAACwGft2pCfwAAAwHzAAAAFEGbvEmoQWyZTAhv//6nhAAAAwHdAAAAEUGf2kUVLCv/ACTBmY43\n",
       "V0PrAAAACwGf+XRCfwAAAwHzAAAACwGf+2pCfwAAAwHzAAAAFEGb4EmoQWyZTAhv//6nhAAAAwHd\n",
       "AAAAEUGeHkUVLCv/ACTBmY43V0PrAAAACwGePXRCfwAAAwHzAAAACwGeP2pCfwAAAwHzAAAAFEGa\n",
       "JEmoQWyZTAhv//6nhAAAAwHdAAAAEUGeQkUVLCv/ACTBmY43V0PrAAAACwGeYXRCfwAAAwHzAAAA\n",
       "CwGeY2pCfwAAAwHzAAAAFEGaaEmoQWyZTAhv//6nhAAAAwHdAAAAEUGehkUVLCv/ACTBmY43V0Pr\n",
       "AAAACwGepXRCfwAAAwHzAAAACwGep2pCfwAAAwHzAAAAE0GarEmoQWyZTAhn//6eEAAAB0wAAAAR\n",
       "QZ7KRRUsK/8AJMGZjjdXQ+sAAAALAZ7pdEJ/AAADAfMAAAALAZ7rakJ/AAADAfMAAAATQZrwSahB\n",
       "bJlMCFf//jhAAAAccQAAABFBnw5FFSwr/wAkwZmON1dD6wAAAAsBny10Qn8AAAMB8wAAAAsBny9q\n",
       "Qn8AAAMB8wAAABRBmzFJqEFsmUwIT//98QAAAwBFwAAAEO5tb292AAAAbG12aGQAAAAAAAAAAAAA\n",
       "AAAAAAPoAAAnEAABAAABAAAAAAAAAAAAAAAAAQAAAAAAAAAAAAAAAAAAAAEAAAAAAAAAAAAAAAAA\n",
       "AEAAAAAAAAAAAAAAAAAAAAAAAAAAAAAAAAAAAAAAAAACAAAQGHRyYWsAAABcdGtoZAAAAAMAAAAA\n",
       "AAAAAAAAAAEAAAAAAAAnEAAAAAAAAAAAAAAAAAAAAAAAAQAAAAAAAAAAAAAAAAAAAAEAAAAAAAAA\n",
       "AAAAAAAAAEAAAAABsAAAASAAAAAAACRlZHRzAAAAHGVsc3QAAAAAAAAAAQAAJxAAAAQAAAEAAAAA\n",
       "D5BtZGlhAAAAIG1kaGQAAAAAAAAAAAAAAAAAADwAAAJYAFXEAAAAAAAtaGRscgAAAAAAAAAAdmlk\n",
       "ZQAAAAAAAAAAAAAAAFZpZGVvSGFuZGxlcgAAAA87bWluZgAAABR2bWhkAAAAAQAAAAAAAAAAAAAA\n",
       "JGRpbmYAAAAcZHJlZgAAAAAAAAABAAAADHVybCAAAAABAAAO+3N0YmwAAAC3c3RzZAAAAAAAAAAB\n",
       "AAAAp2F2YzEAAAAAAAAAAQAAAAAAAAAAAAAAAAAAAAABsAEgAEgAAABIAAAAAAAAAAEAAAAAAAAA\n",
       "AAAAAAAAAAAAAAAAAAAAAAAAAAAAAAAAAAAY//8AAAA1YXZjQwFkABX/4QAYZ2QAFazZQbCWhAAA\n",
       "AwAEAAADAPA8WLZYAQAGaOvjyyLA/fj4AAAAABx1dWlka2hA8l8kT8W6OaUbzwMj8wAAAAAAAAAY\n",
       "c3R0cwAAAAAAAAABAAABLAAAAgAAAAAYc3RzcwAAAAAAAAACAAAAAQAAAPsAAAkYY3R0cwAAAAAA\n",
       "AAEhAAAAAQAABAAAAAABAAAGAAAAAAEAAAIAAAAAAwAABAAAAAABAAAIAAAAAAIAAAIAAAAABAAA\n",
       "BAAAAAABAAAGAAAAAAEAAAIAAAAAAgAABAAAAAABAAAGAAAAAAEAAAIAAAAAAQAABAAAAAABAAAG\n",
       "AAAAAAEAAAIAAAAAAQAABAAAAAABAAAGAAAAAAEAAAIAAAAAAQAACgAAAAABAAAEAAAAAAEAAAAA\n",
       "AAAAAQAAAgAAAAAEAAAEAAAAAAEAAAoAAAAAAQAABAAAAAABAAAAAAAAAAEAAAIAAAAAAQAACgAA\n",
       "AAABAAAEAAAAAAEAAAAAAAAAAQAAAgAAAAABAAAKAAAAAAEAAAQAAAAAAQAAAAAAAAABAAACAAAA\n",
       "AAEAAAYAAAAAAQAAAgAAAAABAAAKAAAAAAEAAAQAAAAAAQAAAAAAAAABAAACAAAAAAEAAAoAAAAA\n",
       "AQAABAAAAAABAAAAAAAAAAEAAAIAAAAAAQAACgAAAAABAAAEAAAAAAEAAAAAAAAAAQAAAgAAAAAB\n",
       "AAAKAAAAAAEAAAQAAAAAAQAAAAAAAAABAAACAAAAAAEAAAoAAAAAAQAABAAAAAABAAAAAAAAAAEA\n",
       "AAIAAAAAAQAACgAAAAABAAAEAAAAAAEAAAAAAAAAAQAAAgAAAAABAAAKAAAAAAEAAAQAAAAAAQAA\n",
       "AAAAAAABAAACAAAAAAEAAAoAAAAAAQAABAAAAAABAAAAAAAAAAEAAAIAAAAAAQAACgAAAAABAAAE\n",
       "AAAAAAEAAAAAAAAAAQAAAgAAAAABAAAKAAAAAAEAAAQAAAAAAQAAAAAAAAABAAACAAAAAAEAAAoA\n",
       "AAAAAQAABAAAAAABAAAAAAAAAAEAAAIAAAAAAQAACgAAAAABAAAEAAAAAAEAAAAAAAAAAQAAAgAA\n",
       "AAABAAAKAAAAAAEAAAQAAAAAAQAAAAAAAAABAAACAAAAAAEAAAoAAAAAAQAABAAAAAABAAAAAAAA\n",
       "AAEAAAIAAAAAAQAACgAAAAABAAAEAAAAAAEAAAAAAAAAAQAAAgAAAAABAAAKAAAAAAEAAAQAAAAA\n",
       "AQAAAAAAAAABAAACAAAAAAEAAAoAAAAAAQAABAAAAAABAAAAAAAAAAEAAAIAAAAAAQAACgAAAAAB\n",
       "AAAEAAAAAAEAAAAAAAAAAQAAAgAAAAABAAAKAAAAAAEAAAQAAAAAAQAAAAAAAAABAAACAAAAAAEA\n",
       "AAoAAAAAAQAABAAAAAABAAAAAAAAAAEAAAIAAAAAAQAACgAAAAABAAAEAAAAAAEAAAAAAAAAAQAA\n",
       "AgAAAAABAAAKAAAAAAEAAAQAAAAAAQAAAAAAAAABAAACAAAAAAEAAAoAAAAAAQAABAAAAAABAAAA\n",
       "AAAAAAEAAAIAAAAAAQAACgAAAAABAAAEAAAAAAEAAAAAAAAAAQAAAgAAAAABAAAKAAAAAAEAAAQA\n",
       "AAAAAQAAAAAAAAABAAACAAAAAAEAAAoAAAAAAQAABAAAAAABAAAAAAAAAAEAAAIAAAAAAQAACgAA\n",
       "AAABAAAEAAAAAAEAAAAAAAAAAQAAAgAAAAABAAAKAAAAAAEAAAQAAAAAAQAAAAAAAAABAAACAAAA\n",
       "AAEAAAoAAAAAAQAABAAAAAABAAAAAAAAAAEAAAIAAAAAAQAACgAAAAABAAAEAAAAAAEAAAAAAAAA\n",
       "AQAAAgAAAAABAAAKAAAAAAEAAAQAAAAAAQAAAAAAAAABAAACAAAAAAEAAAoAAAAAAQAABAAAAAAB\n",
       "AAAAAAAAAAEAAAIAAAAAAQAACgAAAAABAAAEAAAAAAEAAAAAAAAAAQAAAgAAAAABAAAKAAAAAAEA\n",
       "AAQAAAAAAQAAAAAAAAABAAACAAAAAAEAAAoAAAAAAQAABAAAAAABAAAAAAAAAAEAAAIAAAAAAQAA\n",
       "CgAAAAABAAAEAAAAAAEAAAAAAAAAAQAAAgAAAAABAAAKAAAAAAEAAAQAAAAAAQAAAAAAAAABAAAC\n",
       "AAAAAAEAAAoAAAAAAQAABAAAAAABAAAAAAAAAAEAAAIAAAAAAQAACgAAAAABAAAEAAAAAAEAAAAA\n",
       "AAAAAQAAAgAAAAABAAAKAAAAAAEAAAQAAAAAAQAAAAAAAAABAAACAAAAAAEAAAoAAAAAAQAABAAA\n",
       "AAABAAAAAAAAAAEAAAIAAAAAAQAACgAAAAABAAAEAAAAAAEAAAAAAAAAAQAAAgAAAAABAAAKAAAA\n",
       "AAEAAAQAAAAAAQAAAAAAAAABAAACAAAAAAEAAAoAAAAAAQAABAAAAAABAAAAAAAAAAEAAAIAAAAA\n",
       "AQAACgAAAAABAAAEAAAAAAEAAAAAAAAAAQAAAgAAAAABAAAKAAAAAAEAAAQAAAAAAQAAAAAAAAAB\n",
       "AAACAAAAAAEAAAoAAAAAAQAABAAAAAABAAAAAAAAAAEAAAIAAAAAAQAACgAAAAABAAAEAAAAAAEA\n",
       "AAAAAAAAAQAAAgAAAAABAAAKAAAAAAEAAAQAAAAAAQAAAAAAAAABAAACAAAAAAEAAAoAAAAAAQAA\n",
       "BAAAAAABAAAAAAAAAAEAAAIAAAAAAQAACAAAAAACAAACAAAAAAEAAAQAAAAAAQAACgAAAAABAAAE\n",
       "AAAAAAEAAAAAAAAAAQAAAgAAAAABAAAKAAAAAAEAAAQAAAAAAQAAAAAAAAABAAACAAAAAAEAAAoA\n",
       "AAAAAQAABAAAAAABAAAAAAAAAAEAAAIAAAAAAQAACgAAAAABAAAEAAAAAAEAAAAAAAAAAQAAAgAA\n",
       "AAABAAAKAAAAAAEAAAQAAAAAAQAAAAAAAAABAAACAAAAAAEAAAoAAAAAAQAABAAAAAABAAAAAAAA\n",
       "AAEAAAIAAAAAAQAACgAAAAABAAAEAAAAAAEAAAAAAAAAAQAAAgAAAAABAAAKAAAAAAEAAAQAAAAA\n",
       "AQAAAAAAAAABAAACAAAAAAEAAAoAAAAAAQAABAAAAAABAAAAAAAAAAEAAAIAAAAAAQAACgAAAAAB\n",
       "AAAEAAAAAAEAAAAAAAAAAQAAAgAAAAABAAAKAAAAAAEAAAQAAAAAAQAAAAAAAAABAAACAAAAAAEA\n",
       "AAoAAAAAAQAABAAAAAABAAAAAAAAAAEAAAIAAAAAAQAABAAAAAAcc3RzYwAAAAAAAAABAAAAAQAA\n",
       "ASwAAAABAAAExHN0c3oAAAAAAAAAAAAAASwAAA2jAAAEDwAAAKcAAAIvAAAChwAAAo8AAAI/AAAC\n",
       "hgAAAbcAAAGkAAACAQAAAc8AAAFtAAAAaQAAAHwAAACSAAAA/gAAAVUAAAC+AAABBwAAAiQAAACs\n",
       "AAABagAAAUUAAABvAAAAYAAAAHwAAABUAAAASAAAAMcAAADAAAAA8AAAARMAAAGHAAAAtgAAAFIA\n",
       "AABSAAAAywAAADEAAABDAAAAKgAAAQMAAABbAAAAPwAAADUAAADTAAAAQgAAANMAAABNAAAAPAAA\n",
       "ACUAAAAoAAAAMgAAABwAAAATAAAA3gAAAD0AAAAYAAAAJQAAALsAAAAlAAAAFwAAABgAAABDAAAA\n",
       "IwAAABYAAAAVAAAATAAAAB0AAAAVAAAAFQAAAG0AAAAZAAAAEwAAABEAAABDAAAAGwAAABEAAAAV\n",
       "AAAAIQAAABsAAAAVAAAAEQAAADkAAAAXAAAAEQAAABEAAAAkAAAAFwAAABEAAAARAAAAGAAAABcA\n",
       "AAARAAAAEQAAABgAAAAXAAAAEQAAABEAAAAYAAAAFwAAABEAAAARAAAAGAAAABcAAAARAAAAEQAA\n",
       "ABgAAAAXAAAAEQAAABEAAAAYAAAAFwAAABEAAAARAAAAGAAAABcAAAARAAAAEQAAABgAAAAXAAAA\n",
       "EQAAABEAAAAYAAAAFwAAABEAAAARAAAAGAAAABcAAAARAAAAEQAAABgAAAAXAAAAEQAAABEAAAAY\n",
       "AAAAFwAAABEAAAARAAAAGAAAABcAAAARAAAAEQAAABgAAAAXAAAAEQAAABEAAAAYAAAAFwAAABEA\n",
       "AAARAAAAGAAAABcAAAARAAAAEQAAABgAAAAXAAAAEQAAABEAAAAYAAAAFwAAABEAAAARAAAAGAAA\n",
       "ABcAAAARAAAAEQAAABgAAAAXAAAAEQAAABEAAAAYAAAAFwAAABEAAAARAAAAGAAAABcAAAARAAAA\n",
       "EQAAABgAAAAXAAAAEQAAABEAAAAYAAAAFwAAABEAAAARAAAAGAAAABcAAAARAAAAEQAAABgAAAAX\n",
       "AAAAEQAAABEAAAAYAAAAFwAAABEAAAARAAAAGAAAABcAAAARAAAAEQAAABgAAAAXAAAAEQAAABEA\n",
       "AAAYAAAAFwAAABEAAAARAAAAGAAAABcAAAARAAAAEQAAABgAAAAXAAAAEQAAABEAAAAYAAAAFwAA\n",
       "ABEAAAARAAAAGAAAABcAAAARAAAAEQAAABgAAAAXAAAAEQAAABEAAAAYAAAAFwAAABEAAAARAAAA\n",
       "GAAAABcAAAARAAAAEQAAABgAAAAXAAAAEQAAABEAAAAYAAAAFwAAABEAAAARAAAAGAAAABMAAAAR\n",
       "AAAMEgAAAPAAAAA1AAAAKAAAABwAAAApAAAAHgAAABoAAAAPAAAAGAAAABUAAAAPAAAADwAAABgA\n",
       "AAAVAAAADwAAAA8AAAAYAAAAFQAAAA8AAAAPAAAAGAAAABUAAAAPAAAADwAAABgAAAAVAAAADwAA\n",
       "AA8AAAAYAAAAFQAAAA8AAAAPAAAAGAAAABUAAAAPAAAADwAAABgAAAAVAAAADwAAAA8AAAAXAAAA\n",
       "FQAAAA8AAAAPAAAAFwAAABUAAAAPAAAADwAAABgAAAAUc3RjbwAAAAAAAAABAAAAMAAAAGJ1ZHRh\n",
       "AAAAWm1ldGEAAAAAAAAAIWhkbHIAAAAAAAAAAG1kaXJhcHBsAAAAAAAAAAAAAAAALWlsc3QAAAAl\n",
       "qXRvbwAAAB1kYXRhAAAAAQAAAABMYXZmNTguNDUuMTAw\n",
       "\">\n",
       "  Your browser does not support the video tag.\n",
       "</video>"
      ],
      "text/plain": [
       "<IPython.core.display.HTML object>"
      ]
     },
     "execution_count": 26,
     "metadata": {},
     "output_type": "execute_result"
    }
   ],
   "source": [
    "from matplotlib import animation, rc\n",
    "from IPython.display import HTML\n",
    "HTML(points_output.anim.to_html5_video())"
   ]
  }
 ],
 "metadata": {
  "kernelspec": {
   "display_name": "Python 3",
   "language": "python",
   "name": "python3"
  },
  "language_info": {
   "codemirror_mode": {
    "name": "ipython",
    "version": 3
   },
   "file_extension": ".py",
   "mimetype": "text/x-python",
   "name": "python",
   "nbconvert_exporter": "python",
   "pygments_lexer": "ipython3",
   "version": "3.8.10"
  }
 },
 "nbformat": 4,
 "nbformat_minor": 4
}
