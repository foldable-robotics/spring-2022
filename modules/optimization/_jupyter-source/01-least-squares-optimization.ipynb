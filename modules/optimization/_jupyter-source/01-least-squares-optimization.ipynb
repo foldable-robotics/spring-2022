{
 "cells": [
  {
   "cell_type": "markdown",
   "metadata": {},
   "source": [
    "---\n",
    "title: Least Squares Optimization\n",
    "---"
   ]
  },
  {
   "cell_type": "code",
   "execution_count": 1,
   "metadata": {},
   "outputs": [],
   "source": [
    "%matplotlib inline\n",
    "import numpy\n",
    "import numpy.random\n",
    "import matplotlib.pyplot as plt\n",
    "import numpy.linalg\n",
    "\n"
   ]
  },
  {
   "cell_type": "markdown",
   "metadata": {},
   "source": [
    "Define your x variable"
   ]
  },
  {
   "cell_type": "code",
   "execution_count": 2,
   "metadata": {},
   "outputs": [
    {
     "data": {
      "text/plain": [
       "array([-10. ,  -9.5,  -9. ,  -8.5,  -8. ,  -7.5,  -7. ,  -6.5,  -6. ,\n",
       "        -5.5,  -5. ,  -4.5,  -4. ,  -3.5,  -3. ,  -2.5,  -2. ,  -1.5,\n",
       "        -1. ,  -0.5,   0. ,   0.5,   1. ,   1.5,   2. ,   2.5,   3. ,\n",
       "         3.5,   4. ,   4.5,   5. ,   5.5,   6. ,   6.5,   7. ,   7.5,\n",
       "         8. ,   8.5,   9. ,   9.5])"
      ]
     },
     "execution_count": 2,
     "metadata": {},
     "output_type": "execute_result"
    }
   ],
   "source": [
    "x = numpy.r_[-10:10:.5]\n",
    "x"
   ]
  },
  {
   "cell_type": "markdown",
   "metadata": {},
   "source": [
    "Define y as a function of x.  This can be anything"
   ]
  },
  {
   "cell_type": "code",
   "execution_count": 3,
   "metadata": {},
   "outputs": [
    {
     "data": {
      "text/plain": [
       "array([-1.16581845e+00, -1.00000000e+00, -8.50824970e-01, -7.17279360e-01,\n",
       "       -5.98377987e-01, -4.93191502e-01, -4.00859731e-01, -3.20588089e-01,\n",
       "       -2.51627928e-01, -1.93245642e-01, -1.44688088e-01, -1.05152789e-01,\n",
       "       -7.37702189e-02, -4.96025012e-02, -3.16588415e-02, -1.89239181e-02,\n",
       "       -1.03922769e-02, -5.10030999e-03, -2.14798940e-03, -7.05033996e-04,\n",
       "        0.00000000e+00,  7.05033996e-04,  2.14798940e-03,  5.10030999e-03,\n",
       "        1.03922769e-02,  1.89239181e-02,  3.16588415e-02,  4.96025012e-02,\n",
       "        7.37702189e-02,  1.05152789e-01,  1.44688088e-01,  1.93245642e-01,\n",
       "        2.51627928e-01,  3.20588089e-01,  4.00859731e-01,  4.93191502e-01,\n",
       "        5.98377987e-01,  7.17279360e-01,  8.50824970e-01,  1.00000000e+00])"
      ]
     },
     "execution_count": 3,
     "metadata": {},
     "output_type": "execute_result"
    }
   ],
   "source": [
    "y = 3*x\n",
    "#y = x**2\n",
    "y = 2*x**3\n",
    "y += 2*numpy.sin(x)\n",
    "y /= y.max()\n",
    "y"
   ]
  },
  {
   "cell_type": "markdown",
   "metadata": {},
   "source": [
    "Now create an array of normally distributed noise"
   ]
  },
  {
   "cell_type": "code",
   "execution_count": 4,
   "metadata": {},
   "outputs": [
    {
     "data": {
      "text/plain": [
       "array([-1.03966184, -1.11103693, -0.89738405, -0.7897717 , -0.61606444,\n",
       "       -0.58075587, -0.32366094, -0.41986849, -0.2252123 , -0.27872011,\n",
       "       -0.06530092, -0.05975687, -0.0774088 , -0.1278407 ,  0.08502485,\n",
       "       -0.06129926, -0.12204749,  0.14838957,  0.02424667,  0.00377575,\n",
       "        0.11386753,  0.00182104,  0.01021305, -0.00858236,  0.14212112,\n",
       "        0.18574359,  0.03174494, -0.01499514,  0.12695571,  0.08401802,\n",
       "        0.21914263,  0.24385571,  0.1560743 ,  0.38365295,  0.59747615,\n",
       "        0.46985472,  0.55933946,  0.61241949,  0.9059338 ,  0.79946197])"
      ]
     },
     "execution_count": 4,
     "metadata": {},
     "output_type": "execute_result"
    }
   ],
   "source": [
    "rand = numpy.random.randn(*y.shape)/10\n",
    "y_rand = y+rand\n",
    "y_rand"
   ]
  },
  {
   "cell_type": "markdown",
   "metadata": {},
   "source": [
    "Plot y against the random vector"
   ]
  },
  {
   "cell_type": "code",
   "execution_count": 5,
   "metadata": {},
   "outputs": [
    {
     "data": {
      "text/plain": [
       "[<matplotlib.lines.Line2D at 0x7ff170474310>]"
      ]
     },
     "execution_count": 5,
     "metadata": {},
     "output_type": "execute_result"
    },
    {
     "data": {
      "image/png": "[encoded data removed]",
      "text/plain": [
       "<Figure size 432x288 with 1 Axes>"
      ]
     },
     "metadata": {
      "needs_background": "light"
     },
     "output_type": "display_data"
    }
   ],
   "source": [
    "plt.plot(x,y)\n",
    "plt.plot(x,y_rand,'o')"
   ]
  },
  {
   "cell_type": "markdown",
   "metadata": {},
   "source": [
    "Now assume you create a model of the form $y(k)^*$ where k are your model coefficients.  You want to pick your model in such a way that the error from $y-y^*$ is minimized.  The residual error, or just residual can be expressed as \n",
    "\n",
    "$$r=y-y^*$$\n",
    "\n",
    "thus the sum of squared error is \n",
    "\n",
    "$$||r||^2 = ||y-y^*||^2 = y^T y - 2*y^Ty^* + {y^*}^T y^*$$\n",
    "\n",
    "Now in matrix form, $y^*$ takes the form $y^*=Ak$, where $k$ is your set of model weights in the form\n",
    "\n",
    "$$k=\\left[\\begin{matrix}k_1&k_2&\\ldots &k_m\\end{matrix}\\right]^T,$$\n",
    "\n",
    "and $A$ is your set of models applied to the input variable $x$\n",
    "$$A = A(x) = \\left[\\begin{matrix}\n",
    "a_1(x_0) & a_2(x_0)& \\ldots& a_m(x_0)\\\\\n",
    "a_1(x_1) & a_2(x_1)& \\ldots &a_m(x_1)\\\\\n",
    "\\vdots & \\vdots & \\ddots& \\vdots\\\\\n",
    "a_1(x_n) & a_2(x_n)& \\ldots& a_m(x_n)\\\\\n",
    "\\end{matrix}\n",
    "\\right]$$"
   ]
  },
  {
   "cell_type": "markdown",
   "metadata": {},
   "source": [
    "### Example\n",
    "\n",
    "In our case we will try to model our data with $A(x) = \\left[\\begin{matrix}x&x^2&x^3&\\sin(x)\\end{matrix}\\right]$"
   ]
  },
  {
   "cell_type": "code",
   "execution_count": 6,
   "metadata": {},
   "outputs": [
    {
     "data": {
      "text/plain": [
       "(40, 6)"
      ]
     },
     "execution_count": 6,
     "metadata": {},
     "output_type": "execute_result"
    }
   ],
   "source": [
    "A = numpy.array([x,x**2,x**3,x**4,x**5,x**6]).T\n",
    "A.shape"
   ]
  },
  {
   "cell_type": "markdown",
   "metadata": {},
   "source": [
    "With the model stated, we may now expand the sum of squared error with our model:\n",
    "\n",
    "$$||r||^2 = y^T y - 2y^T(Ak) + k^TA^TAk$$\n",
    "\n",
    "But when optimizing, you are not optimizing for $x$ or even $A(x)$, which is either given or selected by you, but for the $k$ weighting parameters, which you may select in order to minimize the above equation.  Thus the error will be minimized at the point where $$\\frac{d(||r||^2)}{dk}=0,$$ or \n",
    "\n",
    "$$ - 2y^T A+ 2k^T A^T A=0$$\n",
    "\n",
    "Solving for k,\n",
    "$$ k^T A^T A= y^T A$$\n",
    "$$ (k^T A^T A)^T= (y^T A)^T$$\n",
    "$$ (A^T A)^Tk=  A^Ty$$\n",
    "$$ (A^T A)k=  A^Ty$$\n",
    "$$ (A^T A)^{-1}(A^T A)k=  (A^T A)^{-1}A^Ty$$\n",
    "\n",
    "The optimimum value for k is thus\n",
    "\n",
    "$$ k=  (A^T A)^{-1}A^Ty$$\n",
    "\n",
    "### Example"
   ]
  },
  {
   "cell_type": "code",
   "execution_count": 7,
   "metadata": {},
   "outputs": [
    {
     "data": {
      "text/plain": [
       "array([-2.18923289e-03,  2.77108020e-03,  1.55743851e-03, -8.14782525e-05,\n",
       "       -4.86516898e-06,  4.69654727e-07])"
      ]
     },
     "execution_count": 7,
     "metadata": {},
     "output_type": "execute_result"
    }
   ],
   "source": [
    "B = numpy.linalg.inv(A.T.dot(A))\n",
    "coeff = B.dot(A.T.dot(y_rand))\n",
    "coeff"
   ]
  },
  {
   "cell_type": "markdown",
   "metadata": {},
   "source": [
    "Plotting the coefficients, we see that the weights for $x^3$ are near 1 while all other weights are quite small."
   ]
  },
  {
   "cell_type": "code",
   "execution_count": 8,
   "metadata": {},
   "outputs": [
    {
     "data": {
      "text/plain": [
       "[Text(0, 0, '$x$'),\n",
       " Text(1, 0, '$x^2$'),\n",
       " Text(2, 0, '$x^3$'),\n",
       " Text(3, 0, '$x^4$'),\n",
       " Text(4, 0, '$x^5$'),\n",
       " Text(5, 0, '$x^6$')]"
      ]
     },
     "execution_count": 8,
     "metadata": {},
     "output_type": "execute_result"
    },
    {
     "data": {
      "image/png": "[encoded data removed]",
      "text/plain": [
       "<Figure size 432x288 with 1 Axes>"
      ]
     },
     "metadata": {
      "needs_background": "light"
     },
     "output_type": "display_data"
    }
   ],
   "source": [
    "xx = numpy.r_[:6]\n",
    "labels = '$x$','$x^2$','$x^3$','$x^4$','$x^5$','$x^6$'\n",
    "f = plt.figure()\n",
    "ax = f.add_subplot()\n",
    "ax.bar(xx,coeff)\n",
    "ax.set_xticks(xx)\n",
    "ax.set_xticklabels(labels)"
   ]
  },
  {
   "cell_type": "markdown",
   "metadata": {},
   "source": [
    "To return $y^*$, "
   ]
  },
  {
   "cell_type": "code",
   "execution_count": 9,
   "metadata": {},
   "outputs": [],
   "source": [
    "y_model = A.dot(coeff)"
   ]
  },
  {
   "cell_type": "markdown",
   "metadata": {},
   "source": [
    "Plotting the noisy data against the model, we get"
   ]
  },
  {
   "cell_type": "code",
   "execution_count": 10,
   "metadata": {},
   "outputs": [
    {
     "data": {
      "text/plain": [
       "<matplotlib.legend.Legend at 0x7ff17008f490>"
      ]
     },
     "execution_count": 10,
     "metadata": {},
     "output_type": "execute_result"
    },
    {
     "data": {
      "image/png": "[encoded data removed]",
      "text/plain": [
       "<Figure size 432x288 with 1 Axes>"
      ]
     },
     "metadata": {
      "needs_background": "light"
     },
     "output_type": "display_data"
    }
   ],
   "source": [
    "fig = plt.figure()\n",
    "ax = fig.add_subplot()\n",
    "\n",
    "a = ax.plot(x,y_rand,'o')\n",
    "b = ax.plot(x,y_model)\n",
    "\n",
    "ax.legend(a+b,['data','model'])"
   ]
  },
  {
   "cell_type": "markdown",
   "metadata": {},
   "source": [
    "And finally, to plot the residual"
   ]
  },
  {
   "cell_type": "code",
   "execution_count": 11,
   "metadata": {},
   "outputs": [
    {
     "data": {
      "text/plain": [
       "[<matplotlib.lines.Line2D at 0x7ff15d69c6d0>]"
      ]
     },
     "execution_count": 11,
     "metadata": {},
     "output_type": "execute_result"
    },
    {
     "data": {
      "image/png": "[encoded data removed]",
      "text/plain": [
       "<Figure size 432x288 with 1 Axes>"
      ]
     },
     "metadata": {
      "needs_background": "light"
     },
     "output_type": "display_data"
    }
   ],
   "source": [
    "plt.figure()\n",
    "plt.plot(x,y_model-y_rand)"
   ]
  },
  {
   "cell_type": "markdown",
   "metadata": {},
   "source": [
    "Now try other models, higher resolution data, and different domains"
   ]
  },
  {
   "cell_type": "code",
   "execution_count": null,
   "metadata": {},
   "outputs": [],
   "source": []
  }
 ],
 "metadata": {
  "kernelspec": {
   "display_name": "Python 3 (ipykernel)",
   "language": "python",
   "name": "python3"
  },
  "language_info": {
   "codemirror_mode": {
    "name": "ipython",
    "version": 3
   },
   "file_extension": ".py",
   "mimetype": "text/x-python",
   "name": "python",
   "nbconvert_exporter": "python",
   "pygments_lexer": "ipython3",
   "version": "3.9.7"
  }
 },
 "nbformat": 4,
 "nbformat_minor": 4
}
