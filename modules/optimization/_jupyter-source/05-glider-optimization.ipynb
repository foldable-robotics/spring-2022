{
 "cells": [
  {
   "cell_type": "markdown",
   "id": "8c2dcf96",
   "metadata": {},
   "source": [
    "---\n",
    "title: Glider Optimization\n",
    "module: optimization\n",
    "---"
   ]
  },
  {
   "cell_type": "code",
   "execution_count": 1,
   "id": "5e59c75c",
   "metadata": {
    "scrolled": true
   },
   "outputs": [
    {
     "data": {
      "text/plain": [
       "<matplotlib.pyplot._IonContext at 0x7fd9bc437ee0>"
      ]
     },
     "execution_count": 1,
     "metadata": {},
     "output_type": "execute_result"
    }
   ],
   "source": [
    "%matplotlib inline\n",
    "import pynamics\n",
    "from pynamics.frame import Frame\n",
    "from pynamics.variable_types import Differentiable,Constant\n",
    "from pynamics.system import System\n",
    "from pynamics.body import Body\n",
    "from pynamics.dyadic import Dyadic\n",
    "from pynamics.output import Output,PointsOutput\n",
    "#from pynamics.particle import Particle\n",
    "import pynamics.integration\n",
    "import sympy\n",
    "import scipy\n",
    "#import logging\n",
    "#pynamics.logger.setLevel(logging.ERROR)\n",
    "#pynamics.system.logger.setLevel(logging.ERROR)\n",
    "import numpy\n",
    "import matplotlib.pyplot as plt\n",
    "plt.ion()"
   ]
  },
  {
   "cell_type": "code",
   "execution_count": 2,
   "id": "2914fda0",
   "metadata": {
    "scrolled": true
   },
   "outputs": [],
   "source": [
    "from math import pi, sin, cos"
   ]
  },
  {
   "cell_type": "code",
   "execution_count": 3,
   "id": "a5cb3df2",
   "metadata": {
    "scrolled": true
   },
   "outputs": [],
   "source": [
    "system = System()\n",
    "pynamics.set_system(__name__,system)"
   ]
  },
  {
   "cell_type": "code",
   "execution_count": 4,
   "id": "5b9a8323",
   "metadata": {
    "scrolled": true
   },
   "outputs": [],
   "source": [
    "tinitial = 0\n",
    "tfinal = 5\n",
    "tstep = 1/30\n",
    "t = numpy.r_[tinitial:tfinal:tstep]\n",
    "\n",
    "ang_ini = 0\n",
    "v=1\n",
    "\n"
   ]
  },
  {
   "cell_type": "code",
   "execution_count": 5,
   "id": "50d88f4d",
   "metadata": {
    "scrolled": true
   },
   "outputs": [],
   "source": [
    "x,x_d,x_dd = Differentiable('x',ini=[0,v*cos(ang_ini*pi/180)])\n",
    "y,y_d,y_dd = Differentiable('y',ini=[1,v*sin(ang_ini*pi/180)])\n",
    "z,z_d,z_dd = Differentiable('z',ini=[0,0])\n",
    "\n",
    "qA,qA_d,qA_dd = Differentiable('qA',ini=[0,0])\n",
    "qB,qB_d,qB_dd = Differentiable('qB',ini=[0,0])\n",
    "qC,qC_d,qC_dd = Differentiable('qC',ini=[ang_ini*pi/180,0])"
   ]
  },
  {
   "cell_type": "code",
   "execution_count": 6,
   "id": "9ea6731f",
   "metadata": {
    "scrolled": true
   },
   "outputs": [],
   "source": [
    "\n",
    "# mC = Constant(0,'mC')\n",
    "g = Constant(9.81,'g')\n",
    "I_11=Constant(6e-3,'I_11')\n",
    "rho = Constant(1.292,'rho')\n",
    "r = Constant(0,'r')\n",
    "# Sw = Constant(.1,'Sw')\n",
    "# Se = Constant(.025,'Se')\n",
    "l = Constant(.35,'l')\n",
    "lw = Constant(-.03,'lw')\n",
    "le = Constant(.04,'le')\n",
    "qE = Constant(3*pi/180,'qE')"
   ]
  },
  {
   "cell_type": "code",
   "execution_count": 7,
   "id": "bcb8141e",
   "metadata": {
    "scrolled": true
   },
   "outputs": [],
   "source": [
    "ini = system.get_ini()\n",
    "\n",
    "N = Frame('N',system)\n",
    "A = Frame('A',system)\n",
    "B = Frame('B',system)\n",
    "C = Frame('C',system)\n",
    "E = Frame('E',system)\n",
    "\n",
    "system.set_newtonian(N)\n",
    "A.rotate_fixed_axis(N,[1,0,0],qA,system)\n",
    "B.rotate_fixed_axis(A,[0,1,0],qB,system)\n",
    "C.rotate_fixed_axis(B,[0,0,1],qC,system)\n",
    "E.rotate_fixed_axis(C,[0,0,1],-qE,system)\n"
   ]
  },
  {
   "cell_type": "code",
   "execution_count": 8,
   "id": "4a656070",
   "metadata": {
    "scrolled": true
   },
   "outputs": [],
   "source": [
    "pCcm=x*N.x+y*N.y+z*N.z\n",
    "pCcp=pCcm-lw*C.x\n",
    "\n",
    "mC = pi*r**2*.1\n",
    "\n",
    "pC1 = pCcm\n",
    "pC2 = pCcm-l*C.x\n",
    "pE = pC2-le*E.x\n",
    "\n",
    "vcm = pCcm.time_derivative()"
   ]
  },
  {
   "cell_type": "code",
   "execution_count": 9,
   "id": "b8266b4b",
   "metadata": {
    "scrolled": true
   },
   "outputs": [],
   "source": [
    "\n",
    "vcm = pCcm.time_derivative()\n",
    "\n",
    "IC = Dyadic.build(C,I_11,I_11,I_11)\n",
    "\n",
    "Body('BodyC',C,pCcm,mC,IC)\n",
    "\n",
    "Area = 2*pi*r**2\n",
    "Area_f = 2*pi*.001\n",
    "#Area_f = 0\n"
   ]
  },
  {
   "cell_type": "code",
   "execution_count": 10,
   "id": "f4c63ee1",
   "metadata": {
    "scrolled": true
   },
   "outputs": [],
   "source": [
    "vcp=pCcp.time_derivative()\n",
    "f_aero_C = rho * vcp.length()*(vcp.dot(C.y))*Area*C.y\n",
    "f_aero_Cf = rho * vcp.length()*(vcp.dot(C.x))*Area_f *C.x\n",
    "\n",
    "ve=pE.time_derivative()\n",
    "f_aero_E = rho * ve.length()*(ve.dot(E.y))*Area*E.y\n",
    "f_aero_Ef = rho * ve.length()*(ve.dot(E.x))*Area_f*E.x\n"
   ]
  },
  {
   "cell_type": "code",
   "execution_count": 11,
   "id": "0e46b9bf",
   "metadata": {
    "scrolled": true
   },
   "outputs": [
    {
     "data": {
      "text/plain": [
       "<pynamics.force.Force at 0x7fd98516b430>"
      ]
     },
     "execution_count": 11,
     "metadata": {},
     "output_type": "execute_result"
    }
   ],
   "source": [
    "system.addforcegravity(-g*N.y)\n",
    "system.addforce(-f_aero_C,vcp)\n",
    "system.addforce(-f_aero_E,ve)\n",
    "system.addforce(-f_aero_Cf,vcp)\n",
    "system.addforce(-f_aero_Ef,ve)\n"
   ]
  },
  {
   "cell_type": "code",
   "execution_count": 12,
   "id": "4992eb6b",
   "metadata": {
    "scrolled": true
   },
   "outputs": [],
   "source": [
    "points = [pC1,pC2]"
   ]
  },
  {
   "cell_type": "code",
   "execution_count": 13,
   "id": "3473daa2",
   "metadata": {
    "scrolled": true
   },
   "outputs": [
    {
     "name": "stderr",
     "output_type": "stream",
     "text": [
      "2022-04-14 14:50:28,174 - pynamics.system - INFO - getting dynamic equations\n",
      "2022-04-14 14:50:28,467 - pynamics.system - INFO - solving a = f/m and creating function\n",
      "2022-04-14 14:50:29,429 - pynamics.system - INFO - substituting constrained in Ma-f.\n",
      "2022-04-14 14:50:30,135 - pynamics.system - INFO - done solving a = f/m and creating function\n"
     ]
    }
   ],
   "source": [
    "f,ma = system.getdynamics()\n",
    "func1 = system.state_space_post_invert(f,ma)"
   ]
  },
  {
   "cell_type": "code",
   "execution_count": 14,
   "id": "2164d2e0",
   "metadata": {
    "scrolled": true
   },
   "outputs": [
    {
     "data": {
      "text/plain": [
       "0.5*I_11*qC_d*(qA_d*sin(qB) + qC_d) + 0.314159265358979*g*r**2*y + 0.15707963267949*r**2*(x_d**2 + y_d**2 + z_d**2) + 0.5*qA_d*(I_11*(qA_d*sin(qB) + qC_d)*sin(qB) - I_11*(-qA_d*sin(qC)*cos(qB) + qB_d*cos(qC))*sin(qC)*cos(qB) + I_11*(qA_d*cos(qB)*cos(qC) + qB_d*sin(qC))*cos(qB)*cos(qC)) + 0.5*qB_d*(I_11*(-qA_d*sin(qC)*cos(qB) + qB_d*cos(qC))*cos(qC) + I_11*(qA_d*cos(qB)*cos(qC) + qB_d*sin(qC))*sin(qC))"
      ]
     },
     "execution_count": 14,
     "metadata": {},
     "output_type": "execute_result"
    }
   ],
   "source": [
    "\n",
    "PE = system.getPEGravity(0*N.x)\n",
    "KE = system.get_KE()\n",
    "\n",
    "E = KE-PE\n",
    "E"
   ]
  },
  {
   "cell_type": "code",
   "execution_count": 15,
   "id": "e2a34c09",
   "metadata": {
    "scrolled": true
   },
   "outputs": [
    {
     "data": {
      "text/plain": [
       "-0.314159265358979*g*r**2*y"
      ]
     },
     "execution_count": 15,
     "metadata": {},
     "output_type": "execute_result"
    }
   ],
   "source": [
    "PE"
   ]
  },
  {
   "cell_type": "code",
   "execution_count": 16,
   "id": "4d1a41f8",
   "metadata": {
    "scrolled": true
   },
   "outputs": [],
   "source": [
    "def run(args):\n",
    "    my_r = args[0]\n",
    "    constants = system.constant_values.copy()\n",
    "    constants[r] = my_r\n",
    "    \n",
    "    states=pynamics.integration.integrate_odeint(func1,ini,t, args=({'constants':constants},))\n",
    "        \n",
    "    return states\n"
   ]
  },
  {
   "cell_type": "code",
   "execution_count": 17,
   "id": "af0ca5bb",
   "metadata": {
    "scrolled": true
   },
   "outputs": [
    {
     "data": {
      "text/plain": [
       "[x, y, z, qA, qB, qC, x_d, y_d, z_d, qA_d, qB_d, qC_d]"
      ]
     },
     "execution_count": 17,
     "metadata": {},
     "output_type": "execute_result"
    }
   ],
   "source": [
    "system.get_state_variables()"
   ]
  },
  {
   "cell_type": "code",
   "execution_count": 18,
   "id": "5b5e2efa",
   "metadata": {
    "scrolled": true
   },
   "outputs": [],
   "source": [
    "def measure_perf(args):\n",
    "    print('r: ',args[0])\n",
    "   # if args[0]>1:\n",
    "   #     return 1000\n",
    "   # if args[0]<=0:\n",
    "   #     return 1000\n",
    "    try:\n",
    "        states = run(args)\n",
    "        perf = (1/states[-1,0])**2 + 5*(states[-1,1])**2 \n",
    "        return perf\n",
    "    except scipy.linalg.LinAlgError:\n",
    "        return 1000\n"
   ]
  },
  {
   "cell_type": "code",
   "execution_count": 19,
   "id": "97113af8",
   "metadata": {
    "scrolled": true
   },
   "outputs": [
    {
     "name": "stderr",
     "output_type": "stream",
     "text": [
      "2022-04-14 14:50:30,271 - pynamics.integration - INFO - beginning integration\n",
      "2022-04-14 14:50:30,272 - pynamics.system - INFO - integration at time 0000.00\n"
     ]
    },
    {
     "name": "stdout",
     "output_type": "stream",
     "text": [
      "r:  0.1\n"
     ]
    },
    {
     "name": "stderr",
     "output_type": "stream",
     "text": [
      "2022-04-14 14:50:33,779 - pynamics.integration - INFO - finished integration\n",
      "2022-04-14 14:50:33,781 - pynamics.integration - INFO - beginning integration\n",
      "2022-04-14 14:50:33,922 - pynamics.system - INFO - integration at time 0000.01\n"
     ]
    },
    {
     "name": "stdout",
     "output_type": "stream",
     "text": [
      "r:  0.325\n"
     ]
    },
    {
     "name": "stderr",
     "output_type": "stream",
     "text": [
      "2022-04-14 14:50:37,229 - pynamics.integration - INFO - finished integration\n",
      "2022-04-14 14:50:37,231 - pynamics.integration - INFO - beginning integration\n"
     ]
    },
    {
     "name": "stdout",
     "output_type": "stream",
     "text": [
      "r:  0.55\n"
     ]
    },
    {
     "name": "stderr",
     "output_type": "stream",
     "text": [
      "2022-04-14 14:50:37,545 - pynamics.system - INFO - integration at time 0000.04\n",
      "2022-04-14 14:50:41,030 - pynamics.system - INFO - integration at time 0001.04\n",
      "2022-04-14 14:50:44,278 - pynamics.integration - INFO - finished integration\n",
      "2022-04-14 14:50:44,279 - pynamics.integration - INFO - beginning integration\n",
      "2022-04-14 14:50:44,447 - pynamics.system - INFO - integration at time 0000.01\n"
     ]
    },
    {
     "name": "stdout",
     "output_type": "stream",
     "text": [
      "r:  0.775\n"
     ]
    },
    {
     "name": "stderr",
     "output_type": "stream",
     "text": [
      "2022-04-14 14:50:47,857 - pynamics.system - INFO - integration at time 0004.81\n",
      "2022-04-14 14:50:47,941 - pynamics.integration - INFO - finished integration\n",
      "2022-04-14 14:50:47,943 - pynamics.integration - INFO - beginning integration\n"
     ]
    },
    {
     "name": "stdout",
     "output_type": "stream",
     "text": [
      "r:  1.0\n"
     ]
    },
    {
     "name": "stderr",
     "output_type": "stream",
     "text": [
      "2022-04-14 14:50:51,248 - pynamics.system - INFO - integration at time 0002.72\n",
      "2022-04-14 14:50:52,408 - pynamics.integration - INFO - finished integration\n"
     ]
    },
    {
     "data": {
      "text/plain": [
       "[<matplotlib.lines.Line2D at 0x7fd982e278b0>]"
      ]
     },
     "execution_count": 19,
     "metadata": {},
     "output_type": "execute_result"
    },
    {
     "data": {
      "image/png": "[encoded data removed]",
      "text/plain": [
       "<Figure size 432x288 with 1 Axes>"
      ]
     },
     "metadata": {
      "needs_background": "light"
     },
     "output_type": "display_data"
    }
   ],
   "source": [
    "yy = []    \n",
    "xx = numpy.r_[0.1:1:5j]\n",
    "for ii in xx:\n",
    "    yy.append(measure_perf([ii]))\n",
    "    \n",
    "yy = numpy.array(yy)\n",
    "plt.plot(xx,yy)"
   ]
  },
  {
   "cell_type": "code",
   "execution_count": 20,
   "id": "de17bd27",
   "metadata": {
    "scrolled": true
   },
   "outputs": [
    {
     "name": "stderr",
     "output_type": "stream",
     "text": [
      "2022-04-14 14:50:52,615 - pynamics.integration - INFO - beginning integration\n"
     ]
    },
    {
     "name": "stdout",
     "output_type": "stream",
     "text": [
      "r:  0.5\n"
     ]
    },
    {
     "name": "stderr",
     "output_type": "stream",
     "text": [
      "2022-04-14 14:50:54,808 - pynamics.system - INFO - integration at time 0003.79\n",
      "2022-04-14 14:50:54,988 - pynamics.integration - INFO - finished integration\n",
      "2022-04-14 14:50:54,989 - pynamics.integration - INFO - beginning integration\n"
     ]
    },
    {
     "name": "stdout",
     "output_type": "stream",
     "text": [
      "r:  0.4437694101250946\n"
     ]
    },
    {
     "name": "stderr",
     "output_type": "stream",
     "text": [
      "2022-04-14 14:50:58,132 - pynamics.system - INFO - integration at time 0001.21\n",
      "2022-04-14 14:50:59,976 - pynamics.integration - INFO - finished integration\n",
      "2022-04-14 14:50:59,977 - pynamics.integration - INFO - beginning integration\n"
     ]
    },
    {
     "name": "stdout",
     "output_type": "stream",
     "text": [
      "r:  0.6562305898749052\n"
     ]
    },
    {
     "name": "stderr",
     "output_type": "stream",
     "text": [
      "2022-04-14 14:51:01,431 - pynamics.system - INFO - integration at time 0000.95\n",
      "2022-04-14 14:51:03,260 - pynamics.integration - INFO - finished integration\n",
      "2022-04-14 14:51:03,261 - pynamics.integration - INFO - beginning integration\n"
     ]
    },
    {
     "name": "stdout",
     "output_type": "stream",
     "text": [
      "r:  0.7875388202501892\n"
     ]
    },
    {
     "name": "stderr",
     "output_type": "stream",
     "text": [
      "2022-04-14 14:51:04,747 - pynamics.system - INFO - integration at time 0001.08\n",
      "2022-04-14 14:51:06,518 - pynamics.integration - INFO - finished integration\n",
      "2022-04-14 14:51:06,520 - pynamics.integration - INFO - beginning integration\n"
     ]
    },
    {
     "name": "stdout",
     "output_type": "stream",
     "text": [
      "r:  0.7877560928849625\n"
     ]
    },
    {
     "name": "stderr",
     "output_type": "stream",
     "text": [
      "2022-04-14 14:51:07,993 - pynamics.system - INFO - integration at time 0000.91\n",
      "2022-04-14 14:51:10,593 - pynamics.integration - INFO - finished integration\n",
      "2022-04-14 14:51:10,595 - pynamics.integration - INFO - beginning integration\n"
     ]
    },
    {
     "name": "stdout",
     "output_type": "stream",
     "text": [
      "r:  0.8688260514978312\n"
     ]
    },
    {
     "name": "stderr",
     "output_type": "stream",
     "text": [
      "2022-04-14 14:51:11,322 - pynamics.system - INFO - integration at time 0000.19\n",
      "2022-04-14 14:51:14,261 - pynamics.integration - INFO - finished integration\n",
      "2022-04-14 14:51:14,262 - pynamics.integration - INFO - beginning integration\n"
     ]
    },
    {
     "name": "stdout",
     "output_type": "stream",
     "text": [
      "r:  0.9189300413871313\n"
     ]
    },
    {
     "name": "stderr",
     "output_type": "stream",
     "text": [
      "2022-04-14 14:51:14,717 - pynamics.system - INFO - integration at time 0000.07\n",
      "2022-04-14 14:51:18,409 - pynamics.system - INFO - integration at time 0004.59\n",
      "2022-04-14 14:51:18,712 - pynamics.integration - INFO - finished integration\n",
      "2022-04-14 14:51:18,714 - pynamics.integration - INFO - beginning integration\n"
     ]
    },
    {
     "name": "stdout",
     "output_type": "stream",
     "text": [
      "r:  0.9498960101106999\n"
     ]
    },
    {
     "name": "stderr",
     "output_type": "stream",
     "text": [
      "2022-04-14 14:51:21,806 - pynamics.system - INFO - integration at time 0003.38\n",
      "2022-04-14 14:51:22,906 - pynamics.integration - INFO - finished integration\n",
      "2022-04-14 14:51:22,907 - pynamics.integration - INFO - beginning integration\n"
     ]
    },
    {
     "name": "stdout",
     "output_type": "stream",
     "text": [
      "r:  0.9690340312764314\n"
     ]
    },
    {
     "name": "stderr",
     "output_type": "stream",
     "text": [
      "2022-04-14 14:51:25,154 - pynamics.system - INFO - integration at time 0002.05\n",
      "2022-04-14 14:51:27,389 - pynamics.integration - INFO - finished integration\n",
      "2022-04-14 14:51:27,391 - pynamics.integration - INFO - beginning integration\n"
     ]
    },
    {
     "name": "stdout",
     "output_type": "stream",
     "text": [
      "r:  0.9808619788342684\n"
     ]
    },
    {
     "name": "stderr",
     "output_type": "stream",
     "text": [
      "2022-04-14 14:51:28,344 - pynamics.system - INFO - integration at time 0000.28\n",
      "2022-04-14 14:51:31,537 - pynamics.system - INFO - integration at time 0003.54\n",
      "2022-04-14 14:51:32,389 - pynamics.integration - INFO - finished integration\n",
      "2022-04-14 14:51:32,390 - pynamics.integration - INFO - beginning integration\n"
     ]
    },
    {
     "name": "stdout",
     "output_type": "stream",
     "text": [
      "r:  0.988172052442163\n"
     ]
    },
    {
     "name": "stderr",
     "output_type": "stream",
     "text": [
      "2022-04-14 14:51:34,817 - pynamics.system - INFO - integration at time 0001.81\n",
      "2022-04-14 14:51:36,730 - pynamics.integration - INFO - finished integration\n",
      "2022-04-14 14:51:36,731 - pynamics.integration - INFO - beginning integration\n"
     ]
    },
    {
     "name": "stdout",
     "output_type": "stream",
     "text": [
      "r:  0.9926899263921054\n"
     ]
    },
    {
     "name": "stderr",
     "output_type": "stream",
     "text": [
      "2022-04-14 14:51:38,187 - pynamics.system - INFO - integration at time 0000.83\n",
      "2022-04-14 14:51:41,823 - pynamics.system - INFO - integration at time 0004.72\n",
      "2022-04-14 14:51:42,172 - pynamics.integration - INFO - finished integration\n",
      "2022-04-14 14:51:42,174 - pynamics.integration - INFO - beginning integration\n"
     ]
    },
    {
     "name": "stdout",
     "output_type": "stream",
     "text": [
      "r:  0.9954821260500576\n"
     ]
    },
    {
     "name": "stderr",
     "output_type": "stream",
     "text": [
      "2022-04-14 14:51:45,390 - pynamics.system - INFO - integration at time 0002.99\n",
      "2022-04-14 14:51:46,665 - pynamics.integration - INFO - finished integration\n",
      "2022-04-14 14:51:46,666 - pynamics.integration - INFO - beginning integration\n"
     ]
    },
    {
     "name": "stdout",
     "output_type": "stream",
     "text": [
      "r:  0.9972078003420479\n"
     ]
    },
    {
     "name": "stderr",
     "output_type": "stream",
     "text": [
      "2022-04-14 14:51:48,710 - pynamics.system - INFO - integration at time 0001.72\n",
      "2022-04-14 14:51:50,554 - pynamics.integration - INFO - finished integration\n",
      "2022-04-14 14:51:50,556 - pynamics.integration - INFO - beginning integration\n"
     ]
    },
    {
     "name": "stdout",
     "output_type": "stream",
     "text": [
      "r:  0.9982743257080098\n"
     ]
    },
    {
     "name": "stderr",
     "output_type": "stream",
     "text": [
      "2022-04-14 14:51:51,943 - pynamics.system - INFO - integration at time 0001.15\n",
      "2022-04-14 14:51:54,157 - pynamics.integration - INFO - finished integration\n",
      "2022-04-14 14:51:54,159 - pynamics.integration - INFO - beginning integration\n"
     ]
    },
    {
     "name": "stdout",
     "output_type": "stream",
     "text": [
      "r:  0.9989334746340381\n"
     ]
    },
    {
     "name": "stderr",
     "output_type": "stream",
     "text": [
      "2022-04-14 14:51:55,382 - pynamics.system - INFO - integration at time 0000.41\n",
      "2022-04-14 14:51:59,130 - pynamics.system - INFO - integration at time 0004.25\n",
      "2022-04-14 14:52:00,082 - pynamics.integration - INFO - finished integration\n",
      "2022-04-14 14:52:00,084 - pynamics.integration - INFO - beginning integration\n"
     ]
    },
    {
     "name": "stdout",
     "output_type": "stream",
     "text": [
      "r:  0.9993408510739716\n"
     ]
    },
    {
     "name": "stderr",
     "output_type": "stream",
     "text": [
      "2022-04-14 14:52:02,844 - pynamics.system - INFO - integration at time 0001.87\n",
      "2022-04-14 14:52:04,428 - pynamics.integration - INFO - finished integration\n",
      "2022-04-14 14:52:04,430 - pynamics.integration - INFO - beginning integration\n"
     ]
    },
    {
     "name": "stdout",
     "output_type": "stream",
     "text": [
      "r:  0.9995926235600665\n"
     ]
    },
    {
     "name": "stderr",
     "output_type": "stream",
     "text": [
      "2022-04-14 14:52:06,139 - pynamics.system - INFO - integration at time 0001.16\n",
      "2022-04-14 14:52:09,214 - pynamics.integration - INFO - finished integration\n",
      "2022-04-14 14:52:09,216 - pynamics.integration - INFO - beginning integration\n",
      "2022-04-14 14:52:09,301 - pynamics.system - INFO - integration at time 0000.00\n"
     ]
    },
    {
     "name": "stdout",
     "output_type": "stream",
     "text": [
      "r:  0.9997482275139051\n"
     ]
    },
    {
     "name": "stderr",
     "output_type": "stream",
     "text": [
      "2022-04-14 14:52:12,676 - pynamics.system - INFO - integration at time 0002.28\n",
      "2022-04-14 14:52:14,724 - pynamics.integration - INFO - finished integration\n",
      "2022-04-14 14:52:14,725 - pynamics.integration - INFO - beginning integration\n"
     ]
    },
    {
     "name": "stdout",
     "output_type": "stream",
     "text": [
      "r:  0.9998443960461614\n"
     ]
    },
    {
     "name": "stderr",
     "output_type": "stream",
     "text": [
      "2022-04-14 14:52:15,802 - pynamics.system - INFO - integration at time 0000.56\n",
      "2022-04-14 14:52:18,645 - pynamics.integration - INFO - finished integration\n",
      "2022-04-14 14:52:18,646 - pynamics.integration - INFO - beginning integration\n"
     ]
    },
    {
     "name": "stdout",
     "output_type": "stream",
     "text": [
      "r:  0.9999038314677438\n"
     ]
    },
    {
     "name": "stderr",
     "output_type": "stream",
     "text": [
      "2022-04-14 14:52:18,987 - pynamics.system - INFO - integration at time 0000.03\n",
      "2022-04-14 14:52:22,310 - pynamics.system - INFO - integration at time 0003.51\n",
      "2022-04-14 14:52:23,537 - pynamics.integration - INFO - finished integration\n",
      "2022-04-14 14:52:23,539 - pynamics.integration - INFO - beginning integration\n"
     ]
    },
    {
     "name": "stdout",
     "output_type": "stream",
     "text": [
      "r:  0.9999405645784174\n"
     ]
    },
    {
     "name": "stderr",
     "output_type": "stream",
     "text": [
      "2022-04-14 14:52:25,556 - pynamics.system - INFO - integration at time 0001.32\n",
      "2022-04-14 14:52:28,448 - pynamics.integration - INFO - finished integration\n",
      "2022-04-14 14:52:28,450 - pynamics.integration - INFO - beginning integration\n"
     ]
    },
    {
     "name": "stdout",
     "output_type": "stream",
     "text": [
      "r:  1.4998811291568348\n"
     ]
    },
    {
     "name": "stderr",
     "output_type": "stream",
     "text": [
      "2022-04-14 14:52:28,668 - pynamics.system - INFO - integration at time 0000.01\n",
      "2022-04-14 14:52:31,773 - pynamics.system - INFO - integration at time 0003.57\n",
      "2022-04-14 14:52:33,645 - pynamics.integration - INFO - finished integration\n",
      "2022-04-14 14:52:33,646 - pynamics.integration - INFO - beginning integration\n"
     ]
    },
    {
     "name": "stdout",
     "output_type": "stream",
     "text": [
      "r:  0.44376941012509463\n"
     ]
    },
    {
     "name": "stderr",
     "output_type": "stream",
     "text": [
      "2022-04-14 14:52:34,887 - pynamics.system - INFO - integration at time 0000.83\n",
      "2022-04-14 14:52:37,994 - pynamics.system - INFO - integration at time 0003.52\n",
      "2022-04-14 14:52:38,415 - pynamics.integration - INFO - finished integration\n",
      "2022-04-14 14:52:38,416 - pynamics.integration - INFO - beginning integration\n"
     ]
    },
    {
     "name": "stdout",
     "output_type": "stream",
     "text": [
      "r:  0.6562305898749053\n"
     ]
    },
    {
     "name": "stderr",
     "output_type": "stream",
     "text": [
      "2022-04-14 14:52:41,082 - pynamics.system - INFO - integration at time 0004.16\n",
      "2022-04-14 14:52:41,459 - pynamics.integration - INFO - finished integration\n",
      "2022-04-14 14:52:41,461 - pynamics.integration - INFO - beginning integration\n"
     ]
    },
    {
     "name": "stdout",
     "output_type": "stream",
     "text": [
      "r:  0.7875388202501892\n"
     ]
    },
    {
     "name": "stderr",
     "output_type": "stream",
     "text": [
      "2022-04-14 14:52:44,200 - pynamics.system - INFO - integration at time 0004.35\n",
      "2022-04-14 14:52:44,591 - pynamics.integration - INFO - finished integration\n",
      "2022-04-14 14:52:44,592 - pynamics.integration - INFO - beginning integration\n"
     ]
    },
    {
     "name": "stdout",
     "output_type": "stream",
     "text": [
      "r:  0.7877560835773538\n"
     ]
    },
    {
     "name": "stderr",
     "output_type": "stream",
     "text": [
      "2022-04-14 14:52:47,335 - pynamics.system - INFO - integration at time 0003.67\n",
      "2022-04-14 14:52:48,207 - pynamics.integration - INFO - finished integration\n",
      "2022-04-14 14:52:48,208 - pynamics.integration - INFO - beginning integration\n"
     ]
    },
    {
     "name": "stdout",
     "output_type": "stream",
     "text": [
      "r:  0.8688260457454127\n"
     ]
    },
    {
     "name": "stderr",
     "output_type": "stream",
     "text": [
      "2022-04-14 14:52:50,409 - pynamics.system - INFO - integration at time 0002.81\n",
      "2022-04-14 14:52:51,696 - pynamics.integration - INFO - finished integration\n",
      "2022-04-14 14:52:51,698 - pynamics.integration - INFO - beginning integration\n"
     ]
    },
    {
     "name": "stdout",
     "output_type": "stream",
     "text": [
      "r:  0.9189300378319412\n"
     ]
    },
    {
     "name": "stderr",
     "output_type": "stream",
     "text": [
      "2022-04-14 14:52:53,487 - pynamics.system - INFO - integration at time 0001.38\n",
      "2022-04-14 14:52:55,719 - pynamics.integration - INFO - finished integration\n",
      "2022-04-14 14:52:55,720 - pynamics.integration - INFO - beginning integration\n"
     ]
    },
    {
     "name": "stdout",
     "output_type": "stream",
     "text": [
      "r:  0.9498960079134715\n"
     ]
    },
    {
     "name": "stderr",
     "output_type": "stream",
     "text": [
      "2022-04-14 14:52:56,564 - pynamics.system - INFO - integration at time 0000.34\n",
      "2022-04-14 14:52:59,522 - pynamics.integration - INFO - finished integration\n",
      "2022-04-14 14:52:59,523 - pynamics.integration - INFO - beginning integration\n"
     ]
    },
    {
     "name": "stdout",
     "output_type": "stream",
     "text": [
      "r:  0.9690340299184697\n"
     ]
    },
    {
     "name": "stderr",
     "output_type": "stream",
     "text": [
      "2022-04-14 14:52:59,739 - pynamics.system - INFO - integration at time 0000.01\n",
      "2022-04-14 14:53:02,883 - pynamics.system - INFO - integration at time 0003.49\n",
      "2022-04-14 14:53:03,639 - pynamics.integration - INFO - finished integration\n",
      "2022-04-14 14:53:03,640 - pynamics.integration - INFO - beginning integration\n"
     ]
    },
    {
     "name": "stdout",
     "output_type": "stream",
     "text": [
      "r:  0.9808619779950019\n"
     ]
    },
    {
     "name": "stderr",
     "output_type": "stream",
     "text": [
      "2022-04-14 14:53:05,949 - pynamics.system - INFO - integration at time 0001.35\n",
      "2022-04-14 14:53:08,286 - pynamics.integration - INFO - finished integration\n",
      "2022-04-14 14:53:08,287 - pynamics.integration - INFO - beginning integration\n"
     ]
    },
    {
     "name": "stdout",
     "output_type": "stream",
     "text": [
      "r:  0.9881720519234678\n"
     ]
    },
    {
     "name": "stderr",
     "output_type": "stream",
     "text": [
      "2022-04-14 14:53:08,993 - pynamics.system - INFO - integration at time 0000.16\n",
      "2022-04-14 14:53:12,107 - pynamics.system - INFO - integration at time 0004.57\n",
      "2022-04-14 14:53:12,467 - pynamics.integration - INFO - finished integration\n",
      "2022-04-14 14:53:12,468 - pynamics.integration - INFO - beginning integration\n"
     ]
    },
    {
     "name": "stdout",
     "output_type": "stream",
     "text": [
      "r:  0.9926899260715342\n"
     ]
    },
    {
     "name": "stderr",
     "output_type": "stream",
     "text": [
      "2022-04-14 14:53:15,225 - pynamics.system - INFO - integration at time 0002.37\n",
      "2022-04-14 14:53:17,200 - pynamics.integration - INFO - finished integration\n",
      "2022-04-14 14:53:17,201 - pynamics.integration - INFO - beginning integration\n"
     ]
    },
    {
     "name": "stdout",
     "output_type": "stream",
     "text": [
      "r:  0.9954821258519336\n"
     ]
    },
    {
     "name": "stderr",
     "output_type": "stream",
     "text": [
      "2022-04-14 14:53:18,328 - pynamics.system - INFO - integration at time 0000.73\n",
      "2022-04-14 14:53:21,037 - pynamics.integration - INFO - finished integration\n",
      "2022-04-14 14:53:21,039 - pynamics.integration - INFO - beginning integration\n"
     ]
    },
    {
     "name": "stdout",
     "output_type": "stream",
     "text": [
      "r:  0.9972078002196005\n"
     ]
    },
    {
     "name": "stderr",
     "output_type": "stream",
     "text": [
      "2022-04-14 14:53:21,514 - pynamics.system - INFO - integration at time 0000.06\n",
      "2022-04-14 14:53:24,694 - pynamics.system - INFO - integration at time 0004.82\n",
      "2022-04-14 14:53:24,776 - pynamics.integration - INFO - finished integration\n",
      "2022-04-14 14:53:24,777 - pynamics.integration - INFO - beginning integration\n"
     ]
    },
    {
     "name": "stdout",
     "output_type": "stream",
     "text": [
      "r:  0.9982743256323331\n"
     ]
    },
    {
     "name": "stderr",
     "output_type": "stream",
     "text": [
      "2022-04-14 14:53:27,809 - pynamics.system - INFO - integration at time 0003.59\n",
      "2022-04-14 14:53:28,453 - pynamics.integration - INFO - finished integration\n",
      "2022-04-14 14:53:28,454 - pynamics.integration - INFO - beginning integration\n"
     ]
    },
    {
     "name": "stdout",
     "output_type": "stream",
     "text": [
      "r:  0.9989334745872673\n"
     ]
    },
    {
     "name": "stderr",
     "output_type": "stream",
     "text": [
      "2022-04-14 14:53:30,950 - pynamics.system - INFO - integration at time 0001.81\n",
      "2022-04-14 14:53:32,705 - pynamics.integration - INFO - finished integration\n",
      "2022-04-14 14:53:32,706 - pynamics.integration - INFO - beginning integration\n"
     ]
    },
    {
     "name": "stdout",
     "output_type": "stream",
     "text": [
      "r:  0.9993408510450658\n"
     ]
    },
    {
     "name": "stderr",
     "output_type": "stream",
     "text": [
      "2022-04-14 14:53:34,122 - pynamics.system - INFO - integration at time 0000.94\n",
      "2022-04-14 14:53:37,388 - pynamics.system - INFO - integration at time 0004.53\n",
      "2022-04-14 14:53:38,203 - pynamics.integration - INFO - finished integration\n",
      "2022-04-14 14:53:38,204 - pynamics.integration - INFO - beginning integration\n"
     ]
    },
    {
     "name": "stdout",
     "output_type": "stream",
     "text": [
      "r:  0.9995926235422017\n"
     ]
    },
    {
     "name": "stderr",
     "output_type": "stream",
     "text": [
      "2022-04-14 14:53:40,593 - pynamics.system - INFO - integration at time 0003.04\n",
      "2022-04-14 14:53:41,916 - pynamics.integration - INFO - finished integration\n",
      "2022-04-14 14:53:41,917 - pynamics.integration - INFO - beginning integration\n"
     ]
    },
    {
     "name": "stdout",
     "output_type": "stream",
     "text": [
      "r:  0.9997482275028641\n"
     ]
    },
    {
     "name": "stderr",
     "output_type": "stream",
     "text": [
      "2022-04-14 14:53:43,853 - pynamics.system - INFO - integration at time 0001.12\n",
      "2022-04-14 14:53:46,666 - pynamics.integration - INFO - finished integration\n",
      "2022-04-14 14:53:46,668 - pynamics.integration - INFO - beginning integration\n"
     ]
    },
    {
     "name": "stdout",
     "output_type": "stream",
     "text": [
      "r:  0.9998443960393376\n"
     ]
    },
    {
     "name": "stderr",
     "output_type": "stream",
     "text": [
      "2022-04-14 14:53:46,957 - pynamics.system - INFO - integration at time 0000.02\n",
      "2022-04-14 14:53:50,100 - pynamics.system - INFO - integration at time 0004.39\n",
      "2022-04-14 14:53:50,485 - pynamics.integration - INFO - finished integration\n",
      "2022-04-14 14:53:50,487 - pynamics.integration - INFO - beginning integration\n"
     ]
    },
    {
     "name": "stdout",
     "output_type": "stream",
     "text": [
      "r:  0.9999038314635265\n"
     ]
    },
    {
     "name": "stderr",
     "output_type": "stream",
     "text": [
      "2022-04-14 14:53:53,194 - pynamics.system - INFO - integration at time 0002.37\n",
      "2022-04-14 14:53:54,844 - pynamics.integration - INFO - finished integration\n",
      "2022-04-14 14:53:54,846 - pynamics.integration - INFO - beginning integration\n"
     ]
    },
    {
     "name": "stdout",
     "output_type": "stream",
     "text": [
      "r:  0.999940564575811\n"
     ]
    },
    {
     "name": "stderr",
     "output_type": "stream",
     "text": [
      "2022-04-14 14:53:56,269 - pynamics.system - INFO - integration at time 0001.03\n",
      "2022-04-14 14:53:59,010 - pynamics.integration - INFO - finished integration\n",
      "2022-04-14 14:53:59,011 - pynamics.integration - INFO - beginning integration\n"
     ]
    },
    {
     "name": "stdout",
     "output_type": "stream",
     "text": [
      "r:  0.9999632668877154\n"
     ]
    },
    {
     "name": "stderr",
     "output_type": "stream",
     "text": [
      "2022-04-14 14:53:59,360 - pynamics.system - INFO - integration at time 0000.03\n",
      "2022-04-14 14:54:02,525 - pynamics.system - INFO - integration at time 0004.45\n",
      "2022-04-14 14:54:02,948 - pynamics.integration - INFO - finished integration\n",
      "2022-04-14 14:54:02,951 - pynamics.integration - INFO - beginning integration\n"
     ]
    },
    {
     "name": "stdout",
     "output_type": "stream",
     "text": [
      "r:  0.9999799315735381\n"
     ]
    },
    {
     "name": "stderr",
     "output_type": "stream",
     "text": [
      "2022-04-14 14:54:05,541 - pynamics.system - INFO - integration at time 0003.31\n",
      "2022-04-14 14:54:06,972 - pynamics.integration - INFO - finished integration\n",
      "2022-04-14 14:54:06,974 - pynamics.integration - INFO - beginning integration\n"
     ]
    },
    {
     "name": "stdout",
     "output_type": "stream",
     "text": [
      "r:  0.4437694101250945\n"
     ]
    },
    {
     "name": "stderr",
     "output_type": "stream",
     "text": [
      "2022-04-14 14:54:08,492 - pynamics.system - INFO - integration at time 0000.93\n",
      "2022-04-14 14:54:11,436 - pynamics.system - INFO - integration at time 0004.31\n",
      "2022-04-14 14:54:11,490 - pynamics.integration - INFO - finished integration\n",
      "2022-04-14 14:54:11,492 - pynamics.integration - INFO - beginning integration\n"
     ]
    },
    {
     "name": "stdout",
     "output_type": "stream",
     "text": [
      "r:  0.6562305898749052\n"
     ]
    },
    {
     "name": "stderr",
     "output_type": "stream",
     "text": [
      "2022-04-14 14:54:14,397 - pynamics.system - INFO - integration at time 0004.96\n",
      "2022-04-14 14:54:14,405 - pynamics.integration - INFO - finished integration\n",
      "2022-04-14 14:54:14,406 - pynamics.integration - INFO - beginning integration\n"
     ]
    },
    {
     "name": "stdout",
     "output_type": "stream",
     "text": [
      "r:  0.7875388202501892\n"
     ]
    },
    {
     "name": "stderr",
     "output_type": "stream",
     "text": [
      "2022-04-14 14:54:17,372 - pynamics.system - INFO - integration at time 0004.95\n",
      "2022-04-14 14:54:17,382 - pynamics.integration - INFO - finished integration\n",
      "2022-04-14 14:54:17,384 - pynamics.integration - INFO - beginning integration\n"
     ]
    },
    {
     "name": "stdout",
     "output_type": "stream",
     "text": [
      "r:  0.7877560936006085\n"
     ]
    },
    {
     "name": "stderr",
     "output_type": "stream",
     "text": [
      "2022-04-14 14:54:20,517 - pynamics.system - INFO - integration at time 0003.67\n",
      "2022-04-14 14:54:21,055 - pynamics.integration - INFO - finished integration\n",
      "2022-04-14 14:54:21,056 - pynamics.integration - INFO - beginning integration\n"
     ]
    },
    {
     "name": "stdout",
     "output_type": "stream",
     "text": [
      "r:  0.8688260519401247\n"
     ]
    },
    {
     "name": "stderr",
     "output_type": "stream",
     "text": [
      "2022-04-14 14:54:23,640 - pynamics.system - INFO - integration at time 0003.21\n",
      "2022-04-14 14:54:24,361 - pynamics.integration - INFO - finished integration\n",
      "2022-04-14 14:54:24,363 - pynamics.integration - INFO - beginning integration\n"
     ]
    },
    {
     "name": "stdout",
     "output_type": "stream",
     "text": [
      "r:  0.9189300416604838\n"
     ]
    },
    {
     "name": "stderr",
     "output_type": "stream",
     "text": [
      "2022-04-14 14:54:26,855 - pynamics.system - INFO - integration at time 0003.04\n",
      "2022-04-14 14:54:27,798 - pynamics.integration - INFO - finished integration\n",
      "2022-04-14 14:54:27,800 - pynamics.integration - INFO - beginning integration\n"
     ]
    },
    {
     "name": "stdout",
     "output_type": "stream",
     "text": [
      "r:  0.949896010279641\n"
     ]
    },
    {
     "name": "stderr",
     "output_type": "stream",
     "text": [
      "2022-04-14 14:54:29,989 - pynamics.system - INFO - integration at time 0001.91\n",
      "2022-04-14 14:54:31,470 - pynamics.integration - INFO - finished integration\n",
      "2022-04-14 14:54:31,472 - pynamics.integration - INFO - beginning integration\n"
     ]
    },
    {
     "name": "stdout",
     "output_type": "stream",
     "text": [
      "r:  0.9690340313808428\n"
     ]
    },
    {
     "name": "stderr",
     "output_type": "stream",
     "text": [
      "2022-04-14 14:54:33,036 - pynamics.system - INFO - integration at time 0001.40\n",
      "2022-04-14 14:54:35,285 - pynamics.integration - INFO - finished integration\n",
      "2022-04-14 14:54:35,286 - pynamics.integration - INFO - beginning integration\n"
     ]
    },
    {
     "name": "stdout",
     "output_type": "stream",
     "text": [
      "r:  0.9808619788987982\n"
     ]
    },
    {
     "name": "stderr",
     "output_type": "stream",
     "text": [
      "2022-04-14 14:54:36,063 - pynamics.system - INFO - integration at time 0000.23\n",
      "2022-04-14 14:54:39,075 - pynamics.system - INFO - integration at time 0003.59\n",
      "2022-04-14 14:54:40,298 - pynamics.integration - INFO - finished integration\n",
      "2022-04-14 14:54:40,299 - pynamics.integration - INFO - beginning integration\n"
     ]
    },
    {
     "name": "stdout",
     "output_type": "stream",
     "text": [
      "r:  0.9881720524820445\n"
     ]
    },
    {
     "name": "stderr",
     "output_type": "stream",
     "text": [
      "2022-04-14 14:54:42,119 - pynamics.system - INFO - integration at time 0001.33\n",
      "2022-04-14 14:54:43,987 - pynamics.integration - INFO - finished integration\n",
      "2022-04-14 14:54:43,988 - pynamics.integration - INFO - beginning integration\n"
     ]
    },
    {
     "name": "stdout",
     "output_type": "stream",
     "text": [
      "r:  0.9926899264167536\n"
     ]
    },
    {
     "name": "stderr",
     "output_type": "stream",
     "text": [
      "2022-04-14 14:54:45,170 - pynamics.system - INFO - integration at time 0000.81\n",
      "2022-04-14 14:54:47,966 - pynamics.integration - INFO - finished integration\n",
      "2022-04-14 14:54:47,967 - pynamics.integration - INFO - beginning integration\n"
     ]
    },
    {
     "name": "stdout",
     "output_type": "stream",
     "text": [
      "r:  0.995482126065291\n"
     ]
    },
    {
     "name": "stderr",
     "output_type": "stream",
     "text": [
      "2022-04-14 14:54:48,194 - pynamics.system - INFO - integration at time 0000.01\n",
      "2022-04-14 14:54:51,210 - pynamics.system - INFO - integration at time 0003.34\n",
      "2022-04-14 14:54:52,534 - pynamics.integration - INFO - finished integration\n",
      "2022-04-14 14:54:52,535 - pynamics.integration - INFO - beginning integration\n"
     ]
    },
    {
     "name": "stdout",
     "output_type": "stream",
     "text": [
      "r:  0.9972078003514626\n"
     ]
    },
    {
     "name": "stderr",
     "output_type": "stream",
     "text": [
      "2022-04-14 14:54:54,238 - pynamics.system - INFO - integration at time 0001.46\n",
      "2022-04-14 14:54:56,077 - pynamics.integration - INFO - finished integration\n",
      "2022-04-14 14:54:56,078 - pynamics.integration - INFO - beginning integration\n"
     ]
    },
    {
     "name": "stdout",
     "output_type": "stream",
     "text": [
      "r:  0.9982743257138283\n"
     ]
    },
    {
     "name": "stderr",
     "output_type": "stream",
     "text": [
      "2022-04-14 14:54:57,262 - pynamics.system - INFO - integration at time 0000.86\n",
      "2022-04-14 14:54:59,577 - pynamics.integration - INFO - finished integration\n",
      "2022-04-14 14:54:59,578 - pynamics.integration - INFO - beginning integration\n"
     ]
    },
    {
     "name": "stdout",
     "output_type": "stream",
     "text": [
      "r:  0.9989334746376343\n"
     ]
    },
    {
     "name": "stderr",
     "output_type": "stream",
     "text": [
      "2022-04-14 14:55:00,271 - pynamics.system - INFO - integration at time 0000.16\n",
      "2022-04-14 14:55:02,921 - pynamics.integration - INFO - finished integration\n",
      "2022-04-14 14:55:02,922 - pynamics.integration - INFO - beginning integration\n"
     ]
    },
    {
     "name": "stdout",
     "output_type": "stream",
     "text": [
      "r:  0.9993408510761942\n"
     ]
    },
    {
     "name": "stderr",
     "output_type": "stream",
     "text": [
      "2022-04-14 14:55:03,300 - pynamics.system - INFO - integration at time 0000.04\n",
      "2022-04-14 14:55:06,304 - pynamics.system - INFO - integration at time 0003.28\n",
      "2022-04-14 14:55:07,118 - pynamics.integration - INFO - finished integration\n",
      "2022-04-14 14:55:07,120 - pynamics.integration - INFO - beginning integration\n"
     ]
    },
    {
     "name": "stdout",
     "output_type": "stream",
     "text": [
      "r:  0.9995926235614401\n"
     ]
    },
    {
     "name": "stderr",
     "output_type": "stream",
     "text": [
      "2022-04-14 14:55:09,291 - pynamics.system - INFO - integration at time 0002.13\n",
      "2022-04-14 14:55:11,066 - pynamics.integration - INFO - finished integration\n",
      "2022-04-14 14:55:11,067 - pynamics.integration - INFO - beginning integration\n"
     ]
    },
    {
     "name": "stdout",
     "output_type": "stream",
     "text": [
      "r:  0.9997482275147541\n"
     ]
    },
    {
     "name": "stderr",
     "output_type": "stream",
     "text": [
      "2022-04-14 14:55:12,308 - pynamics.system - INFO - integration at time 0000.92\n",
      "2022-04-14 14:55:15,248 - pynamics.system - INFO - integration at time 0004.19\n",
      "2022-04-14 14:55:15,588 - pynamics.integration - INFO - finished integration\n",
      "2022-04-14 14:55:15,589 - pynamics.integration - INFO - beginning integration\n"
     ]
    },
    {
     "name": "stdout",
     "output_type": "stream",
     "text": [
      "r:  0.999844396046686\n"
     ]
    },
    {
     "name": "stderr",
     "output_type": "stream",
     "text": [
      "2022-04-14 14:55:18,203 - pynamics.system - INFO - integration at time 0003.71\n",
      "2022-04-14 14:55:19,359 - pynamics.integration - INFO - finished integration\n",
      "2022-04-14 14:55:19,361 - pynamics.integration - INFO - beginning integration\n"
     ]
    },
    {
     "name": "stdout",
     "output_type": "stream",
     "text": [
      "r:  0.999903831468068\n"
     ]
    },
    {
     "name": "stderr",
     "output_type": "stream",
     "text": [
      "2022-04-14 14:55:21,182 - pynamics.system - INFO - integration at time 0001.31\n",
      "2022-04-14 14:55:23,750 - pynamics.integration - INFO - finished integration\n",
      "2022-04-14 14:55:23,752 - pynamics.integration - INFO - beginning integration\n"
     ]
    },
    {
     "name": "stdout",
     "output_type": "stream",
     "text": [
      "r:  0.9999405645786179\n"
     ]
    },
    {
     "name": "stderr",
     "output_type": "stream",
     "text": [
      "2022-04-14 14:55:24,259 - pynamics.system - INFO - integration at time 0000.08\n",
      "2022-04-14 14:55:27,268 - pynamics.system - INFO - integration at time 0004.70\n",
      "2022-04-14 14:55:27,641 - pynamics.integration - INFO - finished integration\n",
      "2022-04-14 14:55:27,642 - pynamics.integration - INFO - beginning integration\n"
     ]
    },
    {
     "name": "stdout",
     "output_type": "stream",
     "text": [
      "r:  0.9999632668894501\n"
     ]
    },
    {
     "name": "stderr",
     "output_type": "stream",
     "text": [
      "2022-04-14 14:55:30,226 - pynamics.system - INFO - integration at time 0002.92\n",
      "2022-04-14 14:55:31,315 - pynamics.integration - INFO - finished integration\n",
      "2022-04-14 14:55:31,316 - pynamics.integration - INFO - beginning integration\n"
     ]
    },
    {
     "name": "stdout",
     "output_type": "stream",
     "text": [
      "r:  0.9999772976891678\n"
     ]
    },
    {
     "name": "stderr",
     "output_type": "stream",
     "text": [
      "2022-04-14 14:55:33,159 - pynamics.system - INFO - integration at time 0001.94\n",
      "2022-04-14 14:55:35,071 - pynamics.integration - INFO - finished integration\n",
      "2022-04-14 14:55:35,073 - pynamics.integration - INFO - beginning integration\n"
     ]
    },
    {
     "name": "stdout",
     "output_type": "stream",
     "text": [
      "r:  0.9999859692002825\n"
     ]
    },
    {
     "name": "stderr",
     "output_type": "stream",
     "text": [
      "2022-04-14 14:55:36,086 - pynamics.system - INFO - integration at time 0000.58\n",
      "2022-04-14 14:55:38,863 - pynamics.integration - INFO - finished integration\n",
      "2022-04-14 14:55:38,864 - pynamics.integration - INFO - beginning integration\n",
      "2022-04-14 14:55:39,014 - pynamics.system - INFO - integration at time 0000.01\n"
     ]
    },
    {
     "name": "stdout",
     "output_type": "stream",
     "text": [
      "r:  0.9999913284888853\n"
     ]
    },
    {
     "name": "stderr",
     "output_type": "stream",
     "text": [
      "2022-04-14 14:55:42,021 - pynamics.system - INFO - integration at time 0004.16\n",
      "2022-04-14 14:55:42,674 - pynamics.integration - INFO - finished integration\n",
      "2022-04-14 14:55:42,675 - pynamics.integration - INFO - beginning integration\n"
     ]
    },
    {
     "name": "stdout",
     "output_type": "stream",
     "text": [
      "r:  0.9999946407113972\n"
     ]
    },
    {
     "name": "stderr",
     "output_type": "stream",
     "text": [
      "2022-04-14 14:55:45,062 - pynamics.system - INFO - integration at time 0001.58\n",
      "2022-04-14 14:55:47,527 - pynamics.integration - INFO - finished integration\n",
      "2022-04-14 14:55:47,529 - pynamics.integration - INFO - beginning integration\n"
     ]
    },
    {
     "name": "stdout",
     "output_type": "stream",
     "text": [
      "r:  0.999996687777488\n"
     ]
    },
    {
     "name": "stderr",
     "output_type": "stream",
     "text": [
      "2022-04-14 14:55:48,079 - pynamics.system - INFO - integration at time 0000.10\n",
      "2022-04-14 14:55:51,097 - pynamics.system - INFO - integration at time 0003.37\n",
      "2022-04-14 14:55:52,183 - pynamics.integration - INFO - finished integration\n",
      "2022-04-14 14:55:52,185 - pynamics.integration - INFO - beginning integration\n"
     ]
    },
    {
     "name": "stdout",
     "output_type": "stream",
     "text": [
      "r:  0.9999979529339093\n"
     ]
    },
    {
     "name": "stderr",
     "output_type": "stream",
     "text": [
      "2022-04-14 14:55:54,094 - pynamics.system - INFO - integration at time 0001.79\n",
      "2022-04-14 14:55:55,518 - pynamics.integration - INFO - finished integration\n",
      "2022-04-14 14:55:55,519 - pynamics.integration - INFO - beginning integration\n"
     ]
    },
    {
     "name": "stdout",
     "output_type": "stream",
     "text": [
      "r:  0.9999987348435787\n"
     ]
    },
    {
     "name": "stderr",
     "output_type": "stream",
     "text": [
      "2022-04-14 14:55:57,089 - pynamics.system - INFO - integration at time 0001.27\n",
      "2022-04-14 14:55:59,053 - pynamics.integration - INFO - finished integration\n",
      "2022-04-14 14:55:59,055 - pynamics.integration - INFO - beginning integration\n"
     ]
    },
    {
     "name": "stdout",
     "output_type": "stream",
     "text": [
      "r:  0.9999992180903305\n"
     ]
    },
    {
     "name": "stderr",
     "output_type": "stream",
     "text": [
      "2022-04-14 14:56:00,105 - pynamics.system - INFO - integration at time 0000.64\n",
      "2022-04-14 14:56:03,005 - pynamics.integration - INFO - finished integration\n",
      "2022-04-14 14:56:03,007 - pynamics.integration - INFO - beginning integration\n",
      "2022-04-14 14:56:03,133 - pynamics.system - INFO - integration at time 0000.00\n"
     ]
    },
    {
     "name": "stdout",
     "output_type": "stream",
     "text": [
      "r:  0.9999995167532482\n"
     ]
    },
    {
     "name": "stderr",
     "output_type": "stream",
     "text": [
      "2022-04-14 14:56:06,075 - pynamics.system - INFO - integration at time 0003.79\n",
      "2022-04-14 14:56:07,014 - pynamics.integration - INFO - finished integration\n",
      "2022-04-14 14:56:07,015 - pynamics.integration - INFO - beginning integration\n"
     ]
    },
    {
     "name": "stdout",
     "output_type": "stream",
     "text": [
      "r:  0.9999997013370824\n"
     ]
    },
    {
     "name": "stderr",
     "output_type": "stream",
     "text": [
      "2022-04-14 14:56:09,055 - pynamics.system - INFO - integration at time 0001.53\n",
      "2022-04-14 14:56:11,405 - pynamics.integration - INFO - finished integration\n",
      "2022-04-14 14:56:11,406 - pynamics.integration - INFO - beginning integration\n"
     ]
    },
    {
     "name": "stdout",
     "output_type": "stream",
     "text": [
      "r:  0.9999998154161658\n"
     ]
    },
    {
     "name": "stderr",
     "output_type": "stream",
     "text": [
      "2022-04-14 14:56:12,017 - pynamics.system - INFO - integration at time 0000.13\n",
      "2022-04-14 14:56:14,982 - pynamics.system - INFO - integration at time 0004.42\n",
      "2022-04-14 14:56:15,348 - pynamics.integration - INFO - finished integration\n",
      "2022-04-14 14:56:15,349 - pynamics.integration - INFO - beginning integration\n"
     ]
    },
    {
     "name": "stdout",
     "output_type": "stream",
     "text": [
      "r:  0.9999997788400657\n"
     ]
    },
    {
     "name": "stderr",
     "output_type": "stream",
     "text": [
      "2022-04-14 14:56:17,965 - pynamics.system - INFO - integration at time 0002.99\n",
      "2022-04-14 14:56:19,000 - pynamics.integration - INFO - finished integration\n",
      "2022-04-14 14:56:19,001 - pynamics.integration - INFO - beginning integration\n"
     ]
    },
    {
     "name": "stdout",
     "output_type": "stream",
     "text": [
      "r:  0.999999761022426\n"
     ]
    },
    {
     "name": "stderr",
     "output_type": "stream",
     "text": [
      "2022-04-14 14:56:20,951 - pynamics.system - INFO - integration at time 0001.70\n",
      "2022-04-14 14:56:22,800 - pynamics.integration - INFO - finished integration\n",
      "2022-04-14 14:56:22,801 - pynamics.integration - INFO - beginning integration\n"
     ]
    },
    {
     "name": "stdout",
     "output_type": "stream",
     "text": [
      "r:  0.9999997887178371\n"
     ]
    },
    {
     "name": "stderr",
     "output_type": "stream",
     "text": [
      "2022-04-14 14:56:23,992 - pynamics.system - INFO - integration at time 0000.72\n",
      "2022-04-14 14:56:26,638 - pynamics.integration - INFO - finished integration\n",
      "2022-04-14 14:56:26,639 - pynamics.integration - INFO - beginning integration\n"
     ]
    },
    {
     "name": "stdout",
     "output_type": "stream",
     "text": [
      "r:  0.999999772034333\n"
     ]
    },
    {
     "name": "stderr",
     "output_type": "stream",
     "text": [
      "2022-04-14 14:56:27,013 - pynamics.system - INFO - integration at time 0000.04\n",
      "2022-04-14 14:56:29,953 - pynamics.system - INFO - integration at time 0004.87\n",
      "2022-04-14 14:56:30,171 - pynamics.integration - INFO - finished integration\n",
      "2022-04-14 14:56:30,172 - pynamics.integration - INFO - beginning integration\n"
     ]
    },
    {
     "name": "stdout",
     "output_type": "stream",
     "text": [
      "r:  0.9999997678281588\n"
     ]
    },
    {
     "name": "stderr",
     "output_type": "stream",
     "text": [
      "2022-04-14 14:56:32,899 - pynamics.system - INFO - integration at time 0003.18\n",
      "2022-04-14 14:56:34,103 - pynamics.integration - INFO - finished integration\n",
      "2022-04-14 14:56:34,104 - pynamics.integration - INFO - beginning integration\n"
     ]
    },
    {
     "name": "stdout",
     "output_type": "stream",
     "text": [
      "r:  0.9999997746338916\n"
     ]
    },
    {
     "name": "stderr",
     "output_type": "stream",
     "text": [
      "2022-04-14 14:56:35,889 - pynamics.system - INFO - integration at time 0001.52\n",
      "2022-04-14 14:56:38,274 - pynamics.integration - INFO - finished integration\n",
      "2022-04-14 14:56:38,275 - pynamics.integration - INFO - beginning integration\n"
     ]
    },
    {
     "name": "stdout",
     "output_type": "stream",
     "text": [
      "r:  0.9999997704277174\n"
     ]
    },
    {
     "name": "stderr",
     "output_type": "stream",
     "text": [
      "2022-04-14 14:56:38,834 - pynamics.system - INFO - integration at time 0000.11\n",
      "2022-04-14 14:56:41,762 - pynamics.system - INFO - integration at time 0004.74\n",
      "2022-04-14 14:56:41,891 - pynamics.integration - INFO - finished integration\n"
     ]
    }
   ],
   "source": [
    "result = scipy.optimize.minimize(measure_perf,[.5],method='powell',bounds=[(.1,1)])\n",
    "best = result.x"
   ]
  },
  {
   "cell_type": "code",
   "execution_count": 21,
   "id": "15e72800",
   "metadata": {
    "scrolled": true
   },
   "outputs": [
    {
     "name": "stderr",
     "output_type": "stream",
     "text": [
      "2022-04-14 14:56:41,896 - pynamics.integration - INFO - beginning integration\n",
      "<lambdifygenerated-1>:2: VisibleDeprecationWarning: Creating an ndarray from ragged nested sequences (which is a list-or-tuple of lists-or-tuples-or ndarrays with different lengths or shapes) is deprecated. If you meant to do this, you must specify 'dtype=object' when creating the ndarray.\n",
      "  return array([[0.314159265358979*r**2, 0, 0, 0, 0, 0], [0, 0.314159265358979*r**2, 0, 0, 0, 0], [0, 0, 0.314159265358979*r**2, 0, 0, 0], [0, 0, 0, I_11*sin(qB)**2 + (I_11*sin(qC)**2*cos(qB) + I_11*cos(qB)*cos(qC)**2)*cos(qB), 0, I_11*sin(qB)], [0, 0, 0, 0, I_11*sin(qC)**2 + I_11*cos(qC)**2, 0], [0, 0, 0, I_11*sin(qB), 0, I_11]])\n",
      "<lambdifygenerated-2>:2: VisibleDeprecationWarning: Creating an ndarray from ragged nested sequences (which is a list-or-tuple of lists-or-tuples-or ndarrays with different lengths or shapes) is deprecated. If you meant to do this, you must specify 'dtype=object' when creating the ndarray.\n",
      "  return array([[-6.28318530717959*r**2*rho*(sin(qE)*cos(qC) - sin(qC)*cos(qE))*(-l*(qA_d*sin(qB) + qC_d)*cos(qE) - le*(qA_d*sin(qB) + qC_d) + (y_d*cos(qA) + z_d*sin(qA))*(sin(qE)*sin(qC) + cos(qE)*cos(qC)) + (sin(qE)*cos(qC) - sin(qC)*cos(qE))*(x_d*cos(qB) + y_d*sin(qA)*sin(qB) - z_d*sin(qB)*cos(qA)))*sqrt(l**2*(qA_d*sin(qB) + qC_d)**2 + l**2*(-qA_d*sin(qC)*cos(qB) + qB_d*cos(qC))**2 + 2*l*le*(qA_d*(sin(qE)*cos(qB)*cos(qC) - sin(qC)*cos(qE)*cos(qB)) + qB_d*(sin(qE)*sin(qC) + cos(qE)*cos(qC)))*(-qA_d*sin(qC)*cos(qB) + qB_d*cos(qC)) + 2*l*le*(qA_d*sin(qB) + qC_d)**2*cos(qE) - 2*l*(qA_d*sin(qB) + qC_d)*(y_d*cos(qA) + z_d*sin(qA))*cos(qC) + l*(qA_d*sin(qB) + qC_d)*(x_d*cos(qB) + y_d*sin(qA)*sin(qB) - z_d*sin(qB)*cos(qA))*sin(qC) + l*(-qA_d*sin(qC)*cos(qB) + qB_d*cos(qC))*(x_d*sin(qB) - y_d*sin(qA)*cos(qB) + z_d*cos(qA)*cos(qB)) + le**2*(qA_d*(sin(qE)*cos(qB)*cos(qC) - sin(qC)*cos(qE)*cos(qB)) + qB_d*(sin(qE)*sin(qC) + cos(qE)*cos(qC)))**2 + le**2*(qA_d*sin(qB) + qC_d)**2 + 2*le*(qA_d*(sin(qE)*cos(qB)*cos(qC) - sin(qC)*cos(qE)*cos(qB)) + qB_d*(sin(qE)*sin(qC) + cos(qE)*cos(qC)))*(x_d*sin(qB) - y_d*sin(qA)*cos(qB) + z_d*cos(qA)*cos(qB)) - 2*le*(qA_d*sin(qB) + qC_d)*(y_d*cos(qA) + z_d*sin(qA))*(sin(qE)*sin(qC) + cos(qE)*cos(qC)) - 2*le*(qA_d*sin(qB) + qC_d)*(sin(qE)*cos(qC) - sin(qC)*cos(qE))*(x_d*cos(qB) + y_d*sin(qA)*sin(qB) - z_d*sin(qB)*cos(qA)) + x_d**2 + x_d*(l*(qA_d*sin(qB) + qC_d)*sin(qC)*cos(qB) + l*(-qA_d*sin(qC)*cos(qB) + qB_d*cos(qC))*sin(qB)) + y_d**2 + z_d**2 + (-y_d*sin(qA) + z_d*cos(qA))*(-l*(qA_d*sin(qB) + qC_d)*sin(qB)*sin(qC) + l*(-qA_d*sin(qC)*cos(qB) + qB_d*cos(qC))*cos(qB)))*cos(qB) + 6.28318530717959*r**2*rho*(-lw*(qA_d*sin(qB) + qC_d) - x_d*sin(qC)*cos(qB) + (-y_d*sin(qA) + z_d*cos(qA))*sin(qB)*sin(qC) + (y_d*cos(qA) + z_d*sin(qA))*cos(qC))*sqrt(lw**2*(qA_d*sin(qB) + qC_d)**2 + lw**2*(-qA_d*sin(qC)*cos(qB) + qB_d*cos(qC))**2 - 2*lw*(qA_d*sin(qB) + qC_d)*(y_d*cos(qA) + z_d*sin(qA))*cos(qC) + lw*(qA_d*sin(qB) + qC_d)*(x_d*cos(qB) + y_d*sin(qA)*sin(qB) - z_d*sin(qB)*cos(qA))*sin(qC) + lw*(-qA_d*sin(qC)*cos(qB) + qB_d*cos(qC))*(x_d*sin(qB) - y_d*sin(qA)*cos(qB) + z_d*cos(qA)*cos(qB)) + x_d**2 + x_d*(lw*(qA_d*sin(qB) + qC_d)*sin(qC)*cos(qB) + lw*(-qA_d*sin(qC)*cos(qB) + qB_d*cos(qC))*sin(qB)) + y_d**2 + z_d**2 + (-y_d*sin(qA) + z_d*cos(qA))*(-lw*(qA_d*sin(qB) + qC_d)*sin(qB)*sin(qC) + lw*(-qA_d*sin(qC)*cos(qB) + qB_d*cos(qC))*cos(qB)))*sin(qC)*cos(qB) - 0.00628318530717959*rho*(sin(qE)*sin(qC) + cos(qE)*cos(qC))*(l*(qA_d*sin(qB) + qC_d)*sin(qE) + (y_d*cos(qA) + z_d*sin(qA))*(-sin(qE)*cos(qC) + sin(qC)*cos(qE)) + (sin(qE)*sin(qC) + cos(qE)*cos(qC))*(x_d*cos(qB) + y_d*sin(qA)*sin(qB) - z_d*sin(qB)*cos(qA)))*sqrt(l**2*(qA_d*sin(qB) + qC_d)**2 + l**2*(-qA_d*sin(qC)*cos(qB) + qB_d*cos(qC))**2 + 2*l*le*(qA_d*(sin(qE)*cos(qB)*cos(qC) - sin(qC)*cos(qE)*cos(qB)) + qB_d*(sin(qE)*sin(qC) + cos(qE)*cos(qC)))*(-qA_d*sin(qC)*cos(qB) + qB_d*cos(qC)) + 2*l*le*(qA_d*sin(qB) + qC_d)**2*cos(qE) - 2*l*(qA_d*sin(qB) + qC_d)*(y_d*cos(qA) + z_d*sin(qA))*cos(qC) + l*(qA_d*sin(qB) + qC_d)*(x_d*cos(qB) + y_d*sin(qA)*sin(qB) - z_d*sin(qB)*cos(qA))*sin(qC) + l*(-qA_d*sin(qC)*cos(qB) + qB_d*cos(qC))*(x_d*sin(qB) - y_d*sin(qA)*cos(qB) + z_d*cos(qA)*cos(qB)) + le**2*(qA_d*(sin(qE)*cos(qB)*cos(qC) - sin(qC)*cos(qE)*cos(qB)) + qB_d*(sin(qE)*sin(qC) + cos(qE)*cos(qC)))**2 + le**2*(qA_d*sin(qB) + qC_d)**2 + 2*le*(qA_d*(sin(qE)*cos(qB)*cos(qC) - sin(qC)*cos(qE)*cos(qB)) + qB_d*(sin(qE)*sin(qC) + cos(qE)*cos(qC)))*(x_d*sin(qB) - y_d*sin(qA)*cos(qB) + z_d*cos(qA)*cos(qB)) - 2*le*(qA_d*sin(qB) + qC_d)*(y_d*cos(qA) + z_d*sin(qA))*(sin(qE)*sin(qC) + cos(qE)*cos(qC)) - 2*le*(qA_d*sin(qB) + qC_d)*(sin(qE)*cos(qC) - sin(qC)*cos(qE))*(x_d*cos(qB) + y_d*sin(qA)*sin(qB) - z_d*sin(qB)*cos(qA)) + x_d**2 + x_d*(l*(qA_d*sin(qB) + qC_d)*sin(qC)*cos(qB) + l*(-qA_d*sin(qC)*cos(qB) + qB_d*cos(qC))*sin(qB)) + y_d**2 + z_d**2 + (-y_d*sin(qA) + z_d*cos(qA))*(-l*(qA_d*sin(qB) + qC_d)*sin(qB)*sin(qC) + l*(-qA_d*sin(qC)*cos(qB) + qB_d*cos(qC))*cos(qB)))*cos(qB) - 0.00628318530717959*rho*(x_d*cos(qB)*cos(qC) - (-y_d*sin(qA) + z_d*cos(qA))*sin(qB)*cos(qC) + (y_d*cos(qA) + z_d*sin(qA))*sin(qC))*sqrt(lw**2*(qA_d*sin(qB) + qC_d)**2 + lw**2*(-qA_d*sin(qC)*cos(qB) + qB_d*cos(qC))**2 - 2*lw*(qA_d*sin(qB) + qC_d)*(y_d*cos(qA) + z_d*sin(qA))*cos(qC) + lw*(qA_d*sin(qB) + qC_d)*(x_d*cos(qB) + y_d*sin(qA)*sin(qB) - z_d*sin(qB)*cos(qA))*sin(qC) + lw*(-qA_d*sin(qC)*cos(qB) + qB_d*cos(qC))*(x_d*sin(qB) - y_d*sin(qA)*cos(qB) + z_d*cos(qA)*cos(qB)) + x_d**2 + x_d*(lw*(qA_d*sin(qB) + qC_d)*sin(qC)*cos(qB) + lw*(-qA_d*sin(qC)*cos(qB) + qB_d*cos(qC))*sin(qB)) + y_d**2 + z_d**2 + (-y_d*sin(qA) + z_d*cos(qA))*(-lw*(qA_d*sin(qB) + qC_d)*sin(qB)*sin(qC) + lw*(-qA_d*sin(qC)*cos(qB) + qB_d*cos(qC))*cos(qB)))*cos(qB)*cos(qC)], [-0.314159265358979*g*r**2 - 6.28318530717959*r**2*rho*(sin(qE)*sin(qC) + cos(qE)*cos(qC))*(-l*(qA_d*sin(qB) + qC_d)*cos(qE) - le*(qA_d*sin(qB) + qC_d) + (y_d*cos(qA) + z_d*sin(qA))*(sin(qE)*sin(qC) + cos(qE)*cos(qC)) + (sin(qE)*cos(qC) - sin(qC)*cos(qE))*(x_d*cos(qB) + y_d*sin(qA)*sin(qB) - z_d*sin(qB)*cos(qA)))*sqrt(l**2*(qA_d*sin(qB) + qC_d)**2 + l**2*(-qA_d*sin(qC)*cos(qB) + qB_d*cos(qC))**2 + 2*l*le*(qA_d*(sin(qE)*cos(qB)*cos(qC) - sin(qC)*cos(qE)*cos(qB)) + qB_d*(sin(qE)*sin(qC) + cos(qE)*cos(qC)))*(-qA_d*sin(qC)*cos(qB) + qB_d*cos(qC)) + 2*l*le*(qA_d*sin(qB) + qC_d)**2*cos(qE) - 2*l*(qA_d*sin(qB) + qC_d)*(y_d*cos(qA) + z_d*sin(qA))*cos(qC) + l*(qA_d*sin(qB) + qC_d)*(x_d*cos(qB) + y_d*sin(qA)*sin(qB) - z_d*sin(qB)*cos(qA))*sin(qC) + l*(-qA_d*sin(qC)*cos(qB) + qB_d*cos(qC))*(x_d*sin(qB) - y_d*sin(qA)*cos(qB) + z_d*cos(qA)*cos(qB)) + le**2*(qA_d*(sin(qE)*cos(qB)*cos(qC) - sin(qC)*cos(qE)*cos(qB)) + qB_d*(sin(qE)*sin(qC) + cos(qE)*cos(qC)))**2 + le**2*(qA_d*sin(qB) + qC_d)**2 + 2*le*(qA_d*(sin(qE)*cos(qB)*cos(qC) - sin(qC)*cos(qE)*cos(qB)) + qB_d*(sin(qE)*sin(qC) + cos(qE)*cos(qC)))*(x_d*sin(qB) - y_d*sin(qA)*cos(qB) + z_d*cos(qA)*cos(qB)) - 2*le*(qA_d*sin(qB) + qC_d)*(y_d*cos(qA) + z_d*sin(qA))*(sin(qE)*sin(qC) + cos(qE)*cos(qC)) - 2*le*(qA_d*sin(qB) + qC_d)*(sin(qE)*cos(qC) - sin(qC)*cos(qE))*(x_d*cos(qB) + y_d*sin(qA)*sin(qB) - z_d*sin(qB)*cos(qA)) + x_d**2 + x_d*(l*(qA_d*sin(qB) + qC_d)*sin(qC)*cos(qB) + l*(-qA_d*sin(qC)*cos(qB) + qB_d*cos(qC))*sin(qB)) + y_d**2 + z_d**2 + (-y_d*sin(qA) + z_d*cos(qA))*(-l*(qA_d*sin(qB) + qC_d)*sin(qB)*sin(qC) + l*(-qA_d*sin(qC)*cos(qB) + qB_d*cos(qC))*cos(qB)))*cos(qA) - 6.28318530717959*r**2*rho*(sin(qE)*cos(qC) - sin(qC)*cos(qE))*(-l*(qA_d*sin(qB) + qC_d)*cos(qE) - le*(qA_d*sin(qB) + qC_d) + (y_d*cos(qA) + z_d*sin(qA))*(sin(qE)*sin(qC) + cos(qE)*cos(qC)) + (sin(qE)*cos(qC) - sin(qC)*cos(qE))*(x_d*cos(qB) + y_d*sin(qA)*sin(qB) - z_d*sin(qB)*cos(qA)))*sqrt(l**2*(qA_d*sin(qB) + qC_d)**2 + l**2*(-qA_d*sin(qC)*cos(qB) + qB_d*cos(qC))**2 + 2*l*le*(qA_d*(sin(qE)*cos(qB)*cos(qC) - sin(qC)*cos(qE)*cos(qB)) + qB_d*(sin(qE)*sin(qC) + cos(qE)*cos(qC)))*(-qA_d*sin(qC)*cos(qB) + qB_d*cos(qC)) + 2*l*le*(qA_d*sin(qB) + qC_d)**2*cos(qE) - 2*l*(qA_d*sin(qB) + qC_d)*(y_d*cos(qA) + z_d*sin(qA))*cos(qC) + l*(qA_d*sin(qB) + qC_d)*(x_d*cos(qB) + y_d*sin(qA)*sin(qB) - z_d*sin(qB)*cos(qA))*sin(qC) + l*(-qA_d*sin(qC)*cos(qB) + qB_d*cos(qC))*(x_d*sin(qB) - y_d*sin(qA)*cos(qB) + z_d*cos(qA)*cos(qB)) + le**2*(qA_d*(sin(qE)*cos(qB)*cos(qC) - sin(qC)*cos(qE)*cos(qB)) + qB_d*(sin(qE)*sin(qC) + cos(qE)*cos(qC)))**2 + le**2*(qA_d*sin(qB) + qC_d)**2 + 2*le*(qA_d*(sin(qE)*cos(qB)*cos(qC) - sin(qC)*cos(qE)*cos(qB)) + qB_d*(sin(qE)*sin(qC) + cos(qE)*cos(qC)))*(x_d*sin(qB) - y_d*sin(qA)*cos(qB) + z_d*cos(qA)*cos(qB)) - 2*le*(qA_d*sin(qB) + qC_d)*(y_d*cos(qA) + z_d*sin(qA))*(sin(qE)*sin(qC) + cos(qE)*cos(qC)) - 2*le*(qA_d*sin(qB) + qC_d)*(sin(qE)*cos(qC) - sin(qC)*cos(qE))*(x_d*cos(qB) + y_d*sin(qA)*sin(qB) - z_d*sin(qB)*cos(qA)) + x_d**2 + x_d*(l*(qA_d*sin(qB) + qC_d)*sin(qC)*cos(qB) + l*(-qA_d*sin(qC)*cos(qB) + qB_d*cos(qC))*sin(qB)) + y_d**2 + z_d**2 + (-y_d*sin(qA) + z_d*cos(qA))*(-l*(qA_d*sin(qB) + qC_d)*sin(qB)*sin(qC) + l*(-qA_d*sin(qC)*cos(qB) + qB_d*cos(qC))*cos(qB)))*sin(qA)*sin(qB) + 6.28318530717959*r**2*rho*(-lw*(qA_d*sin(qB) + qC_d) - x_d*sin(qC)*cos(qB) + (-y_d*sin(qA) + z_d*cos(qA))*sin(qB)*sin(qC) + (y_d*cos(qA) + z_d*sin(qA))*cos(qC))*sqrt(lw**2*(qA_d*sin(qB) + qC_d)**2 + lw**2*(-qA_d*sin(qC)*cos(qB) + qB_d*cos(qC))**2 - 2*lw*(qA_d*sin(qB) + qC_d)*(y_d*cos(qA) + z_d*sin(qA))*cos(qC) + lw*(qA_d*sin(qB) + qC_d)*(x_d*cos(qB) + y_d*sin(qA)*sin(qB) - z_d*sin(qB)*cos(qA))*sin(qC) + lw*(-qA_d*sin(qC)*cos(qB) + qB_d*cos(qC))*(x_d*sin(qB) - y_d*sin(qA)*cos(qB) + z_d*cos(qA)*cos(qB)) + x_d**2 + x_d*(lw*(qA_d*sin(qB) + qC_d)*sin(qC)*cos(qB) + lw*(-qA_d*sin(qC)*cos(qB) + qB_d*cos(qC))*sin(qB)) + y_d**2 + z_d**2 + (-y_d*sin(qA) + z_d*cos(qA))*(-lw*(qA_d*sin(qB) + qC_d)*sin(qB)*sin(qC) + lw*(-qA_d*sin(qC)*cos(qB) + qB_d*cos(qC))*cos(qB)))*sin(qA)*sin(qB)*sin(qC) - 6.28318530717959*r**2*rho*(-lw*(qA_d*sin(qB) + qC_d) - x_d*sin(qC)*cos(qB) + (-y_d*sin(qA) + z_d*cos(qA))*sin(qB)*sin(qC) + (y_d*cos(qA) + z_d*sin(qA))*cos(qC))*sqrt(lw**2*(qA_d*sin(qB) + qC_d)**2 + lw**2*(-qA_d*sin(qC)*cos(qB) + qB_d*cos(qC))**2 - 2*lw*(qA_d*sin(qB) + qC_d)*(y_d*cos(qA) + z_d*sin(qA))*cos(qC) + lw*(qA_d*sin(qB) + qC_d)*(x_d*cos(qB) + y_d*sin(qA)*sin(qB) - z_d*sin(qB)*cos(qA))*sin(qC) + lw*(-qA_d*sin(qC)*cos(qB) + qB_d*cos(qC))*(x_d*sin(qB) - y_d*sin(qA)*cos(qB) + z_d*cos(qA)*cos(qB)) + x_d**2 + x_d*(lw*(qA_d*sin(qB) + qC_d)*sin(qC)*cos(qB) + lw*(-qA_d*sin(qC)*cos(qB) + qB_d*cos(qC))*sin(qB)) + y_d**2 + z_d**2 + (-y_d*sin(qA) + z_d*cos(qA))*(-lw*(qA_d*sin(qB) + qC_d)*sin(qB)*sin(qC) + lw*(-qA_d*sin(qC)*cos(qB) + qB_d*cos(qC))*cos(qB)))*cos(qA)*cos(qC) - 0.00628318530717959*rho*(sin(qE)*sin(qC) + cos(qE)*cos(qC))*(l*(qA_d*sin(qB) + qC_d)*sin(qE) + (y_d*cos(qA) + z_d*sin(qA))*(-sin(qE)*cos(qC) + sin(qC)*cos(qE)) + (sin(qE)*sin(qC) + cos(qE)*cos(qC))*(x_d*cos(qB) + y_d*sin(qA)*sin(qB) - z_d*sin(qB)*cos(qA)))*sqrt(l**2*(qA_d*sin(qB) + qC_d)**2 + l**2*(-qA_d*sin(qC)*cos(qB) + qB_d*cos(qC))**2 + 2*l*le*(qA_d*(sin(qE)*cos(qB)*cos(qC) - sin(qC)*cos(qE)*cos(qB)) + qB_d*(sin(qE)*sin(qC) + cos(qE)*cos(qC)))*(-qA_d*sin(qC)*cos(qB) + qB_d*cos(qC)) + 2*l*le*(qA_d*sin(qB) + qC_d)**2*cos(qE) - 2*l*(qA_d*sin(qB) + qC_d)*(y_d*cos(qA) + z_d*sin(qA))*cos(qC) + l*(qA_d*sin(qB) + qC_d)*(x_d*cos(qB) + y_d*sin(qA)*sin(qB) - z_d*sin(qB)*cos(qA))*sin(qC) + l*(-qA_d*sin(qC)*cos(qB) + qB_d*cos(qC))*(x_d*sin(qB) - y_d*sin(qA)*cos(qB) + z_d*cos(qA)*cos(qB)) + le**2*(qA_d*(sin(qE)*cos(qB)*cos(qC) - sin(qC)*cos(qE)*cos(qB)) + qB_d*(sin(qE)*sin(qC) + cos(qE)*cos(qC)))**2 + le**2*(qA_d*sin(qB) + qC_d)**2 + 2*le*(qA_d*(sin(qE)*cos(qB)*cos(qC) - sin(qC)*cos(qE)*cos(qB)) + qB_d*(sin(qE)*sin(qC) + cos(qE)*cos(qC)))*(x_d*sin(qB) - y_d*sin(qA)*cos(qB) + z_d*cos(qA)*cos(qB)) - 2*le*(qA_d*sin(qB) + qC_d)*(y_d*cos(qA) + z_d*sin(qA))*(sin(qE)*sin(qC) + cos(qE)*cos(qC)) - 2*le*(qA_d*sin(qB) + qC_d)*(sin(qE)*cos(qC) - sin(qC)*cos(qE))*(x_d*cos(qB) + y_d*sin(qA)*sin(qB) - z_d*sin(qB)*cos(qA)) + x_d**2 + x_d*(l*(qA_d*sin(qB) + qC_d)*sin(qC)*cos(qB) + l*(-qA_d*sin(qC)*cos(qB) + qB_d*cos(qC))*sin(qB)) + y_d**2 + z_d**2 + (-y_d*sin(qA) + z_d*cos(qA))*(-l*(qA_d*sin(qB) + qC_d)*sin(qB)*sin(qC) + l*(-qA_d*sin(qC)*cos(qB) + qB_d*cos(qC))*cos(qB)))*sin(qA)*sin(qB) - 0.00628318530717959*rho*(-sin(qE)*cos(qC) + sin(qC)*cos(qE))*(l*(qA_d*sin(qB) + qC_d)*sin(qE) + (y_d*cos(qA) + z_d*sin(qA))*(-sin(qE)*cos(qC) + sin(qC)*cos(qE)) + (sin(qE)*sin(qC) + cos(qE)*cos(qC))*(x_d*cos(qB) + y_d*sin(qA)*sin(qB) - z_d*sin(qB)*cos(qA)))*sqrt(l**2*(qA_d*sin(qB) + qC_d)**2 + l**2*(-qA_d*sin(qC)*cos(qB) + qB_d*cos(qC))**2 + 2*l*le*(qA_d*(sin(qE)*cos(qB)*cos(qC) - sin(qC)*cos(qE)*cos(qB)) + qB_d*(sin(qE)*sin(qC) + cos(qE)*cos(qC)))*(-qA_d*sin(qC)*cos(qB) + qB_d*cos(qC)) + 2*l*le*(qA_d*sin(qB) + qC_d)**2*cos(qE) - 2*l*(qA_d*sin(qB) + qC_d)*(y_d*cos(qA) + z_d*sin(qA))*cos(qC) + l*(qA_d*sin(qB) + qC_d)*(x_d*cos(qB) + y_d*sin(qA)*sin(qB) - z_d*sin(qB)*cos(qA))*sin(qC) + l*(-qA_d*sin(qC)*cos(qB) + qB_d*cos(qC))*(x_d*sin(qB) - y_d*sin(qA)*cos(qB) + z_d*cos(qA)*cos(qB)) + le**2*(qA_d*(sin(qE)*cos(qB)*cos(qC) - sin(qC)*cos(qE)*cos(qB)) + qB_d*(sin(qE)*sin(qC) + cos(qE)*cos(qC)))**2 + le**2*(qA_d*sin(qB) + qC_d)**2 + 2*le*(qA_d*(sin(qE)*cos(qB)*cos(qC) - sin(qC)*cos(qE)*cos(qB)) + qB_d*(sin(qE)*sin(qC) + cos(qE)*cos(qC)))*(x_d*sin(qB) - y_d*sin(qA)*cos(qB) + z_d*cos(qA)*cos(qB)) - 2*le*(qA_d*sin(qB) + qC_d)*(y_d*cos(qA) + z_d*sin(qA))*(sin(qE)*sin(qC) + cos(qE)*cos(qC)) - 2*le*(qA_d*sin(qB) + qC_d)*(sin(qE)*cos(qC) - sin(qC)*cos(qE))*(x_d*cos(qB) + y_d*sin(qA)*sin(qB) - z_d*sin(qB)*cos(qA)) + x_d**2 + x_d*(l*(qA_d*sin(qB) + qC_d)*sin(qC)*cos(qB) + l*(-qA_d*sin(qC)*cos(qB) + qB_d*cos(qC))*sin(qB)) + y_d**2 + z_d**2 + (-y_d*sin(qA) + z_d*cos(qA))*(-l*(qA_d*sin(qB) + qC_d)*sin(qB)*sin(qC) + l*(-qA_d*sin(qC)*cos(qB) + qB_d*cos(qC))*cos(qB)))*cos(qA) - 0.00628318530717959*rho*(x_d*cos(qB)*cos(qC) - (-y_d*sin(qA) + z_d*cos(qA))*sin(qB)*cos(qC) + (y_d*cos(qA) + z_d*sin(qA))*sin(qC))*sqrt(lw**2*(qA_d*sin(qB) + qC_d)**2 + lw**2*(-qA_d*sin(qC)*cos(qB) + qB_d*cos(qC))**2 - 2*lw*(qA_d*sin(qB) + qC_d)*(y_d*cos(qA) + z_d*sin(qA))*cos(qC) + lw*(qA_d*sin(qB) + qC_d)*(x_d*cos(qB) + y_d*sin(qA)*sin(qB) - z_d*sin(qB)*cos(qA))*sin(qC) + lw*(-qA_d*sin(qC)*cos(qB) + qB_d*cos(qC))*(x_d*sin(qB) - y_d*sin(qA)*cos(qB) + z_d*cos(qA)*cos(qB)) + x_d**2 + x_d*(lw*(qA_d*sin(qB) + qC_d)*sin(qC)*cos(qB) + lw*(-qA_d*sin(qC)*cos(qB) + qB_d*cos(qC))*sin(qB)) + y_d**2 + z_d**2 + (-y_d*sin(qA) + z_d*cos(qA))*(-lw*(qA_d*sin(qB) + qC_d)*sin(qB)*sin(qC) + lw*(-qA_d*sin(qC)*cos(qB) + qB_d*cos(qC))*cos(qB)))*sin(qA)*sin(qB)*cos(qC) - 0.00628318530717959*rho*(x_d*cos(qB)*cos(qC) - (-y_d*sin(qA) + z_d*cos(qA))*sin(qB)*cos(qC) + (y_d*cos(qA) + z_d*sin(qA))*sin(qC))*sqrt(lw**2*(qA_d*sin(qB) + qC_d)**2 + lw**2*(-qA_d*sin(qC)*cos(qB) + qB_d*cos(qC))**2 - 2*lw*(qA_d*sin(qB) + qC_d)*(y_d*cos(qA) + z_d*sin(qA))*cos(qC) + lw*(qA_d*sin(qB) + qC_d)*(x_d*cos(qB) + y_d*sin(qA)*sin(qB) - z_d*sin(qB)*cos(qA))*sin(qC) + lw*(-qA_d*sin(qC)*cos(qB) + qB_d*cos(qC))*(x_d*sin(qB) - y_d*sin(qA)*cos(qB) + z_d*cos(qA)*cos(qB)) + x_d**2 + x_d*(lw*(qA_d*sin(qB) + qC_d)*sin(qC)*cos(qB) + lw*(-qA_d*sin(qC)*cos(qB) + qB_d*cos(qC))*sin(qB)) + y_d**2 + z_d**2 + (-y_d*sin(qA) + z_d*cos(qA))*(-lw*(qA_d*sin(qB) + qC_d)*sin(qB)*sin(qC) + lw*(-qA_d*sin(qC)*cos(qB) + qB_d*cos(qC))*cos(qB)))*sin(qC)*cos(qA)], [-6.28318530717959*r**2*rho*(sin(qE)*sin(qC) + cos(qE)*cos(qC))*(-l*(qA_d*sin(qB) + qC_d)*cos(qE) - le*(qA_d*sin(qB) + qC_d) + (y_d*cos(qA) + z_d*sin(qA))*(sin(qE)*sin(qC) + cos(qE)*cos(qC)) + (sin(qE)*cos(qC) - sin(qC)*cos(qE))*(x_d*cos(qB) + y_d*sin(qA)*sin(qB) - z_d*sin(qB)*cos(qA)))*sqrt(l**2*(qA_d*sin(qB) + qC_d)**2 + l**2*(-qA_d*sin(qC)*cos(qB) + qB_d*cos(qC))**2 + 2*l*le*(qA_d*(sin(qE)*cos(qB)*cos(qC) - sin(qC)*cos(qE)*cos(qB)) + qB_d*(sin(qE)*sin(qC) + cos(qE)*cos(qC)))*(-qA_d*sin(qC)*cos(qB) + qB_d*cos(qC)) + 2*l*le*(qA_d*sin(qB) + qC_d)**2*cos(qE) - 2*l*(qA_d*sin(qB) + qC_d)*(y_d*cos(qA) + z_d*sin(qA))*cos(qC) + l*(qA_d*sin(qB) + qC_d)*(x_d*cos(qB) + y_d*sin(qA)*sin(qB) - z_d*sin(qB)*cos(qA))*sin(qC) + l*(-qA_d*sin(qC)*cos(qB) + qB_d*cos(qC))*(x_d*sin(qB) - y_d*sin(qA)*cos(qB) + z_d*cos(qA)*cos(qB)) + le**2*(qA_d*(sin(qE)*cos(qB)*cos(qC) - sin(qC)*cos(qE)*cos(qB)) + qB_d*(sin(qE)*sin(qC) + cos(qE)*cos(qC)))**2 + le**2*(qA_d*sin(qB) + qC_d)**2 + 2*le*(qA_d*(sin(qE)*cos(qB)*cos(qC) - sin(qC)*cos(qE)*cos(qB)) + qB_d*(sin(qE)*sin(qC) + cos(qE)*cos(qC)))*(x_d*sin(qB) - y_d*sin(qA)*cos(qB) + z_d*cos(qA)*cos(qB)) - 2*le*(qA_d*sin(qB) + qC_d)*(y_d*cos(qA) + z_d*sin(qA))*(sin(qE)*sin(qC) + cos(qE)*cos(qC)) - 2*le*(qA_d*sin(qB) + qC_d)*(sin(qE)*cos(qC) - sin(qC)*cos(qE))*(x_d*cos(qB) + y_d*sin(qA)*sin(qB) - z_d*sin(qB)*cos(qA)) + x_d**2 + x_d*(l*(qA_d*sin(qB) + qC_d)*sin(qC)*cos(qB) + l*(-qA_d*sin(qC)*cos(qB) + qB_d*cos(qC))*sin(qB)) + y_d**2 + z_d**2 + (-y_d*sin(qA) + z_d*cos(qA))*(-l*(qA_d*sin(qB) + qC_d)*sin(qB)*sin(qC) + l*(-qA_d*sin(qC)*cos(qB) + qB_d*cos(qC))*cos(qB)))*sin(qA) + 6.28318530717959*r**2*rho*(sin(qE)*cos(qC) - sin(qC)*cos(qE))*(-l*(qA_d*sin(qB) + qC_d)*cos(qE) - le*(qA_d*sin(qB) + qC_d) + (y_d*cos(qA) + z_d*sin(qA))*(sin(qE)*sin(qC) + cos(qE)*cos(qC)) + (sin(qE)*cos(qC) - sin(qC)*cos(qE))*(x_d*cos(qB) + y_d*sin(qA)*sin(qB) - z_d*sin(qB)*cos(qA)))*sqrt(l**2*(qA_d*sin(qB) + qC_d)**2 + l**2*(-qA_d*sin(qC)*cos(qB) + qB_d*cos(qC))**2 + 2*l*le*(qA_d*(sin(qE)*cos(qB)*cos(qC) - sin(qC)*cos(qE)*cos(qB)) + qB_d*(sin(qE)*sin(qC) + cos(qE)*cos(qC)))*(-qA_d*sin(qC)*cos(qB) + qB_d*cos(qC)) + 2*l*le*(qA_d*sin(qB) + qC_d)**2*cos(qE) - 2*l*(qA_d*sin(qB) + qC_d)*(y_d*cos(qA) + z_d*sin(qA))*cos(qC) + l*(qA_d*sin(qB) + qC_d)*(x_d*cos(qB) + y_d*sin(qA)*sin(qB) - z_d*sin(qB)*cos(qA))*sin(qC) + l*(-qA_d*sin(qC)*cos(qB) + qB_d*cos(qC))*(x_d*sin(qB) - y_d*sin(qA)*cos(qB) + z_d*cos(qA)*cos(qB)) + le**2*(qA_d*(sin(qE)*cos(qB)*cos(qC) - sin(qC)*cos(qE)*cos(qB)) + qB_d*(sin(qE)*sin(qC) + cos(qE)*cos(qC)))**2 + le**2*(qA_d*sin(qB) + qC_d)**2 + 2*le*(qA_d*(sin(qE)*cos(qB)*cos(qC) - sin(qC)*cos(qE)*cos(qB)) + qB_d*(sin(qE)*sin(qC) + cos(qE)*cos(qC)))*(x_d*sin(qB) - y_d*sin(qA)*cos(qB) + z_d*cos(qA)*cos(qB)) - 2*le*(qA_d*sin(qB) + qC_d)*(y_d*cos(qA) + z_d*sin(qA))*(sin(qE)*sin(qC) + cos(qE)*cos(qC)) - 2*le*(qA_d*sin(qB) + qC_d)*(sin(qE)*cos(qC) - sin(qC)*cos(qE))*(x_d*cos(qB) + y_d*sin(qA)*sin(qB) - z_d*sin(qB)*cos(qA)) + x_d**2 + x_d*(l*(qA_d*sin(qB) + qC_d)*sin(qC)*cos(qB) + l*(-qA_d*sin(qC)*cos(qB) + qB_d*cos(qC))*sin(qB)) + y_d**2 + z_d**2 + (-y_d*sin(qA) + z_d*cos(qA))*(-l*(qA_d*sin(qB) + qC_d)*sin(qB)*sin(qC) + l*(-qA_d*sin(qC)*cos(qB) + qB_d*cos(qC))*cos(qB)))*sin(qB)*cos(qA) - 6.28318530717959*r**2*rho*(-lw*(qA_d*sin(qB) + qC_d) - x_d*sin(qC)*cos(qB) + (-y_d*sin(qA) + z_d*cos(qA))*sin(qB)*sin(qC) + (y_d*cos(qA) + z_d*sin(qA))*cos(qC))*sqrt(lw**2*(qA_d*sin(qB) + qC_d)**2 + lw**2*(-qA_d*sin(qC)*cos(qB) + qB_d*cos(qC))**2 - 2*lw*(qA_d*sin(qB) + qC_d)*(y_d*cos(qA) + z_d*sin(qA))*cos(qC) + lw*(qA_d*sin(qB) + qC_d)*(x_d*cos(qB) + y_d*sin(qA)*sin(qB) - z_d*sin(qB)*cos(qA))*sin(qC) + lw*(-qA_d*sin(qC)*cos(qB) + qB_d*cos(qC))*(x_d*sin(qB) - y_d*sin(qA)*cos(qB) + z_d*cos(qA)*cos(qB)) + x_d**2 + x_d*(lw*(qA_d*sin(qB) + qC_d)*sin(qC)*cos(qB) + lw*(-qA_d*sin(qC)*cos(qB) + qB_d*cos(qC))*sin(qB)) + y_d**2 + z_d**2 + (-y_d*sin(qA) + z_d*cos(qA))*(-lw*(qA_d*sin(qB) + qC_d)*sin(qB)*sin(qC) + lw*(-qA_d*sin(qC)*cos(qB) + qB_d*cos(qC))*cos(qB)))*sin(qA)*cos(qC) - 6.28318530717959*r**2*rho*(-lw*(qA_d*sin(qB) + qC_d) - x_d*sin(qC)*cos(qB) + (-y_d*sin(qA) + z_d*cos(qA))*sin(qB)*sin(qC) + (y_d*cos(qA) + z_d*sin(qA))*cos(qC))*sqrt(lw**2*(qA_d*sin(qB) + qC_d)**2 + lw**2*(-qA_d*sin(qC)*cos(qB) + qB_d*cos(qC))**2 - 2*lw*(qA_d*sin(qB) + qC_d)*(y_d*cos(qA) + z_d*sin(qA))*cos(qC) + lw*(qA_d*sin(qB) + qC_d)*(x_d*cos(qB) + y_d*sin(qA)*sin(qB) - z_d*sin(qB)*cos(qA))*sin(qC) + lw*(-qA_d*sin(qC)*cos(qB) + qB_d*cos(qC))*(x_d*sin(qB) - y_d*sin(qA)*cos(qB) + z_d*cos(qA)*cos(qB)) + x_d**2 + x_d*(lw*(qA_d*sin(qB) + qC_d)*sin(qC)*cos(qB) + lw*(-qA_d*sin(qC)*cos(qB) + qB_d*cos(qC))*sin(qB)) + y_d**2 + z_d**2 + (-y_d*sin(qA) + z_d*cos(qA))*(-lw*(qA_d*sin(qB) + qC_d)*sin(qB)*sin(qC) + lw*(-qA_d*sin(qC)*cos(qB) + qB_d*cos(qC))*cos(qB)))*sin(qB)*sin(qC)*cos(qA) + 0.00628318530717959*rho*(sin(qE)*sin(qC) + cos(qE)*cos(qC))*(l*(qA_d*sin(qB) + qC_d)*sin(qE) + (y_d*cos(qA) + z_d*sin(qA))*(-sin(qE)*cos(qC) + sin(qC)*cos(qE)) + (sin(qE)*sin(qC) + cos(qE)*cos(qC))*(x_d*cos(qB) + y_d*sin(qA)*sin(qB) - z_d*sin(qB)*cos(qA)))*sqrt(l**2*(qA_d*sin(qB) + qC_d)**2 + l**2*(-qA_d*sin(qC)*cos(qB) + qB_d*cos(qC))**2 + 2*l*le*(qA_d*(sin(qE)*cos(qB)*cos(qC) - sin(qC)*cos(qE)*cos(qB)) + qB_d*(sin(qE)*sin(qC) + cos(qE)*cos(qC)))*(-qA_d*sin(qC)*cos(qB) + qB_d*cos(qC)) + 2*l*le*(qA_d*sin(qB) + qC_d)**2*cos(qE) - 2*l*(qA_d*sin(qB) + qC_d)*(y_d*cos(qA) + z_d*sin(qA))*cos(qC) + l*(qA_d*sin(qB) + qC_d)*(x_d*cos(qB) + y_d*sin(qA)*sin(qB) - z_d*sin(qB)*cos(qA))*sin(qC) + l*(-qA_d*sin(qC)*cos(qB) + qB_d*cos(qC))*(x_d*sin(qB) - y_d*sin(qA)*cos(qB) + z_d*cos(qA)*cos(qB)) + le**2*(qA_d*(sin(qE)*cos(qB)*cos(qC) - sin(qC)*cos(qE)*cos(qB)) + qB_d*(sin(qE)*sin(qC) + cos(qE)*cos(qC)))**2 + le**2*(qA_d*sin(qB) + qC_d)**2 + 2*le*(qA_d*(sin(qE)*cos(qB)*cos(qC) - sin(qC)*cos(qE)*cos(qB)) + qB_d*(sin(qE)*sin(qC) + cos(qE)*cos(qC)))*(x_d*sin(qB) - y_d*sin(qA)*cos(qB) + z_d*cos(qA)*cos(qB)) - 2*le*(qA_d*sin(qB) + qC_d)*(y_d*cos(qA) + z_d*sin(qA))*(sin(qE)*sin(qC) + cos(qE)*cos(qC)) - 2*le*(qA_d*sin(qB) + qC_d)*(sin(qE)*cos(qC) - sin(qC)*cos(qE))*(x_d*cos(qB) + y_d*sin(qA)*sin(qB) - z_d*sin(qB)*cos(qA)) + x_d**2 + x_d*(l*(qA_d*sin(qB) + qC_d)*sin(qC)*cos(qB) + l*(-qA_d*sin(qC)*cos(qB) + qB_d*cos(qC))*sin(qB)) + y_d**2 + z_d**2 + (-y_d*sin(qA) + z_d*cos(qA))*(-l*(qA_d*sin(qB) + qC_d)*sin(qB)*sin(qC) + l*(-qA_d*sin(qC)*cos(qB) + qB_d*cos(qC))*cos(qB)))*sin(qB)*cos(qA) - 0.00628318530717959*rho*(-sin(qE)*cos(qC) + sin(qC)*cos(qE))*(l*(qA_d*sin(qB) + qC_d)*sin(qE) + (y_d*cos(qA) + z_d*sin(qA))*(-sin(qE)*cos(qC) + sin(qC)*cos(qE)) + (sin(qE)*sin(qC) + cos(qE)*cos(qC))*(x_d*cos(qB) + y_d*sin(qA)*sin(qB) - z_d*sin(qB)*cos(qA)))*sqrt(l**2*(qA_d*sin(qB) + qC_d)**2 + l**2*(-qA_d*sin(qC)*cos(qB) + qB_d*cos(qC))**2 + 2*l*le*(qA_d*(sin(qE)*cos(qB)*cos(qC) - sin(qC)*cos(qE)*cos(qB)) + qB_d*(sin(qE)*sin(qC) + cos(qE)*cos(qC)))*(-qA_d*sin(qC)*cos(qB) + qB_d*cos(qC)) + 2*l*le*(qA_d*sin(qB) + qC_d)**2*cos(qE) - 2*l*(qA_d*sin(qB) + qC_d)*(y_d*cos(qA) + z_d*sin(qA))*cos(qC) + l*(qA_d*sin(qB) + qC_d)*(x_d*cos(qB) + y_d*sin(qA)*sin(qB) - z_d*sin(qB)*cos(qA))*sin(qC) + l*(-qA_d*sin(qC)*cos(qB) + qB_d*cos(qC))*(x_d*sin(qB) - y_d*sin(qA)*cos(qB) + z_d*cos(qA)*cos(qB)) + le**2*(qA_d*(sin(qE)*cos(qB)*cos(qC) - sin(qC)*cos(qE)*cos(qB)) + qB_d*(sin(qE)*sin(qC) + cos(qE)*cos(qC)))**2 + le**2*(qA_d*sin(qB) + qC_d)**2 + 2*le*(qA_d*(sin(qE)*cos(qB)*cos(qC) - sin(qC)*cos(qE)*cos(qB)) + qB_d*(sin(qE)*sin(qC) + cos(qE)*cos(qC)))*(x_d*sin(qB) - y_d*sin(qA)*cos(qB) + z_d*cos(qA)*cos(qB)) - 2*le*(qA_d*sin(qB) + qC_d)*(y_d*cos(qA) + z_d*sin(qA))*(sin(qE)*sin(qC) + cos(qE)*cos(qC)) - 2*le*(qA_d*sin(qB) + qC_d)*(sin(qE)*cos(qC) - sin(qC)*cos(qE))*(x_d*cos(qB) + y_d*sin(qA)*sin(qB) - z_d*sin(qB)*cos(qA)) + x_d**2 + x_d*(l*(qA_d*sin(qB) + qC_d)*sin(qC)*cos(qB) + l*(-qA_d*sin(qC)*cos(qB) + qB_d*cos(qC))*sin(qB)) + y_d**2 + z_d**2 + (-y_d*sin(qA) + z_d*cos(qA))*(-l*(qA_d*sin(qB) + qC_d)*sin(qB)*sin(qC) + l*(-qA_d*sin(qC)*cos(qB) + qB_d*cos(qC))*cos(qB)))*sin(qA) - 0.00628318530717959*rho*(x_d*cos(qB)*cos(qC) - (-y_d*sin(qA) + z_d*cos(qA))*sin(qB)*cos(qC) + (y_d*cos(qA) + z_d*sin(qA))*sin(qC))*sqrt(lw**2*(qA_d*sin(qB) + qC_d)**2 + lw**2*(-qA_d*sin(qC)*cos(qB) + qB_d*cos(qC))**2 - 2*lw*(qA_d*sin(qB) + qC_d)*(y_d*cos(qA) + z_d*sin(qA))*cos(qC) + lw*(qA_d*sin(qB) + qC_d)*(x_d*cos(qB) + y_d*sin(qA)*sin(qB) - z_d*sin(qB)*cos(qA))*sin(qC) + lw*(-qA_d*sin(qC)*cos(qB) + qB_d*cos(qC))*(x_d*sin(qB) - y_d*sin(qA)*cos(qB) + z_d*cos(qA)*cos(qB)) + x_d**2 + x_d*(lw*(qA_d*sin(qB) + qC_d)*sin(qC)*cos(qB) + lw*(-qA_d*sin(qC)*cos(qB) + qB_d*cos(qC))*sin(qB)) + y_d**2 + z_d**2 + (-y_d*sin(qA) + z_d*cos(qA))*(-lw*(qA_d*sin(qB) + qC_d)*sin(qB)*sin(qC) + lw*(-qA_d*sin(qC)*cos(qB) + qB_d*cos(qC))*cos(qB)))*sin(qA)*sin(qC) + 0.00628318530717959*rho*(x_d*cos(qB)*cos(qC) - (-y_d*sin(qA) + z_d*cos(qA))*sin(qB)*cos(qC) + (y_d*cos(qA) + z_d*sin(qA))*sin(qC))*sqrt(lw**2*(qA_d*sin(qB) + qC_d)**2 + lw**2*(-qA_d*sin(qC)*cos(qB) + qB_d*cos(qC))**2 - 2*lw*(qA_d*sin(qB) + qC_d)*(y_d*cos(qA) + z_d*sin(qA))*cos(qC) + lw*(qA_d*sin(qB) + qC_d)*(x_d*cos(qB) + y_d*sin(qA)*sin(qB) - z_d*sin(qB)*cos(qA))*sin(qC) + lw*(-qA_d*sin(qC)*cos(qB) + qB_d*cos(qC))*(x_d*sin(qB) - y_d*sin(qA)*cos(qB) + z_d*cos(qA)*cos(qB)) + x_d**2 + x_d*(lw*(qA_d*sin(qB) + qC_d)*sin(qC)*cos(qB) + lw*(-qA_d*sin(qC)*cos(qB) + qB_d*cos(qC))*sin(qB)) + y_d**2 + z_d**2 + (-y_d*sin(qA) + z_d*cos(qA))*(-lw*(qA_d*sin(qB) + qC_d)*sin(qB)*sin(qC) + lw*(-qA_d*sin(qC)*cos(qB) + qB_d*cos(qC))*cos(qB)))*sin(qB)*cos(qA)*cos(qC)], [-I_11*qA_d*qB_d*sin(qB)*cos(qB) + 6.28318530717959*l*r**2*rho*(-l*(qA_d*sin(qB) + qC_d)*cos(qE) - le*(qA_d*sin(qB) + qC_d) + (y_d*cos(qA) + z_d*sin(qA))*(sin(qE)*sin(qC) + cos(qE)*cos(qC)) + (sin(qE)*cos(qC) - sin(qC)*cos(qE))*(x_d*cos(qB) + y_d*sin(qA)*sin(qB) - z_d*sin(qB)*cos(qA)))*sqrt(l**2*(qA_d*sin(qB) + qC_d)**2 + l**2*(-qA_d*sin(qC)*cos(qB) + qB_d*cos(qC))**2 + 2*l*le*(qA_d*(sin(qE)*cos(qB)*cos(qC) - sin(qC)*cos(qE)*cos(qB)) + qB_d*(sin(qE)*sin(qC) + cos(qE)*cos(qC)))*(-qA_d*sin(qC)*cos(qB) + qB_d*cos(qC)) + 2*l*le*(qA_d*sin(qB) + qC_d)**2*cos(qE) - 2*l*(qA_d*sin(qB) + qC_d)*(y_d*cos(qA) + z_d*sin(qA))*cos(qC) + l*(qA_d*sin(qB) + qC_d)*(x_d*cos(qB) + y_d*sin(qA)*sin(qB) - z_d*sin(qB)*cos(qA))*sin(qC) + l*(-qA_d*sin(qC)*cos(qB) + qB_d*cos(qC))*(x_d*sin(qB) - y_d*sin(qA)*cos(qB) + z_d*cos(qA)*cos(qB)) + le**2*(qA_d*(sin(qE)*cos(qB)*cos(qC) - sin(qC)*cos(qE)*cos(qB)) + qB_d*(sin(qE)*sin(qC) + cos(qE)*cos(qC)))**2 + le**2*(qA_d*sin(qB) + qC_d)**2 + 2*le*(qA_d*(sin(qE)*cos(qB)*cos(qC) - sin(qC)*cos(qE)*cos(qB)) + qB_d*(sin(qE)*sin(qC) + cos(qE)*cos(qC)))*(x_d*sin(qB) - y_d*sin(qA)*cos(qB) + z_d*cos(qA)*cos(qB)) - 2*le*(qA_d*sin(qB) + qC_d)*(y_d*cos(qA) + z_d*sin(qA))*(sin(qE)*sin(qC) + cos(qE)*cos(qC)) - 2*le*(qA_d*sin(qB) + qC_d)*(sin(qE)*cos(qC) - sin(qC)*cos(qE))*(x_d*cos(qB) + y_d*sin(qA)*sin(qB) - z_d*sin(qB)*cos(qA)) + x_d**2 + x_d*(l*(qA_d*sin(qB) + qC_d)*sin(qC)*cos(qB) + l*(-qA_d*sin(qC)*cos(qB) + qB_d*cos(qC))*sin(qB)) + y_d**2 + z_d**2 + (-y_d*sin(qA) + z_d*cos(qA))*(-l*(qA_d*sin(qB) + qC_d)*sin(qB)*sin(qC) + l*(-qA_d*sin(qC)*cos(qB) + qB_d*cos(qC))*cos(qB)))*sin(qB)*cos(qE) - 0.00628318530717959*l*rho*(l*(qA_d*sin(qB) + qC_d)*sin(qE) + (y_d*cos(qA) + z_d*sin(qA))*(-sin(qE)*cos(qC) + sin(qC)*cos(qE)) + (sin(qE)*sin(qC) + cos(qE)*cos(qC))*(x_d*cos(qB) + y_d*sin(qA)*sin(qB) - z_d*sin(qB)*cos(qA)))*sqrt(l**2*(qA_d*sin(qB) + qC_d)**2 + l**2*(-qA_d*sin(qC)*cos(qB) + qB_d*cos(qC))**2 + 2*l*le*(qA_d*(sin(qE)*cos(qB)*cos(qC) - sin(qC)*cos(qE)*cos(qB)) + qB_d*(sin(qE)*sin(qC) + cos(qE)*cos(qC)))*(-qA_d*sin(qC)*cos(qB) + qB_d*cos(qC)) + 2*l*le*(qA_d*sin(qB) + qC_d)**2*cos(qE) - 2*l*(qA_d*sin(qB) + qC_d)*(y_d*cos(qA) + z_d*sin(qA))*cos(qC) + l*(qA_d*sin(qB) + qC_d)*(x_d*cos(qB) + y_d*sin(qA)*sin(qB) - z_d*sin(qB)*cos(qA))*sin(qC) + l*(-qA_d*sin(qC)*cos(qB) + qB_d*cos(qC))*(x_d*sin(qB) - y_d*sin(qA)*cos(qB) + z_d*cos(qA)*cos(qB)) + le**2*(qA_d*(sin(qE)*cos(qB)*cos(qC) - sin(qC)*cos(qE)*cos(qB)) + qB_d*(sin(qE)*sin(qC) + cos(qE)*cos(qC)))**2 + le**2*(qA_d*sin(qB) + qC_d)**2 + 2*le*(qA_d*(sin(qE)*cos(qB)*cos(qC) - sin(qC)*cos(qE)*cos(qB)) + qB_d*(sin(qE)*sin(qC) + cos(qE)*cos(qC)))*(x_d*sin(qB) - y_d*sin(qA)*cos(qB) + z_d*cos(qA)*cos(qB)) - 2*le*(qA_d*sin(qB) + qC_d)*(y_d*cos(qA) + z_d*sin(qA))*(sin(qE)*sin(qC) + cos(qE)*cos(qC)) - 2*le*(qA_d*sin(qB) + qC_d)*(sin(qE)*cos(qC) - sin(qC)*cos(qE))*(x_d*cos(qB) + y_d*sin(qA)*sin(qB) - z_d*sin(qB)*cos(qA)) + x_d**2 + x_d*(l*(qA_d*sin(qB) + qC_d)*sin(qC)*cos(qB) + l*(-qA_d*sin(qC)*cos(qB) + qB_d*cos(qC))*sin(qB)) + y_d**2 + z_d**2 + (-y_d*sin(qA) + z_d*cos(qA))*(-l*(qA_d*sin(qB) + qC_d)*sin(qB)*sin(qC) + l*(-qA_d*sin(qC)*cos(qB) + qB_d*cos(qC))*cos(qB)))*sin(qE)*sin(qB) + 6.28318530717959*le*r**2*rho*(-l*(qA_d*sin(qB) + qC_d)*cos(qE) - le*(qA_d*sin(qB) + qC_d) + (y_d*cos(qA) + z_d*sin(qA))*(sin(qE)*sin(qC) + cos(qE)*cos(qC)) + (sin(qE)*cos(qC) - sin(qC)*cos(qE))*(x_d*cos(qB) + y_d*sin(qA)*sin(qB) - z_d*sin(qB)*cos(qA)))*sqrt(l**2*(qA_d*sin(qB) + qC_d)**2 + l**2*(-qA_d*sin(qC)*cos(qB) + qB_d*cos(qC))**2 + 2*l*le*(qA_d*(sin(qE)*cos(qB)*cos(qC) - sin(qC)*cos(qE)*cos(qB)) + qB_d*(sin(qE)*sin(qC) + cos(qE)*cos(qC)))*(-qA_d*sin(qC)*cos(qB) + qB_d*cos(qC)) + 2*l*le*(qA_d*sin(qB) + qC_d)**2*cos(qE) - 2*l*(qA_d*sin(qB) + qC_d)*(y_d*cos(qA) + z_d*sin(qA))*cos(qC) + l*(qA_d*sin(qB) + qC_d)*(x_d*cos(qB) + y_d*sin(qA)*sin(qB) - z_d*sin(qB)*cos(qA))*sin(qC) + l*(-qA_d*sin(qC)*cos(qB) + qB_d*cos(qC))*(x_d*sin(qB) - y_d*sin(qA)*cos(qB) + z_d*cos(qA)*cos(qB)) + le**2*(qA_d*(sin(qE)*cos(qB)*cos(qC) - sin(qC)*cos(qE)*cos(qB)) + qB_d*(sin(qE)*sin(qC) + cos(qE)*cos(qC)))**2 + le**2*(qA_d*sin(qB) + qC_d)**2 + 2*le*(qA_d*(sin(qE)*cos(qB)*cos(qC) - sin(qC)*cos(qE)*cos(qB)) + qB_d*(sin(qE)*sin(qC) + cos(qE)*cos(qC)))*(x_d*sin(qB) - y_d*sin(qA)*cos(qB) + z_d*cos(qA)*cos(qB)) - 2*le*(qA_d*sin(qB) + qC_d)*(y_d*cos(qA) + z_d*sin(qA))*(sin(qE)*sin(qC) + cos(qE)*cos(qC)) - 2*le*(qA_d*sin(qB) + qC_d)*(sin(qE)*cos(qC) - sin(qC)*cos(qE))*(x_d*cos(qB) + y_d*sin(qA)*sin(qB) - z_d*sin(qB)*cos(qA)) + x_d**2 + x_d*(l*(qA_d*sin(qB) + qC_d)*sin(qC)*cos(qB) + l*(-qA_d*sin(qC)*cos(qB) + qB_d*cos(qC))*sin(qB)) + y_d**2 + z_d**2 + (-y_d*sin(qA) + z_d*cos(qA))*(-l*(qA_d*sin(qB) + qC_d)*sin(qB)*sin(qC) + l*(-qA_d*sin(qC)*cos(qB) + qB_d*cos(qC))*cos(qB)))*sin(qB) + 6.28318530717959*lw*r**2*rho*(-lw*(qA_d*sin(qB) + qC_d) - x_d*sin(qC)*cos(qB) + (-y_d*sin(qA) + z_d*cos(qA))*sin(qB)*sin(qC) + (y_d*cos(qA) + z_d*sin(qA))*cos(qC))*sqrt(lw**2*(qA_d*sin(qB) + qC_d)**2 + lw**2*(-qA_d*sin(qC)*cos(qB) + qB_d*cos(qC))**2 - 2*lw*(qA_d*sin(qB) + qC_d)*(y_d*cos(qA) + z_d*sin(qA))*cos(qC) + lw*(qA_d*sin(qB) + qC_d)*(x_d*cos(qB) + y_d*sin(qA)*sin(qB) - z_d*sin(qB)*cos(qA))*sin(qC) + lw*(-qA_d*sin(qC)*cos(qB) + qB_d*cos(qC))*(x_d*sin(qB) - y_d*sin(qA)*cos(qB) + z_d*cos(qA)*cos(qB)) + x_d**2 + x_d*(lw*(qA_d*sin(qB) + qC_d)*sin(qC)*cos(qB) + lw*(-qA_d*sin(qC)*cos(qB) + qB_d*cos(qC))*sin(qB)) + y_d**2 + z_d**2 + (-y_d*sin(qA) + z_d*cos(qA))*(-lw*(qA_d*sin(qB) + qC_d)*sin(qB)*sin(qC) + lw*(-qA_d*sin(qC)*cos(qB) + qB_d*cos(qC))*cos(qB)))*sin(qB) + qB_d*(-I_11*(-qA_d*sin(qC)*cos(qB) + qB_d*cos(qC))*sin(qC) + I_11*(qA_d*cos(qB)*cos(qC) + qB_d*sin(qC))*cos(qC))*sin(qB) - (I_11*qB_d*(qA_d*sin(qB) + qC_d) - qC_d*(I_11*(-qA_d*sin(qC)*cos(qB) + qB_d*cos(qC))*cos(qC) + I_11*(qA_d*cos(qB)*cos(qC) + qB_d*sin(qC))*sin(qC)))*cos(qB) - (-I_11*(qA_d*qB_d*sin(qB)*sin(qC) - qA_d*qC_d*cos(qB)*cos(qC) - qB_d*qC_d*sin(qC))*sin(qC) + I_11*(-qA_d*qB_d*sin(qB)*cos(qC) - qA_d*qC_d*sin(qC)*cos(qB) + qB_d*qC_d*cos(qC))*cos(qC))*cos(qB)], [-I_11*(qA_d*qB_d*sin(qB)*sin(qC) - qA_d*qC_d*cos(qB)*cos(qC) - qB_d*qC_d*sin(qC))*cos(qC) - I_11*(-qA_d*qB_d*sin(qB)*cos(qC) - qA_d*qC_d*sin(qC)*cos(qB) + qB_d*qC_d*cos(qC))*sin(qC) + qA_d*(I_11*(qA_d*sin(qB) + qC_d)*cos(qB) + I_11*(-qA_d*sin(qC)*cos(qB) + qB_d*cos(qC))*sin(qB)*sin(qC) - I_11*(qA_d*cos(qB)*cos(qC) + qB_d*sin(qC))*sin(qB)*cos(qC)) - qC_d*(-I_11*(-qA_d*sin(qC)*cos(qB) + qB_d*cos(qC))*sin(qC) + I_11*(qA_d*cos(qB)*cos(qC) + qB_d*sin(qC))*cos(qC))], [-I_11*qA_d*qB_d*cos(qB) + 6.28318530717959*l*r**2*rho*(-l*(qA_d*sin(qB) + qC_d)*cos(qE) - le*(qA_d*sin(qB) + qC_d) + (y_d*cos(qA) + z_d*sin(qA))*(sin(qE)*sin(qC) + cos(qE)*cos(qC)) + (sin(qE)*cos(qC) - sin(qC)*cos(qE))*(x_d*cos(qB) + y_d*sin(qA)*sin(qB) - z_d*sin(qB)*cos(qA)))*sqrt(l**2*(qA_d*sin(qB) + qC_d)**2 + l**2*(-qA_d*sin(qC)*cos(qB) + qB_d*cos(qC))**2 + 2*l*le*(qA_d*(sin(qE)*cos(qB)*cos(qC) - sin(qC)*cos(qE)*cos(qB)) + qB_d*(sin(qE)*sin(qC) + cos(qE)*cos(qC)))*(-qA_d*sin(qC)*cos(qB) + qB_d*cos(qC)) + 2*l*le*(qA_d*sin(qB) + qC_d)**2*cos(qE) - 2*l*(qA_d*sin(qB) + qC_d)*(y_d*cos(qA) + z_d*sin(qA))*cos(qC) + l*(qA_d*sin(qB) + qC_d)*(x_d*cos(qB) + y_d*sin(qA)*sin(qB) - z_d*sin(qB)*cos(qA))*sin(qC) + l*(-qA_d*sin(qC)*cos(qB) + qB_d*cos(qC))*(x_d*sin(qB) - y_d*sin(qA)*cos(qB) + z_d*cos(qA)*cos(qB)) + le**2*(qA_d*(sin(qE)*cos(qB)*cos(qC) - sin(qC)*cos(qE)*cos(qB)) + qB_d*(sin(qE)*sin(qC) + cos(qE)*cos(qC)))**2 + le**2*(qA_d*sin(qB) + qC_d)**2 + 2*le*(qA_d*(sin(qE)*cos(qB)*cos(qC) - sin(qC)*cos(qE)*cos(qB)) + qB_d*(sin(qE)*sin(qC) + cos(qE)*cos(qC)))*(x_d*sin(qB) - y_d*sin(qA)*cos(qB) + z_d*cos(qA)*cos(qB)) - 2*le*(qA_d*sin(qB) + qC_d)*(y_d*cos(qA) + z_d*sin(qA))*(sin(qE)*sin(qC) + cos(qE)*cos(qC)) - 2*le*(qA_d*sin(qB) + qC_d)*(sin(qE)*cos(qC) - sin(qC)*cos(qE))*(x_d*cos(qB) + y_d*sin(qA)*sin(qB) - z_d*sin(qB)*cos(qA)) + x_d**2 + x_d*(l*(qA_d*sin(qB) + qC_d)*sin(qC)*cos(qB) + l*(-qA_d*sin(qC)*cos(qB) + qB_d*cos(qC))*sin(qB)) + y_d**2 + z_d**2 + (-y_d*sin(qA) + z_d*cos(qA))*(-l*(qA_d*sin(qB) + qC_d)*sin(qB)*sin(qC) + l*(-qA_d*sin(qC)*cos(qB) + qB_d*cos(qC))*cos(qB)))*cos(qE) - 0.00628318530717959*l*rho*(l*(qA_d*sin(qB) + qC_d)*sin(qE) + (y_d*cos(qA) + z_d*sin(qA))*(-sin(qE)*cos(qC) + sin(qC)*cos(qE)) + (sin(qE)*sin(qC) + cos(qE)*cos(qC))*(x_d*cos(qB) + y_d*sin(qA)*sin(qB) - z_d*sin(qB)*cos(qA)))*sqrt(l**2*(qA_d*sin(qB) + qC_d)**2 + l**2*(-qA_d*sin(qC)*cos(qB) + qB_d*cos(qC))**2 + 2*l*le*(qA_d*(sin(qE)*cos(qB)*cos(qC) - sin(qC)*cos(qE)*cos(qB)) + qB_d*(sin(qE)*sin(qC) + cos(qE)*cos(qC)))*(-qA_d*sin(qC)*cos(qB) + qB_d*cos(qC)) + 2*l*le*(qA_d*sin(qB) + qC_d)**2*cos(qE) - 2*l*(qA_d*sin(qB) + qC_d)*(y_d*cos(qA) + z_d*sin(qA))*cos(qC) + l*(qA_d*sin(qB) + qC_d)*(x_d*cos(qB) + y_d*sin(qA)*sin(qB) - z_d*sin(qB)*cos(qA))*sin(qC) + l*(-qA_d*sin(qC)*cos(qB) + qB_d*cos(qC))*(x_d*sin(qB) - y_d*sin(qA)*cos(qB) + z_d*cos(qA)*cos(qB)) + le**2*(qA_d*(sin(qE)*cos(qB)*cos(qC) - sin(qC)*cos(qE)*cos(qB)) + qB_d*(sin(qE)*sin(qC) + cos(qE)*cos(qC)))**2 + le**2*(qA_d*sin(qB) + qC_d)**2 + 2*le*(qA_d*(sin(qE)*cos(qB)*cos(qC) - sin(qC)*cos(qE)*cos(qB)) + qB_d*(sin(qE)*sin(qC) + cos(qE)*cos(qC)))*(x_d*sin(qB) - y_d*sin(qA)*cos(qB) + z_d*cos(qA)*cos(qB)) - 2*le*(qA_d*sin(qB) + qC_d)*(y_d*cos(qA) + z_d*sin(qA))*(sin(qE)*sin(qC) + cos(qE)*cos(qC)) - 2*le*(qA_d*sin(qB) + qC_d)*(sin(qE)*cos(qC) - sin(qC)*cos(qE))*(x_d*cos(qB) + y_d*sin(qA)*sin(qB) - z_d*sin(qB)*cos(qA)) + x_d**2 + x_d*(l*(qA_d*sin(qB) + qC_d)*sin(qC)*cos(qB) + l*(-qA_d*sin(qC)*cos(qB) + qB_d*cos(qC))*sin(qB)) + y_d**2 + z_d**2 + (-y_d*sin(qA) + z_d*cos(qA))*(-l*(qA_d*sin(qB) + qC_d)*sin(qB)*sin(qC) + l*(-qA_d*sin(qC)*cos(qB) + qB_d*cos(qC))*cos(qB)))*sin(qE) + 6.28318530717959*le*r**2*rho*(-l*(qA_d*sin(qB) + qC_d)*cos(qE) - le*(qA_d*sin(qB) + qC_d) + (y_d*cos(qA) + z_d*sin(qA))*(sin(qE)*sin(qC) + cos(qE)*cos(qC)) + (sin(qE)*cos(qC) - sin(qC)*cos(qE))*(x_d*cos(qB) + y_d*sin(qA)*sin(qB) - z_d*sin(qB)*cos(qA)))*sqrt(l**2*(qA_d*sin(qB) + qC_d)**2 + l**2*(-qA_d*sin(qC)*cos(qB) + qB_d*cos(qC))**2 + 2*l*le*(qA_d*(sin(qE)*cos(qB)*cos(qC) - sin(qC)*cos(qE)*cos(qB)) + qB_d*(sin(qE)*sin(qC) + cos(qE)*cos(qC)))*(-qA_d*sin(qC)*cos(qB) + qB_d*cos(qC)) + 2*l*le*(qA_d*sin(qB) + qC_d)**2*cos(qE) - 2*l*(qA_d*sin(qB) + qC_d)*(y_d*cos(qA) + z_d*sin(qA))*cos(qC) + l*(qA_d*sin(qB) + qC_d)*(x_d*cos(qB) + y_d*sin(qA)*sin(qB) - z_d*sin(qB)*cos(qA))*sin(qC) + l*(-qA_d*sin(qC)*cos(qB) + qB_d*cos(qC))*(x_d*sin(qB) - y_d*sin(qA)*cos(qB) + z_d*cos(qA)*cos(qB)) + le**2*(qA_d*(sin(qE)*cos(qB)*cos(qC) - sin(qC)*cos(qE)*cos(qB)) + qB_d*(sin(qE)*sin(qC) + cos(qE)*cos(qC)))**2 + le**2*(qA_d*sin(qB) + qC_d)**2 + 2*le*(qA_d*(sin(qE)*cos(qB)*cos(qC) - sin(qC)*cos(qE)*cos(qB)) + qB_d*(sin(qE)*sin(qC) + cos(qE)*cos(qC)))*(x_d*sin(qB) - y_d*sin(qA)*cos(qB) + z_d*cos(qA)*cos(qB)) - 2*le*(qA_d*sin(qB) + qC_d)*(y_d*cos(qA) + z_d*sin(qA))*(sin(qE)*sin(qC) + cos(qE)*cos(qC)) - 2*le*(qA_d*sin(qB) + qC_d)*(sin(qE)*cos(qC) - sin(qC)*cos(qE))*(x_d*cos(qB) + y_d*sin(qA)*sin(qB) - z_d*sin(qB)*cos(qA)) + x_d**2 + x_d*(l*(qA_d*sin(qB) + qC_d)*sin(qC)*cos(qB) + l*(-qA_d*sin(qC)*cos(qB) + qB_d*cos(qC))*sin(qB)) + y_d**2 + z_d**2 + (-y_d*sin(qA) + z_d*cos(qA))*(-l*(qA_d*sin(qB) + qC_d)*sin(qB)*sin(qC) + l*(-qA_d*sin(qC)*cos(qB) + qB_d*cos(qC))*cos(qB))) + 6.28318530717959*lw*r**2*rho*(-lw*(qA_d*sin(qB) + qC_d) - x_d*sin(qC)*cos(qB) + (-y_d*sin(qA) + z_d*cos(qA))*sin(qB)*sin(qC) + (y_d*cos(qA) + z_d*sin(qA))*cos(qC))*sqrt(lw**2*(qA_d*sin(qB) + qC_d)**2 + lw**2*(-qA_d*sin(qC)*cos(qB) + qB_d*cos(qC))**2 - 2*lw*(qA_d*sin(qB) + qC_d)*(y_d*cos(qA) + z_d*sin(qA))*cos(qC) + lw*(qA_d*sin(qB) + qC_d)*(x_d*cos(qB) + y_d*sin(qA)*sin(qB) - z_d*sin(qB)*cos(qA))*sin(qC) + lw*(-qA_d*sin(qC)*cos(qB) + qB_d*cos(qC))*(x_d*sin(qB) - y_d*sin(qA)*cos(qB) + z_d*cos(qA)*cos(qB)) + x_d**2 + x_d*(lw*(qA_d*sin(qB) + qC_d)*sin(qC)*cos(qB) + lw*(-qA_d*sin(qC)*cos(qB) + qB_d*cos(qC))*sin(qB)) + y_d**2 + z_d**2 + (-y_d*sin(qA) + z_d*cos(qA))*(-lw*(qA_d*sin(qB) + qC_d)*sin(qB)*sin(qC) + lw*(-qA_d*sin(qC)*cos(qB) + qB_d*cos(qC))*cos(qB))) - qA_d*(I_11*(-qA_d*sin(qC)*cos(qB) + qB_d*cos(qC))*cos(qC) + I_11*(qA_d*cos(qB)*cos(qC) + qB_d*sin(qC))*sin(qC))*cos(qB) + qB_d*(-I_11*(-qA_d*sin(qC)*cos(qB) + qB_d*cos(qC))*sin(qC) + I_11*(qA_d*cos(qB)*cos(qC) + qB_d*sin(qC))*cos(qC))]])\n"
     ]
    },
    {
     "name": "stderr",
     "output_type": "stream",
     "text": [
      "2022-04-14 14:56:45,004 - pynamics.system - INFO - integration at time 0003.93\n",
      "2022-04-14 14:56:45,737 - pynamics.integration - INFO - finished integration\n"
     ]
    }
   ],
   "source": [
    "states = run([best])"
   ]
  },
  {
   "cell_type": "code",
   "execution_count": 22,
   "id": "71f4c362",
   "metadata": {
    "scrolled": true
   },
   "outputs": [
    {
     "name": "stderr",
     "output_type": "stream",
     "text": [
      "2022-04-14 14:56:45,752 - pynamics.output - INFO - calculating outputs\n",
      "2022-04-14 14:56:45,757 - pynamics.output - INFO - done calculating outputs\n"
     ]
    },
    {
     "data": {
      "text/plain": [
       "<AxesSubplot:>"
      ]
     },
     "execution_count": 22,
     "metadata": {},
     "output_type": "execute_result"
    },
    {
     "data": {
      "image/png": "[encoded data removed]",
      "text/plain": [
       "<Figure size 432x288 with 1 Axes>"
      ]
     },
     "metadata": {
      "needs_background": "light"
     },
     "output_type": "display_data"
    },
    {
     "data": {
      "image/png": "[encoded data removed]",
      "text/plain": [
       "<Figure size 432x288 with 1 Axes>"
      ]
     },
     "metadata": {
      "needs_background": "light"
     },
     "output_type": "display_data"
    }
   ],
   "source": [
    "po = PointsOutput(points,system)\n",
    "po.calc(states,t)\n",
    "po.plot_time()\n",
    "po.animate(fps = 30, movie_name='glider.mp4',lw=2,marker='o')"
   ]
  },
  {
   "cell_type": "code",
   "execution_count": 23,
   "id": "63dc5a2b",
   "metadata": {
    "scrolled": true
   },
   "outputs": [
    {
     "data": {
      "text/html": [
       "<video width=\"432\" height=\"288\" controls autoplay loop>\n",
       "  <source type=\"video/mp4\" src=\"data:video/mp4;base64,AAAAIGZ0eXBNNFYgAAACAE00ViBpc29taXNvMmF2YzEAAAAIZnJlZQAAIBttZGF0AAACrgYF//+q\n",
       "3EXpvebZSLeWLNgg2SPu73gyNjQgLSBjb3JlIDE2MCByMzAxMSBjZGU5YTkzIC0gSC4yNjQvTVBF\n",
       "Ry00IEFWQyBjb2RlYyAtIENvcHlsZWZ0IDIwMDMtMjAyMCAtIGh0dHA6Ly93d3cudmlkZW9sYW4u\n",
       "b3JnL3gyNjQuaHRtbCAtIG9wdGlvbnM6IGNhYmFjPTEgcmVmPTMgZGVibG9jaz0xOjA6MCBhbmFs\n",
       "eXNlPTB4MzoweDExMyBtZT1oZXggc3VibWU9NyBwc3k9MSBwc3lfcmQ9MS4wMDowLjAwIG1peGVk\n",
       "X3JlZj0xIG1lX3JhbmdlPTE2IGNocm9tYV9tZT0xIHRyZWxsaXM9MSA4eDhkY3Q9MSBjcW09MCBk\n",
       "ZWFkem9uZT0yMSwxMSBmYXN0X3Bza2lwPTEgY2hyb21hX3FwX29mZnNldD0tMiB0aHJlYWRzPTkg\n",
       "bG9va2FoZWFkX3RocmVhZHM9MSBzbGljZWRfdGhyZWFkcz0wIG5yPTAgZGVjaW1hdGU9MSBpbnRl\n",
       "cmxhY2VkPTAgYmx1cmF5X2NvbXBhdD0wIGNvbnN0cmFpbmVkX2ludHJhPTAgYmZyYW1lcz0zIGJf\n",
       "cHlyYW1pZD0yIGJfYWRhcHQ9MSBiX2JpYXM9MCBkaXJlY3Q9MSB3ZWlnaHRiPTEgb3Blbl9nb3A9\n",
       "MCB3ZWlnaHRwPTIga2V5aW50PTI1MCBrZXlpbnRfbWluPTI1IHNjZW5lY3V0PTQwIGludHJhX3Jl\n",
       "ZnJlc2g9MCByY19sb29rYWhlYWQ9NDAgcmM9Y3JmIG1idHJlZT0xIGNyZj0yMy4wIHFjb21wPTAu\n",
       "NjAgcXBtaW49MCBxcG1heD02OSBxcHN0ZXA9NCBpcF9yYXRpbz0xLjQwIGFxPTE6MS4wMACAAAAE\n",
       "GmWIhAAz//727L4FNf2f0JcRLMXaSnA+KqSAgHc0wAAAAwAAeB0oXug4SqvQwAAbcABvyyN9detv\n",
       "5d+CLAxANG4B8OIX+yLdi/JkxRwE6Bh2KZI+HCQAgMng9ct/S7tMrxYBotyJKFJBxLvovBzGnzjc\n",
       "oPynh+T/1E9HxWlxKhgtABU4fkTqBd991C4lTBNFXfSxci8/7Pk8h1oiqLrT0+5RzbNMVzA+sgjE\n",
       "kbmwaJ03x34vfv9d49TgQmtV6qSZvMUUxRP7Tun+Ff9LJ6DWKsdg6HYMQ6EFJCFjBn0hfTxZy05v\n",
       "AR7gO+Vhs+o09sT4Y33NGr2iFF/5bQ9eF4wAHNh1v1FttCCGXr9u/k7EHgaz/CEDDTiIUviuLcof\n",
       "yXsBldN/7ZkmHO5kxjgDPyTRliHBtoI/pK64NczFqmxyYH8mRM/Cb21rgH8e+MUQNCf4moZ89UIf\n",
       "egTSAKA2QAABms416t6qE0xWnd8MYr0/Em8VPpnSb6ihD5mrQXAqwEMsPO1MQUyN1lxe9I5E8GI6\n",
       "e/tJ+BEofbMiikZeONY55QLjWjpq4JhdzGbG2l5evYIrZQr4Z8kRnPMfhmGYeDQi700qmkgs/tl/\n",
       "IeWBlukfq3YBckHRxP8EBWOt21asnbSQkl3wwIAN8J3acu5vo0ufcXhI1B5iUoBGa7jVd/F6B46+\n",
       "jakS6EEDIa60sHSfyGX+uS822Mta+fpstyA9vCmKfD4JtqxTSg+LTsIob1v/KpVzRfurQXbLKRaI\n",
       "4Xmo461c//DvlpTqEwZAVuxfXj5jzd82OXWDEixMtUM8DIJyOR0EkoG0RwZtZmY48j3cORLCDNdm\n",
       "b4bjPih+xJUFRPxg8Vv7b3AlhY0WZzM07YOJ+FB0ErLrTt/qXYwXWIx9YHM+cH2DTX68HpWT6dWB\n",
       "zc0x3CXKJs6rIn/5uxnHnzcb+YvmujcvyBf7gJeIp+USaaCPxUIM7dGWgVB/nrB5ZVXo61R7diau\n",
       "cOZHO3YZavwvyub53xc0CRLLflvSBI5IEeZvRwmWcF1Lvd5xlIda4TT9O1D+iV+dfiO5bS5sqHSQ\n",
       "AAV/EoQ12fW5xJ6O+BIre/xfgK+fUpBc6YX/VrCzPW7dzbPQEqZEVuIRE9myD8xb9OWNZtRdea3k\n",
       "pl4kSxYRa11OW7DKn9CwZ6g6agjr8qU4vDRnuuDHMCILA5wsB7tvzWKvajGcyPLFDcHhTA0zCxVt\n",
       "3EWalzp0NnEubCfykF/5OEy32668vWifEW68DbBgbp472PGmfDjpU7PtGTH0crbzKkuWjmxolnAH\n",
       "PUxki/9DAgjD34fWGfCb5PA0JwsKj0PwunZnk7dszWIEeExRylZjiJVn0aN/T5RKRu/PE2KKk6IW\n",
       "NhSNUK5CeADkAAoAFjAAAAMAAAMAAAMBqQAAAMBBmiNsQz/+nhAANzVaABr3cXnFKbrLed4aKDAj\n",
       "e9AQiQ804fYAULg4wUGA1fZ0LslJH6Ya7dsoIBgFzpk99anbaMc41QcG19WvbVBXzPbwRXLhkkf5\n",
       "FRaC/e4ktB6sR0Abh+KksvFPg2/ourcYLjq1B87eDMQy0yII48wKV5mCPli/RKUB5TJhcVf5UMXt\n",
       "DvLXMHLsNUowWyJmVMbK/VIKkjmllykHYtSVlAArqki4yf0BJBzTQuFBmFGrMUAAZ8AAAAAxQZ5B\n",
       "eIV/AAujOO43taoAIg2v6mL+Y6iMmUOtOnO6v39tFpoEnAwya0RV48txTADFgQAAABoBnmJqQn8A\n",
       "DnijIwtHd2U5iSZtIMQ7qooVGgAAADlBmmRJqEFomUwIZ//+nhAANgJdXkAG68SvOVY8pkj/wveN\n",
       "OeaZ49vlo7u+gHLdqoBIeK3Ac221tIEAAAAsQZqFSeEKUmUwIZ/+nhAANNvEjaSADc0Z50hrjRiR\n",
       "XGKG7vkKc2McNOofQ+cAAAA2QZqmSeEOiZTAhn/+nhAANgJdgjADa0/4CMH40pMV/oy9pCMzH94/\n",
       "61C+lBodgYThLspiDWELAAAAYUGayEnhDyZTBRE8N//+p4QADdCnekgAWh3Ese18JqS93hLlDUk+\n",
       "cYpNWzC0v6wBxOeS27t9VelE3HtRA3VLrbhNJwgVxZBD8HOcUg5HOXjY7DS78e5OKPPYZoTMTvsQ\n",
       "RlUAAAAUAZ7nakJ/AA5S/s1dektFSmz8pIAAAAAoQZrpSeEPJlMCG//+p4QADdCpq1jfCACc74XL\n",
       "GRwjiYzO9M+3vS4akAAAAHhBmw1J4Q8mUwIb//6nhAAN0J6WUoAyNmYvmdbQQ2dEU+WxaKH74/+P\n",
       "8BWF6tDrKToOQb8lPcrCMlPG06BJp4G5YjtRxXjhjyZ/LOVzA8nkH1Lrq1lOD7RTyS0+b6vTxZIM\n",
       "w5PPfxUUMwrfUJj+I7hLT3R8o9GMNmEAAAAnQZ8rRRE8K/8AC1ZcCREAJqLvQtxsLBFCvG4RklUR\n",
       "yOCvigrwwBFwAAAAFgGfSnRCfwAOeEUKStWJFJhrM0oFZUwAAAAbAZ9MakJ/AA52bFoMUqwADaRp\n",
       "ylwhAw9EuOaBAAAAUEGbUEmoQWiZTAhv//6nhAANgAMgyOhAAQ2iD+lIKzN1YF2GU0rKGIPKH41M\n",
       "E9/2g314WlYGPnxdclJGavleaYNttlZ7NyFCh7wVsCqC8JxxAAAAHUGfbkURLCv/AAsVPvNAAbOX\n",
       "OOj4f5k8O6X1sq+1AAAAIgGfj2pCfwAOFPPPoW3wAhRcXxK9K7JyY42HEhwvVgPH5AgAAAA9QZuU\n",
       "SahBbJlMCG///qeEAA2ACBQmY5AAh+s/FDrSZoteRxzupoxgvlh+0A4P6ahaaQeXVdupDCt8XcLN\n",
       "NAAAADFBn7JFFSwr/wALEPKpyFhACZ2TLvLVZIt/lY4anbHWJFKCLhxvinFZmJdOPUCWG7IFAAAA\n",
       "GQGf0XRCfwAOLBpGkAJSUhC/SPZuBsMNbW4AAAATAZ/TakJ/AA4rai2NEuhlvttehgAAAD9Bm9dJ\n",
       "qEFsmUwIb//+p4QADY699rYVycBDLbGxgqfAVDiSs6v1UvOHBLIJ+Z5+1S3RI8PCuF/bKwyVYNPC\n",
       "ccEAAAAYQZ/1RRUsK/8ACvAngMBDRyaWGpVJO9aqAAAAFQGeFmpCfwAOJu9OOsJ3j1Tv/CiGDwAA\n",
       "ADNBmhtJqEFsmUwIZ//+nhAAM78HdOW/Z1vpwdHfucAOMgw5qfyOU8QS1VFR1DalbX7+R8EAAAAc\n",
       "QZ45RRUsK/8ACstQ0c4swEmFh8Hyy7/XbOdcQAAAABUBnlh0Qn8ADc+dS2bCkNkzkP8nGKkAAAAT\n",
       "AZ5aakJ/AAbq3tnwfkC1KZg3VgAAACBBml1JqEFsmUwUTDP//p4QABm583YUaeBNpb1cZpDZuQAA\n",
       "ABUBnnxqQn8ABufbtyzm4vQgXifmP3cAAAAfQZp/SeEKUmUwUsN//qeEAAaVzyJFN39z3Z+t655S\n",
       "QAAAABEBnp5qQn8ABufdUcf1LOyE7AAAAC9BmoJJ4Q6JlMCGf/6eEAAZ3hOhzmuxC/rK2eoJsAND\n",
       "HFqOeKgR1EsdlYXaE50WUQAAABRBnqBFFTwr/wAFZaN3JRknvWssoAAAAB4BnsFqQn8ABr/AdUCA\n",
       "ATjN7jKdTeKX/j6huc8ywQsAAAA3QZrDSahBaJlMCG///qeEAAZs4bATJw2Oi6AEhgRywrwJWg/0\n",
       "gWk/cOkY3UgjqZRCb//018qlVQAAADdBmuVJ4QpSZTBREsN//qeEAAZt0EKRLOu7sJAB/IA9AH1w\n",
       "BcsY5I5f79gUvLnlBRj+vIUe94XdAAAAFgGfBGpCfwAGv91Rx6jV1oYVCe4mWLEAAAA2QZsJSeEO\n",
       "iZTAhn/+nhAAGT4TnWq2OYe0Je1FwBfjB8fSHkUzUTKdpXAboqxfPCiPms7+aOr5AAAAG0GfJ0UV\n",
       "PCv/AAVBpAhsZ4s6c/5zpyaL0DLBuQAAABQBn0Z0Qn8ABr/Js0YnSi8ovFqqaAAAABgBn0hqQn8A\n",
       "BpmZxRGjziiB7fhYO2bZhwIAAAA1QZtLSahBaJlMFPDP/p4QABhxXx6+lb7+iyWhcLW+mNfuiSAD\n",
       "eJP0mAWChw9caG62zOsqaqEAAAAjAZ9qakJ/AAaXv5MCSlAXXI4ZkACVf6yzBj7JKXVVchEUMbQA\n",
       "AAA2QZttSeEKUmUwUsM//p4QABifhPUzVtU00qZBJEJoCLYyL8IzZMlOBzbGBGpD7JVW5z4P4IYI\n",
       "AAAAGwGfjGpCfwAGmEkbjrsmr/TVDR5sWwXZlxqgDQAAACFBm49J4Q6JlMFEwz/+nhAAC+r0cwYU\n",
       "bE6gfEs5jiNuxYEAAAAYAZ+uakJ/AAY4ddvRBGlFtbOn5D9Wy6bhAAAAGkGbsEnhDyZTAhv//qeE\n",
       "AAMPYKJEiVQxz49IAAAAJEGb00nhDyZTAhv//qeEAAMTwnlCcXoaw4vAEBX5nI3Yd5qsqAAAABRB\n",
       "n/FFETwr/wACfND9er28u61sCQAAABEBnhJqQn8AAyVvbS3tTUDpgAAAACFBmhVJqEFomUwU8N/+\n",
       "p4QAAvrpN8lN5se8CxGCawR5z5gAAAARAZ40akJ/AAMj38l5bSqAY0EAAAAeQZo4SeEKUmUwIZ/+\n",
       "nhAAC68y51qiWXjACyEsTgo+AAAAFEGeVkU0TCv/AAJrIjJUkjQaV1sXAAAAHgGed2pCfwADD+Qw\n",
       "oABOOR9crynQYGnpdEueAZQGXQAAACtBmnpJqEFomUwU8M/+nhAAC2cy53zyDElogAko4oCMV67R\n",
       "LQ8yTo3GTJeAAAAAJAGemWpCfwADD+QVwWLrOAB63G5BNseeonFuXMFzNeWdVPcizwAAADtBmpxJ\n",
       "4QpSZTBSw3/+p4QAAtWIrMvMgBMpGCOsWDz0nyQdvrQLb95rj3+7hgveWels3wgMui20f750HAAA\n",
       "ABUBnrtqQn8AAvzMqbsR5xidFeacGOEAAABDQZq+SeEOiZTBRMN//qeEAALWALxUixrZ5hIASMsZ\n",
       "BjdWtZcTM+egDhbm5/SJ+WHSCEi8R43z7ZP0dXmxTh4FTnfPSwAAABcBnt1qQn8AAvzO0iGWpJ6X\n",
       "kHlUADwY4AAAAF1BmsFJ4Q8mUwIb//6nhAAC2cy6/VrPrjoAWyZnUXBgBBGFF5rBaTqEtnlpiPf1\n",
       "09ciRiKz336cxRG/XtnpVAdW3AtIXyMruu6PQkmr96x1JIwhwbprxckHniUum7gAAAAaQZ7/RRE8\n",
       "K/8AAksgRLvjmSapzpHvpn4QCmcAAAAkAZ8AakJ/AALm3JYWphAA9975FZkq0bNbjdLMJj9AJZvV\n",
       "Y0FgAAAASEGbBEmoQWiZTAhn//6eEAAK1zLoiU/uDpKwAWoYfQQeeYsnJANCjZYG7KSrahzPSV9u\n",
       "nv/8/4WwvvwYLqqgK2v4tLydt+GruQAAACdBnyJFESwr/wACOvCkAKQyjukn52QneE/QAcPEk4qQ\n",
       "m/T292Eb1egAAAAnAZ9DakJ/AALohMgpsHGrRWu8AIFPj3p1O8NFMEchULS9BbaGEDFhAAAAXkGb\n",
       "RkmoQWyZTBRMM//+nhAACoAsesYy8AFhQw/DrowMj0sHkTbdiIpEqwmKs+anGlnlZW8pp/ao1S5n\n",
       "Bl5jQKY1vE92yu8cSmvbHcz2i96JIbrekkBv/s2BJKCKpy8AAAAlAZ9lakJ/AALX3PoXUAD87TeX\n",
       "BIQkMLXh2GYzrs324ssNVbkAwQAAADdBm2hJ4QpSZTBSwz/+nhAACn1xx+0CWMACMg/3op44vu/O\n",
       "//w6tIDc0lc1EcoqYp/n5qHxqpy5AAAAIAGfh2pCfwAC1oTJdZtG2Dx5sQARBs3v/fyf13mcbmem\n",
       "AAAASUGbiknhDomUwUTDP/6eEAAKjzLn2FdpLigmUOGNoQBO6lQNvB5ZcQAFR8OVVLNDcEA4EQu6\n",
       "XcrTgXsxDRIP+qh/uiYXccz4awIAAAATAZ+pakJ/AALWyRi0v6/CBEkBwQAAACtBm6tJ4Q8mUwIb\n",
       "//6nhAACoAChWoADN0CrqnLQC+rk1bgKply4yiOnlU6EAAAAKUGbzUnhDyZTBRE8N//+p4QAAp+I\n",
       "nw3s56En/eFv+JJOE0kRsOdw3L0gAAAAEgGf7GpCfwACxITIKb0CHtcpWQAAACtBm/BJ4Q8mUwIb\n",
       "//6nhAACo8y6/VirXQAtoH6hBD/ZtmZKWmLvf22GonW5AAAAFkGeDkURPCv/AAIbX58BPPBgoxgd\n",
       "5mEAAAASAZ4vakJ/AAKyhMamrBs+d+9AAAAAQUGaM0moQWiZTAhv//6nhAACjgDFC06QNfEUDBAC\n",
       "WeojuqLcVVZtHIaixyUtot2BfbpZfvYMJQfiJKs8SL8dJvyAAAAAF0GeUUURLCv/AAIbX58Bdg9P\n",
       "5tu8gMaBAAAAIQGecmpCfwACspLE2lClwATt5a3Ox+CDK0tK8I9oPq/vQAAAAEJBmnVJqEFsmUwU\n",
       "TDf//qeEAAKRzLsEtCMtJ0ALZMLs4fLAce6kLFYUqboyzWJ5pA2vWu3R5v0xW1uAlUSzkNvli7oA\n",
       "AAAUAZ6UakJ/AAKzBLJSmfH5F+upc7EAAABCQZqZSeEKUmUwIb/+p4QAAnuKCS3TIBq4RHj8z8YH\n",
       "/uP9F+kDYw9lJpzHn9PfuGC1hf2BoJPWyXC+paZHn2yQ+GM+AAAAI0Get0U0TCv/AAH75HvywvHl\n",
       "76sg5ZyuEwAXpPXeDMeMKi6LAAAAHgGe1nRCfwACn0bfUm8ZpndV/8AHDveEz5ezRswzsQAAACEB\n",
       "nthqQn8AAqCTqivTZ2pknQV1T23/ABw773/3T8wN19MAAABaQZrdSahBaJlMCG///qeEAAJ/zLr9\n",
       "WqVdAC04+ITDOt4Bw9eUvzWeOS0HFz6TLbl90KQpe63MdythduvcohTm8RLTNV7RJf4RBeQLZqzi\n",
       "orJYi5IL9i77uh1NAAAAGUGe+0URLCv/AAH7/gPDxuLWU5vi1mu0XRQAAAAiAZ8adEJ/AAKgiRoz\n",
       "QPplsAAQPvSwYeoe6atfaDc5KPhsqQAAABkBnxxqQn8AAo6S2CCOJSB6AAceTh8Xao0VAAAAO0Gb\n",
       "AEmoQWyZTAhv//6nhAACbdNzn/OlrL5apEbwA28IVbMoJ8lXhcXftngokDJ9mf7LPywIBuEaQQY+\n",
       "AAAAI0GfPkUVLCv/AAHxVGSq8Z7tM4AQHxFsDjmgOUagHx9u2R+YAAAAEAGfX2pCfwACjpLYIJUw\n",
       "1DMAAABCQZtDSahBbJlMCG///qeEAAJbldP1iIYEgBYjkdsCLvcXUUW6HDM7pkdH75IGqzM7nSR8\n",
       "RYjY6pSg5hkIfwkvSWm9AAAAGUGfYUUVLCv/AAHsT0a6pnitORIIqJ2Wc0EAAAATAZ+CakJ/AAKP\n",
       "bgvcF7vaY6dPgAAAADhBm4ZJqEFsmUwIb//+p4QAAl1ClTyhMB5QlEAG1LnJnN8PrObWTkfCebc1\n",
       "MMswpnPMhrwvMNtSQQAAABxBn6RFFSwr/wAB8a8cuku1U2ACv8wCFFkGmuVBAAAAHQGfxWpCfwAC\n",
       "hyffxPb4eGAAe853cww/1vvj9FU1AAAAQEGbykmoQWyZTAhv//6nhAACXdN7LaoTq9XIeABs5BwZ\n",
       "+5/mdrqhTMxUTYzhL36yj+Rk/L9xT757ZNXvkHZYE2cAAAAXQZ/oRRUsK/8AAexPSovgsQAZwwzc\n",
       "apgAAAARAZ4HdEJ/AAKOil8ylrLrd0AAAAATAZ4JakJ/AAKPcbb7PonNHLi+YQAAACpBmg5JqEFs\n",
       "mUwIb//+p4QAAkqXiiJnZxRABrW5PYTjD8vulQ2tRjkxqSAAAAAUQZ4sRRUsK/8AAfGvivY4nV0y\n",
       "k18AAAARAZ5LdEJ/AAKOjqrpcR2cERkAAAARAZ5NakJ/AAKPcbu3vb1lf6kAAAApQZpRSahBbJlM\n",
       "CG///qeEAAJKPamRAH8CAqODxFqMOiEEfItB+FGS+YEAAAAUQZ5vRRUsK/8AAfGvi8aSah2Pf6kA\n",
       "AAASAZ6QakJ/AAKPcbilfcpFO50qAAAAIUGalUmoQWyZTAhv//6nhAACOjxk4kANmmdL+vbVc1rl\n",
       "gQAAABRBnrNFFSwr/wAB8a+F0mZCfYx7aAAAABEBntJ0Qn8AAo6OeDUnWifReAAAABEBntRqQn8A\n",
       "Ao9xjaV9ykxYGQAAADZBmtlJqEFsmUwIb//+p4QAAjo8Y4fa/QpLEoqwaAFTJ3W64ylAAsFx0ED0\n",
       "AipHN4O1MPNMxYAAAAAcQZ73RRUsK/8AAfGvhWSLwNReAAcZ5bs0Gf0XgQAAABIBnxZ0Qn8AAoco\n",
       "C2obLS8RYGEAAAASAZ8YakJ/AAKHKAtzG0yvEWBgAAAANEGbHEmoQWyZTAhv//6nhAACPdN7E8tt\n",
       "CCoFxACTus9NFMdDab0Xn+NhVCGBcCESYFoYDm8AAAAaQZ86RRUsK/8AAexPaWzISDkxtNMXWCGH\n",
       "9SAAAAAcAZ9bakJ/AAKPcY2lFiHymABEHlhRXFPHwLcE+QAAAC1Bm0BJqEFsmUwIb//+p4QAAit7\n",
       "S/tespMgArWQoYmRK0ZS4lI34rl14G6lp3UAAAAnQZ9+RRUsK/8AAfGvfw8rYoGcABN/boOeoLBm\n",
       "dpbPQKdW9tLQuPHAAAAAHwGfnXRCfwAChygI9pJ2GEAISP7ZqdyW7/yGzGjMysAAAAASAZ+fakJ/\n",
       "AAKHKAkvdFJVWjCxAAAARUGbhEmoQWyZTAhv//6nhAACKjvlEpe0KXgBHjltn27PJRxD38rPn92B\n",
       "qGQXrZ0qlL/A8Fm9Ij1/fk1MlKyhfoVzTNjVsAAAABpBn6JFFSwr/wAB7E9oA+xCiiW613giYfHN\n",
       "6wAAABEBn8F0Qn8AAo6ORGFVvjEd3AAAAB0Bn8NqQn8AAo9xajSI9/oQATO2Pu3D6AuYpCtEqQAA\n",
       "AFNBm8hJqEFsmUwIb//+p4QAAi3TexuZqW6+HzPACE5je34xWwPn07++IZ+s7ewOQ9nhUkLY7dUJ\n",
       "P7T3qVjDF3JROCrNEg33g8s/1GBpkGIf/YGsoQAAACtBn+ZFFSwr/wAB8a9/kTNaZbO7ABOyKUzb\n",
       "dV7XBjS/GaxmqD6b9wx56UXxAAAAKAGeBXRCfwAChygJDXMjv5YAB+KnA02bf/7rKQLBzAMtYGPZ\n",
       "9HEV3SEAAAAbAZ4HakJ/AAKHKAka7+N36mVvOvEohasQS89IAAAAVEGaDEmoQWyZTAhv//6nhAAC\n",
       "Gjxv6V3oQrapACaaQHoO69wXVzY4U7T6U3725EywMJZCL1PFlFZDxsLr2o61x1HH1LtRDrMFvZ/8\n",
       "ELL5zICJtW/iFAAAACtBnipFFSwr/wAB7E9mvwEp8uAG34LEE1CsMiCpJG04ZjgxOKlqm3xDhW4/\n",
       "AAAAHgGeSXRCfwAChygHDGJYgBOb7kwOltUGiiT14DetSAAAACIBnktqQn8AAocoBz6G6PFJmyfV\n",
       "x0RiACTJemmBQGwYSzswAAAARUGaUEmoQWyZTAhn//6eEAAIKh8EkIv2dmbVexLpKLwAGq0epS3x\n",
       "ot3otRwSyy3QH8fcWL+f+dn4SbXnG3rMs1IbWbOsoQAAADNBnm5FFSwr/wAB7E9oCBSjho2b17e2\n",
       "iR7PoAbLan2jnW5r9G7s8nQ0N5/Y1f/v+rPaA9MAAAAhAZ6NdEJ/AAKOjhxJtkgYhHJaPC0vEl0A\n",
       "C3OD25Mb+kfTAAAAKQGej2pCfwACj3FKR/GP7QLRThL9igAHOn0qZYdYA+q2b21/3+lPu8BgAAAA\n",
       "Q0GalEmoQWyZTAhX//44QAAf31Gsm1SCfAF8oW1iAELP+xrv6xBA6BNmYiwKcin1KHwYoXurqxAS\n",
       "nV2ksWnsU8TiQaQAAAA/QZ6yRRUsK/8AAfGvgBzIB8HZ5I+0Dn7AAfunzAIdjIX2IKzJQrCoKXKV\n",
       "MtM0+PLcZjU0OvdAvt3onsU8HV9JAAAAKgGe0XRCfwAChygHEXyuxAASyRhtggf0Odmbq3E8P1y0\n",
       "i7fnNfHGSgKe9AAAACoBntNqQn8AAocoBWK8NyXABOo5YhN2/KGMa3xJQfZSn2FNDX8T3Bah70AA\n",
       "AAAwQZrVSahBbJlMCE///fEAAE1RS66KitocjZsAHDfwA0bXoO09cWAxsFoSvoJ8ROVBAAAJsm1v\n",
       "b3YAAABsbXZoZAAAAAAAAAAAAAAAAAAAA+gAABOIAAEAAAEAAAAAAAAAAAAAAAABAAAAAAAAAAAA\n",
       "AAAAAAAAAQAAAAAAAAAAAAAAAAAAQAAAAAAAAAAAAAAAAAAAAAAAAAAAAAAAAAAAAAAAAAIAAAjc\n",
       "dHJhawAAAFx0a2hkAAAAAwAAAAAAAAAAAAAAAQAAAAAAABOIAAAAAAAAAAAAAAAAAAAAAAABAAAA\n",
       "AAAAAAAAAAAAAAAAAQAAAAAAAAAAAAAAAAAAQAAAAAGwAAABIAAAAAAAJGVkdHMAAAAcZWxzdAAA\n",
       "AAAAAAABAAATiAAABAAAAQAAAAAIVG1kaWEAAAAgbWRoZAAAAAAAAAAAAAAAAAAAPAAAASwAVcQA\n",
       "AAAAAC1oZGxyAAAAAAAAAAB2aWRlAAAAAAAAAAAAAAAAVmlkZW9IYW5kbGVyAAAAB/9taW5mAAAA\n",
       "FHZtaGQAAAABAAAAAAAAAAAAAAAkZGluZgAAABxkcmVmAAAAAAAAAAEAAAAMdXJsIAAAAAEAAAe/\n",
       "c3RibAAAALdzdHNkAAAAAAAAAAEAAACnYXZjMQAAAAAAAAABAAAAAAAAAAAAAAAAAAAAAAGwASAA\n",
       "SAAAAEgAAAAAAAAAAQAAAAAAAAAAAAAAAAAAAAAAAAAAAAAAAAAAAAAAAAAAABj//wAAADVhdmND\n",
       "AWQAFf/hABhnZAAVrNlBsJaEAAADAAQAAAMA8DxYtlgBAAZo6+PLIsD9+PgAAAAAHHV1aWRraEDy\n",
       "XyRPxbo5pRvPAyPzAAAAAAAAABhzdHRzAAAAAAAAAAEAAACWAAACAAAAABRzdHNzAAAAAAAAAAEA\n",
       "AAABAAAEOGN0dHMAAAAAAAAAhQAAAAEAAAQAAAAAAQAACAAAAAACAAACAAAAAAMAAAQAAAAAAQAA\n",
       "BgAAAAABAAACAAAAAAEAAAQAAAAAAQAACgAAAAABAAAEAAAAAAEAAAAAAAAAAQAAAgAAAAABAAAI\n",
       "AAAAAAIAAAIAAAAAAQAACgAAAAABAAAEAAAAAAEAAAAAAAAAAQAAAgAAAAABAAAIAAAAAAIAAAIA\n",
       "AAAAAQAACgAAAAABAAAEAAAAAAEAAAAAAAAAAQAAAgAAAAABAAAGAAAAAAEAAAIAAAAAAQAABgAA\n",
       "AAABAAACAAAAAAEAAAgAAAAAAgAAAgAAAAABAAAEAAAAAAEAAAYAAAAAAQAAAgAAAAABAAAKAAAA\n",
       "AAEAAAQAAAAAAQAAAAAAAAABAAACAAAAAAEAAAYAAAAAAQAAAgAAAAABAAAGAAAAAAEAAAIAAAAA\n",
       "AQAABgAAAAABAAACAAAAAAEAAAQAAAAAAQAACAAAAAACAAACAAAAAAEAAAYAAAAAAQAAAgAAAAAB\n",
       "AAAIAAAAAAIAAAIAAAAAAQAABgAAAAABAAACAAAAAAEAAAYAAAAAAQAAAgAAAAABAAAGAAAAAAEA\n",
       "AAIAAAAAAQAACAAAAAACAAACAAAAAAEAAAgAAAAAAgAAAgAAAAABAAAGAAAAAAEAAAIAAAAAAQAA\n",
       "BgAAAAABAAACAAAAAAEAAAYAAAAAAQAAAgAAAAABAAAEAAAAAAEAAAYAAAAAAQAAAgAAAAABAAAI\n",
       "AAAAAAIAAAIAAAAAAQAACAAAAAACAAACAAAAAAEAAAYAAAAAAQAAAgAAAAABAAAKAAAAAAEAAAQA\n",
       "AAAAAQAAAAAAAAABAAACAAAAAAEAAAoAAAAAAQAABAAAAAABAAAAAAAAAAEAAAIAAAAAAQAACAAA\n",
       "AAACAAACAAAAAAEAAAgAAAAAAgAAAgAAAAABAAAIAAAAAAIAAAIAAAAAAQAACgAAAAABAAAEAAAA\n",
       "AAEAAAAAAAAAAQAAAgAAAAABAAAKAAAAAAEAAAQAAAAAAQAAAAAAAAABAAACAAAAAAEAAAgAAAAA\n",
       "AgAAAgAAAAABAAAKAAAAAAEAAAQAAAAAAQAAAAAAAAABAAACAAAAAAEAAAoAAAAAAQAABAAAAAAB\n",
       "AAAAAAAAAAEAAAIAAAAAAQAACAAAAAACAAACAAAAAAEAAAoAAAAAAQAABAAAAAABAAAAAAAAAAEA\n",
       "AAIAAAAAAQAACgAAAAABAAAEAAAAAAEAAAAAAAAAAQAAAgAAAAABAAAKAAAAAAEAAAQAAAAAAQAA\n",
       "AAAAAAABAAACAAAAAAEAAAoAAAAAAQAABAAAAAABAAAAAAAAAAEAAAIAAAAAAQAACgAAAAABAAAE\n",
       "AAAAAAEAAAAAAAAAAQAAAgAAAAABAAAKAAAAAAEAAAQAAAAAAQAAAAAAAAABAAACAAAAAAEAAAQA\n",
       "AAAAHHN0c2MAAAAAAAAAAQAAAAEAAACWAAAAAQAAAmxzdHN6AAAAAAAAAAAAAACWAAAG0AAAAMQA\n",
       "AAA1AAAAHgAAAD0AAAAwAAAAOgAAAGUAAAAYAAAALAAAAHwAAAArAAAAGgAAAB8AAABUAAAAIQAA\n",
       "ACYAAABBAAAANQAAAB0AAAAXAAAAQwAAABwAAAAZAAAANwAAACAAAAAZAAAAFwAAACQAAAAZAAAA\n",
       "IwAAABUAAAAzAAAAGAAAACIAAAA7AAAAOwAAABoAAAA6AAAAHwAAABgAAAAcAAAAOQAAACcAAAA6\n",
       "AAAAHwAAACUAAAAcAAAAHgAAACgAAAAYAAAAFQAAACUAAAAVAAAAIgAAABgAAAAiAAAALwAAACgA\n",
       "AAA/AAAAGQAAAEcAAAAbAAAAYQAAAB4AAAAoAAAATAAAACsAAAArAAAAYgAAACkAAAA7AAAAJAAA\n",
       "AE0AAAAXAAAALwAAAC0AAAAWAAAALwAAABoAAAAWAAAARQAAABsAAAAlAAAARgAAABgAAABGAAAA\n",
       "JwAAACIAAAAlAAAAXgAAAB0AAAAmAAAAHQAAAD8AAAAnAAAAFAAAAEYAAAAdAAAAFwAAADwAAAAg\n",
       "AAAAIQAAAEQAAAAbAAAAFQAAABcAAAAuAAAAGAAAABUAAAAVAAAALQAAABgAAAAWAAAAJQAAABgA\n",
       "AAAVAAAAFQAAADoAAAAgAAAAFgAAABYAAAA4AAAAHgAAACAAAAAxAAAAKwAAACMAAAAWAAAASQAA\n",
       "AB4AAAAVAAAAIQAAAFcAAAAvAAAALAAAAB8AAABYAAAALwAAACIAAAAmAAAASQAAADcAAAAlAAAA\n",
       "LQAAAEcAAABDAAAALgAAAC4AAAA0AAAAFHN0Y28AAAAAAAAAAQAAADAAAABidWR0YQAAAFptZXRh\n",
       "AAAAAAAAACFoZGxyAAAAAAAAAABtZGlyYXBwbAAAAAAAAAAAAAAAAC1pbHN0AAAAJal0b28AAAAd\n",
       "ZGF0YQAAAAEAAAAATGF2ZjU4Ljc2LjEwMA==\n",
       "\">\n",
       "  Your browser does not support the video tag.\n",
       "</video>"
      ],
      "text/plain": [
       "<IPython.core.display.HTML object>"
      ]
     },
     "execution_count": 23,
     "metadata": {},
     "output_type": "execute_result"
    }
   ],
   "source": [
    "from matplotlib import animation, rc\n",
    "from IPython.display import HTML\n",
    "HTML(po.anim.to_html5_video())"
   ]
  },
  {
   "cell_type": "code",
   "execution_count": 24,
   "id": "4f609c12",
   "metadata": {
    "scrolled": true
   },
   "outputs": [],
   "source": [
    "o1 = Output([E],system,system.constant_values)"
   ]
  },
  {
   "cell_type": "code",
   "execution_count": 25,
   "id": "7ec1559f",
   "metadata": {
    "scrolled": true
   },
   "outputs": [],
   "source": [
    "def maximize_energy(args):\n",
    "    print('r: ',args[0])\n",
    "   # if args[0]>1:\n",
    "   #     return 1000\n",
    "   # if args[0]<=0:\n",
    "   #     return 1000\n",
    "    try:\n",
    "        states = run(args)\n",
    "        y = o1.calc(states,t)\n",
    "        perf = 1/y[-1] \n",
    "        return perf\n",
    "    except scipy.linalg.LinAlgError:\n",
    "        return 1000"
   ]
  },
  {
   "cell_type": "code",
   "execution_count": 26,
   "id": "637de70c",
   "metadata": {
    "scrolled": true
   },
   "outputs": [
    {
     "name": "stderr",
     "output_type": "stream",
     "text": [
      "2022-04-14 14:56:52,210 - pynamics.integration - INFO - beginning integration\n"
     ]
    },
    {
     "name": "stdout",
     "output_type": "stream",
     "text": [
      "r:  0.5\n"
     ]
    },
    {
     "name": "stderr",
     "output_type": "stream",
     "text": [
      "2022-04-14 14:56:54,493 - pynamics.integration - INFO - finished integration\n",
      "2022-04-14 14:56:54,494 - pynamics.output - INFO - calculating outputs\n",
      "2022-04-14 14:56:54,499 - pynamics.output - INFO - done calculating outputs\n",
      "2022-04-14 14:56:54,501 - pynamics.integration - INFO - beginning integration\n"
     ]
    },
    {
     "name": "stdout",
     "output_type": "stream",
     "text": [
      "r:  0.4437694101250946\n"
     ]
    },
    {
     "name": "stderr",
     "output_type": "stream",
     "text": [
      "2022-04-14 14:56:54,723 - pynamics.system - INFO - integration at time 0000.03\n",
      "2022-04-14 14:56:57,920 - pynamics.system - INFO - integration at time 0001.40\n",
      "2022-04-14 14:56:59,336 - pynamics.integration - INFO - finished integration\n",
      "2022-04-14 14:56:59,337 - pynamics.output - INFO - calculating outputs\n",
      "2022-04-14 14:56:59,342 - pynamics.output - INFO - done calculating outputs\n",
      "2022-04-14 14:56:59,343 - pynamics.integration - INFO - beginning integration\n"
     ]
    },
    {
     "name": "stdout",
     "output_type": "stream",
     "text": [
      "r:  0.6562305898749052\n"
     ]
    },
    {
     "name": "stderr",
     "output_type": "stream",
     "text": [
      "2022-04-14 14:57:01,119 - pynamics.system - INFO - integration at time 0001.67\n",
      "2022-04-14 14:57:02,468 - pynamics.integration - INFO - finished integration\n",
      "2022-04-14 14:57:02,470 - pynamics.output - INFO - calculating outputs\n",
      "2022-04-14 14:57:02,475 - pynamics.output - INFO - done calculating outputs\n",
      "2022-04-14 14:57:02,476 - pynamics.integration - INFO - beginning integration\n"
     ]
    },
    {
     "name": "stdout",
     "output_type": "stream",
     "text": [
      "r:  0.7875388202501892\n"
     ]
    },
    {
     "name": "stderr",
     "output_type": "stream",
     "text": [
      "2022-04-14 14:57:04,293 - pynamics.system - INFO - integration at time 0001.83\n",
      "2022-04-14 14:57:05,668 - pynamics.integration - INFO - finished integration\n",
      "2022-04-14 14:57:05,669 - pynamics.output - INFO - calculating outputs\n",
      "2022-04-14 14:57:05,674 - pynamics.output - INFO - done calculating outputs\n",
      "2022-04-14 14:57:05,675 - pynamics.integration - INFO - beginning integration\n"
     ]
    },
    {
     "name": "stdout",
     "output_type": "stream",
     "text": [
      "r:  0.7312069994504087\n"
     ]
    },
    {
     "name": "stderr",
     "output_type": "stream",
     "text": [
      "2022-04-14 14:57:07,521 - pynamics.system - INFO - integration at time 0001.91\n",
      "2022-04-14 14:57:08,733 - pynamics.integration - INFO - finished integration\n",
      "2022-04-14 14:57:08,734 - pynamics.output - INFO - calculating outputs\n",
      "2022-04-14 14:57:08,738 - pynamics.output - INFO - done calculating outputs\n",
      "2022-04-14 14:57:08,739 - pynamics.integration - INFO - beginning integration\n"
     ]
    },
    {
     "name": "stdout",
     "output_type": "stream",
     "text": [
      "r:  0.7914957689712718\n"
     ]
    },
    {
     "name": "stderr",
     "output_type": "stream",
     "text": [
      "2022-04-14 14:57:10,693 - pynamics.system - INFO - integration at time 0001.56\n",
      "2022-04-14 14:57:12,320 - pynamics.integration - INFO - finished integration\n",
      "2022-04-14 14:57:12,322 - pynamics.output - INFO - calculating outputs\n",
      "2022-04-14 14:57:12,326 - pynamics.output - INFO - done calculating outputs\n",
      "2022-04-14 14:57:12,327 - pynamics.integration - INFO - beginning integration\n"
     ]
    },
    {
     "name": "stdout",
     "output_type": "stream",
     "text": [
      "r:  0.8069181956411859\n"
     ]
    },
    {
     "name": "stderr",
     "output_type": "stream",
     "text": [
      "2022-04-14 14:57:13,854 - pynamics.system - INFO - integration at time 0000.95\n",
      "2022-04-14 14:57:16,083 - pynamics.integration - INFO - finished integration\n",
      "2022-04-14 14:57:16,084 - pynamics.output - INFO - calculating outputs\n",
      "2022-04-14 14:57:16,089 - pynamics.output - INFO - done calculating outputs\n",
      "2022-04-14 14:57:16,091 - pynamics.integration - INFO - beginning integration\n"
     ]
    },
    {
     "name": "stdout",
     "output_type": "stream",
     "text": [
      "r:  0.8806688822970953\n"
     ]
    },
    {
     "name": "stderr",
     "output_type": "stream",
     "text": [
      "2022-04-14 14:57:17,067 - pynamics.system - INFO - integration at time 0000.52\n",
      "2022-04-14 14:57:20,252 - pynamics.integration - INFO - finished integration\n",
      "2022-04-14 14:57:20,253 - pynamics.output - INFO - calculating outputs\n",
      "2022-04-14 14:57:20,258 - pynamics.output - INFO - done calculating outputs\n",
      "2022-04-14 14:57:20,259 - pynamics.integration - INFO - beginning integration\n",
      "2022-04-14 14:57:20,297 - pynamics.system - INFO - integration at time 0000.00\n"
     ]
    },
    {
     "name": "stdout",
     "output_type": "stream",
     "text": [
      "r:  0.8099243266534977\n"
     ]
    },
    {
     "name": "stderr",
     "output_type": "stream",
     "text": [
      "2022-04-14 14:57:23,515 - pynamics.system - INFO - integration at time 0004.30\n",
      "2022-04-14 14:57:23,950 - pynamics.integration - INFO - finished integration\n",
      "2022-04-14 14:57:23,951 - pynamics.output - INFO - calculating outputs\n",
      "2022-04-14 14:57:23,955 - pynamics.output - INFO - done calculating outputs\n",
      "2022-04-14 14:57:23,956 - pynamics.integration - INFO - beginning integration\n"
     ]
    },
    {
     "name": "stdout",
     "output_type": "stream",
     "text": [
      "r:  0.8104735739012696\n"
     ]
    },
    {
     "name": "stderr",
     "output_type": "stream",
     "text": [
      "2022-04-14 14:57:26,743 - pynamics.system - INFO - integration at time 0003.23\n",
      "2022-04-14 14:57:28,073 - pynamics.integration - INFO - finished integration\n",
      "2022-04-14 14:57:28,074 - pynamics.output - INFO - calculating outputs\n",
      "2022-04-14 14:57:28,079 - pynamics.output - INFO - done calculating outputs\n",
      "2022-04-14 14:57:28,080 - pynamics.integration - INFO - beginning integration\n"
     ]
    },
    {
     "name": "stdout",
     "output_type": "stream",
     "text": [
      "r:  0.8101257234702286\n"
     ]
    },
    {
     "name": "stderr",
     "output_type": "stream",
     "text": [
      "2022-04-14 14:57:29,944 - pynamics.system - INFO - integration at time 0002.05\n",
      "2022-04-14 14:57:31,327 - pynamics.integration - INFO - finished integration\n",
      "2022-04-14 14:57:31,328 - pynamics.output - INFO - calculating outputs\n",
      "2022-04-14 14:57:31,333 - pynamics.output - INFO - done calculating outputs\n",
      "2022-04-14 14:57:31,335 - pynamics.integration - INFO - beginning integration\n"
     ]
    },
    {
     "name": "stdout",
     "output_type": "stream",
     "text": [
      "r:  0.8101845153810388\n"
     ]
    },
    {
     "name": "stderr",
     "output_type": "stream",
     "text": [
      "2022-04-14 14:57:33,136 - pynamics.system - INFO - integration at time 0002.14\n",
      "2022-04-14 14:57:34,249 - pynamics.integration - INFO - finished integration\n",
      "2022-04-14 14:57:34,249 - pynamics.output - INFO - calculating outputs\n",
      "2022-04-14 14:57:34,255 - pynamics.output - INFO - done calculating outputs\n",
      "2022-04-14 14:57:34,256 - pynamics.integration - INFO - beginning integration\n"
     ]
    },
    {
     "name": "stdout",
     "output_type": "stream",
     "text": [
      "r:  0.8100699669623956\n"
     ]
    },
    {
     "name": "stderr",
     "output_type": "stream",
     "text": [
      "2022-04-14 14:57:36,331 - pynamics.system - INFO - integration at time 0002.62\n",
      "2022-04-14 14:57:37,646 - pynamics.integration - INFO - finished integration\n",
      "2022-04-14 14:57:37,647 - pynamics.output - INFO - calculating outputs\n",
      "2022-04-14 14:57:37,653 - pynamics.output - INFO - done calculating outputs\n",
      "2022-04-14 14:57:37,654 - pynamics.integration - INFO - beginning integration\n"
     ]
    },
    {
     "name": "stdout",
     "output_type": "stream",
     "text": [
      "r:  1.1202514469404572\n"
     ]
    },
    {
     "name": "stderr",
     "output_type": "stream",
     "text": [
      "2022-04-14 14:57:39,494 - pynamics.system - INFO - integration at time 0001.31\n",
      "2022-04-14 14:57:42,152 - pynamics.integration - INFO - finished integration\n",
      "2022-04-14 14:57:42,153 - pynamics.output - INFO - calculating outputs\n",
      "2022-04-14 14:57:42,159 - pynamics.output - INFO - done calculating outputs\n",
      "2022-04-14 14:57:42,160 - pynamics.integration - INFO - beginning integration\n"
     ]
    },
    {
     "name": "stdout",
     "output_type": "stream",
     "text": [
      "r:  0.44376941012509463\n"
     ]
    },
    {
     "name": "stderr",
     "output_type": "stream",
     "text": [
      "2022-04-14 14:57:42,697 - pynamics.system - INFO - integration at time 0000.26\n",
      "2022-04-14 14:57:45,871 - pynamics.system - INFO - integration at time 0001.89\n",
      "2022-04-14 14:57:47,068 - pynamics.integration - INFO - finished integration\n",
      "2022-04-14 14:57:47,069 - pynamics.output - INFO - calculating outputs\n",
      "2022-04-14 14:57:47,074 - pynamics.output - INFO - done calculating outputs\n",
      "2022-04-14 14:57:47,076 - pynamics.integration - INFO - beginning integration\n"
     ]
    },
    {
     "name": "stdout",
     "output_type": "stream",
     "text": [
      "r:  0.6562305898749052\n"
     ]
    },
    {
     "name": "stderr",
     "output_type": "stream",
     "text": [
      "2022-04-14 14:57:49,033 - pynamics.system - INFO - integration at time 0001.97\n",
      "2022-04-14 14:57:50,172 - pynamics.integration - INFO - finished integration\n",
      "2022-04-14 14:57:50,173 - pynamics.output - INFO - calculating outputs\n",
      "2022-04-14 14:57:50,178 - pynamics.output - INFO - done calculating outputs\n",
      "2022-04-14 14:57:50,179 - pynamics.integration - INFO - beginning integration\n"
     ]
    },
    {
     "name": "stdout",
     "output_type": "stream",
     "text": [
      "r:  0.7875388202501892\n"
     ]
    },
    {
     "name": "stderr",
     "output_type": "stream",
     "text": [
      "2022-04-14 14:57:52,161 - pynamics.system - INFO - integration at time 0002.33\n",
      "2022-04-14 14:57:53,314 - pynamics.integration - INFO - finished integration\n",
      "2022-04-14 14:57:53,315 - pynamics.output - INFO - calculating outputs\n",
      "2022-04-14 14:57:53,320 - pynamics.output - INFO - done calculating outputs\n",
      "2022-04-14 14:57:53,321 - pynamics.integration - INFO - beginning integration\n"
     ]
    },
    {
     "name": "stdout",
     "output_type": "stream",
     "text": [
      "r:  0.7312069520431239\n"
     ]
    },
    {
     "name": "stderr",
     "output_type": "stream",
     "text": [
      "2022-04-14 14:57:55,293 - pynamics.system - INFO - integration at time 0002.40\n",
      "2022-04-14 14:57:56,173 - pynamics.integration - INFO - finished integration\n",
      "2022-04-14 14:57:56,174 - pynamics.output - INFO - calculating outputs\n",
      "2022-04-14 14:57:56,178 - pynamics.output - INFO - done calculating outputs\n",
      "2022-04-14 14:57:56,179 - pynamics.integration - INFO - beginning integration\n"
     ]
    },
    {
     "name": "stdout",
     "output_type": "stream",
     "text": [
      "r:  0.7914926866091372\n"
     ]
    },
    {
     "name": "stderr",
     "output_type": "stream",
     "text": [
      "2022-04-14 14:57:58,460 - pynamics.system - INFO - integration at time 0002.06\n",
      "2022-04-14 14:57:59,804 - pynamics.integration - INFO - finished integration\n",
      "2022-04-14 14:57:59,804 - pynamics.output - INFO - calculating outputs\n",
      "2022-04-14 14:57:59,809 - pynamics.output - INFO - done calculating outputs\n",
      "2022-04-14 14:57:59,810 - pynamics.integration - INFO - beginning integration\n"
     ]
    },
    {
     "name": "stdout",
     "output_type": "stream",
     "text": [
      "r:  0.8069415175532193\n"
     ]
    },
    {
     "name": "stderr",
     "output_type": "stream",
     "text": [
      "2022-04-14 14:58:01,618 - pynamics.system - INFO - integration at time 0001.40\n",
      "2022-04-14 14:58:04,275 - pynamics.integration - INFO - finished integration\n",
      "2022-04-14 14:58:04,276 - pynamics.output - INFO - calculating outputs\n",
      "2022-04-14 14:58:04,280 - pynamics.output - INFO - done calculating outputs\n",
      "2022-04-14 14:58:04,282 - pynamics.integration - INFO - beginning integration\n"
     ]
    },
    {
     "name": "stdout",
     "output_type": "stream",
     "text": [
      "r:  0.8806832960314146\n"
     ]
    },
    {
     "name": "stderr",
     "output_type": "stream",
     "text": [
      "2022-04-14 14:58:04,825 - pynamics.system - INFO - integration at time 0000.11\n",
      "2022-04-14 14:58:07,989 - pynamics.system - INFO - integration at time 0004.03\n",
      "2022-04-14 14:58:08,344 - pynamics.integration - INFO - finished integration\n",
      "2022-04-14 14:58:08,344 - pynamics.output - INFO - calculating outputs\n",
      "2022-04-14 14:58:08,348 - pynamics.output - INFO - done calculating outputs\n",
      "2022-04-14 14:58:08,350 - pynamics.integration - INFO - beginning integration\n"
     ]
    },
    {
     "name": "stdout",
     "output_type": "stream",
     "text": [
      "r:  0.8098990903846265\n"
     ]
    },
    {
     "name": "stderr",
     "output_type": "stream",
     "text": [
      "2022-04-14 14:58:11,149 - pynamics.system - INFO - integration at time 0003.57\n",
      "2022-04-14 14:58:11,960 - pynamics.integration - INFO - finished integration\n",
      "2022-04-14 14:58:11,961 - pynamics.output - INFO - calculating outputs\n",
      "2022-04-14 14:58:11,966 - pynamics.output - INFO - done calculating outputs\n",
      "2022-04-14 14:58:11,967 - pynamics.integration - INFO - beginning integration\n"
     ]
    },
    {
     "name": "stdout",
     "output_type": "stream",
     "text": [
      "r:  0.8104718723972292\n"
     ]
    },
    {
     "name": "stderr",
     "output_type": "stream",
     "text": [
      "2022-04-14 14:58:14,359 - pynamics.system - INFO - integration at time 0002.24\n",
      "2022-04-14 14:58:15,138 - pynamics.integration - INFO - finished integration\n",
      "2022-04-14 14:58:15,139 - pynamics.output - INFO - calculating outputs\n",
      "2022-04-14 14:58:15,144 - pynamics.output - INFO - done calculating outputs\n",
      "2022-04-14 14:58:15,146 - pynamics.integration - INFO - beginning integration\n"
     ]
    },
    {
     "name": "stdout",
     "output_type": "stream",
     "text": [
      "r:  0.8104310696166354\n"
     ]
    },
    {
     "name": "stderr",
     "output_type": "stream",
     "text": [
      "2022-04-14 14:58:17,574 - pynamics.system - INFO - integration at time 0002.62\n",
      "2022-04-14 14:58:18,841 - pynamics.integration - INFO - finished integration\n",
      "2022-04-14 14:58:18,842 - pynamics.output - INFO - calculating outputs\n",
      "2022-04-14 14:58:18,847 - pynamics.output - INFO - done calculating outputs\n",
      "2022-04-14 14:58:18,849 - pynamics.integration - INFO - beginning integration\n"
     ]
    },
    {
     "name": "stdout",
     "output_type": "stream",
     "text": [
      "r:  0.8372902498269703\n"
     ]
    },
    {
     "name": "stderr",
     "output_type": "stream",
     "text": [
      "2022-04-14 14:58:20,761 - pynamics.system - INFO - integration at time 0001.17\n",
      "2022-04-14 14:58:23,255 - pynamics.integration - INFO - finished integration\n",
      "2022-04-14 14:58:23,256 - pynamics.output - INFO - calculating outputs\n",
      "2022-04-14 14:58:23,262 - pynamics.output - INFO - done calculating outputs\n",
      "2022-04-14 14:58:23,263 - pynamics.integration - INFO - beginning integration\n"
     ]
    },
    {
     "name": "stdout",
     "output_type": "stream",
     "text": [
      "r:  0.8207155810522673\n"
     ]
    },
    {
     "name": "stderr",
     "output_type": "stream",
     "text": [
      "2022-04-14 14:58:23,995 - pynamics.system - INFO - integration at time 0000.21\n",
      "2022-04-14 14:58:26,769 - pynamics.integration - INFO - finished integration\n",
      "2022-04-14 14:58:26,770 - pynamics.output - INFO - calculating outputs\n",
      "2022-04-14 14:58:26,777 - pynamics.output - INFO - done calculating outputs\n",
      "2022-04-14 14:58:26,779 - pynamics.integration - INFO - beginning integration\n"
     ]
    },
    {
     "name": "stdout",
     "output_type": "stream",
     "text": [
      "r:  0.8143846209326022\n"
     ]
    },
    {
     "name": "stderr",
     "output_type": "stream",
     "text": [
      "2022-04-14 14:58:27,183 - pynamics.system - INFO - integration at time 0000.06\n",
      "2022-04-14 14:58:30,412 - pynamics.system - INFO - integration at time 0003.92\n",
      "2022-04-14 14:58:30,923 - pynamics.integration - INFO - finished integration\n",
      "2022-04-14 14:58:30,924 - pynamics.output - INFO - calculating outputs\n",
      "2022-04-14 14:58:30,929 - pynamics.output - INFO - done calculating outputs\n",
      "2022-04-14 14:58:30,930 - pynamics.integration - INFO - beginning integration\n"
     ]
    },
    {
     "name": "stdout",
     "output_type": "stream",
     "text": [
      "r:  0.8119664093483103\n"
     ]
    },
    {
     "name": "stderr",
     "output_type": "stream",
     "text": [
      "2022-04-14 14:58:33,625 - pynamics.system - INFO - integration at time 0003.92\n",
      "2022-04-14 14:58:34,453 - pynamics.integration - INFO - finished integration\n",
      "2022-04-14 14:58:34,454 - pynamics.output - INFO - calculating outputs\n",
      "2022-04-14 14:58:34,459 - pynamics.output - INFO - done calculating outputs\n",
      "2022-04-14 14:58:34,461 - pynamics.integration - INFO - beginning integration\n"
     ]
    },
    {
     "name": "stdout",
     "output_type": "stream",
     "text": [
      "r:  0.8110427347150996\n"
     ]
    },
    {
     "name": "stderr",
     "output_type": "stream",
     "text": [
      "2022-04-14 14:58:36,798 - pynamics.system - INFO - integration at time 0002.20\n",
      "2022-04-14 14:58:38,193 - pynamics.integration - INFO - finished integration\n",
      "2022-04-14 14:58:38,195 - pynamics.output - INFO - calculating outputs\n",
      "2022-04-14 14:58:38,199 - pynamics.output - INFO - done calculating outputs\n",
      "2022-04-14 14:58:38,201 - pynamics.integration - INFO - beginning integration\n"
     ]
    },
    {
     "name": "stdout",
     "output_type": "stream",
     "text": [
      "r:  0.8106899223997591\n"
     ]
    },
    {
     "name": "stderr",
     "output_type": "stream",
     "text": [
      "2022-04-14 14:58:39,960 - pynamics.system - INFO - integration at time 0001.70\n",
      "2022-04-14 14:58:41,897 - pynamics.integration - INFO - finished integration\n",
      "2022-04-14 14:58:41,898 - pynamics.output - INFO - calculating outputs\n",
      "2022-04-14 14:58:41,904 - pynamics.output - INFO - done calculating outputs\n",
      "2022-04-14 14:58:41,905 - pynamics.integration - INFO - beginning integration\n"
     ]
    },
    {
     "name": "stdout",
     "output_type": "stream",
     "text": [
      "r:  0.8105551600869486\n"
     ]
    },
    {
     "name": "stderr",
     "output_type": "stream",
     "text": [
      "2022-04-14 14:58:43,160 - pynamics.system - INFO - integration at time 0000.93\n",
      "2022-04-14 14:58:45,610 - pynamics.integration - INFO - finished integration\n",
      "2022-04-14 14:58:45,612 - pynamics.output - INFO - calculating outputs\n",
      "2022-04-14 14:58:45,617 - pynamics.output - INFO - done calculating outputs\n",
      "2022-04-14 14:58:45,619 - pynamics.integration - INFO - beginning integration\n"
     ]
    },
    {
     "name": "stdout",
     "output_type": "stream",
     "text": [
      "r:  0.8105036854638575\n"
     ]
    },
    {
     "name": "stderr",
     "output_type": "stream",
     "text": [
      "2022-04-14 14:58:46,369 - pynamics.system - INFO - integration at time 0000.20\n",
      "2022-04-14 14:58:49,121 - pynamics.integration - INFO - finished integration\n",
      "2022-04-14 14:58:49,123 - pynamics.output - INFO - calculating outputs\n",
      "2022-04-14 14:58:49,127 - pynamics.output - INFO - done calculating outputs\n",
      "2022-04-14 14:58:49,128 - pynamics.integration - INFO - beginning integration\n"
     ]
    },
    {
     "name": "stdout",
     "output_type": "stream",
     "text": [
      "r:  0.8104933479341357\n"
     ]
    },
    {
     "name": "stderr",
     "output_type": "stream",
     "text": [
      "2022-04-14 14:58:49,565 - pynamics.system - INFO - integration at time 0000.07\n",
      "2022-04-14 14:58:52,543 - pynamics.integration - INFO - finished integration\n",
      "2022-04-14 14:58:52,544 - pynamics.output - INFO - calculating outputs\n",
      "2022-04-14 14:58:52,550 - pynamics.output - INFO - done calculating outputs\n",
      "2022-04-14 14:58:52,552 - pynamics.integration - INFO - beginning integration\n"
     ]
    },
    {
     "name": "stdout",
     "output_type": "stream",
     "text": [
      "r:  0.8105140229935793\n"
     ]
    },
    {
     "name": "stderr",
     "output_type": "stream",
     "text": [
      "2022-04-14 14:58:52,786 - pynamics.system - INFO - integration at time 0000.02\n",
      "2022-04-14 14:58:56,054 - pynamics.system - INFO - integration at time 0003.86\n",
      "2022-04-14 14:58:56,862 - pynamics.integration - INFO - finished integration\n",
      "2022-04-14 14:58:56,864 - pynamics.output - INFO - calculating outputs\n",
      "2022-04-14 14:58:56,868 - pynamics.output - INFO - done calculating outputs\n",
      "2022-04-14 14:58:56,869 - pynamics.integration - INFO - beginning integration\n"
     ]
    },
    {
     "name": "stdout",
     "output_type": "stream",
     "text": [
      "r:  0.4437694101250946\n"
     ]
    },
    {
     "name": "stderr",
     "output_type": "stream",
     "text": [
      "2022-04-14 14:58:59,249 - pynamics.system - INFO - integration at time 0001.07\n",
      "2022-04-14 14:59:01,645 - pynamics.integration - INFO - finished integration\n",
      "2022-04-14 14:59:01,645 - pynamics.output - INFO - calculating outputs\n",
      "2022-04-14 14:59:01,649 - pynamics.output - INFO - done calculating outputs\n",
      "2022-04-14 14:59:01,651 - pynamics.integration - INFO - beginning integration\n"
     ]
    },
    {
     "name": "stdout",
     "output_type": "stream",
     "text": [
      "r:  0.6562305898749053\n"
     ]
    },
    {
     "name": "stderr",
     "output_type": "stream",
     "text": [
      "2022-04-14 14:59:02,409 - pynamics.system - INFO - integration at time 0000.26\n",
      "2022-04-14 14:59:04,797 - pynamics.integration - INFO - finished integration\n",
      "2022-04-14 14:59:04,798 - pynamics.output - INFO - calculating outputs\n",
      "2022-04-14 14:59:04,802 - pynamics.output - INFO - done calculating outputs\n",
      "2022-04-14 14:59:04,804 - pynamics.integration - INFO - beginning integration\n"
     ]
    },
    {
     "name": "stdout",
     "output_type": "stream",
     "text": [
      "r:  0.7875388202501892\n"
     ]
    },
    {
     "name": "stderr",
     "output_type": "stream",
     "text": [
      "2022-04-14 14:59:05,607 - pynamics.system - INFO - integration at time 0000.27\n",
      "2022-04-14 14:59:07,971 - pynamics.integration - INFO - finished integration\n",
      "2022-04-14 14:59:07,972 - pynamics.output - INFO - calculating outputs\n",
      "2022-04-14 14:59:07,976 - pynamics.output - INFO - done calculating outputs\n",
      "2022-04-14 14:59:07,978 - pynamics.integration - INFO - beginning integration\n"
     ]
    },
    {
     "name": "stdout",
     "output_type": "stream",
     "text": [
      "r:  0.7312069984594256\n"
     ]
    },
    {
     "name": "stderr",
     "output_type": "stream",
     "text": [
      "2022-04-14 14:59:08,773 - pynamics.system - INFO - integration at time 0000.35\n",
      "2022-04-14 14:59:11,001 - pynamics.integration - INFO - finished integration\n",
      "2022-04-14 14:59:11,002 - pynamics.output - INFO - calculating outputs\n",
      "2022-04-14 14:59:11,006 - pynamics.output - INFO - done calculating outputs\n",
      "2022-04-14 14:59:11,007 - pynamics.integration - INFO - beginning integration\n"
     ]
    },
    {
     "name": "stdout",
     "output_type": "stream",
     "text": [
      "r:  0.7914958362564721\n"
     ]
    },
    {
     "name": "stderr",
     "output_type": "stream",
     "text": [
      "2022-04-14 14:59:11,957 - pynamics.system - INFO - integration at time 0000.34\n",
      "2022-04-14 14:59:14,553 - pynamics.integration - INFO - finished integration\n",
      "2022-04-14 14:59:14,553 - pynamics.output - INFO - calculating outputs\n",
      "2022-04-14 14:59:14,558 - pynamics.output - INFO - done calculating outputs\n",
      "2022-04-14 14:59:14,559 - pynamics.integration - INFO - beginning integration\n"
     ]
    },
    {
     "name": "stdout",
     "output_type": "stream",
     "text": [
      "r:  0.8069190967450603\n"
     ]
    },
    {
     "name": "stderr",
     "output_type": "stream",
     "text": [
      "2022-04-14 14:59:15,097 - pynamics.system - INFO - integration at time 0000.12\n",
      "2022-04-14 14:59:18,070 - pynamics.integration - INFO - finished integration\n",
      "2022-04-14 14:59:18,071 - pynamics.output - INFO - calculating outputs\n",
      "2022-04-14 14:59:18,077 - pynamics.output - INFO - done calculating outputs\n",
      "2022-04-14 14:59:18,079 - pynamics.integration - INFO - beginning integration\n"
     ]
    },
    {
     "name": "stdout",
     "output_type": "stream",
     "text": [
      "r:  0.8806694392099171\n"
     ]
    },
    {
     "name": "stderr",
     "output_type": "stream",
     "text": [
      "2022-04-14 14:59:18,280 - pynamics.system - INFO - integration at time 0000.01\n",
      "2022-04-14 14:59:21,416 - pynamics.system - INFO - integration at time 0004.24\n",
      "2022-04-14 14:59:21,921 - pynamics.integration - INFO - finished integration\n",
      "2022-04-14 14:59:21,922 - pynamics.output - INFO - calculating outputs\n",
      "2022-04-14 14:59:21,927 - pynamics.output - INFO - done calculating outputs\n",
      "2022-04-14 14:59:21,929 - pynamics.integration - INFO - beginning integration\n"
     ]
    },
    {
     "name": "stdout",
     "output_type": "stream",
     "text": [
      "r:  0.8099491469080832\n"
     ]
    },
    {
     "name": "stderr",
     "output_type": "stream",
     "text": [
      "2022-04-14 14:59:24,616 - pynamics.system - INFO - integration at time 0003.46\n",
      "2022-04-14 14:59:25,528 - pynamics.integration - INFO - finished integration\n",
      "2022-04-14 14:59:25,529 - pynamics.output - INFO - calculating outputs\n",
      "2022-04-14 14:59:25,533 - pynamics.output - INFO - done calculating outputs\n",
      "2022-04-14 14:59:25,535 - pynamics.integration - INFO - beginning integration\n"
     ]
    },
    {
     "name": "stdout",
     "output_type": "stream",
     "text": [
      "r:  0.8103868887719312\n"
     ]
    },
    {
     "name": "stderr",
     "output_type": "stream",
     "text": [
      "2022-04-14 14:59:27,820 - pynamics.system - INFO - integration at time 0002.84\n",
      "2022-04-14 14:59:28,968 - pynamics.integration - INFO - finished integration\n",
      "2022-04-14 14:59:28,969 - pynamics.output - INFO - calculating outputs\n",
      "2022-04-14 14:59:28,974 - pynamics.output - INFO - done calculating outputs\n",
      "2022-04-14 14:59:28,975 - pynamics.integration - INFO - beginning integration\n"
     ]
    },
    {
     "name": "stdout",
     "output_type": "stream",
     "text": [
      "r:  0.8103223280969174\n"
     ]
    },
    {
     "name": "stderr",
     "output_type": "stream",
     "text": [
      "2022-04-14 14:59:31,102 - pynamics.system - INFO - integration at time 0001.41\n",
      "2022-04-14 14:59:33,213 - pynamics.integration - INFO - finished integration\n",
      "2022-04-14 14:59:33,215 - pynamics.output - INFO - calculating outputs\n",
      "2022-04-14 14:59:33,219 - pynamics.output - INFO - done calculating outputs\n",
      "2022-04-14 14:59:33,220 - pynamics.integration - INFO - beginning integration\n"
     ]
    },
    {
     "name": "stdout",
     "output_type": "stream",
     "text": [
      "r:  0.837232434223213\n"
     ]
    },
    {
     "name": "stderr",
     "output_type": "stream",
     "text": [
      "2022-04-14 14:59:34,398 - pynamics.system - INFO - integration at time 0000.61\n",
      "2022-04-14 14:59:37,348 - pynamics.integration - INFO - finished integration\n",
      "2022-04-14 14:59:37,349 - pynamics.output - INFO - calculating outputs\n",
      "2022-04-14 14:59:37,353 - pynamics.output - INFO - done calculating outputs\n",
      "2022-04-14 14:59:37,355 - pynamics.integration - INFO - beginning integration\n"
     ]
    },
    {
     "name": "stdout",
     "output_type": "stream",
     "text": [
      "r:  0.8206409746877907\n"
     ]
    },
    {
     "name": "stderr",
     "output_type": "stream",
     "text": [
      "2022-04-14 14:59:37,689 - pynamics.system - INFO - integration at time 0000.04\n",
      "2022-04-14 14:59:40,931 - pynamics.integration - INFO - finished integration\n",
      "2022-04-14 14:59:40,932 - pynamics.output - INFO - calculating outputs\n",
      "2022-04-14 14:59:40,936 - pynamics.output - INFO - done calculating outputs\n",
      "2022-04-14 14:59:40,937 - pynamics.integration - INFO - beginning integration\n",
      "2022-04-14 14:59:40,942 - pynamics.system - INFO - integration at time 0000.00\n"
     ]
    },
    {
     "name": "stdout",
     "output_type": "stream",
     "text": [
      "r:  0.814303601068228\n"
     ]
    },
    {
     "name": "stderr",
     "output_type": "stream",
     "text": [
      "2022-04-14 14:59:44,036 - pynamics.system - INFO - integration at time 0003.79\n",
      "2022-04-14 14:59:44,318 - pynamics.integration - INFO - finished integration\n",
      "2022-04-14 14:59:44,319 - pynamics.output - INFO - calculating outputs\n",
      "2022-04-14 14:59:44,323 - pynamics.output - INFO - done calculating outputs\n",
      "2022-04-14 14:59:44,324 - pynamics.integration - INFO - beginning integration\n"
     ]
    },
    {
     "name": "stdout",
     "output_type": "stream",
     "text": [
      "r:  0.811882939744962\n"
     ]
    },
    {
     "name": "stderr",
     "output_type": "stream",
     "text": [
      "2022-04-14 14:59:47,130 - pynamics.system - INFO - integration at time 0003.38\n",
      "2022-04-14 14:59:48,337 - pynamics.integration - INFO - finished integration\n",
      "2022-04-14 14:59:48,338 - pynamics.output - INFO - calculating outputs\n",
      "2022-04-14 14:59:48,343 - pynamics.output - INFO - done calculating outputs\n",
      "2022-04-14 14:59:48,344 - pynamics.integration - INFO - beginning integration\n"
     ]
    },
    {
     "name": "stdout",
     "output_type": "stream",
     "text": [
      "r:  0.8109583293947266\n"
     ]
    },
    {
     "name": "stderr",
     "output_type": "stream",
     "text": [
      "2022-04-14 14:59:50,244 - pynamics.system - INFO - integration at time 0001.70\n",
      "2022-04-14 14:59:51,813 - pynamics.integration - INFO - finished integration\n",
      "2022-04-14 14:59:51,814 - pynamics.output - INFO - calculating outputs\n",
      "2022-04-14 14:59:51,818 - pynamics.output - INFO - done calculating outputs\n",
      "2022-04-14 14:59:51,819 - pynamics.integration - INFO - beginning integration\n"
     ]
    },
    {
     "name": "stdout",
     "output_type": "stream",
     "text": [
      "r:  0.8106051596672866\n"
     ]
    },
    {
     "name": "stderr",
     "output_type": "stream",
     "text": [
      "2022-04-14 14:59:53,402 - pynamics.system - INFO - integration at time 0001.23\n",
      "2022-04-14 14:59:55,813 - pynamics.integration - INFO - finished integration\n",
      "2022-04-14 14:59:55,814 - pynamics.output - INFO - calculating outputs\n",
      "2022-04-14 14:59:55,819 - pynamics.output - INFO - done calculating outputs\n",
      "2022-04-14 14:59:55,820 - pynamics.integration - INFO - beginning integration\n"
     ]
    },
    {
     "name": "stdout",
     "output_type": "stream",
     "text": [
      "r:  0.8104397247458821\n"
     ]
    },
    {
     "name": "stderr",
     "output_type": "stream",
     "text": [
      "2022-04-14 14:59:56,568 - pynamics.system - INFO - integration at time 0000.20\n",
      "2022-04-14 14:59:59,972 - pynamics.integration - INFO - finished integration\n",
      "2022-04-14 14:59:59,974 - pynamics.output - INFO - calculating outputs\n",
      "2022-04-14 14:59:59,978 - pynamics.output - INFO - done calculating outputs\n",
      "2022-04-14 14:59:59,979 - pynamics.integration - INFO - beginning integration\n",
      "2022-04-14 15:00:00,108 - pynamics.system - INFO - integration at time 0000.00\n"
     ]
    },
    {
     "name": "stdout",
     "output_type": "stream",
     "text": [
      "r:  0.8105029152629325\n"
     ]
    },
    {
     "name": "stderr",
     "output_type": "stream",
     "text": [
      "2022-04-14 15:00:03,263 - pynamics.system - INFO - integration at time 0004.15\n",
      "2022-04-14 15:00:04,134 - pynamics.integration - INFO - finished integration\n",
      "2022-04-14 15:00:04,135 - pynamics.output - INFO - calculating outputs\n",
      "2022-04-14 15:00:04,139 - pynamics.output - INFO - done calculating outputs\n",
      "2022-04-14 15:00:04,140 - pynamics.integration - INFO - beginning integration\n"
     ]
    },
    {
     "name": "stdout",
     "output_type": "stream",
     "text": [
      "r:  0.8104638613756288\n"
     ]
    },
    {
     "name": "stderr",
     "output_type": "stream",
     "text": [
      "2022-04-14 15:00:06,389 - pynamics.system - INFO - integration at time 0002.32\n",
      "2022-04-14 15:00:07,435 - pynamics.integration - INFO - finished integration\n",
      "2022-04-14 15:00:07,436 - pynamics.output - INFO - calculating outputs\n",
      "2022-04-14 15:00:07,441 - pynamics.output - INFO - done calculating outputs\n",
      "2022-04-14 15:00:07,442 - pynamics.integration - INFO - beginning integration\n"
     ]
    },
    {
     "name": "stdout",
     "output_type": "stream",
     "text": [
      "r:  0.8104195431996616\n"
     ]
    },
    {
     "name": "stderr",
     "output_type": "stream",
     "text": [
      "2022-04-14 15:00:09,556 - pynamics.system - INFO - integration at time 0002.16\n",
      "2022-04-14 15:00:11,179 - pynamics.integration - INFO - finished integration\n",
      "2022-04-14 15:00:11,180 - pynamics.output - INFO - calculating outputs\n",
      "2022-04-14 15:00:11,185 - pynamics.output - INFO - done calculating outputs\n",
      "2022-04-14 15:00:11,186 - pynamics.integration - INFO - beginning integration\n"
     ]
    },
    {
     "name": "stdout",
     "output_type": "stream",
     "text": [
      "r:  0.8104489441180714\n"
     ]
    },
    {
     "name": "stderr",
     "output_type": "stream",
     "text": [
      "2022-04-14 15:00:12,680 - pynamics.system - INFO - integration at time 0001.00\n",
      "2022-04-14 15:00:14,556 - pynamics.integration - INFO - finished integration\n",
      "2022-04-14 15:00:14,558 - pynamics.output - INFO - calculating outputs\n",
      "2022-04-14 15:00:14,563 - pynamics.output - INFO - done calculating outputs\n",
      "2022-04-14 15:00:14,565 - pynamics.integration - INFO - beginning integration\n"
     ]
    },
    {
     "name": "stdout",
     "output_type": "stream",
     "text": [
      "r:  0.8104320160811714\n"
     ]
    },
    {
     "name": "stderr",
     "output_type": "stream",
     "text": [
      "2022-04-14 15:00:15,806 - pynamics.system - INFO - integration at time 0000.78\n",
      "2022-04-14 15:00:18,516 - pynamics.integration - INFO - finished integration\n",
      "2022-04-14 15:00:18,517 - pynamics.output - INFO - calculating outputs\n",
      "2022-04-14 15:00:18,522 - pynamics.output - INFO - done calculating outputs\n",
      "2022-04-14 15:00:18,524 - pynamics.integration - INFO - beginning integration\n"
     ]
    },
    {
     "name": "stdout",
     "output_type": "stream",
     "text": [
      "r:  0.8104432462327036\n"
     ]
    },
    {
     "name": "stderr",
     "output_type": "stream",
     "text": [
      "2022-04-14 15:00:18,979 - pynamics.system - INFO - integration at time 0000.08\n",
      "2022-04-14 15:00:22,083 - pynamics.system - INFO - integration at time 0004.80\n",
      "2022-04-14 15:00:22,146 - pynamics.integration - INFO - finished integration\n",
      "2022-04-14 15:00:22,147 - pynamics.output - INFO - calculating outputs\n",
      "2022-04-14 15:00:22,152 - pynamics.output - INFO - done calculating outputs\n",
      "2022-04-14 15:00:22,153 - pynamics.integration - INFO - beginning integration\n"
     ]
    },
    {
     "name": "stdout",
     "output_type": "stream",
     "text": [
      "r:  0.8104367802979705\n"
     ]
    },
    {
     "name": "stderr",
     "output_type": "stream",
     "text": [
      "2022-04-14 15:00:25,229 - pynamics.system - INFO - integration at time 0004.61\n",
      "2022-04-14 15:00:25,655 - pynamics.integration - INFO - finished integration\n",
      "2022-04-14 15:00:25,657 - pynamics.output - INFO - calculating outputs\n",
      "2022-04-14 15:00:25,662 - pynamics.output - INFO - done calculating outputs\n",
      "2022-04-14 15:00:25,663 - pynamics.integration - INFO - beginning integration\n"
     ]
    },
    {
     "name": "stdout",
     "output_type": "stream",
     "text": [
      "r:  0.810441069834157\n"
     ]
    },
    {
     "name": "stderr",
     "output_type": "stream",
     "text": [
      "2022-04-14 15:00:28,313 - pynamics.system - INFO - integration at time 0003.83\n",
      "2022-04-14 15:00:28,825 - pynamics.integration - INFO - finished integration\n",
      "2022-04-14 15:00:28,826 - pynamics.output - INFO - calculating outputs\n",
      "2022-04-14 15:00:28,831 - pynamics.output - INFO - done calculating outputs\n",
      "2022-04-14 15:00:28,832 - pynamics.integration - INFO - beginning integration\n"
     ]
    },
    {
     "name": "stdout",
     "output_type": "stream",
     "text": [
      "r:  0.810438600066858\n"
     ]
    },
    {
     "name": "stderr",
     "output_type": "stream",
     "text": [
      "2022-04-14 15:00:31,414 - pynamics.system - INFO - integration at time 0003.18\n",
      "2022-04-14 15:00:32,038 - pynamics.integration - INFO - finished integration\n",
      "2022-04-14 15:00:32,039 - pynamics.output - INFO - calculating outputs\n",
      "2022-04-14 15:00:32,043 - pynamics.output - INFO - done calculating outputs\n",
      "2022-04-14 15:00:32,044 - pynamics.integration - INFO - beginning integration\n"
     ]
    },
    {
     "name": "stdout",
     "output_type": "stream",
     "text": [
      "r:  0.8104402385238852\n"
     ]
    },
    {
     "name": "stderr",
     "output_type": "stream",
     "text": [
      "2022-04-14 15:00:34,497 - pynamics.system - INFO - integration at time 0003.51\n",
      "2022-04-14 15:00:35,374 - pynamics.integration - INFO - finished integration\n",
      "2022-04-14 15:00:35,375 - pynamics.output - INFO - calculating outputs\n",
      "2022-04-14 15:00:35,379 - pynamics.output - INFO - done calculating outputs\n",
      "2022-04-14 15:00:35,380 - pynamics.integration - INFO - beginning integration\n"
     ]
    },
    {
     "name": "stdout",
     "output_type": "stream",
     "text": [
      "r:  0.8104392951567214\n"
     ]
    },
    {
     "name": "stderr",
     "output_type": "stream",
     "text": [
      "2022-04-14 15:00:37,565 - pynamics.system - INFO - integration at time 0002.47\n",
      "2022-04-14 15:00:38,581 - pynamics.integration - INFO - finished integration\n",
      "2022-04-14 15:00:38,582 - pynamics.output - INFO - calculating outputs\n",
      "2022-04-14 15:00:38,587 - pynamics.output - INFO - done calculating outputs\n",
      "2022-04-14 15:00:38,588 - pynamics.integration - INFO - beginning integration\n"
     ]
    },
    {
     "name": "stdout",
     "output_type": "stream",
     "text": [
      "r:  0.8104399209916167\n"
     ]
    },
    {
     "name": "stderr",
     "output_type": "stream",
     "text": [
      "2022-04-14 15:00:40,622 - pynamics.system - INFO - integration at time 0002.04\n",
      "2022-04-14 15:00:42,475 - pynamics.integration - INFO - finished integration\n",
      "2022-04-14 15:00:42,476 - pynamics.output - INFO - calculating outputs\n",
      "2022-04-14 15:00:42,480 - pynamics.output - INFO - done calculating outputs\n",
      "2022-04-14 15:00:42,481 - pynamics.integration - INFO - beginning integration\n"
     ]
    },
    {
     "name": "stdout",
     "output_type": "stream",
     "text": [
      "r:  0.810439560657424\n"
     ]
    },
    {
     "name": "stderr",
     "output_type": "stream",
     "text": [
      "2022-04-14 15:00:43,800 - pynamics.system - INFO - integration at time 0000.78\n",
      "2022-04-14 15:00:46,411 - pynamics.integration - INFO - finished integration\n",
      "2022-04-14 15:00:46,412 - pynamics.output - INFO - calculating outputs\n",
      "2022-04-14 15:00:46,416 - pynamics.output - INFO - done calculating outputs\n",
      "2022-04-14 15:00:46,417 - pynamics.integration - INFO - beginning integration\n"
     ]
    },
    {
     "name": "stdout",
     "output_type": "stream",
     "text": [
      "r:  0.8104397997050826\n"
     ]
    },
    {
     "name": "stderr",
     "output_type": "stream",
     "text": [
      "2022-04-14 15:00:47,219 - pynamics.system - INFO - integration at time 0000.26\n",
      "2022-04-14 15:00:50,196 - pynamics.integration - INFO - finished integration\n",
      "2022-04-14 15:00:50,197 - pynamics.output - INFO - calculating outputs\n",
      "2022-04-14 15:00:50,202 - pynamics.output - INFO - done calculating outputs\n",
      "2022-04-14 15:00:50,203 - pynamics.integration - INFO - beginning integration\n",
      "2022-04-14 15:00:50,345 - pynamics.system - INFO - integration at time 0000.01\n"
     ]
    },
    {
     "name": "stdout",
     "output_type": "stream",
     "text": [
      "r:  0.8104396620696682\n"
     ]
    },
    {
     "name": "stderr",
     "output_type": "stream",
     "text": [
      "2022-04-14 15:00:53,445 - pynamics.system - INFO - integration at time 0004.63\n",
      "2022-04-14 15:00:53,860 - pynamics.integration - INFO - finished integration\n",
      "2022-04-14 15:00:53,861 - pynamics.output - INFO - calculating outputs\n",
      "2022-04-14 15:00:53,866 - pynamics.output - INFO - done calculating outputs\n",
      "2022-04-14 15:00:53,867 - pynamics.integration - INFO - beginning integration\n"
     ]
    },
    {
     "name": "stdout",
     "output_type": "stream",
     "text": [
      "r:  0.810439753377749\n"
     ]
    },
    {
     "name": "stderr",
     "output_type": "stream",
     "text": [
      "2022-04-14 15:00:56,583 - pynamics.system - INFO - integration at time 0003.62\n",
      "2022-04-14 15:00:57,304 - pynamics.integration - INFO - finished integration\n",
      "2022-04-14 15:00:57,305 - pynamics.output - INFO - calculating outputs\n",
      "2022-04-14 15:00:57,309 - pynamics.output - INFO - done calculating outputs\n",
      "2022-04-14 15:00:57,310 - pynamics.integration - INFO - beginning integration\n"
     ]
    },
    {
     "name": "stdout",
     "output_type": "stream",
     "text": [
      "r:  0.8104397008056987\n"
     ]
    },
    {
     "name": "stderr",
     "output_type": "stream",
     "text": [
      "2022-04-14 15:00:59,681 - pynamics.system - INFO - integration at time 0002.21\n",
      "2022-04-14 15:01:01,018 - pynamics.integration - INFO - finished integration\n",
      "2022-04-14 15:01:01,018 - pynamics.output - INFO - calculating outputs\n",
      "2022-04-14 15:01:01,023 - pynamics.output - INFO - done calculating outputs\n",
      "2022-04-14 15:01:01,024 - pynamics.integration - INFO - beginning integration\n"
     ]
    },
    {
     "name": "stdout",
     "output_type": "stream",
     "text": [
      "r:  0.8104396860098517\n"
     ]
    },
    {
     "name": "stderr",
     "output_type": "stream",
     "text": [
      "2022-04-14 15:01:02,816 - pynamics.system - INFO - integration at time 0001.62\n",
      "2022-04-14 15:01:04,660 - pynamics.integration - INFO - finished integration\n",
      "2022-04-14 15:01:04,661 - pynamics.output - INFO - calculating outputs\n",
      "2022-04-14 15:01:04,666 - pynamics.output - INFO - done calculating outputs\n"
     ]
    }
   ],
   "source": [
    "#best=.1\n",
    "result = scipy.optimize.minimize(maximize_energy,[.5],method='powell',bounds=[(.1,1)])\n",
    "best = result.x\n"
   ]
  },
  {
   "cell_type": "code",
   "execution_count": 27,
   "id": "001630c1",
   "metadata": {
    "scrolled": true
   },
   "outputs": [
    {
     "name": "stderr",
     "output_type": "stream",
     "text": [
      "2022-04-14 15:01:04,673 - pynamics.integration - INFO - beginning integration\n",
      "<lambdifygenerated-1>:2: VisibleDeprecationWarning: Creating an ndarray from ragged nested sequences (which is a list-or-tuple of lists-or-tuples-or ndarrays with different lengths or shapes) is deprecated. If you meant to do this, you must specify 'dtype=object' when creating the ndarray.\n",
      "  return array([[0.314159265358979*r**2, 0, 0, 0, 0, 0], [0, 0.314159265358979*r**2, 0, 0, 0, 0], [0, 0, 0.314159265358979*r**2, 0, 0, 0], [0, 0, 0, I_11*sin(qB)**2 + (I_11*sin(qC)**2*cos(qB) + I_11*cos(qB)*cos(qC)**2)*cos(qB), 0, I_11*sin(qB)], [0, 0, 0, 0, I_11*sin(qC)**2 + I_11*cos(qC)**2, 0], [0, 0, 0, I_11*sin(qB), 0, I_11]])\n",
      "<lambdifygenerated-2>:2: VisibleDeprecationWarning: Creating an ndarray from ragged nested sequences (which is a list-or-tuple of lists-or-tuples-or ndarrays with different lengths or shapes) is deprecated. If you meant to do this, you must specify 'dtype=object' when creating the ndarray.\n",
      "  return array([[-6.28318530717959*r**2*rho*(sin(qE)*cos(qC) - sin(qC)*cos(qE))*(-l*(qA_d*sin(qB) + qC_d)*cos(qE) - le*(qA_d*sin(qB) + qC_d) + (y_d*cos(qA) + z_d*sin(qA))*(sin(qE)*sin(qC) + cos(qE)*cos(qC)) + (sin(qE)*cos(qC) - sin(qC)*cos(qE))*(x_d*cos(qB) + y_d*sin(qA)*sin(qB) - z_d*sin(qB)*cos(qA)))*sqrt(l**2*(qA_d*sin(qB) + qC_d)**2 + l**2*(-qA_d*sin(qC)*cos(qB) + qB_d*cos(qC))**2 + 2*l*le*(qA_d*(sin(qE)*cos(qB)*cos(qC) - sin(qC)*cos(qE)*cos(qB)) + qB_d*(sin(qE)*sin(qC) + cos(qE)*cos(qC)))*(-qA_d*sin(qC)*cos(qB) + qB_d*cos(qC)) + 2*l*le*(qA_d*sin(qB) + qC_d)**2*cos(qE) - 2*l*(qA_d*sin(qB) + qC_d)*(y_d*cos(qA) + z_d*sin(qA))*cos(qC) + l*(qA_d*sin(qB) + qC_d)*(x_d*cos(qB) + y_d*sin(qA)*sin(qB) - z_d*sin(qB)*cos(qA))*sin(qC) + l*(-qA_d*sin(qC)*cos(qB) + qB_d*cos(qC))*(x_d*sin(qB) - y_d*sin(qA)*cos(qB) + z_d*cos(qA)*cos(qB)) + le**2*(qA_d*(sin(qE)*cos(qB)*cos(qC) - sin(qC)*cos(qE)*cos(qB)) + qB_d*(sin(qE)*sin(qC) + cos(qE)*cos(qC)))**2 + le**2*(qA_d*sin(qB) + qC_d)**2 + 2*le*(qA_d*(sin(qE)*cos(qB)*cos(qC) - sin(qC)*cos(qE)*cos(qB)) + qB_d*(sin(qE)*sin(qC) + cos(qE)*cos(qC)))*(x_d*sin(qB) - y_d*sin(qA)*cos(qB) + z_d*cos(qA)*cos(qB)) - 2*le*(qA_d*sin(qB) + qC_d)*(y_d*cos(qA) + z_d*sin(qA))*(sin(qE)*sin(qC) + cos(qE)*cos(qC)) - 2*le*(qA_d*sin(qB) + qC_d)*(sin(qE)*cos(qC) - sin(qC)*cos(qE))*(x_d*cos(qB) + y_d*sin(qA)*sin(qB) - z_d*sin(qB)*cos(qA)) + x_d**2 + x_d*(l*(qA_d*sin(qB) + qC_d)*sin(qC)*cos(qB) + l*(-qA_d*sin(qC)*cos(qB) + qB_d*cos(qC))*sin(qB)) + y_d**2 + z_d**2 + (-y_d*sin(qA) + z_d*cos(qA))*(-l*(qA_d*sin(qB) + qC_d)*sin(qB)*sin(qC) + l*(-qA_d*sin(qC)*cos(qB) + qB_d*cos(qC))*cos(qB)))*cos(qB) + 6.28318530717959*r**2*rho*(-lw*(qA_d*sin(qB) + qC_d) - x_d*sin(qC)*cos(qB) + (-y_d*sin(qA) + z_d*cos(qA))*sin(qB)*sin(qC) + (y_d*cos(qA) + z_d*sin(qA))*cos(qC))*sqrt(lw**2*(qA_d*sin(qB) + qC_d)**2 + lw**2*(-qA_d*sin(qC)*cos(qB) + qB_d*cos(qC))**2 - 2*lw*(qA_d*sin(qB) + qC_d)*(y_d*cos(qA) + z_d*sin(qA))*cos(qC) + lw*(qA_d*sin(qB) + qC_d)*(x_d*cos(qB) + y_d*sin(qA)*sin(qB) - z_d*sin(qB)*cos(qA))*sin(qC) + lw*(-qA_d*sin(qC)*cos(qB) + qB_d*cos(qC))*(x_d*sin(qB) - y_d*sin(qA)*cos(qB) + z_d*cos(qA)*cos(qB)) + x_d**2 + x_d*(lw*(qA_d*sin(qB) + qC_d)*sin(qC)*cos(qB) + lw*(-qA_d*sin(qC)*cos(qB) + qB_d*cos(qC))*sin(qB)) + y_d**2 + z_d**2 + (-y_d*sin(qA) + z_d*cos(qA))*(-lw*(qA_d*sin(qB) + qC_d)*sin(qB)*sin(qC) + lw*(-qA_d*sin(qC)*cos(qB) + qB_d*cos(qC))*cos(qB)))*sin(qC)*cos(qB) - 0.00628318530717959*rho*(sin(qE)*sin(qC) + cos(qE)*cos(qC))*(l*(qA_d*sin(qB) + qC_d)*sin(qE) + (y_d*cos(qA) + z_d*sin(qA))*(-sin(qE)*cos(qC) + sin(qC)*cos(qE)) + (sin(qE)*sin(qC) + cos(qE)*cos(qC))*(x_d*cos(qB) + y_d*sin(qA)*sin(qB) - z_d*sin(qB)*cos(qA)))*sqrt(l**2*(qA_d*sin(qB) + qC_d)**2 + l**2*(-qA_d*sin(qC)*cos(qB) + qB_d*cos(qC))**2 + 2*l*le*(qA_d*(sin(qE)*cos(qB)*cos(qC) - sin(qC)*cos(qE)*cos(qB)) + qB_d*(sin(qE)*sin(qC) + cos(qE)*cos(qC)))*(-qA_d*sin(qC)*cos(qB) + qB_d*cos(qC)) + 2*l*le*(qA_d*sin(qB) + qC_d)**2*cos(qE) - 2*l*(qA_d*sin(qB) + qC_d)*(y_d*cos(qA) + z_d*sin(qA))*cos(qC) + l*(qA_d*sin(qB) + qC_d)*(x_d*cos(qB) + y_d*sin(qA)*sin(qB) - z_d*sin(qB)*cos(qA))*sin(qC) + l*(-qA_d*sin(qC)*cos(qB) + qB_d*cos(qC))*(x_d*sin(qB) - y_d*sin(qA)*cos(qB) + z_d*cos(qA)*cos(qB)) + le**2*(qA_d*(sin(qE)*cos(qB)*cos(qC) - sin(qC)*cos(qE)*cos(qB)) + qB_d*(sin(qE)*sin(qC) + cos(qE)*cos(qC)))**2 + le**2*(qA_d*sin(qB) + qC_d)**2 + 2*le*(qA_d*(sin(qE)*cos(qB)*cos(qC) - sin(qC)*cos(qE)*cos(qB)) + qB_d*(sin(qE)*sin(qC) + cos(qE)*cos(qC)))*(x_d*sin(qB) - y_d*sin(qA)*cos(qB) + z_d*cos(qA)*cos(qB)) - 2*le*(qA_d*sin(qB) + qC_d)*(y_d*cos(qA) + z_d*sin(qA))*(sin(qE)*sin(qC) + cos(qE)*cos(qC)) - 2*le*(qA_d*sin(qB) + qC_d)*(sin(qE)*cos(qC) - sin(qC)*cos(qE))*(x_d*cos(qB) + y_d*sin(qA)*sin(qB) - z_d*sin(qB)*cos(qA)) + x_d**2 + x_d*(l*(qA_d*sin(qB) + qC_d)*sin(qC)*cos(qB) + l*(-qA_d*sin(qC)*cos(qB) + qB_d*cos(qC))*sin(qB)) + y_d**2 + z_d**2 + (-y_d*sin(qA) + z_d*cos(qA))*(-l*(qA_d*sin(qB) + qC_d)*sin(qB)*sin(qC) + l*(-qA_d*sin(qC)*cos(qB) + qB_d*cos(qC))*cos(qB)))*cos(qB) - 0.00628318530717959*rho*(x_d*cos(qB)*cos(qC) - (-y_d*sin(qA) + z_d*cos(qA))*sin(qB)*cos(qC) + (y_d*cos(qA) + z_d*sin(qA))*sin(qC))*sqrt(lw**2*(qA_d*sin(qB) + qC_d)**2 + lw**2*(-qA_d*sin(qC)*cos(qB) + qB_d*cos(qC))**2 - 2*lw*(qA_d*sin(qB) + qC_d)*(y_d*cos(qA) + z_d*sin(qA))*cos(qC) + lw*(qA_d*sin(qB) + qC_d)*(x_d*cos(qB) + y_d*sin(qA)*sin(qB) - z_d*sin(qB)*cos(qA))*sin(qC) + lw*(-qA_d*sin(qC)*cos(qB) + qB_d*cos(qC))*(x_d*sin(qB) - y_d*sin(qA)*cos(qB) + z_d*cos(qA)*cos(qB)) + x_d**2 + x_d*(lw*(qA_d*sin(qB) + qC_d)*sin(qC)*cos(qB) + lw*(-qA_d*sin(qC)*cos(qB) + qB_d*cos(qC))*sin(qB)) + y_d**2 + z_d**2 + (-y_d*sin(qA) + z_d*cos(qA))*(-lw*(qA_d*sin(qB) + qC_d)*sin(qB)*sin(qC) + lw*(-qA_d*sin(qC)*cos(qB) + qB_d*cos(qC))*cos(qB)))*cos(qB)*cos(qC)], [-0.314159265358979*g*r**2 - 6.28318530717959*r**2*rho*(sin(qE)*sin(qC) + cos(qE)*cos(qC))*(-l*(qA_d*sin(qB) + qC_d)*cos(qE) - le*(qA_d*sin(qB) + qC_d) + (y_d*cos(qA) + z_d*sin(qA))*(sin(qE)*sin(qC) + cos(qE)*cos(qC)) + (sin(qE)*cos(qC) - sin(qC)*cos(qE))*(x_d*cos(qB) + y_d*sin(qA)*sin(qB) - z_d*sin(qB)*cos(qA)))*sqrt(l**2*(qA_d*sin(qB) + qC_d)**2 + l**2*(-qA_d*sin(qC)*cos(qB) + qB_d*cos(qC))**2 + 2*l*le*(qA_d*(sin(qE)*cos(qB)*cos(qC) - sin(qC)*cos(qE)*cos(qB)) + qB_d*(sin(qE)*sin(qC) + cos(qE)*cos(qC)))*(-qA_d*sin(qC)*cos(qB) + qB_d*cos(qC)) + 2*l*le*(qA_d*sin(qB) + qC_d)**2*cos(qE) - 2*l*(qA_d*sin(qB) + qC_d)*(y_d*cos(qA) + z_d*sin(qA))*cos(qC) + l*(qA_d*sin(qB) + qC_d)*(x_d*cos(qB) + y_d*sin(qA)*sin(qB) - z_d*sin(qB)*cos(qA))*sin(qC) + l*(-qA_d*sin(qC)*cos(qB) + qB_d*cos(qC))*(x_d*sin(qB) - y_d*sin(qA)*cos(qB) + z_d*cos(qA)*cos(qB)) + le**2*(qA_d*(sin(qE)*cos(qB)*cos(qC) - sin(qC)*cos(qE)*cos(qB)) + qB_d*(sin(qE)*sin(qC) + cos(qE)*cos(qC)))**2 + le**2*(qA_d*sin(qB) + qC_d)**2 + 2*le*(qA_d*(sin(qE)*cos(qB)*cos(qC) - sin(qC)*cos(qE)*cos(qB)) + qB_d*(sin(qE)*sin(qC) + cos(qE)*cos(qC)))*(x_d*sin(qB) - y_d*sin(qA)*cos(qB) + z_d*cos(qA)*cos(qB)) - 2*le*(qA_d*sin(qB) + qC_d)*(y_d*cos(qA) + z_d*sin(qA))*(sin(qE)*sin(qC) + cos(qE)*cos(qC)) - 2*le*(qA_d*sin(qB) + qC_d)*(sin(qE)*cos(qC) - sin(qC)*cos(qE))*(x_d*cos(qB) + y_d*sin(qA)*sin(qB) - z_d*sin(qB)*cos(qA)) + x_d**2 + x_d*(l*(qA_d*sin(qB) + qC_d)*sin(qC)*cos(qB) + l*(-qA_d*sin(qC)*cos(qB) + qB_d*cos(qC))*sin(qB)) + y_d**2 + z_d**2 + (-y_d*sin(qA) + z_d*cos(qA))*(-l*(qA_d*sin(qB) + qC_d)*sin(qB)*sin(qC) + l*(-qA_d*sin(qC)*cos(qB) + qB_d*cos(qC))*cos(qB)))*cos(qA) - 6.28318530717959*r**2*rho*(sin(qE)*cos(qC) - sin(qC)*cos(qE))*(-l*(qA_d*sin(qB) + qC_d)*cos(qE) - le*(qA_d*sin(qB) + qC_d) + (y_d*cos(qA) + z_d*sin(qA))*(sin(qE)*sin(qC) + cos(qE)*cos(qC)) + (sin(qE)*cos(qC) - sin(qC)*cos(qE))*(x_d*cos(qB) + y_d*sin(qA)*sin(qB) - z_d*sin(qB)*cos(qA)))*sqrt(l**2*(qA_d*sin(qB) + qC_d)**2 + l**2*(-qA_d*sin(qC)*cos(qB) + qB_d*cos(qC))**2 + 2*l*le*(qA_d*(sin(qE)*cos(qB)*cos(qC) - sin(qC)*cos(qE)*cos(qB)) + qB_d*(sin(qE)*sin(qC) + cos(qE)*cos(qC)))*(-qA_d*sin(qC)*cos(qB) + qB_d*cos(qC)) + 2*l*le*(qA_d*sin(qB) + qC_d)**2*cos(qE) - 2*l*(qA_d*sin(qB) + qC_d)*(y_d*cos(qA) + z_d*sin(qA))*cos(qC) + l*(qA_d*sin(qB) + qC_d)*(x_d*cos(qB) + y_d*sin(qA)*sin(qB) - z_d*sin(qB)*cos(qA))*sin(qC) + l*(-qA_d*sin(qC)*cos(qB) + qB_d*cos(qC))*(x_d*sin(qB) - y_d*sin(qA)*cos(qB) + z_d*cos(qA)*cos(qB)) + le**2*(qA_d*(sin(qE)*cos(qB)*cos(qC) - sin(qC)*cos(qE)*cos(qB)) + qB_d*(sin(qE)*sin(qC) + cos(qE)*cos(qC)))**2 + le**2*(qA_d*sin(qB) + qC_d)**2 + 2*le*(qA_d*(sin(qE)*cos(qB)*cos(qC) - sin(qC)*cos(qE)*cos(qB)) + qB_d*(sin(qE)*sin(qC) + cos(qE)*cos(qC)))*(x_d*sin(qB) - y_d*sin(qA)*cos(qB) + z_d*cos(qA)*cos(qB)) - 2*le*(qA_d*sin(qB) + qC_d)*(y_d*cos(qA) + z_d*sin(qA))*(sin(qE)*sin(qC) + cos(qE)*cos(qC)) - 2*le*(qA_d*sin(qB) + qC_d)*(sin(qE)*cos(qC) - sin(qC)*cos(qE))*(x_d*cos(qB) + y_d*sin(qA)*sin(qB) - z_d*sin(qB)*cos(qA)) + x_d**2 + x_d*(l*(qA_d*sin(qB) + qC_d)*sin(qC)*cos(qB) + l*(-qA_d*sin(qC)*cos(qB) + qB_d*cos(qC))*sin(qB)) + y_d**2 + z_d**2 + (-y_d*sin(qA) + z_d*cos(qA))*(-l*(qA_d*sin(qB) + qC_d)*sin(qB)*sin(qC) + l*(-qA_d*sin(qC)*cos(qB) + qB_d*cos(qC))*cos(qB)))*sin(qA)*sin(qB) + 6.28318530717959*r**2*rho*(-lw*(qA_d*sin(qB) + qC_d) - x_d*sin(qC)*cos(qB) + (-y_d*sin(qA) + z_d*cos(qA))*sin(qB)*sin(qC) + (y_d*cos(qA) + z_d*sin(qA))*cos(qC))*sqrt(lw**2*(qA_d*sin(qB) + qC_d)**2 + lw**2*(-qA_d*sin(qC)*cos(qB) + qB_d*cos(qC))**2 - 2*lw*(qA_d*sin(qB) + qC_d)*(y_d*cos(qA) + z_d*sin(qA))*cos(qC) + lw*(qA_d*sin(qB) + qC_d)*(x_d*cos(qB) + y_d*sin(qA)*sin(qB) - z_d*sin(qB)*cos(qA))*sin(qC) + lw*(-qA_d*sin(qC)*cos(qB) + qB_d*cos(qC))*(x_d*sin(qB) - y_d*sin(qA)*cos(qB) + z_d*cos(qA)*cos(qB)) + x_d**2 + x_d*(lw*(qA_d*sin(qB) + qC_d)*sin(qC)*cos(qB) + lw*(-qA_d*sin(qC)*cos(qB) + qB_d*cos(qC))*sin(qB)) + y_d**2 + z_d**2 + (-y_d*sin(qA) + z_d*cos(qA))*(-lw*(qA_d*sin(qB) + qC_d)*sin(qB)*sin(qC) + lw*(-qA_d*sin(qC)*cos(qB) + qB_d*cos(qC))*cos(qB)))*sin(qA)*sin(qB)*sin(qC) - 6.28318530717959*r**2*rho*(-lw*(qA_d*sin(qB) + qC_d) - x_d*sin(qC)*cos(qB) + (-y_d*sin(qA) + z_d*cos(qA))*sin(qB)*sin(qC) + (y_d*cos(qA) + z_d*sin(qA))*cos(qC))*sqrt(lw**2*(qA_d*sin(qB) + qC_d)**2 + lw**2*(-qA_d*sin(qC)*cos(qB) + qB_d*cos(qC))**2 - 2*lw*(qA_d*sin(qB) + qC_d)*(y_d*cos(qA) + z_d*sin(qA))*cos(qC) + lw*(qA_d*sin(qB) + qC_d)*(x_d*cos(qB) + y_d*sin(qA)*sin(qB) - z_d*sin(qB)*cos(qA))*sin(qC) + lw*(-qA_d*sin(qC)*cos(qB) + qB_d*cos(qC))*(x_d*sin(qB) - y_d*sin(qA)*cos(qB) + z_d*cos(qA)*cos(qB)) + x_d**2 + x_d*(lw*(qA_d*sin(qB) + qC_d)*sin(qC)*cos(qB) + lw*(-qA_d*sin(qC)*cos(qB) + qB_d*cos(qC))*sin(qB)) + y_d**2 + z_d**2 + (-y_d*sin(qA) + z_d*cos(qA))*(-lw*(qA_d*sin(qB) + qC_d)*sin(qB)*sin(qC) + lw*(-qA_d*sin(qC)*cos(qB) + qB_d*cos(qC))*cos(qB)))*cos(qA)*cos(qC) - 0.00628318530717959*rho*(sin(qE)*sin(qC) + cos(qE)*cos(qC))*(l*(qA_d*sin(qB) + qC_d)*sin(qE) + (y_d*cos(qA) + z_d*sin(qA))*(-sin(qE)*cos(qC) + sin(qC)*cos(qE)) + (sin(qE)*sin(qC) + cos(qE)*cos(qC))*(x_d*cos(qB) + y_d*sin(qA)*sin(qB) - z_d*sin(qB)*cos(qA)))*sqrt(l**2*(qA_d*sin(qB) + qC_d)**2 + l**2*(-qA_d*sin(qC)*cos(qB) + qB_d*cos(qC))**2 + 2*l*le*(qA_d*(sin(qE)*cos(qB)*cos(qC) - sin(qC)*cos(qE)*cos(qB)) + qB_d*(sin(qE)*sin(qC) + cos(qE)*cos(qC)))*(-qA_d*sin(qC)*cos(qB) + qB_d*cos(qC)) + 2*l*le*(qA_d*sin(qB) + qC_d)**2*cos(qE) - 2*l*(qA_d*sin(qB) + qC_d)*(y_d*cos(qA) + z_d*sin(qA))*cos(qC) + l*(qA_d*sin(qB) + qC_d)*(x_d*cos(qB) + y_d*sin(qA)*sin(qB) - z_d*sin(qB)*cos(qA))*sin(qC) + l*(-qA_d*sin(qC)*cos(qB) + qB_d*cos(qC))*(x_d*sin(qB) - y_d*sin(qA)*cos(qB) + z_d*cos(qA)*cos(qB)) + le**2*(qA_d*(sin(qE)*cos(qB)*cos(qC) - sin(qC)*cos(qE)*cos(qB)) + qB_d*(sin(qE)*sin(qC) + cos(qE)*cos(qC)))**2 + le**2*(qA_d*sin(qB) + qC_d)**2 + 2*le*(qA_d*(sin(qE)*cos(qB)*cos(qC) - sin(qC)*cos(qE)*cos(qB)) + qB_d*(sin(qE)*sin(qC) + cos(qE)*cos(qC)))*(x_d*sin(qB) - y_d*sin(qA)*cos(qB) + z_d*cos(qA)*cos(qB)) - 2*le*(qA_d*sin(qB) + qC_d)*(y_d*cos(qA) + z_d*sin(qA))*(sin(qE)*sin(qC) + cos(qE)*cos(qC)) - 2*le*(qA_d*sin(qB) + qC_d)*(sin(qE)*cos(qC) - sin(qC)*cos(qE))*(x_d*cos(qB) + y_d*sin(qA)*sin(qB) - z_d*sin(qB)*cos(qA)) + x_d**2 + x_d*(l*(qA_d*sin(qB) + qC_d)*sin(qC)*cos(qB) + l*(-qA_d*sin(qC)*cos(qB) + qB_d*cos(qC))*sin(qB)) + y_d**2 + z_d**2 + (-y_d*sin(qA) + z_d*cos(qA))*(-l*(qA_d*sin(qB) + qC_d)*sin(qB)*sin(qC) + l*(-qA_d*sin(qC)*cos(qB) + qB_d*cos(qC))*cos(qB)))*sin(qA)*sin(qB) - 0.00628318530717959*rho*(-sin(qE)*cos(qC) + sin(qC)*cos(qE))*(l*(qA_d*sin(qB) + qC_d)*sin(qE) + (y_d*cos(qA) + z_d*sin(qA))*(-sin(qE)*cos(qC) + sin(qC)*cos(qE)) + (sin(qE)*sin(qC) + cos(qE)*cos(qC))*(x_d*cos(qB) + y_d*sin(qA)*sin(qB) - z_d*sin(qB)*cos(qA)))*sqrt(l**2*(qA_d*sin(qB) + qC_d)**2 + l**2*(-qA_d*sin(qC)*cos(qB) + qB_d*cos(qC))**2 + 2*l*le*(qA_d*(sin(qE)*cos(qB)*cos(qC) - sin(qC)*cos(qE)*cos(qB)) + qB_d*(sin(qE)*sin(qC) + cos(qE)*cos(qC)))*(-qA_d*sin(qC)*cos(qB) + qB_d*cos(qC)) + 2*l*le*(qA_d*sin(qB) + qC_d)**2*cos(qE) - 2*l*(qA_d*sin(qB) + qC_d)*(y_d*cos(qA) + z_d*sin(qA))*cos(qC) + l*(qA_d*sin(qB) + qC_d)*(x_d*cos(qB) + y_d*sin(qA)*sin(qB) - z_d*sin(qB)*cos(qA))*sin(qC) + l*(-qA_d*sin(qC)*cos(qB) + qB_d*cos(qC))*(x_d*sin(qB) - y_d*sin(qA)*cos(qB) + z_d*cos(qA)*cos(qB)) + le**2*(qA_d*(sin(qE)*cos(qB)*cos(qC) - sin(qC)*cos(qE)*cos(qB)) + qB_d*(sin(qE)*sin(qC) + cos(qE)*cos(qC)))**2 + le**2*(qA_d*sin(qB) + qC_d)**2 + 2*le*(qA_d*(sin(qE)*cos(qB)*cos(qC) - sin(qC)*cos(qE)*cos(qB)) + qB_d*(sin(qE)*sin(qC) + cos(qE)*cos(qC)))*(x_d*sin(qB) - y_d*sin(qA)*cos(qB) + z_d*cos(qA)*cos(qB)) - 2*le*(qA_d*sin(qB) + qC_d)*(y_d*cos(qA) + z_d*sin(qA))*(sin(qE)*sin(qC) + cos(qE)*cos(qC)) - 2*le*(qA_d*sin(qB) + qC_d)*(sin(qE)*cos(qC) - sin(qC)*cos(qE))*(x_d*cos(qB) + y_d*sin(qA)*sin(qB) - z_d*sin(qB)*cos(qA)) + x_d**2 + x_d*(l*(qA_d*sin(qB) + qC_d)*sin(qC)*cos(qB) + l*(-qA_d*sin(qC)*cos(qB) + qB_d*cos(qC))*sin(qB)) + y_d**2 + z_d**2 + (-y_d*sin(qA) + z_d*cos(qA))*(-l*(qA_d*sin(qB) + qC_d)*sin(qB)*sin(qC) + l*(-qA_d*sin(qC)*cos(qB) + qB_d*cos(qC))*cos(qB)))*cos(qA) - 0.00628318530717959*rho*(x_d*cos(qB)*cos(qC) - (-y_d*sin(qA) + z_d*cos(qA))*sin(qB)*cos(qC) + (y_d*cos(qA) + z_d*sin(qA))*sin(qC))*sqrt(lw**2*(qA_d*sin(qB) + qC_d)**2 + lw**2*(-qA_d*sin(qC)*cos(qB) + qB_d*cos(qC))**2 - 2*lw*(qA_d*sin(qB) + qC_d)*(y_d*cos(qA) + z_d*sin(qA))*cos(qC) + lw*(qA_d*sin(qB) + qC_d)*(x_d*cos(qB) + y_d*sin(qA)*sin(qB) - z_d*sin(qB)*cos(qA))*sin(qC) + lw*(-qA_d*sin(qC)*cos(qB) + qB_d*cos(qC))*(x_d*sin(qB) - y_d*sin(qA)*cos(qB) + z_d*cos(qA)*cos(qB)) + x_d**2 + x_d*(lw*(qA_d*sin(qB) + qC_d)*sin(qC)*cos(qB) + lw*(-qA_d*sin(qC)*cos(qB) + qB_d*cos(qC))*sin(qB)) + y_d**2 + z_d**2 + (-y_d*sin(qA) + z_d*cos(qA))*(-lw*(qA_d*sin(qB) + qC_d)*sin(qB)*sin(qC) + lw*(-qA_d*sin(qC)*cos(qB) + qB_d*cos(qC))*cos(qB)))*sin(qA)*sin(qB)*cos(qC) - 0.00628318530717959*rho*(x_d*cos(qB)*cos(qC) - (-y_d*sin(qA) + z_d*cos(qA))*sin(qB)*cos(qC) + (y_d*cos(qA) + z_d*sin(qA))*sin(qC))*sqrt(lw**2*(qA_d*sin(qB) + qC_d)**2 + lw**2*(-qA_d*sin(qC)*cos(qB) + qB_d*cos(qC))**2 - 2*lw*(qA_d*sin(qB) + qC_d)*(y_d*cos(qA) + z_d*sin(qA))*cos(qC) + lw*(qA_d*sin(qB) + qC_d)*(x_d*cos(qB) + y_d*sin(qA)*sin(qB) - z_d*sin(qB)*cos(qA))*sin(qC) + lw*(-qA_d*sin(qC)*cos(qB) + qB_d*cos(qC))*(x_d*sin(qB) - y_d*sin(qA)*cos(qB) + z_d*cos(qA)*cos(qB)) + x_d**2 + x_d*(lw*(qA_d*sin(qB) + qC_d)*sin(qC)*cos(qB) + lw*(-qA_d*sin(qC)*cos(qB) + qB_d*cos(qC))*sin(qB)) + y_d**2 + z_d**2 + (-y_d*sin(qA) + z_d*cos(qA))*(-lw*(qA_d*sin(qB) + qC_d)*sin(qB)*sin(qC) + lw*(-qA_d*sin(qC)*cos(qB) + qB_d*cos(qC))*cos(qB)))*sin(qC)*cos(qA)], [-6.28318530717959*r**2*rho*(sin(qE)*sin(qC) + cos(qE)*cos(qC))*(-l*(qA_d*sin(qB) + qC_d)*cos(qE) - le*(qA_d*sin(qB) + qC_d) + (y_d*cos(qA) + z_d*sin(qA))*(sin(qE)*sin(qC) + cos(qE)*cos(qC)) + (sin(qE)*cos(qC) - sin(qC)*cos(qE))*(x_d*cos(qB) + y_d*sin(qA)*sin(qB) - z_d*sin(qB)*cos(qA)))*sqrt(l**2*(qA_d*sin(qB) + qC_d)**2 + l**2*(-qA_d*sin(qC)*cos(qB) + qB_d*cos(qC))**2 + 2*l*le*(qA_d*(sin(qE)*cos(qB)*cos(qC) - sin(qC)*cos(qE)*cos(qB)) + qB_d*(sin(qE)*sin(qC) + cos(qE)*cos(qC)))*(-qA_d*sin(qC)*cos(qB) + qB_d*cos(qC)) + 2*l*le*(qA_d*sin(qB) + qC_d)**2*cos(qE) - 2*l*(qA_d*sin(qB) + qC_d)*(y_d*cos(qA) + z_d*sin(qA))*cos(qC) + l*(qA_d*sin(qB) + qC_d)*(x_d*cos(qB) + y_d*sin(qA)*sin(qB) - z_d*sin(qB)*cos(qA))*sin(qC) + l*(-qA_d*sin(qC)*cos(qB) + qB_d*cos(qC))*(x_d*sin(qB) - y_d*sin(qA)*cos(qB) + z_d*cos(qA)*cos(qB)) + le**2*(qA_d*(sin(qE)*cos(qB)*cos(qC) - sin(qC)*cos(qE)*cos(qB)) + qB_d*(sin(qE)*sin(qC) + cos(qE)*cos(qC)))**2 + le**2*(qA_d*sin(qB) + qC_d)**2 + 2*le*(qA_d*(sin(qE)*cos(qB)*cos(qC) - sin(qC)*cos(qE)*cos(qB)) + qB_d*(sin(qE)*sin(qC) + cos(qE)*cos(qC)))*(x_d*sin(qB) - y_d*sin(qA)*cos(qB) + z_d*cos(qA)*cos(qB)) - 2*le*(qA_d*sin(qB) + qC_d)*(y_d*cos(qA) + z_d*sin(qA))*(sin(qE)*sin(qC) + cos(qE)*cos(qC)) - 2*le*(qA_d*sin(qB) + qC_d)*(sin(qE)*cos(qC) - sin(qC)*cos(qE))*(x_d*cos(qB) + y_d*sin(qA)*sin(qB) - z_d*sin(qB)*cos(qA)) + x_d**2 + x_d*(l*(qA_d*sin(qB) + qC_d)*sin(qC)*cos(qB) + l*(-qA_d*sin(qC)*cos(qB) + qB_d*cos(qC))*sin(qB)) + y_d**2 + z_d**2 + (-y_d*sin(qA) + z_d*cos(qA))*(-l*(qA_d*sin(qB) + qC_d)*sin(qB)*sin(qC) + l*(-qA_d*sin(qC)*cos(qB) + qB_d*cos(qC))*cos(qB)))*sin(qA) + 6.28318530717959*r**2*rho*(sin(qE)*cos(qC) - sin(qC)*cos(qE))*(-l*(qA_d*sin(qB) + qC_d)*cos(qE) - le*(qA_d*sin(qB) + qC_d) + (y_d*cos(qA) + z_d*sin(qA))*(sin(qE)*sin(qC) + cos(qE)*cos(qC)) + (sin(qE)*cos(qC) - sin(qC)*cos(qE))*(x_d*cos(qB) + y_d*sin(qA)*sin(qB) - z_d*sin(qB)*cos(qA)))*sqrt(l**2*(qA_d*sin(qB) + qC_d)**2 + l**2*(-qA_d*sin(qC)*cos(qB) + qB_d*cos(qC))**2 + 2*l*le*(qA_d*(sin(qE)*cos(qB)*cos(qC) - sin(qC)*cos(qE)*cos(qB)) + qB_d*(sin(qE)*sin(qC) + cos(qE)*cos(qC)))*(-qA_d*sin(qC)*cos(qB) + qB_d*cos(qC)) + 2*l*le*(qA_d*sin(qB) + qC_d)**2*cos(qE) - 2*l*(qA_d*sin(qB) + qC_d)*(y_d*cos(qA) + z_d*sin(qA))*cos(qC) + l*(qA_d*sin(qB) + qC_d)*(x_d*cos(qB) + y_d*sin(qA)*sin(qB) - z_d*sin(qB)*cos(qA))*sin(qC) + l*(-qA_d*sin(qC)*cos(qB) + qB_d*cos(qC))*(x_d*sin(qB) - y_d*sin(qA)*cos(qB) + z_d*cos(qA)*cos(qB)) + le**2*(qA_d*(sin(qE)*cos(qB)*cos(qC) - sin(qC)*cos(qE)*cos(qB)) + qB_d*(sin(qE)*sin(qC) + cos(qE)*cos(qC)))**2 + le**2*(qA_d*sin(qB) + qC_d)**2 + 2*le*(qA_d*(sin(qE)*cos(qB)*cos(qC) - sin(qC)*cos(qE)*cos(qB)) + qB_d*(sin(qE)*sin(qC) + cos(qE)*cos(qC)))*(x_d*sin(qB) - y_d*sin(qA)*cos(qB) + z_d*cos(qA)*cos(qB)) - 2*le*(qA_d*sin(qB) + qC_d)*(y_d*cos(qA) + z_d*sin(qA))*(sin(qE)*sin(qC) + cos(qE)*cos(qC)) - 2*le*(qA_d*sin(qB) + qC_d)*(sin(qE)*cos(qC) - sin(qC)*cos(qE))*(x_d*cos(qB) + y_d*sin(qA)*sin(qB) - z_d*sin(qB)*cos(qA)) + x_d**2 + x_d*(l*(qA_d*sin(qB) + qC_d)*sin(qC)*cos(qB) + l*(-qA_d*sin(qC)*cos(qB) + qB_d*cos(qC))*sin(qB)) + y_d**2 + z_d**2 + (-y_d*sin(qA) + z_d*cos(qA))*(-l*(qA_d*sin(qB) + qC_d)*sin(qB)*sin(qC) + l*(-qA_d*sin(qC)*cos(qB) + qB_d*cos(qC))*cos(qB)))*sin(qB)*cos(qA) - 6.28318530717959*r**2*rho*(-lw*(qA_d*sin(qB) + qC_d) - x_d*sin(qC)*cos(qB) + (-y_d*sin(qA) + z_d*cos(qA))*sin(qB)*sin(qC) + (y_d*cos(qA) + z_d*sin(qA))*cos(qC))*sqrt(lw**2*(qA_d*sin(qB) + qC_d)**2 + lw**2*(-qA_d*sin(qC)*cos(qB) + qB_d*cos(qC))**2 - 2*lw*(qA_d*sin(qB) + qC_d)*(y_d*cos(qA) + z_d*sin(qA))*cos(qC) + lw*(qA_d*sin(qB) + qC_d)*(x_d*cos(qB) + y_d*sin(qA)*sin(qB) - z_d*sin(qB)*cos(qA))*sin(qC) + lw*(-qA_d*sin(qC)*cos(qB) + qB_d*cos(qC))*(x_d*sin(qB) - y_d*sin(qA)*cos(qB) + z_d*cos(qA)*cos(qB)) + x_d**2 + x_d*(lw*(qA_d*sin(qB) + qC_d)*sin(qC)*cos(qB) + lw*(-qA_d*sin(qC)*cos(qB) + qB_d*cos(qC))*sin(qB)) + y_d**2 + z_d**2 + (-y_d*sin(qA) + z_d*cos(qA))*(-lw*(qA_d*sin(qB) + qC_d)*sin(qB)*sin(qC) + lw*(-qA_d*sin(qC)*cos(qB) + qB_d*cos(qC))*cos(qB)))*sin(qA)*cos(qC) - 6.28318530717959*r**2*rho*(-lw*(qA_d*sin(qB) + qC_d) - x_d*sin(qC)*cos(qB) + (-y_d*sin(qA) + z_d*cos(qA))*sin(qB)*sin(qC) + (y_d*cos(qA) + z_d*sin(qA))*cos(qC))*sqrt(lw**2*(qA_d*sin(qB) + qC_d)**2 + lw**2*(-qA_d*sin(qC)*cos(qB) + qB_d*cos(qC))**2 - 2*lw*(qA_d*sin(qB) + qC_d)*(y_d*cos(qA) + z_d*sin(qA))*cos(qC) + lw*(qA_d*sin(qB) + qC_d)*(x_d*cos(qB) + y_d*sin(qA)*sin(qB) - z_d*sin(qB)*cos(qA))*sin(qC) + lw*(-qA_d*sin(qC)*cos(qB) + qB_d*cos(qC))*(x_d*sin(qB) - y_d*sin(qA)*cos(qB) + z_d*cos(qA)*cos(qB)) + x_d**2 + x_d*(lw*(qA_d*sin(qB) + qC_d)*sin(qC)*cos(qB) + lw*(-qA_d*sin(qC)*cos(qB) + qB_d*cos(qC))*sin(qB)) + y_d**2 + z_d**2 + (-y_d*sin(qA) + z_d*cos(qA))*(-lw*(qA_d*sin(qB) + qC_d)*sin(qB)*sin(qC) + lw*(-qA_d*sin(qC)*cos(qB) + qB_d*cos(qC))*cos(qB)))*sin(qB)*sin(qC)*cos(qA) + 0.00628318530717959*rho*(sin(qE)*sin(qC) + cos(qE)*cos(qC))*(l*(qA_d*sin(qB) + qC_d)*sin(qE) + (y_d*cos(qA) + z_d*sin(qA))*(-sin(qE)*cos(qC) + sin(qC)*cos(qE)) + (sin(qE)*sin(qC) + cos(qE)*cos(qC))*(x_d*cos(qB) + y_d*sin(qA)*sin(qB) - z_d*sin(qB)*cos(qA)))*sqrt(l**2*(qA_d*sin(qB) + qC_d)**2 + l**2*(-qA_d*sin(qC)*cos(qB) + qB_d*cos(qC))**2 + 2*l*le*(qA_d*(sin(qE)*cos(qB)*cos(qC) - sin(qC)*cos(qE)*cos(qB)) + qB_d*(sin(qE)*sin(qC) + cos(qE)*cos(qC)))*(-qA_d*sin(qC)*cos(qB) + qB_d*cos(qC)) + 2*l*le*(qA_d*sin(qB) + qC_d)**2*cos(qE) - 2*l*(qA_d*sin(qB) + qC_d)*(y_d*cos(qA) + z_d*sin(qA))*cos(qC) + l*(qA_d*sin(qB) + qC_d)*(x_d*cos(qB) + y_d*sin(qA)*sin(qB) - z_d*sin(qB)*cos(qA))*sin(qC) + l*(-qA_d*sin(qC)*cos(qB) + qB_d*cos(qC))*(x_d*sin(qB) - y_d*sin(qA)*cos(qB) + z_d*cos(qA)*cos(qB)) + le**2*(qA_d*(sin(qE)*cos(qB)*cos(qC) - sin(qC)*cos(qE)*cos(qB)) + qB_d*(sin(qE)*sin(qC) + cos(qE)*cos(qC)))**2 + le**2*(qA_d*sin(qB) + qC_d)**2 + 2*le*(qA_d*(sin(qE)*cos(qB)*cos(qC) - sin(qC)*cos(qE)*cos(qB)) + qB_d*(sin(qE)*sin(qC) + cos(qE)*cos(qC)))*(x_d*sin(qB) - y_d*sin(qA)*cos(qB) + z_d*cos(qA)*cos(qB)) - 2*le*(qA_d*sin(qB) + qC_d)*(y_d*cos(qA) + z_d*sin(qA))*(sin(qE)*sin(qC) + cos(qE)*cos(qC)) - 2*le*(qA_d*sin(qB) + qC_d)*(sin(qE)*cos(qC) - sin(qC)*cos(qE))*(x_d*cos(qB) + y_d*sin(qA)*sin(qB) - z_d*sin(qB)*cos(qA)) + x_d**2 + x_d*(l*(qA_d*sin(qB) + qC_d)*sin(qC)*cos(qB) + l*(-qA_d*sin(qC)*cos(qB) + qB_d*cos(qC))*sin(qB)) + y_d**2 + z_d**2 + (-y_d*sin(qA) + z_d*cos(qA))*(-l*(qA_d*sin(qB) + qC_d)*sin(qB)*sin(qC) + l*(-qA_d*sin(qC)*cos(qB) + qB_d*cos(qC))*cos(qB)))*sin(qB)*cos(qA) - 0.00628318530717959*rho*(-sin(qE)*cos(qC) + sin(qC)*cos(qE))*(l*(qA_d*sin(qB) + qC_d)*sin(qE) + (y_d*cos(qA) + z_d*sin(qA))*(-sin(qE)*cos(qC) + sin(qC)*cos(qE)) + (sin(qE)*sin(qC) + cos(qE)*cos(qC))*(x_d*cos(qB) + y_d*sin(qA)*sin(qB) - z_d*sin(qB)*cos(qA)))*sqrt(l**2*(qA_d*sin(qB) + qC_d)**2 + l**2*(-qA_d*sin(qC)*cos(qB) + qB_d*cos(qC))**2 + 2*l*le*(qA_d*(sin(qE)*cos(qB)*cos(qC) - sin(qC)*cos(qE)*cos(qB)) + qB_d*(sin(qE)*sin(qC) + cos(qE)*cos(qC)))*(-qA_d*sin(qC)*cos(qB) + qB_d*cos(qC)) + 2*l*le*(qA_d*sin(qB) + qC_d)**2*cos(qE) - 2*l*(qA_d*sin(qB) + qC_d)*(y_d*cos(qA) + z_d*sin(qA))*cos(qC) + l*(qA_d*sin(qB) + qC_d)*(x_d*cos(qB) + y_d*sin(qA)*sin(qB) - z_d*sin(qB)*cos(qA))*sin(qC) + l*(-qA_d*sin(qC)*cos(qB) + qB_d*cos(qC))*(x_d*sin(qB) - y_d*sin(qA)*cos(qB) + z_d*cos(qA)*cos(qB)) + le**2*(qA_d*(sin(qE)*cos(qB)*cos(qC) - sin(qC)*cos(qE)*cos(qB)) + qB_d*(sin(qE)*sin(qC) + cos(qE)*cos(qC)))**2 + le**2*(qA_d*sin(qB) + qC_d)**2 + 2*le*(qA_d*(sin(qE)*cos(qB)*cos(qC) - sin(qC)*cos(qE)*cos(qB)) + qB_d*(sin(qE)*sin(qC) + cos(qE)*cos(qC)))*(x_d*sin(qB) - y_d*sin(qA)*cos(qB) + z_d*cos(qA)*cos(qB)) - 2*le*(qA_d*sin(qB) + qC_d)*(y_d*cos(qA) + z_d*sin(qA))*(sin(qE)*sin(qC) + cos(qE)*cos(qC)) - 2*le*(qA_d*sin(qB) + qC_d)*(sin(qE)*cos(qC) - sin(qC)*cos(qE))*(x_d*cos(qB) + y_d*sin(qA)*sin(qB) - z_d*sin(qB)*cos(qA)) + x_d**2 + x_d*(l*(qA_d*sin(qB) + qC_d)*sin(qC)*cos(qB) + l*(-qA_d*sin(qC)*cos(qB) + qB_d*cos(qC))*sin(qB)) + y_d**2 + z_d**2 + (-y_d*sin(qA) + z_d*cos(qA))*(-l*(qA_d*sin(qB) + qC_d)*sin(qB)*sin(qC) + l*(-qA_d*sin(qC)*cos(qB) + qB_d*cos(qC))*cos(qB)))*sin(qA) - 0.00628318530717959*rho*(x_d*cos(qB)*cos(qC) - (-y_d*sin(qA) + z_d*cos(qA))*sin(qB)*cos(qC) + (y_d*cos(qA) + z_d*sin(qA))*sin(qC))*sqrt(lw**2*(qA_d*sin(qB) + qC_d)**2 + lw**2*(-qA_d*sin(qC)*cos(qB) + qB_d*cos(qC))**2 - 2*lw*(qA_d*sin(qB) + qC_d)*(y_d*cos(qA) + z_d*sin(qA))*cos(qC) + lw*(qA_d*sin(qB) + qC_d)*(x_d*cos(qB) + y_d*sin(qA)*sin(qB) - z_d*sin(qB)*cos(qA))*sin(qC) + lw*(-qA_d*sin(qC)*cos(qB) + qB_d*cos(qC))*(x_d*sin(qB) - y_d*sin(qA)*cos(qB) + z_d*cos(qA)*cos(qB)) + x_d**2 + x_d*(lw*(qA_d*sin(qB) + qC_d)*sin(qC)*cos(qB) + lw*(-qA_d*sin(qC)*cos(qB) + qB_d*cos(qC))*sin(qB)) + y_d**2 + z_d**2 + (-y_d*sin(qA) + z_d*cos(qA))*(-lw*(qA_d*sin(qB) + qC_d)*sin(qB)*sin(qC) + lw*(-qA_d*sin(qC)*cos(qB) + qB_d*cos(qC))*cos(qB)))*sin(qA)*sin(qC) + 0.00628318530717959*rho*(x_d*cos(qB)*cos(qC) - (-y_d*sin(qA) + z_d*cos(qA))*sin(qB)*cos(qC) + (y_d*cos(qA) + z_d*sin(qA))*sin(qC))*sqrt(lw**2*(qA_d*sin(qB) + qC_d)**2 + lw**2*(-qA_d*sin(qC)*cos(qB) + qB_d*cos(qC))**2 - 2*lw*(qA_d*sin(qB) + qC_d)*(y_d*cos(qA) + z_d*sin(qA))*cos(qC) + lw*(qA_d*sin(qB) + qC_d)*(x_d*cos(qB) + y_d*sin(qA)*sin(qB) - z_d*sin(qB)*cos(qA))*sin(qC) + lw*(-qA_d*sin(qC)*cos(qB) + qB_d*cos(qC))*(x_d*sin(qB) - y_d*sin(qA)*cos(qB) + z_d*cos(qA)*cos(qB)) + x_d**2 + x_d*(lw*(qA_d*sin(qB) + qC_d)*sin(qC)*cos(qB) + lw*(-qA_d*sin(qC)*cos(qB) + qB_d*cos(qC))*sin(qB)) + y_d**2 + z_d**2 + (-y_d*sin(qA) + z_d*cos(qA))*(-lw*(qA_d*sin(qB) + qC_d)*sin(qB)*sin(qC) + lw*(-qA_d*sin(qC)*cos(qB) + qB_d*cos(qC))*cos(qB)))*sin(qB)*cos(qA)*cos(qC)], [-I_11*qA_d*qB_d*sin(qB)*cos(qB) + 6.28318530717959*l*r**2*rho*(-l*(qA_d*sin(qB) + qC_d)*cos(qE) - le*(qA_d*sin(qB) + qC_d) + (y_d*cos(qA) + z_d*sin(qA))*(sin(qE)*sin(qC) + cos(qE)*cos(qC)) + (sin(qE)*cos(qC) - sin(qC)*cos(qE))*(x_d*cos(qB) + y_d*sin(qA)*sin(qB) - z_d*sin(qB)*cos(qA)))*sqrt(l**2*(qA_d*sin(qB) + qC_d)**2 + l**2*(-qA_d*sin(qC)*cos(qB) + qB_d*cos(qC))**2 + 2*l*le*(qA_d*(sin(qE)*cos(qB)*cos(qC) - sin(qC)*cos(qE)*cos(qB)) + qB_d*(sin(qE)*sin(qC) + cos(qE)*cos(qC)))*(-qA_d*sin(qC)*cos(qB) + qB_d*cos(qC)) + 2*l*le*(qA_d*sin(qB) + qC_d)**2*cos(qE) - 2*l*(qA_d*sin(qB) + qC_d)*(y_d*cos(qA) + z_d*sin(qA))*cos(qC) + l*(qA_d*sin(qB) + qC_d)*(x_d*cos(qB) + y_d*sin(qA)*sin(qB) - z_d*sin(qB)*cos(qA))*sin(qC) + l*(-qA_d*sin(qC)*cos(qB) + qB_d*cos(qC))*(x_d*sin(qB) - y_d*sin(qA)*cos(qB) + z_d*cos(qA)*cos(qB)) + le**2*(qA_d*(sin(qE)*cos(qB)*cos(qC) - sin(qC)*cos(qE)*cos(qB)) + qB_d*(sin(qE)*sin(qC) + cos(qE)*cos(qC)))**2 + le**2*(qA_d*sin(qB) + qC_d)**2 + 2*le*(qA_d*(sin(qE)*cos(qB)*cos(qC) - sin(qC)*cos(qE)*cos(qB)) + qB_d*(sin(qE)*sin(qC) + cos(qE)*cos(qC)))*(x_d*sin(qB) - y_d*sin(qA)*cos(qB) + z_d*cos(qA)*cos(qB)) - 2*le*(qA_d*sin(qB) + qC_d)*(y_d*cos(qA) + z_d*sin(qA))*(sin(qE)*sin(qC) + cos(qE)*cos(qC)) - 2*le*(qA_d*sin(qB) + qC_d)*(sin(qE)*cos(qC) - sin(qC)*cos(qE))*(x_d*cos(qB) + y_d*sin(qA)*sin(qB) - z_d*sin(qB)*cos(qA)) + x_d**2 + x_d*(l*(qA_d*sin(qB) + qC_d)*sin(qC)*cos(qB) + l*(-qA_d*sin(qC)*cos(qB) + qB_d*cos(qC))*sin(qB)) + y_d**2 + z_d**2 + (-y_d*sin(qA) + z_d*cos(qA))*(-l*(qA_d*sin(qB) + qC_d)*sin(qB)*sin(qC) + l*(-qA_d*sin(qC)*cos(qB) + qB_d*cos(qC))*cos(qB)))*sin(qB)*cos(qE) - 0.00628318530717959*l*rho*(l*(qA_d*sin(qB) + qC_d)*sin(qE) + (y_d*cos(qA) + z_d*sin(qA))*(-sin(qE)*cos(qC) + sin(qC)*cos(qE)) + (sin(qE)*sin(qC) + cos(qE)*cos(qC))*(x_d*cos(qB) + y_d*sin(qA)*sin(qB) - z_d*sin(qB)*cos(qA)))*sqrt(l**2*(qA_d*sin(qB) + qC_d)**2 + l**2*(-qA_d*sin(qC)*cos(qB) + qB_d*cos(qC))**2 + 2*l*le*(qA_d*(sin(qE)*cos(qB)*cos(qC) - sin(qC)*cos(qE)*cos(qB)) + qB_d*(sin(qE)*sin(qC) + cos(qE)*cos(qC)))*(-qA_d*sin(qC)*cos(qB) + qB_d*cos(qC)) + 2*l*le*(qA_d*sin(qB) + qC_d)**2*cos(qE) - 2*l*(qA_d*sin(qB) + qC_d)*(y_d*cos(qA) + z_d*sin(qA))*cos(qC) + l*(qA_d*sin(qB) + qC_d)*(x_d*cos(qB) + y_d*sin(qA)*sin(qB) - z_d*sin(qB)*cos(qA))*sin(qC) + l*(-qA_d*sin(qC)*cos(qB) + qB_d*cos(qC))*(x_d*sin(qB) - y_d*sin(qA)*cos(qB) + z_d*cos(qA)*cos(qB)) + le**2*(qA_d*(sin(qE)*cos(qB)*cos(qC) - sin(qC)*cos(qE)*cos(qB)) + qB_d*(sin(qE)*sin(qC) + cos(qE)*cos(qC)))**2 + le**2*(qA_d*sin(qB) + qC_d)**2 + 2*le*(qA_d*(sin(qE)*cos(qB)*cos(qC) - sin(qC)*cos(qE)*cos(qB)) + qB_d*(sin(qE)*sin(qC) + cos(qE)*cos(qC)))*(x_d*sin(qB) - y_d*sin(qA)*cos(qB) + z_d*cos(qA)*cos(qB)) - 2*le*(qA_d*sin(qB) + qC_d)*(y_d*cos(qA) + z_d*sin(qA))*(sin(qE)*sin(qC) + cos(qE)*cos(qC)) - 2*le*(qA_d*sin(qB) + qC_d)*(sin(qE)*cos(qC) - sin(qC)*cos(qE))*(x_d*cos(qB) + y_d*sin(qA)*sin(qB) - z_d*sin(qB)*cos(qA)) + x_d**2 + x_d*(l*(qA_d*sin(qB) + qC_d)*sin(qC)*cos(qB) + l*(-qA_d*sin(qC)*cos(qB) + qB_d*cos(qC))*sin(qB)) + y_d**2 + z_d**2 + (-y_d*sin(qA) + z_d*cos(qA))*(-l*(qA_d*sin(qB) + qC_d)*sin(qB)*sin(qC) + l*(-qA_d*sin(qC)*cos(qB) + qB_d*cos(qC))*cos(qB)))*sin(qE)*sin(qB) + 6.28318530717959*le*r**2*rho*(-l*(qA_d*sin(qB) + qC_d)*cos(qE) - le*(qA_d*sin(qB) + qC_d) + (y_d*cos(qA) + z_d*sin(qA))*(sin(qE)*sin(qC) + cos(qE)*cos(qC)) + (sin(qE)*cos(qC) - sin(qC)*cos(qE))*(x_d*cos(qB) + y_d*sin(qA)*sin(qB) - z_d*sin(qB)*cos(qA)))*sqrt(l**2*(qA_d*sin(qB) + qC_d)**2 + l**2*(-qA_d*sin(qC)*cos(qB) + qB_d*cos(qC))**2 + 2*l*le*(qA_d*(sin(qE)*cos(qB)*cos(qC) - sin(qC)*cos(qE)*cos(qB)) + qB_d*(sin(qE)*sin(qC) + cos(qE)*cos(qC)))*(-qA_d*sin(qC)*cos(qB) + qB_d*cos(qC)) + 2*l*le*(qA_d*sin(qB) + qC_d)**2*cos(qE) - 2*l*(qA_d*sin(qB) + qC_d)*(y_d*cos(qA) + z_d*sin(qA))*cos(qC) + l*(qA_d*sin(qB) + qC_d)*(x_d*cos(qB) + y_d*sin(qA)*sin(qB) - z_d*sin(qB)*cos(qA))*sin(qC) + l*(-qA_d*sin(qC)*cos(qB) + qB_d*cos(qC))*(x_d*sin(qB) - y_d*sin(qA)*cos(qB) + z_d*cos(qA)*cos(qB)) + le**2*(qA_d*(sin(qE)*cos(qB)*cos(qC) - sin(qC)*cos(qE)*cos(qB)) + qB_d*(sin(qE)*sin(qC) + cos(qE)*cos(qC)))**2 + le**2*(qA_d*sin(qB) + qC_d)**2 + 2*le*(qA_d*(sin(qE)*cos(qB)*cos(qC) - sin(qC)*cos(qE)*cos(qB)) + qB_d*(sin(qE)*sin(qC) + cos(qE)*cos(qC)))*(x_d*sin(qB) - y_d*sin(qA)*cos(qB) + z_d*cos(qA)*cos(qB)) - 2*le*(qA_d*sin(qB) + qC_d)*(y_d*cos(qA) + z_d*sin(qA))*(sin(qE)*sin(qC) + cos(qE)*cos(qC)) - 2*le*(qA_d*sin(qB) + qC_d)*(sin(qE)*cos(qC) - sin(qC)*cos(qE))*(x_d*cos(qB) + y_d*sin(qA)*sin(qB) - z_d*sin(qB)*cos(qA)) + x_d**2 + x_d*(l*(qA_d*sin(qB) + qC_d)*sin(qC)*cos(qB) + l*(-qA_d*sin(qC)*cos(qB) + qB_d*cos(qC))*sin(qB)) + y_d**2 + z_d**2 + (-y_d*sin(qA) + z_d*cos(qA))*(-l*(qA_d*sin(qB) + qC_d)*sin(qB)*sin(qC) + l*(-qA_d*sin(qC)*cos(qB) + qB_d*cos(qC))*cos(qB)))*sin(qB) + 6.28318530717959*lw*r**2*rho*(-lw*(qA_d*sin(qB) + qC_d) - x_d*sin(qC)*cos(qB) + (-y_d*sin(qA) + z_d*cos(qA))*sin(qB)*sin(qC) + (y_d*cos(qA) + z_d*sin(qA))*cos(qC))*sqrt(lw**2*(qA_d*sin(qB) + qC_d)**2 + lw**2*(-qA_d*sin(qC)*cos(qB) + qB_d*cos(qC))**2 - 2*lw*(qA_d*sin(qB) + qC_d)*(y_d*cos(qA) + z_d*sin(qA))*cos(qC) + lw*(qA_d*sin(qB) + qC_d)*(x_d*cos(qB) + y_d*sin(qA)*sin(qB) - z_d*sin(qB)*cos(qA))*sin(qC) + lw*(-qA_d*sin(qC)*cos(qB) + qB_d*cos(qC))*(x_d*sin(qB) - y_d*sin(qA)*cos(qB) + z_d*cos(qA)*cos(qB)) + x_d**2 + x_d*(lw*(qA_d*sin(qB) + qC_d)*sin(qC)*cos(qB) + lw*(-qA_d*sin(qC)*cos(qB) + qB_d*cos(qC))*sin(qB)) + y_d**2 + z_d**2 + (-y_d*sin(qA) + z_d*cos(qA))*(-lw*(qA_d*sin(qB) + qC_d)*sin(qB)*sin(qC) + lw*(-qA_d*sin(qC)*cos(qB) + qB_d*cos(qC))*cos(qB)))*sin(qB) + qB_d*(-I_11*(-qA_d*sin(qC)*cos(qB) + qB_d*cos(qC))*sin(qC) + I_11*(qA_d*cos(qB)*cos(qC) + qB_d*sin(qC))*cos(qC))*sin(qB) - (I_11*qB_d*(qA_d*sin(qB) + qC_d) - qC_d*(I_11*(-qA_d*sin(qC)*cos(qB) + qB_d*cos(qC))*cos(qC) + I_11*(qA_d*cos(qB)*cos(qC) + qB_d*sin(qC))*sin(qC)))*cos(qB) - (-I_11*(qA_d*qB_d*sin(qB)*sin(qC) - qA_d*qC_d*cos(qB)*cos(qC) - qB_d*qC_d*sin(qC))*sin(qC) + I_11*(-qA_d*qB_d*sin(qB)*cos(qC) - qA_d*qC_d*sin(qC)*cos(qB) + qB_d*qC_d*cos(qC))*cos(qC))*cos(qB)], [-I_11*(qA_d*qB_d*sin(qB)*sin(qC) - qA_d*qC_d*cos(qB)*cos(qC) - qB_d*qC_d*sin(qC))*cos(qC) - I_11*(-qA_d*qB_d*sin(qB)*cos(qC) - qA_d*qC_d*sin(qC)*cos(qB) + qB_d*qC_d*cos(qC))*sin(qC) + qA_d*(I_11*(qA_d*sin(qB) + qC_d)*cos(qB) + I_11*(-qA_d*sin(qC)*cos(qB) + qB_d*cos(qC))*sin(qB)*sin(qC) - I_11*(qA_d*cos(qB)*cos(qC) + qB_d*sin(qC))*sin(qB)*cos(qC)) - qC_d*(-I_11*(-qA_d*sin(qC)*cos(qB) + qB_d*cos(qC))*sin(qC) + I_11*(qA_d*cos(qB)*cos(qC) + qB_d*sin(qC))*cos(qC))], [-I_11*qA_d*qB_d*cos(qB) + 6.28318530717959*l*r**2*rho*(-l*(qA_d*sin(qB) + qC_d)*cos(qE) - le*(qA_d*sin(qB) + qC_d) + (y_d*cos(qA) + z_d*sin(qA))*(sin(qE)*sin(qC) + cos(qE)*cos(qC)) + (sin(qE)*cos(qC) - sin(qC)*cos(qE))*(x_d*cos(qB) + y_d*sin(qA)*sin(qB) - z_d*sin(qB)*cos(qA)))*sqrt(l**2*(qA_d*sin(qB) + qC_d)**2 + l**2*(-qA_d*sin(qC)*cos(qB) + qB_d*cos(qC))**2 + 2*l*le*(qA_d*(sin(qE)*cos(qB)*cos(qC) - sin(qC)*cos(qE)*cos(qB)) + qB_d*(sin(qE)*sin(qC) + cos(qE)*cos(qC)))*(-qA_d*sin(qC)*cos(qB) + qB_d*cos(qC)) + 2*l*le*(qA_d*sin(qB) + qC_d)**2*cos(qE) - 2*l*(qA_d*sin(qB) + qC_d)*(y_d*cos(qA) + z_d*sin(qA))*cos(qC) + l*(qA_d*sin(qB) + qC_d)*(x_d*cos(qB) + y_d*sin(qA)*sin(qB) - z_d*sin(qB)*cos(qA))*sin(qC) + l*(-qA_d*sin(qC)*cos(qB) + qB_d*cos(qC))*(x_d*sin(qB) - y_d*sin(qA)*cos(qB) + z_d*cos(qA)*cos(qB)) + le**2*(qA_d*(sin(qE)*cos(qB)*cos(qC) - sin(qC)*cos(qE)*cos(qB)) + qB_d*(sin(qE)*sin(qC) + cos(qE)*cos(qC)))**2 + le**2*(qA_d*sin(qB) + qC_d)**2 + 2*le*(qA_d*(sin(qE)*cos(qB)*cos(qC) - sin(qC)*cos(qE)*cos(qB)) + qB_d*(sin(qE)*sin(qC) + cos(qE)*cos(qC)))*(x_d*sin(qB) - y_d*sin(qA)*cos(qB) + z_d*cos(qA)*cos(qB)) - 2*le*(qA_d*sin(qB) + qC_d)*(y_d*cos(qA) + z_d*sin(qA))*(sin(qE)*sin(qC) + cos(qE)*cos(qC)) - 2*le*(qA_d*sin(qB) + qC_d)*(sin(qE)*cos(qC) - sin(qC)*cos(qE))*(x_d*cos(qB) + y_d*sin(qA)*sin(qB) - z_d*sin(qB)*cos(qA)) + x_d**2 + x_d*(l*(qA_d*sin(qB) + qC_d)*sin(qC)*cos(qB) + l*(-qA_d*sin(qC)*cos(qB) + qB_d*cos(qC))*sin(qB)) + y_d**2 + z_d**2 + (-y_d*sin(qA) + z_d*cos(qA))*(-l*(qA_d*sin(qB) + qC_d)*sin(qB)*sin(qC) + l*(-qA_d*sin(qC)*cos(qB) + qB_d*cos(qC))*cos(qB)))*cos(qE) - 0.00628318530717959*l*rho*(l*(qA_d*sin(qB) + qC_d)*sin(qE) + (y_d*cos(qA) + z_d*sin(qA))*(-sin(qE)*cos(qC) + sin(qC)*cos(qE)) + (sin(qE)*sin(qC) + cos(qE)*cos(qC))*(x_d*cos(qB) + y_d*sin(qA)*sin(qB) - z_d*sin(qB)*cos(qA)))*sqrt(l**2*(qA_d*sin(qB) + qC_d)**2 + l**2*(-qA_d*sin(qC)*cos(qB) + qB_d*cos(qC))**2 + 2*l*le*(qA_d*(sin(qE)*cos(qB)*cos(qC) - sin(qC)*cos(qE)*cos(qB)) + qB_d*(sin(qE)*sin(qC) + cos(qE)*cos(qC)))*(-qA_d*sin(qC)*cos(qB) + qB_d*cos(qC)) + 2*l*le*(qA_d*sin(qB) + qC_d)**2*cos(qE) - 2*l*(qA_d*sin(qB) + qC_d)*(y_d*cos(qA) + z_d*sin(qA))*cos(qC) + l*(qA_d*sin(qB) + qC_d)*(x_d*cos(qB) + y_d*sin(qA)*sin(qB) - z_d*sin(qB)*cos(qA))*sin(qC) + l*(-qA_d*sin(qC)*cos(qB) + qB_d*cos(qC))*(x_d*sin(qB) - y_d*sin(qA)*cos(qB) + z_d*cos(qA)*cos(qB)) + le**2*(qA_d*(sin(qE)*cos(qB)*cos(qC) - sin(qC)*cos(qE)*cos(qB)) + qB_d*(sin(qE)*sin(qC) + cos(qE)*cos(qC)))**2 + le**2*(qA_d*sin(qB) + qC_d)**2 + 2*le*(qA_d*(sin(qE)*cos(qB)*cos(qC) - sin(qC)*cos(qE)*cos(qB)) + qB_d*(sin(qE)*sin(qC) + cos(qE)*cos(qC)))*(x_d*sin(qB) - y_d*sin(qA)*cos(qB) + z_d*cos(qA)*cos(qB)) - 2*le*(qA_d*sin(qB) + qC_d)*(y_d*cos(qA) + z_d*sin(qA))*(sin(qE)*sin(qC) + cos(qE)*cos(qC)) - 2*le*(qA_d*sin(qB) + qC_d)*(sin(qE)*cos(qC) - sin(qC)*cos(qE))*(x_d*cos(qB) + y_d*sin(qA)*sin(qB) - z_d*sin(qB)*cos(qA)) + x_d**2 + x_d*(l*(qA_d*sin(qB) + qC_d)*sin(qC)*cos(qB) + l*(-qA_d*sin(qC)*cos(qB) + qB_d*cos(qC))*sin(qB)) + y_d**2 + z_d**2 + (-y_d*sin(qA) + z_d*cos(qA))*(-l*(qA_d*sin(qB) + qC_d)*sin(qB)*sin(qC) + l*(-qA_d*sin(qC)*cos(qB) + qB_d*cos(qC))*cos(qB)))*sin(qE) + 6.28318530717959*le*r**2*rho*(-l*(qA_d*sin(qB) + qC_d)*cos(qE) - le*(qA_d*sin(qB) + qC_d) + (y_d*cos(qA) + z_d*sin(qA))*(sin(qE)*sin(qC) + cos(qE)*cos(qC)) + (sin(qE)*cos(qC) - sin(qC)*cos(qE))*(x_d*cos(qB) + y_d*sin(qA)*sin(qB) - z_d*sin(qB)*cos(qA)))*sqrt(l**2*(qA_d*sin(qB) + qC_d)**2 + l**2*(-qA_d*sin(qC)*cos(qB) + qB_d*cos(qC))**2 + 2*l*le*(qA_d*(sin(qE)*cos(qB)*cos(qC) - sin(qC)*cos(qE)*cos(qB)) + qB_d*(sin(qE)*sin(qC) + cos(qE)*cos(qC)))*(-qA_d*sin(qC)*cos(qB) + qB_d*cos(qC)) + 2*l*le*(qA_d*sin(qB) + qC_d)**2*cos(qE) - 2*l*(qA_d*sin(qB) + qC_d)*(y_d*cos(qA) + z_d*sin(qA))*cos(qC) + l*(qA_d*sin(qB) + qC_d)*(x_d*cos(qB) + y_d*sin(qA)*sin(qB) - z_d*sin(qB)*cos(qA))*sin(qC) + l*(-qA_d*sin(qC)*cos(qB) + qB_d*cos(qC))*(x_d*sin(qB) - y_d*sin(qA)*cos(qB) + z_d*cos(qA)*cos(qB)) + le**2*(qA_d*(sin(qE)*cos(qB)*cos(qC) - sin(qC)*cos(qE)*cos(qB)) + qB_d*(sin(qE)*sin(qC) + cos(qE)*cos(qC)))**2 + le**2*(qA_d*sin(qB) + qC_d)**2 + 2*le*(qA_d*(sin(qE)*cos(qB)*cos(qC) - sin(qC)*cos(qE)*cos(qB)) + qB_d*(sin(qE)*sin(qC) + cos(qE)*cos(qC)))*(x_d*sin(qB) - y_d*sin(qA)*cos(qB) + z_d*cos(qA)*cos(qB)) - 2*le*(qA_d*sin(qB) + qC_d)*(y_d*cos(qA) + z_d*sin(qA))*(sin(qE)*sin(qC) + cos(qE)*cos(qC)) - 2*le*(qA_d*sin(qB) + qC_d)*(sin(qE)*cos(qC) - sin(qC)*cos(qE))*(x_d*cos(qB) + y_d*sin(qA)*sin(qB) - z_d*sin(qB)*cos(qA)) + x_d**2 + x_d*(l*(qA_d*sin(qB) + qC_d)*sin(qC)*cos(qB) + l*(-qA_d*sin(qC)*cos(qB) + qB_d*cos(qC))*sin(qB)) + y_d**2 + z_d**2 + (-y_d*sin(qA) + z_d*cos(qA))*(-l*(qA_d*sin(qB) + qC_d)*sin(qB)*sin(qC) + l*(-qA_d*sin(qC)*cos(qB) + qB_d*cos(qC))*cos(qB))) + 6.28318530717959*lw*r**2*rho*(-lw*(qA_d*sin(qB) + qC_d) - x_d*sin(qC)*cos(qB) + (-y_d*sin(qA) + z_d*cos(qA))*sin(qB)*sin(qC) + (y_d*cos(qA) + z_d*sin(qA))*cos(qC))*sqrt(lw**2*(qA_d*sin(qB) + qC_d)**2 + lw**2*(-qA_d*sin(qC)*cos(qB) + qB_d*cos(qC))**2 - 2*lw*(qA_d*sin(qB) + qC_d)*(y_d*cos(qA) + z_d*sin(qA))*cos(qC) + lw*(qA_d*sin(qB) + qC_d)*(x_d*cos(qB) + y_d*sin(qA)*sin(qB) - z_d*sin(qB)*cos(qA))*sin(qC) + lw*(-qA_d*sin(qC)*cos(qB) + qB_d*cos(qC))*(x_d*sin(qB) - y_d*sin(qA)*cos(qB) + z_d*cos(qA)*cos(qB)) + x_d**2 + x_d*(lw*(qA_d*sin(qB) + qC_d)*sin(qC)*cos(qB) + lw*(-qA_d*sin(qC)*cos(qB) + qB_d*cos(qC))*sin(qB)) + y_d**2 + z_d**2 + (-y_d*sin(qA) + z_d*cos(qA))*(-lw*(qA_d*sin(qB) + qC_d)*sin(qB)*sin(qC) + lw*(-qA_d*sin(qC)*cos(qB) + qB_d*cos(qC))*cos(qB))) - qA_d*(I_11*(-qA_d*sin(qC)*cos(qB) + qB_d*cos(qC))*cos(qC) + I_11*(qA_d*cos(qB)*cos(qC) + qB_d*sin(qC))*sin(qC))*cos(qB) + qB_d*(-I_11*(-qA_d*sin(qC)*cos(qB) + qB_d*cos(qC))*sin(qC) + I_11*(qA_d*cos(qB)*cos(qC) + qB_d*sin(qC))*cos(qC))]])\n"
     ]
    },
    {
     "name": "stderr",
     "output_type": "stream",
     "text": [
      "2022-04-14 15:01:06,049 - pynamics.system - INFO - integration at time 0000.79\n",
      "2022-04-14 15:01:08,705 - pynamics.integration - INFO - finished integration\n"
     ]
    }
   ],
   "source": [
    "states = run([best])"
   ]
  },
  {
   "cell_type": "code",
   "execution_count": 28,
   "id": "40dbbf5a",
   "metadata": {
    "scrolled": true
   },
   "outputs": [
    {
     "name": "stderr",
     "output_type": "stream",
     "text": [
      "2022-04-14 15:01:08,721 - pynamics.output - INFO - calculating outputs\n",
      "2022-04-14 15:01:08,726 - pynamics.output - INFO - done calculating outputs\n"
     ]
    },
    {
     "data": {
      "text/plain": [
       "<AxesSubplot:>"
      ]
     },
     "execution_count": 28,
     "metadata": {},
     "output_type": "execute_result"
    },
    {
     "data": {
      "image/png": "[encoded data removed]",
      "text/plain": [
       "<Figure size 432x288 with 1 Axes>"
      ]
     },
     "metadata": {
      "needs_background": "light"
     },
     "output_type": "display_data"
    },
    {
     "data": {
      "image/png": "[encoded data removed]",
      "text/plain": [
       "<Figure size 432x288 with 1 Axes>"
      ]
     },
     "metadata": {
      "needs_background": "light"
     },
     "output_type": "display_data"
    }
   ],
   "source": [
    "po = PointsOutput(points,system)\n",
    "po.calc(states,t)\n",
    "po.plot_time()\n",
    "po.animate(fps = 30, movie_name='glider.mp4',lw=2,marker='o')"
   ]
  },
  {
   "cell_type": "code",
   "execution_count": 29,
   "id": "c118f17d",
   "metadata": {
    "scrolled": true
   },
   "outputs": [
    {
     "data": {
      "text/html": [
       "<video width=\"432\" height=\"288\" controls autoplay loop>\n",
       "  <source type=\"video/mp4\" src=\"data:video/mp4;base64,AAAAIGZ0eXBNNFYgAAACAE00ViBpc29taXNvMmF2YzEAAAAIZnJlZQAAIkVtZGF0AAACrgYF//+q\n",
       "3EXpvebZSLeWLNgg2SPu73gyNjQgLSBjb3JlIDE2MCByMzAxMSBjZGU5YTkzIC0gSC4yNjQvTVBF\n",
       "Ry00IEFWQyBjb2RlYyAtIENvcHlsZWZ0IDIwMDMtMjAyMCAtIGh0dHA6Ly93d3cudmlkZW9sYW4u\n",
       "b3JnL3gyNjQuaHRtbCAtIG9wdGlvbnM6IGNhYmFjPTEgcmVmPTMgZGVibG9jaz0xOjA6MCBhbmFs\n",
       "eXNlPTB4MzoweDExMyBtZT1oZXggc3VibWU9NyBwc3k9MSBwc3lfcmQ9MS4wMDowLjAwIG1peGVk\n",
       "X3JlZj0xIG1lX3JhbmdlPTE2IGNocm9tYV9tZT0xIHRyZWxsaXM9MSA4eDhkY3Q9MSBjcW09MCBk\n",
       "ZWFkem9uZT0yMSwxMSBmYXN0X3Bza2lwPTEgY2hyb21hX3FwX29mZnNldD0tMiB0aHJlYWRzPTkg\n",
       "bG9va2FoZWFkX3RocmVhZHM9MSBzbGljZWRfdGhyZWFkcz0wIG5yPTAgZGVjaW1hdGU9MSBpbnRl\n",
       "cmxhY2VkPTAgYmx1cmF5X2NvbXBhdD0wIGNvbnN0cmFpbmVkX2ludHJhPTAgYmZyYW1lcz0zIGJf\n",
       "cHlyYW1pZD0yIGJfYWRhcHQ9MSBiX2JpYXM9MCBkaXJlY3Q9MSB3ZWlnaHRiPTEgb3Blbl9nb3A9\n",
       "MCB3ZWlnaHRwPTIga2V5aW50PTI1MCBrZXlpbnRfbWluPTI1IHNjZW5lY3V0PTQwIGludHJhX3Jl\n",
       "ZnJlc2g9MCByY19sb29rYWhlYWQ9NDAgcmM9Y3JmIG1idHJlZT0xIGNyZj0yMy4wIHFjb21wPTAu\n",
       "NjAgcXBtaW49MCBxcG1heD02OSBxcHN0ZXA9NCBpcF9yYXRpbz0xLjQwIGFxPTE6MS4wMACAAAAE\n",
       "RGWIhAA3//728P4FNjuY0JcRzeidMx+/Fbi6NDe9zgAAAwAAN9zmRP7KkwbmwAAC4AAJ4RFNYg83\n",
       "2mnxFyX0gAmsIwuE8VCaS6MLLlFDL5xdTLte9CrxLE0gcpRg3HTZi8FQOJZYwFa/hvWKaDBTkylX\n",
       "uB8GUbG08KODfj6lb8L3KYx5cm9kjbnnAknlJfZzCAFSkrKIJHDLhtfdChYkf+wgCfHt+yIrW6U1\n",
       "BTmTf9fcReirheLqRxH39rjtGdKNXYqx2FQn9AK1MVysV/4nRN5Q++QObSjQAFZB7xlgEHaALqXa\n",
       "zUZK/hwQjPQ3tKKhP7R7zi3MQMJShEABMv0MyJ0j/raK0uF2cOEjSUpsxOQZ8iQQPYATCDp657HQ\n",
       "fDEd1roHiD0ikOiYFFFG9L1yXEl2KJ3k1COPZIPteBpYT7i9AVPR0yLvCi0x0NURugAN5itCylyd\n",
       "oaouRJCIQ14qvZE8g5HWvqUM4wDjjBC6lUr2RdjTR7wUpPdscy0A62VOu2za9QUpPf/wVcQgwKp1\n",
       "iB4dx82MLqONoaOW6bcKPvoRnN7e0+MbkpG/mqn4bTrZk5l1Qv7d+88B2oNZJMXkQUJ64i+wTFtD\n",
       "cf7hDnj/+pzE5l3JNRxg3dqkWV+3wyB6LwrsJQWntns1XNRkMSncMBRv9IZz9HoH8PiVJJKP9Qt+\n",
       "Av94hXEuveV2qQdrirC8iAzTywE/4Op5a/F/jJS86+5auQP0vY8Q2z3XFAoIn3Vfff3qF8x1XI4m\n",
       "YMfZLd6DSs4WIZX8Y3w5clZ7Qtr3KvAl2i7uZ7qLGG9bZ6hgbwbDlB5V76iZ3eqzPAA6fIV6UeIQ\n",
       "4F/XG84tdv+PTcDn3lstVTdxYfFNLx22pM5GNNGCTT960mnJUYfi2LQPNUXFIGNp4SNTU9QGhMf/\n",
       "QVqMi7Gmj38tHyu5N82xP9CmLGUVyBPmnAZ4hH63i4/wWT0f5tXha82aV7hYjxCwKnhwnnj/S15M\n",
       "M7k0w75tx3XY7EhC2qyAsalqoZb3JW9kKXKLOIaVJKQlfLOtGdzb0/Ov7cvnGf6V7SVrirw/3nVu\n",
       "+yyuz4OLQXFwD8OSp5gSow5gMm5SczRHercrbWC7mXXwtmqQ28APGbU7COtp2WjK0j6RcbWZM+PJ\n",
       "tYyvzWatIkOn/kAJWDK8lZXpaL073RRO0skdX8X4t2wD+FrOCfzOSU87YF3UlzFaGAHmjaKqm+wu\n",
       "z81UgvIR5iytz/sg2oMxETgcDYBfOzzaMaZ3x1X4nfXMFOIKye66Ok1Zw7YnIaHhW/vHw4cjII1z\n",
       "vD18/r7wkor0RjYzxX/eQB9ORHY8VVKQ9ZtuU4R1iZfqNlsbfhhSyVhCYf7FWXLtzUcSpP2Ke3tp\n",
       "YH8ZOSdkZuaK0j8NJErJSrF2Fe9/pY8FaqKFeqaaa9IXPm1aPi1Xw8wYzqyjZVgR0QAAAwAXwAAA\n",
       "AwAAAwAAAwAIaQAAAJVBmiNsQz/+nhAANzbjABt787/1XYF3psxSSP5rFULLLF1jHn4R+yS9KWAw\n",
       "dfxW01kLYfcNoYUcKBJadS/9YK2852lWKZ7/PdIqnX8G4XL/dJAPuoKtMoquhj+6JUGAPuzy//nW\n",
       "wxtJZJBTwOrQ4PQ2IMPy2knXYMRyxh6DL27RaAoOVkfO7HjYzYXmSD3uTMSD8HJeFwAAABlBnkF4\n",
       "hX8AC6M2s+8VP11FyK8h36I1rpLxAAAAEQGeYmpCfwAOeKMhEOvZFs1oAAAAS0GaZUmoQWiZTBTw\n",
       "z/6eEAA2Al1eQAba1yNlcletc9E3b2M5Wk/4ftp8Stoe+AWxYbktFVg3z9skH6Tq2fILtGNkq2Ro\n",
       "0G3SAt6FTQAAABEBnoRqQn8ADn/8cY2XuJEIOQAAADRBmoZJ4QpSZTAhv/6nhAAN0KnRuAC5IyWN\n",
       "AGyDNCWWXeWILI7YMVRi8EFFkoRjg0bIa0StAAAAdUGaqUnhDomUwIZ//p4QADXivmhXw4Aa6WwH\n",
       "6CZQQJvS8+W9xYbWhN7bPSX1mnBeAlyVfDiKxGGTmDRhrbpvTWpXV2N6jchP6iU+8T9MGXhbuydR\n",
       "dMHPNGLPDav0Gx7WHLkQmAjwOe7aegKHr8ecoCwAnQQbMQAAABNBnsdFETwr/wALOCeAwE3PNWNa\n",
       "AAAAGQGe6GpCfwAOUv641Jxl72AAZ9eMBMIAqoAAAAA1QZrqSahBaJlMCG///qeEAA3QqbIdLJ/Q\n",
       "AJXjjS4xw1zZW3CHvlEEG7dbH1ZyA779uniUKmEAAAB/QZsNSeEKUmUwIb/+p4QADcm/x7taaiAM\n",
       "ZcXOXroP+7Pr26nX8/4ENKU9pQ2B/uTGDOLb5Wndm5gT1oQ8gflEK524wLN9Ic5/sfVdJrmAA/vO\n",
       "+1JCg9ISD0RIedb+mSzWZ1drOKns2Vwuusga9C2HzGjCnR76K/jWyd/KuLjZgAAAADdBnytFNEwr\n",
       "/wALVlxmIQAmVvKzHqZaSONzOD+CRgfW/o5o0EdMkmY8No/d4FdkLWeK5KtVVgIOAAAAEgGfTGpC\n",
       "fwAOUv7nD0imORjypwAAAF1Bm1FJqEFomUwIZ//+nhAANL/XSrOoYALjBPMQBIFo/Kz5nSggC9Ce\n",
       "njpV0FZZ9+UFKUPuj/72u7SRLESsiyt/KmK5q06QpAUbCXlZ396obeGIZ8DUPJW/uG1jDekAAAAj\n",
       "QZ9vRREsK/8ACwfetnmC/gALxjH+livtb6x5p4fdpTZflTEAAAASAZ+OdEJ/AA4sGCw01qQcbHlT\n",
       "AAAAGQGfkGpCfwAOIgspC14AQoh84H0eyKP+Q5oAAABcQZuTSahBbJlMFEwz//6eEAA0osSMOKsr\n",
       "1gBI9bRF7Kn5MejQo6lrHqh8G5U0EeuwahwCJDHb/WpuElvXO/AexME1w+E2k0cwgDCMZSjBtyyE\n",
       "p5h0v4tk4vy2RMEAAAAYAZ+yakJ/AA4nOCPACFEOBhabhzbQCOaAAAAAV0GbtEnhClJlMCG//qeE\n",
       "AA15rqdfFuAEuQ+f1Hq4lHNcE2Y3HkzOSN3K7B9WwVBf892+tudh8KMZ8bE1JEGf1mOYnE6LJZOh\n",
       "GQH8rDr40K+a72dOxvuhYAAAAExBm9ZJ4Q6JlMFNEw3//qeEAA17mS9kAHLghNCmS0+aK7P9MMdO\n",
       "02dD7OsRJDL9y9PbNj/sKObPJBi9bi27D5LZ61P9H7as3k2ZndCxAAAAIQGf9WpCfwAN+v7Ijp7g\n",
       "sAA/mKMSErrEJpN0WiZG8zCOaAAAADhBm/lJ4Q8mUwIb//6nhAANjy6oCWoZCL3CwWBJ6chxoU4n\n",
       "hUgg7gnLFj5UissVmw8EP4VpJFYi2wAAAC9BnhdFETwr/wAK8AiSq+0/vAA/j6bPGdJGVqBi5ADG\n",
       "VUEGl+3e5y3uZHP8YbbjrwAAACUBnjhqQn8ADigYBqIIzrwATm/k4uidgrL3X1M0/O+YqQMfzWVs\n",
       "AAAAJ0GaPEmoQWiZTAhn//6eEAAzc+0cJwc3QmeIAQuz8iPaBN1mDXjDjwAAAB9BnlpFESwr/wAK\n",
       "zS177lQiXSgAlCqAtnBRpe/lZsakAAAAHQGee2pCfwANxBi6D9eAEzskgHKDDovSrPkAdXMDAAAA\n",
       "KUGafkmoQWyZTBRMM//+nhAAGbXfRgsaY0YsABdJN9AYH2WB+shO4rJxAAAAEwGenWpCfwAG6afb\n",
       "oxFxdTBNcQIAAAAaQZqfSeEKUmUwIb/+p4QABpbA26RKfxz4ccAAAAAkQZqiSeEOiZTAhn/+nhAA\n",
       "Gd4TnfN6U5DQAeTwY4nhPrKIn5H/AAAAFUGewEURPCv/AAWLNXGc9RbVGqZjugAAACIBnuFqQn8A\n",
       "BxXnDzo+uZ9jyK9/4AA/gIDSFuwwpZnXIkntAAAAHEGa5EmoQWiZTBTw3/6nhAAGbvsrA6oK5jnw\n",
       "6YAAAAARAZ8DakJ/AAa/wHTfpdaoBcUAAAAwQZsGSeEKUmUwUsN//qeEAAZ3hPKteNHVJv/CwACE\n",
       "iTpRtnPfG8i2ojBc/3n/nHTBAAAAEgGfJWpCfwAGwafXpxmBucM5oQAAAC9BmylJ4Q6JlMCG//6n\n",
       "hAAGSM0cB/epdKhVIAbncPLnYBIYmheYZtMX0fJnKOqVfQAAABZBn0dFFTwr/wAFHygZqO/zZCeA\n",
       "PAm4AAAAIQGfaGpCfwAGmt53MuvACaspyrAz1hJzL5jLTUPXssT2gAAAADVBm2tJqEFomUwU8N/+\n",
       "p4QABkXRWZKOT2eDwAHdarB2HOAZORmv4dKlk4KZq5HGnYGPFcW0rQAAABsBn4pqQn8ABpe/kuvm\n",
       "xtYAWy3vwG0zFo3gm4AAAAAzQZuPSeEKUmUwIZ/+nhAAGHn3CE27zqfmIOMfQgDi71NUKTojlC8t\n",
       "1LvfHJHSsGPnNDQcAAAAGkGfrUU0TCv/AAUdofr1eBXMYRQJL2l3KNdxAAAAFwGfzHRCfwAGl8mz\n",
       "Rj6X7aWmeeRULuflAAAAGAGfzmpCfwAGb7+UlPYaKR36dEAJYQT9dwAAACpBm9FJqEFomUwU8M/+\n",
       "nhAAF/4TniyhS+kgWM6HoAJPew3lt3hqK2HnHpAAAAAVAZ/wakJ/AAZvwHTnKZ5WSpQW++u4AAAA\n",
       "IEGb80nhClJlMFLDP/6eEAALnXILBY5jPdTwpL5LjPmBAAAAHwGeEmpCfwADGoyk+mIABMpHaclv\n",
       "RTCrvKukVw0MBjQAAAA9QZoVSeEOiZTBRMM//p4QAAudcgkIfeaLUyHjD/tMABM4w4ZLvOlq+MzI\n",
       "6yIOFCEIEX+j8vBkmUzgicqAeAAAABkBnjRqQn8AAyTM4onFAqR4AD9Asox2cDphAAAAIkGaNknh\n",
       "DyZTAhn//p4QAAupUaWXE6Zn9vjlKCXWBiefHzAAAAAfQZpYSeEPJlMFETwz//6eEAALrzLnidS5\n",
       "zDvvicFHwQAAABIBnndqQn8AAyQnyTdueRrehYEAAAAnQZp6SeEPJlMFPDP//p4QAAtVcgkJHntr\n",
       "NJ9QAfwWKVOH4RuXJkvAAAAAHQGemWpCfwADEW/o/g9wC2rQAH7SbyNfPo1UTSLPAAAALkGam0nh\n",
       "DyZTAhv//qeEAAWsFC+lRo5y/3LwAfV8N1ol4BXSQLqgcUPKRZ0jCvgAAAAwQZq9SeEPJlMFETw3\n",
       "//6nhAAC68y7AvgkzY8ACbOponXwN9j7xTkSDfm6nIjATda3AAAAFgGe3GpCfwADECfJN3FugA/L\n",
       "mpvhmVsAAAAuQZrfSeEPJlMFPDf//qeEAALWHaVUK10a82pJUABOkyp+6tomgSRAw75LK01q4gAA\n",
       "ABgBnv5qQn8AAvvfyjyPFab4AJVquCNIuIAAAABGQZrjSeEPJlMCG//+p4QAAtYA3vSa2zmCIAOJ\n",
       "GSuvlLhfmBDu+Qg3pBT1WquEWo95MopF63QGcBdbGNsl2+25FVVhX0XFtQAAACVBnwFFETwr/wAC\n",
       "Sx/7/Mxn5vQAej1c5pGTWNf7tH62W3HafjKwAAAAEwGfIHRCfwAC++N6fU5zC97MsoEAAAARAZ8i\n",
       "akJ/AALohMgpvx/vcLAAAABFQZslSahBaJlMFPDf/qeEAALDiKzJkQyAMCj4AWjAxBb+c+NKeIuw\n",
       "bSuJgEpfK/6j4CCazFfi+sVppSF9fnBvOCJ4/nQ9AAAAGwGfRGpCfwAC6ITIKb3U1ugAANQwwfF4\n",
       "GveCywAAAGZBm0lJ4QpSZTAhn/6eEAAK1zLJAk6k+cAQVbtop8zdPlvYa/P2WlvKJlz7bNZAoziA\n",
       "yU7p2IcM6rR9hFqMuAIXj4+psKmXAVQsXAUxkEBV3mwh1XoQ8Pf6ArsepZ4Y5S5r47WsVb0AAAAo\n",
       "QZ9nRTRMK/8AAjsiMmziODSaYxrJ8z1rHQAfBeH3G0qEfYd6D4o+BQAAACcBn4Z0Qn8AAuiK0/V1\n",
       "YXgBM77q/kL9gcZabjibteI9coWdQDs4BPMAAAAfAZ+IakJ/AALWhMl1nmhyEgARAu71oKbcLgHA\n",
       "L5jIwAAAAEVBm4pJqEFomUwIb//+p4QAArGFW6nNPRABxkefEPEj7qlLMjP0xDHGqDgXqx4iwBp4\n",
       "y5xJcAR65H02r+A4lGI8XE64aGEAAAA0QZutSeEKUmUwIZ/+nhAACo8y6Bk0RP8lJgA42yXm2lVe\n",
       "P5MZ/FmG9pYDu1y/ppSFlBYuOAAAABhBn8tFNEwr/wACKyG7a9uc66kMgybXlYAAAAASAZ/sakJ/\n",
       "AALEhMamqyKdO/ZhAAAAJEGb70moQWiZTBTwz/6eEAAKNXHH7QKFKAHG49kMrB9rtUOi4QAAABIB\n",
       "ng5qQn8AAsSEyCm9Ah7XKVkAAABDQZoQSeEKUmUwIZ/+nhAACkcy6Bkyf1SAmXAC2NSiUE2PD0z1\n",
       "TpHBqYfzabbobTwPhGq/0/evxTt/HX67fQ9nBn0D4AAAACxBmjJJ4Q6JlMFNEw3//qeEAAKNiBKo\n",
       "ACp34nRvbdUiIhpPPQ4JtLBt8/Zg4AAAAB8BnlFqQn8AArDd3YMSkAJXDkT4Mmy+wHRKOHtjKGBB\n",
       "AAAAHUGaVEnhDyZTBTw3//6nhAACjh2db0gWf2FswEltAAAAEgGec2pCfwACsoTIKb3ZAg370AAA\n",
       "ADZBmnZJ4Q8mUwU8N//+p4QAApHMs6WBWygBIG+Q8VB+hWQ76DmHHsCJTuXwo2WTYRGaI5Dv6mEA\n",
       "AAAbAZ6VakJ/AAKzVun3/Qw0AHiqx2GkvTlcg8fHAAAARUGamUnhDyZTAhv//qeEAAJ7icK3TIAi\n",
       "YtIYLlm3kA7epvAyUFddUC5vXDTcd+ypy7lyY0or20/G3Z3zB7XRY6mt6s6XgQAAAB9BnrdFETwr\n",
       "/wAB/FRlKH3EEo3dhgAhEt0cjns/1f45AAAAHwGe2GpCfwACoVbtEkw8c0lgyABAmxPv8qqOv3js\n",
       "M7AAAABSQZrdSahBaJlMCG///qeEAAJ/zLO+qY/3EMIASxhHt7wub/VQKfSF9pea5s+/+0+aKNFy\n",
       "24Tu+CgtScO2PKN4SxIhw5vTJi6BqAe6Duu3WfDWfQAAACdBnvtFESwr/wAB++OPlyLS6Bz92+MN\n",
       "uNEAIBCgSt9yLrWsgJhYbKgAAAAfAZ8adEJ/AAKgZ2TZpX4U6nJkACFGAZf5bn7+pHwzsQAAACIB\n",
       "nxxqQn8AAqDBC30Uo/39lafUfkAIFHx6r/mGKxvI54+nAAAAWkGbAUmoQWyZTAhv//6nhAACaj2p\n",
       "8nI9uYcdjBoAWlYb14+DCKE3ZuZhBq61ry1tQ/R7HGHi7M1A4d0gFeS7qw77lMQOFKGfEnKiiQV8\n",
       "FFYGyoo/t65SL7503AAAABlBnz9FFSwr/wAB8KL0DV8fBk4OX9+3p2zAAAAAHQGfXnRCfwACjm5r\n",
       "0dJzaEVJgANVBIBtN+CwtcqLAAAAGwGfQGpCfwACj1br5M58AE6vB4nCrpjHTL/pgAAAADNBm0NJ\n",
       "qEFsmUwUTDf//qeEAAJt03r9NEUAA2aFQHH8k+wemnXB8jOUN4jHKQpZalsIMfEAAAAQAZ9iakJ/\n",
       "AAKOktgglTDUMwAAAClBm2ZJ4QpSZTAhn/6eEAAJKH9ESoAcU/txUEip6O6afF3M0mA2Aqoy8wAA\n",
       "ABZBn4RFNEwr/wAB5eOPMc0WHv3swkKxAAAAEQGfpWpCfwACfJLVPVhLBX91AAAAIUGbqEmoQWiZ\n",
       "TBTw3/6nhAACWjs/h5GtjtOSOHa3lC5v7wAAABQBn8dqQn8AAn1W6+RVG5dDzmCZ/gAAADVBm8pJ\n",
       "4QpSZTBSw3/+p4QAAlo7P4gp6ACMePe/TSm5pxW/4kkdSmX6q5EZlMiLkK9LZQOCPAAAABIBn+lq\n",
       "Qn8AAnyS2CCG5WnHo00AAAAuQZvsSeEOiZTBRMN//qeEAAJd+hhBB8tthh13nfFDgRFzsfPbBdCd\n",
       "g4YAuPR+qAAAABMBngtqQn8AAnzJLOuzYdVIjH6QAAAAH0GaEEnhDyZTAhv//qeEAAJKPOIStHOD\n",
       "xm1NR5Oap6sAAAAiQZ4uRRE8K/8AAdo8dKJ0mACWJI/vto9ngv5wcCZoFu1KrwAAABEBnk10Qn8A\n",
       "AmvDPmNZnXr7gQAAABUBnk9qQn8AAmra2hwE8h66Xc5D/SAAAABLQZpUSahBaJlMCGf//p4QAAj3\n",
       "TegUM+s2UYwAtiEpyi6yjEmX1frV/nDElX2VsmntpIdguOythYgqfomEuyZnwy3jA1QTvHLIaAwG\n",
       "AAAAIUGeckURLCv/AAHa44/leeE4cJ/RR+ABCM8PuNjr3/V/0wAAABMBnpF0Qn8AAmq8U7Bx8TGv\n",
       "0Cq4AAAAIQGek2pCfwACatrMXcAeMJz80v4AAOq3QBJjO9tyESDUgAAAAClBmpVJqEFsmUwIZ//+\n",
       "nhAACKiNREus8/aSAC5ef5UEpF/Z47Ve26HUkQAAAD9BmrdJ4QpSZTBRUsM//p4QAAiocwbwAOMi\n",
       "daxIUN25W8KXPF9K/zLHSqPQDnKeddsfBlllgtD44SDe4fc1T4QAAAAmAZ7WakJ/AAJa2wR8AJkh\n",
       "deZBmMVvO8VqhHrdmoUKo/UwgFhaGzEAAABFQZrZSeEOiZTBRMM//p4QAAiqHXT0ABGIS858GbXK\n",
       "JpcWzTBNf8VndgsmDBpbNL34OO8qv1firVjglk54dLvNDWPv1PhBAAAAIQGe+GpCfwACWtsEfACa\n",
       "vDeuw/YTTUq+G6cdfHbroo2hswAAACxBmvpJ4Q8mUwIZ//6eEAAIqI0+ysXqAHBFWBSeN6l18Us2\n",
       "O3BEqZcnf2qi4QAAAGlBmxxJ4Q8mUwURPDP//p4QAAioc7Y5uu8e7QAcbsHvQuwS6j8crGtAHxel\n",
       "JUhky0ABf0ZdmYU/6Le9M1BFaXVrmvH/WYPkAUG+5Jjk9yXWopy4/ayA8m9iANd1NwsPsDACxRnO\n",
       "opTY44AAAAAjAZ87akJ/AAJbpGEJs+H0QAlDauYoypEA/bVXC+3I2y9tAzEAAAArQZs9SeEPJlMC\n",
       "Gf/+nhAACKiNPslS3aiejAAc3n+VDSqrqB57ULm3P1wNmQAAADZBm19J4Q8mUwURPC///oywAAjP\n",
       "Tef7mx3nCEHPdABO6UTVjVTUVvxEh2oszdZC10TXjQvfu5cAAAAWAZ9+akJ/AAJbC8KsxZkfgh6V\n",
       "RvBt6AAAAD5Bm2BJ4Q8mUwIX//6MsAAIhLugCiXADc0F/PYnwOkLQT9wM5ka9xNsHKAMXj3l2rCX\n",
       "Xl2+FBUr5wgwH+MkJwAAADZBm4FJ4Q8mUwIZ//6eEAAIaI2FyAFvHej8RDY8wQIN525kpa2GyFQ1\n",
       "Ws82SAyhePvAQnj6AygAAABBQZuiSeEPJlMCGf/+nhAACGqTb7PeQBExueKbH2ZFOvdEtRnkXoTF\n",
       "23ZcgWmioLhn1RmbvFTaPkZKbMTRtl3gGekAAAAwQZvDSeEPJlMCGf/+nhAACGikroAJgBmTDqKY\n",
       "m6oczQrkE15la1gFE8/m57T+QgxWAAAAREGb5EnhDyZTAhn//p4QAAhqk2+xvfT2ACL7PxMIqLoV\n",
       "RtXG1qEpS2jGy1Sz4ZYOp+3ykNI74VEj7TUnzzcdoarCLerBAAAAMUGaBUnhDyZTAhv//qeEAAIq\n",
       "P/nX2t1ACVsSoMj14UKxLpGotE5tsUnjqwR/ZWQdjVsAAAB2QZopSeEPJlMCG//+p4QAAi3Tev1G\n",
       "/rjoAP6QP84mplCutNeaLJ0ofUv5PXLSVqya1VzG97kqruXjgeyA85PvAUlAjsWKmQ6ExZeGuzzK\n",
       "XZsekHw3ccHjTR9MWeJoVZzOimvl1PuUD2OgoL1yBAyW7IsCG9yPwQAAACJBnkdFETwr/wABxOGF\n",
       "polrcixs2Pczi8AHG1Vrb3NmGKyxAAAAIQGeZnRCfwACS8z46ofHcPGsLe5kACBSiiZb8Tcw47sT\n",
       "gAAAACEBnmhqQn8AAksJC9U9N8M0Bi5R1IANqRggw4+n5TaCssAAAABOQZpsSahBaJlMCG///qeE\n",
       "AAIaszu8Kah1ZciBb4stABzV0P/+/6l2/bU1ZeyESWP1epUTBFqRMY/WgZKgja/ZShWVad7TULUW\n",
       "0i8xHTmZAAAAI0GeikURLCv/AAG6AkV4uF6K9EZAJQAb3VcSGGAri8P8BNT4AAAAFgGeq2pCfwAC\n",
       "OtrZAiBxPtq6h2jh3fAAAABeQZqwSahBbJlMCGf//p4QAAg3xYuecxx4AEN8wcMej5SJIQVy2juO\n",
       "LpUlax9s6+x3IUi2Q+re3g0Bop+8Q5MQpYMzcDGKPaopkV/nVcLWktmidSiiXUm808kqaID48wAA\n",
       "ADRBns5FFSwr/wABuiFQZPTsjZv9tegA/QzWmdomal1mQZdsczJHEM9l10EzWsGP1X71l75ZAAAA\n",
       "JAGe7XRCfwACO8z8cEII8eAGgAg3CfOMfTA/KkNcIOGpliNOYQAAACABnu9qQn8AAR1tZskmrmPD\n",
       "YAQpuwopGtW597lfePvlgAAAAFtBmvRJqEFsmUwIV//+OEAAD++4z1pgrHfeAAbO70/+/6ftENbh\n",
       "/osDX8eoaEr2dQqdVqFmWAyrHSFxllQhhgYhs9vm1+O/NapC3j/VNUDiehYkapKbcg4pSymAAAAA\n",
       "REGfEkUVLCv/AAGwkxMUCjyikB6h+ADW0tDv9GttJy5kXcyXfA/q4iYDx2RCySJNQ7Ai2aRVksFo\n",
       "IArnCYgnoVx7zKIXAAAAKQGfMXRCfwABHa7BmVJcAEBoxNZR4ujhoBn0BzRvRvaTHoajYv713jzA\n",
       "AAAAKAGfM2pCfwABEXvx1dsJ8AEH4rzWyQlNFOFDbEZBQjO3B3H2GGMiN0AAAAAsQZs1SahBbJlM\n",
       "CE///fEAACbI/dJ8AEQeV+g2w4LFyDL+9hARXhBpo8Lc4eEAAAm6bW9vdgAAAGxtdmhkAAAAAAAA\n",
       "AAAAAAAAAAAD6AAAE4gAAQAAAQAAAAAAAAAAAAAAAAEAAAAAAAAAAAAAAAAAAAABAAAAAAAAAAAA\n",
       "AAAAAABAAAAAAAAAAAAAAAAAAAAAAAAAAAAAAAAAAAAAAAAAAgAACOR0cmFrAAAAXHRraGQAAAAD\n",
       "AAAAAAAAAAAAAAABAAAAAAAAE4gAAAAAAAAAAAAAAAAAAAAAAAEAAAAAAAAAAAAAAAAAAAABAAAA\n",
       "AAAAAAAAAAAAAABAAAAAAbAAAAEgAAAAAAAkZWR0cwAAABxlbHN0AAAAAAAAAAEAABOIAAAEAAAB\n",
       "AAAAAAhcbWRpYQAAACBtZGhkAAAAAAAAAAAAAAAAAAA8AAABLABVxAAAAAAALWhkbHIAAAAAAAAA\n",
       "AHZpZGUAAAAAAAAAAAAAAABWaWRlb0hhbmRsZXIAAAAIB21pbmYAAAAUdm1oZAAAAAEAAAAAAAAA\n",
       "AAAAACRkaW5mAAAAHGRyZWYAAAAAAAAAAQAAAAx1cmwgAAAAAQAAB8dzdGJsAAAAt3N0c2QAAAAA\n",
       "AAAAAQAAAKdhdmMxAAAAAAAAAAEAAAAAAAAAAAAAAAAAAAAAAbABIABIAAAASAAAAAAAAAABAAAA\n",
       "AAAAAAAAAAAAAAAAAAAAAAAAAAAAAAAAAAAAAAAAGP//AAAANWF2Y0MBZAAV/+EAGGdkABWs2UGw\n",
       "loQAAAMABAAAAwDwPFi2WAEABmjr48siwP34+AAAAAAcdXVpZGtoQPJfJE/FujmlG88DI/MAAAAA\n",
       "AAAAGHN0dHMAAAAAAAAAAQAAAJYAAAIAAAAAFHN0c3MAAAAAAAAAAQAAAAEAAARAY3R0cwAAAAAA\n",
       "AACGAAAAAQAABAAAAAABAAAIAAAAAAIAAAIAAAAAAQAABgAAAAABAAACAAAAAAEAAAQAAAAAAQAA\n",
       "CAAAAAACAAACAAAAAAEAAAQAAAAAAQAACAAAAAACAAACAAAAAAEAAAoAAAAAAQAABAAAAAABAAAA\n",
       "AAAAAAEAAAIAAAAAAQAABgAAAAABAAACAAAAAAEAAAQAAAAAAQAABgAAAAABAAACAAAAAAEAAAgA\n",
       "AAAAAgAAAgAAAAABAAAIAAAAAAIAAAIAAAAAAQAABgAAAAABAAACAAAAAAEAAAQAAAAAAQAACAAA\n",
       "AAACAAACAAAAAAEAAAYAAAAAAQAAAgAAAAABAAAGAAAAAAEAAAIAAAAAAQAACAAAAAACAAACAAAA\n",
       "AAEAAAYAAAAAAQAAAgAAAAABAAAKAAAAAAEAAAQAAAAAAQAAAAAAAAABAAACAAAAAAEAAAYAAAAA\n",
       "AQAAAgAAAAABAAAGAAAAAAEAAAIAAAAAAQAABgAAAAABAAACAAAAAAEAAAQAAAAAAQAABgAAAAAB\n",
       "AAACAAAAAAEAAAYAAAAAAQAAAgAAAAABAAAEAAAAAAEAAAYAAAAAAQAAAgAAAAABAAAGAAAAAAEA\n",
       "AAIAAAAAAQAACgAAAAABAAAEAAAAAAEAAAAAAAAAAQAAAgAAAAABAAAGAAAAAAEAAAIAAAAAAQAA\n",
       "CgAAAAABAAAEAAAAAAEAAAAAAAAAAQAAAgAAAAABAAAEAAAAAAEAAAgAAAAAAgAAAgAAAAABAAAG\n",
       "AAAAAAEAAAIAAAAAAQAABAAAAAABAAAGAAAAAAEAAAIAAAAAAQAABgAAAAABAAACAAAAAAEAAAYA\n",
       "AAAAAQAAAgAAAAABAAAIAAAAAAIAAAIAAAAAAQAACgAAAAABAAAEAAAAAAEAAAAAAAAAAQAAAgAA\n",
       "AAABAAAKAAAAAAEAAAQAAAAAAQAAAAAAAAABAAACAAAAAAEAAAYAAAAAAQAAAgAAAAABAAAIAAAA\n",
       "AAIAAAIAAAAAAQAABgAAAAABAAACAAAAAAEAAAYAAAAAAQAAAgAAAAABAAAGAAAAAAEAAAIAAAAA\n",
       "AQAACgAAAAABAAAEAAAAAAEAAAAAAAAAAQAAAgAAAAABAAAKAAAAAAEAAAQAAAAAAQAAAAAAAAAB\n",
       "AAACAAAAAAEAAAQAAAAAAQAABgAAAAABAAACAAAAAAEAAAYAAAAAAQAAAgAAAAABAAAEAAAAAAEA\n",
       "AAYAAAAAAQAAAgAAAAABAAAEAAAAAAEAAAYAAAAAAQAAAgAAAAAGAAAEAAAAAAEAAAoAAAAAAQAA\n",
       "BAAAAAABAAAAAAAAAAEAAAIAAAAAAQAACAAAAAACAAACAAAAAAEAAAoAAAAAAQAABAAAAAABAAAA\n",
       "AAAAAAEAAAIAAAAAAQAACgAAAAABAAAEAAAAAAEAAAAAAAAAAQAAAgAAAAABAAAEAAAAABxzdHNj\n",
       "AAAAAAAAAAEAAAABAAAAlgAAAAEAAAJsc3RzegAAAAAAAAAAAAAAlgAABvoAAACZAAAAHQAAABUA\n",
       "AABPAAAAFQAAADgAAAB5AAAAFwAAAB0AAAA5AAAAgwAAADsAAAAWAAAAYQAAACcAAAAWAAAAHQAA\n",
       "AGAAAAAcAAAAWwAAAFAAAAAlAAAAPAAAADMAAAApAAAAKwAAACMAAAAhAAAALQAAABcAAAAeAAAA\n",
       "KAAAABkAAAAmAAAAIAAAABUAAAA0AAAAFgAAADMAAAAaAAAAJQAAADkAAAAfAAAANwAAAB4AAAAb\n",
       "AAAAHAAAAC4AAAAZAAAAJAAAACMAAABBAAAAHQAAACYAAAAjAAAAFgAAACsAAAAhAAAAMgAAADQA\n",
       "AAAaAAAAMgAAABwAAABKAAAAKQAAABcAAAAVAAAASQAAAB8AAABqAAAALAAAACsAAAAjAAAASQAA\n",
       "ADgAAAAcAAAAFgAAACgAAAAWAAAARwAAADAAAAAjAAAAIQAAABYAAAA6AAAAHwAAAEkAAAAjAAAA\n",
       "IwAAAFYAAAArAAAAIwAAACYAAABeAAAAHQAAACEAAAAfAAAANwAAABQAAAAtAAAAGgAAABUAAAAl\n",
       "AAAAGAAAADkAAAAWAAAAMgAAABcAAAAjAAAAJgAAABUAAAAZAAAATwAAACUAAAAXAAAAJQAAAC0A\n",
       "AABDAAAAKgAAAEkAAAAlAAAAMAAAAG0AAAAnAAAALwAAADoAAAAaAAAAQgAAADoAAABFAAAANAAA\n",
       "AEgAAAA1AAAAegAAACYAAAAlAAAAJQAAAFIAAAAnAAAAGgAAAGIAAAA4AAAAKAAAACQAAABfAAAA\n",
       "SAAAAC0AAAAsAAAAMAAAABRzdGNvAAAAAAAAAAEAAAAwAAAAYnVkdGEAAABabWV0YQAAAAAAAAAh\n",
       "aGRscgAAAAAAAAAAbWRpcmFwcGwAAAAAAAAAAAAAAAAtaWxzdAAAACWpdG9vAAAAHWRhdGEAAAAB\n",
       "AAAAAExhdmY1OC43Ni4xMDA=\n",
       "\">\n",
       "  Your browser does not support the video tag.\n",
       "</video>"
      ],
      "text/plain": [
       "<IPython.core.display.HTML object>"
      ]
     },
     "execution_count": 29,
     "metadata": {},
     "output_type": "execute_result"
    }
   ],
   "source": [
    "from matplotlib import animation, rc\n",
    "from IPython.display import HTML\n",
    "HTML(po.anim.to_html5_video())"
   ]
  },
  {
   "cell_type": "code",
   "execution_count": null,
   "id": "73306b48",
   "metadata": {},
   "outputs": [],
   "source": []
  }
 ],
 "metadata": {
  "kernelspec": {
   "display_name": "Python 3 (ipykernel)",
   "language": "python",
   "name": "python3"
  },
  "language_info": {
   "codemirror_mode": {
    "name": "ipython",
    "version": 3
   },
   "file_extension": ".py",
   "mimetype": "text/x-python",
   "name": "python",
   "nbconvert_exporter": "python",
   "pygments_lexer": "ipython3",
   "version": "3.9.7"
  }
 },
 "nbformat": 4,
 "nbformat_minor": 5
}
