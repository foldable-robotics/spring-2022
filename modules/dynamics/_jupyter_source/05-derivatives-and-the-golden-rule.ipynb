{
 "cells": [
  {
   "cell_type": "markdown",
   "metadata": {},
   "source": [
    "---\n",
    "title: Derivatives and the Golden Rule\n",
    "---\n",
    "\n",
    "$$\n",
    "\\frac{ {}^N{d\\vec{v}}}{dt} = \\frac{ {}^A{d\\vec{v}}}{dt} + {}^N{\\vec{w}}^{A} \\times \\vec{v}\n",
    "$$\n",
    "\n",
    "![double pendulum](/figures/dynamics/double_pendulum.png)\n",
    "\n",
    "![body moving through space](/figures/dynamics/body_in_space.png)\n",
    "\n",
    "\n",
    "<!--\n",
    "find the cartesian velocity of point q\n",
    "\n",
    "$$\\begin{aligned}\n",
    "\\vec{r}_1 &= x_1 \\hat{n}_x + y_1 \\hat{n}_y + z_1 \\hat{n}_z \\\\\n",
    "\\vec{r}_2 &= x_2 \\hat{n}_x + y_2 \\hat{n}_y + z_2 \\hat{n}_z \\\\\n",
    "{}^N{\\vec{\\omega}}^{A} &= \\omega_x \\hat{n}_x + \\omega_y \\hat{n}_y + \\omega_z \\hat{n}_z\n",
    "\\end{aligned}$$\n",
    "\n",
    "\n",
    "\n",
    "$$\n",
    "\\begin{array}{c|c c c}\n",
    "  {}^N{R}^{A} & \\hat{a}_x & \\hat{a}_y & \\hat{a}_z \\\\\n",
    "  \\hline\n",
    "  \\hat{n}_x &r_{11}&  r_{12}&r_{13} \\\\\n",
    "  \\hat{n}_y &r_{21}& r_{22} &r_{23} \\\\\n",
    "  \\hat{n}_z &r_{31}&r_{32}&r_{33}\n",
    " \\end{array}\n",
    "$$\n",
    "-->"
   ]
  },
  {
   "cell_type": "markdown",
   "metadata": {},
   "source": [
    "## Example\n",
    "\n",
    "\n",
    "![pendulum](/figures/dynamics/pendulum.png)\n",
    "\n",
    "\n",
    "$$\n",
    "\\vec{r} = -l\\hat{a}_y\n",
    "$$\n",
    "$$\n",
    "\\vec{v} =  \\frac{ {}^N{d\\vec{r}}}{dt} =\\frac{ {}^{A} { d\\vec{r}}}{dt} +  {}^{N}{\\vec{\\omega}}^{A} \\times \\vec{r}\n",
    "$$\n",
    "$$\n",
    "\\vec{v} = \\frac{ {}^{N}{d\\vec{r}}}{dt} = \\dot{\\theta}\\hat{a}_z \\times -l\\hat{a}_y\n",
    "$$\n",
    "$$\n",
    "\\vec{v} = \\frac{ {}^{N}{}{ d\\vec{r}}{}{}}{dt}= l\\dot{\\theta}\\hat{a}_x\n",
    "$$\n",
    "$$\n",
    "\\vec{a} = \\frac{ {}^{N}{}{ d\\vec{v}}{}{}}{dt} = \\frac{ {}^{N}{}{d^2\\vec{r}}{}{}}{dt^2}\n",
    "$$\n",
    "$$\n",
    "\\vec{a} =  \\frac{ {}^{A}{}{d\\vec{v}}{}{}}{dt} +  {}^{N}{}{\\vec{\\omega}}^{A}{} \\times \\vec{v}\n",
    "$$\n",
    "$$\n",
    "\\vec{a} = l\\ddot{\\theta}\\hat{a}_x  + \\dot{\\theta}\\hat{a}_z \\times l\\dot{\\theta}\\hat{a}_x\n",
    "$$\n",
    "$$\n",
    "\\vec{a} = l\\ddot{\\theta}\\hat{a}_x  + l\\dot{\\theta}^2\\hat{a}_y\n",
    "$$\n",
    "\n",
    "Frame A\n",
    "\n",
    "* $ {}^{N}{}{\\vec{\\omega}}^{A}{} = \\dot{\\theta} \\hat{n}_z= \\dot{\\theta} \\hat{a}_z$"
   ]
  }
 ],
 "metadata": {
  "kernelspec": {
   "display_name": "Python 3 (ipykernel)",
   "language": "python",
   "name": "python3"
  },
  "language_info": {
   "codemirror_mode": {
    "name": "ipython",
    "version": 3
   },
   "file_extension": ".py",
   "mimetype": "text/x-python",
   "name": "python",
   "nbconvert_exporter": "python",
   "pygments_lexer": "ipython3",
   "version": "3.9.7"
  }
 },
 "nbformat": 4,
 "nbformat_minor": 4
}
