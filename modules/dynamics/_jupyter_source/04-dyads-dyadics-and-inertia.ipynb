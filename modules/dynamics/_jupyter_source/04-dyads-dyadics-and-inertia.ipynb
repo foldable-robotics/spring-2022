{
 "cells": [
  {
   "cell_type": "markdown",
   "metadata": {},
   "source": [
    "---\n",
    "title: Dyads, Dyadics, and Inertia\n",
    "---\n",
    "## Dyads\n",
    "\n",
    "Dyads and dyadics are a difficult concept to understand, initially.  Dyads may be defined in a number of ways, but the way which makes most sense to me is that dyads are the vector-based mathematical representation for physical phenomena that contain coupled, multi-dimensional information.  An example of a physical system that contains multi-dimensional information is inertia.  Inertia describes the spatial distribution of mass throughout a rigid body, and this spatial distribution comes encoded in a structure in which mass is represented in two-vector pairs.  \n",
    "\n",
    "Mathematically, operating on a dyad from the left or the right produces a different answer.  if ${d}=(\\vec{v}_1,\\vec{v}_2)$, then $\\vec{v}_3\\cdot d=(\\vec{v}_3\\cdot \\vec{v}_1)\\vec{v}_2$.  The ordering of vectors in a dyad is fixed, meaning that $\\vec{v} \\cdot d \\neq d \\cdot \\vec{v}$.  Dyads may be multiplied by scalars, which are commutative.  Thus $3*(v1,v2) = (3v1,v2) = (v1,3v2)$ are all equivalent statements.  Thus, most often, scalar values are brought out of dyads so that only unit vectors are conatined within the dyad itself.\n",
    "\n",
    "In *pynamics*, the dyad class represents a two-vector collection.  Dot and cross product operations are supported between vectors and dyads.  A dyad class in *pynamics* may be constructed by supplying any two basis vectors."
   ]
  },
  {
   "cell_type": "code",
   "execution_count": 1,
   "metadata": {},
   "outputs": [],
   "source": [
    "import pynamics\n",
    "\n",
    "from pynamics.frame import Frame\n",
    "from pynamics.dyadic import Dyad\n",
    "from pynamics.system import System\n",
    "\n",
    "system = System()\n",
    "pynamics.set_system(__name__,system)\n",
    "\n",
    "A = Frame('A',system)\n",
    "d = Dyad(A.x,3*A.y)\n",
    "\n",
    "v = A.x+A.y+A.z"
   ]
  },
  {
   "cell_type": "code",
   "execution_count": 2,
   "metadata": {},
   "outputs": [
    {
     "data": {
      "text/plain": [
       "3*A.x"
      ]
     },
     "execution_count": 2,
     "metadata": {},
     "output_type": "execute_result"
    }
   ],
   "source": [
    "d.dot(v)"
   ]
  },
  {
   "cell_type": "code",
   "execution_count": 3,
   "metadata": {},
   "outputs": [
    {
     "data": {
      "text/plain": [
       "3*A.y"
      ]
     },
     "execution_count": 3,
     "metadata": {},
     "output_type": "execute_result"
    }
   ],
   "source": [
    "v.dot(d)"
   ]
  },
  {
   "cell_type": "markdown",
   "metadata": {},
   "source": [
    "## Dyadics\n",
    "A dyadic is a linear combination of dyads, just as a vector is a linear combination of one or more basis vectors.  In *pynamics*, dot product, cross product, and addition operations between dyadics and vectors are supported."
   ]
  },
  {
   "cell_type": "code",
   "execution_count": 4,
   "metadata": {},
   "outputs": [
    {
     "data": {
      "text/plain": [
       "(A.x, 3*A.y)+(A.z, 3*A.x)"
      ]
     },
     "execution_count": 4,
     "metadata": {},
     "output_type": "execute_result"
    }
   ],
   "source": [
    "d = Dyad(A.x,3*A.y)\n",
    "e = Dyad(A.z,3*A.x)\n",
    "my_dyadic = d+e\n",
    "my_dyadic"
   ]
  },
  {
   "cell_type": "code",
   "execution_count": 5,
   "metadata": {},
   "outputs": [
    {
     "data": {
      "text/plain": [
       "pynamics.dyadic.Dyadic"
      ]
     },
     "execution_count": 5,
     "metadata": {},
     "output_type": "execute_result"
    }
   ],
   "source": [
    "type(my_dyadic)"
   ]
  },
  {
   "cell_type": "code",
   "execution_count": 6,
   "metadata": {},
   "outputs": [
    {
     "data": {
      "text/plain": [
       "3*A.x + 3*A.y"
      ]
     },
     "execution_count": 6,
     "metadata": {},
     "output_type": "execute_result"
    }
   ],
   "source": [
    "v.dot(d+e)"
   ]
  },
  {
   "cell_type": "markdown",
   "metadata": {},
   "source": [
    "## Inertia\n",
    "\n",
    "Inertia is the term for the distribution of mass throughout a rigid body.  Depending on the point about which your system rotates, that distribution of mass is different.  That is why, in *pynamics* the inertia class needs quite a bit of information before you can use it."
   ]
  }
 ],
 "metadata": {
  "kernelspec": {
   "display_name": "Python 3 (ipykernel)",
   "language": "python",
   "name": "python3"
  },
  "language_info": {
   "codemirror_mode": {
    "name": "ipython",
    "version": 3
   },
   "file_extension": ".py",
   "mimetype": "text/x-python",
   "name": "python",
   "nbconvert_exporter": "python",
   "pygments_lexer": "ipython3",
   "version": "3.9.7"
  }
 },
 "nbformat": 4,
 "nbformat_minor": 4
}
