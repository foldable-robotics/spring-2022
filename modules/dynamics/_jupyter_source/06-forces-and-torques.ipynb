{
 "cells": [
  {
   "cell_type": "markdown",
   "metadata": {},
   "source": [
    "---\n",
    "title: Forces and Torques\n",
    "---\n",
    "\n",
    "## Introduction\n",
    "\n",
    "## Non-Conservative Forces\n",
    "\n",
    "### Damping\n",
    "\n",
    "$$\\vec{f} = -b\\vec{v}$$\n",
    "\n",
    "### Friction\n",
    "\n",
    "Friction is typically formulated as the forces acting between two bodies $A$ and $B$\n",
    "\n",
    "$$\\vec{f} = \\mu|\\vec{n}|\\frac{\\vec{v}}{|\\vec{v}|}$$ \n",
    "\n",
    "where $\\mu$ is the coefficient of friction, determined experimentally, $\\vec{n}$ is the magnitude of the normal force between two rigid bodies, and $\\vec{v}$ is the relative velocity of the contact point on $B$ with respect to the contact point on $A$. If $|\\vec{v}|==0$, you must be careful to ensure that the expression does not evaluate as ```NaN```.\n",
    "\n",
    "\n",
    "### Torsional Friction\n",
    "\n",
    "Because the normal force not easily derived from a rigid body analysis, we often apply a \n",
    "\n",
    "$$\\vec{f} = -f\\frac{\\vec{v}}{|\\vec{v}|}$$ \n",
    "\n",
    "where f is a constant value determined experimentally and where $\\vec{v}$ is a unit vector describing the rotational velocity.  If $|\\vec{v}|==0$, you must be careful to ensure that the expression does not evaluate as ```NaN```.\n",
    "\n",
    "\n",
    "### Applying Forces in Pynamics\n",
    "\n",
    "Forces and torques are added to the system with the generic ```addforce``` method.  The first parameter supplied is a vector describing the force applied at a point or the torque applied along a given rotational axis.  The second parameter is the  vector describing the linear speed (for an applied force) or the angular velocity(for an applied torque)\n",
    "\n",
    "## Conservative Forces\n",
    "\n",
    "### Springs\n",
    "\n",
    "Traditional Hookian springs obey the rule\n",
    "\n",
    "$$\\vec{f}=-k\\vec{x}$$\n",
    "\n",
    "where $k$ is a constant value obtained experimentally and $\\vec{x}$ indicates the stretch of the spring from its neutral point.\n",
    "\n",
    "#### Springs in Pynamics\n",
    "\n",
    "Spring forces are a special case because the energy stored in springs is conservative and should be considered when calculating the system's potential energy.  To do this, use the ```add_spring_force``` command.  In this method, the first value is the linear spring constant.  The second value is the \"stretch\" vector, indicating the amount of deflection from the neutral point of the spring.  The final parameter is, as above, the linear or angluar velocity vector (depending on whether your spring is a linear or torsional spring)\n",
    "\n",
    "In this case, the torques applied to each joint are dependent upon whether qA, qB, and qC are absolute or relative rotations, as defined above.\n",
    "\n",
    "### Gravity\n",
    "\n",
    "$$\\vec{f} = m\\vec{g}$$\n",
    "\n",
    "#### Gravity in Pynamics\n",
    "Again, like springs, the force of gravity is conservative and should be applied to all bodies.  To globally apply the force of gravity to all particles and bodies, you can use the special ```addforcegravity``` method, by supplying the acceleration due to gravity as a vector.  This will get applied to all bodies defined in your system."
   ]
  }
 ],
 "metadata": {
  "kernelspec": {
   "display_name": "Python 3 (ipykernel)",
   "language": "python",
   "name": "python3"
  },
  "language_info": {
   "codemirror_mode": {
    "name": "ipython",
    "version": 3
   },
   "file_extension": ".py",
   "mimetype": "text/x-python",
   "name": "python",
   "nbconvert_exporter": "python",
   "pygments_lexer": "ipython3",
   "version": "3.9.7"
  }
 },
 "nbformat": 4,
 "nbformat_minor": 4
}
