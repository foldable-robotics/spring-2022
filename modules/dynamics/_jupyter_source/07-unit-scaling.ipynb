{
 "cells": [
  {
   "cell_type": "markdown",
   "id": "meaning-costume",
   "metadata": {},
   "source": [
    "---\n",
    "title: Unit Scaling\n",
    "---\n"
   ]
  },
  {
   "cell_type": "code",
   "execution_count": 1,
   "id": "genuine-rabbit",
   "metadata": {},
   "outputs": [],
   "source": [
    "import idealab_tools.units"
   ]
  },
  {
   "cell_type": "code",
   "execution_count": 2,
   "id": "removed-fusion",
   "metadata": {},
   "outputs": [
    {
     "data": {
      "text/plain": [
       " kilogram*meter/second^2"
      ]
     },
     "execution_count": 2,
     "metadata": {},
     "output_type": "execute_result"
    }
   ],
   "source": [
    "idealab_tools.units.force"
   ]
  },
  {
   "cell_type": "code",
   "execution_count": 3,
   "id": "accessory-spouse",
   "metadata": {},
   "outputs": [
    {
     "data": {
      "text/plain": [
       "{'kilogram': 1, 'meter': 1, 'second': -2}"
      ]
     },
     "execution_count": 3,
     "metadata": {},
     "output_type": "execute_result"
    }
   ],
   "source": [
    "idealab_tools.units.force.base_units"
   ]
  },
  {
   "cell_type": "code",
   "execution_count": 4,
   "id": "surprising-republican",
   "metadata": {},
   "outputs": [
    {
     "data": {
      "text/plain": [
       "1"
      ]
     },
     "execution_count": 4,
     "metadata": {},
     "output_type": "execute_result"
    }
   ],
   "source": [
    "idealab_tools.units.force.compute_scaling()"
   ]
  },
  {
   "cell_type": "code",
   "execution_count": 5,
   "id": "attended-vector",
   "metadata": {},
   "outputs": [],
   "source": [
    "idealab_tools.units.Unit.set_scaling(meter=10)\n",
    "idealab_tools.units.Unit.set_scaling(kilogram=.1)"
   ]
  },
  {
   "cell_type": "code",
   "execution_count": 6,
   "id": "orange-campbell",
   "metadata": {},
   "outputs": [
    {
     "data": {
      "text/plain": [
       "1.0"
      ]
     },
     "execution_count": 6,
     "metadata": {},
     "output_type": "execute_result"
    }
   ],
   "source": [
    "idealab_tools.units.force.compute_scaling()"
   ]
  },
  {
   "cell_type": "code",
   "execution_count": 7,
   "id": "existing-deployment",
   "metadata": {},
   "outputs": [
    {
     "data": {
      "text/plain": [
       "10"
      ]
     },
     "execution_count": 7,
     "metadata": {},
     "output_type": "execute_result"
    }
   ],
   "source": [
    "idealab_tools.units.length.compute_scaling()"
   ]
  },
  {
   "cell_type": "code",
   "execution_count": 8,
   "id": "virgin-hardwood",
   "metadata": {},
   "outputs": [
    {
     "data": {
      "text/plain": [
       "10.0"
      ]
     },
     "execution_count": 8,
     "metadata": {},
     "output_type": "execute_result"
    }
   ],
   "source": [
    "idealab_tools.units.energy.compute_scaling()"
   ]
  },
  {
   "cell_type": "code",
   "execution_count": null,
   "id": "macro-grain",
   "metadata": {},
   "outputs": [],
   "source": []
  }
 ],
 "metadata": {
  "kernelspec": {
   "display_name": "Python 3 (ipykernel)",
   "language": "python",
   "name": "python3"
  },
  "language_info": {
   "codemirror_mode": {
    "name": "ipython",
    "version": 3
   },
   "file_extension": ".py",
   "mimetype": "text/x-python",
   "name": "python",
   "nbconvert_exporter": "python",
   "pygments_lexer": "ipython3",
   "version": "3.9.7"
  }
 },
 "nbformat": 4,
 "nbformat_minor": 5
}
