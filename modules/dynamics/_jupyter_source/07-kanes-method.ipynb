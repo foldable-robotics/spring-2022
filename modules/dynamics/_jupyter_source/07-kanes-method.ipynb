{
 "cells": [
  {
   "cell_type": "markdown",
   "metadata": {},
   "source": [
    "---\n",
    "title: Kane's method\n",
    "---\n",
    "\n",
    "![pendulum](/figures/dynamics/pendulum.png)\n",
    "\n",
    "\n",
    "## Frames\n",
    "Frame A\n",
    "\n",
    "$$ {}^{N}{}{\\vec{\\omega}}^{A}{} = \\dot{\\theta} \\hat{n}_z= \\dot{\\theta} \\hat{a}_z $$\n",
    "\n",
    "\n",
    "## Velocity\n",
    "\n",
    "if point $p$'s position is represented by $\\vec{r}$ where\n",
    "\n",
    "$$\n",
    "\\vec{r} = -l\\hat{a}_y\n",
    "$$\n",
    "then from the example in the derivatives module, we know that \n",
    "$$\n",
    "\\vec{v} = \\frac{ {}^{N}{}{ d\\vec{r}}{}{}}{dt}= l\\dot{\\theta}\\hat{a}_x\n",
    "$$\n",
    "\n",
    "and \n",
    "$$\n",
    "\\vec{a} = l\\ddot{\\theta}\\hat{a}_x  + l\\dot{\\theta}^2\\hat{a}_y\n",
    "$$\n",
    "\n",
    "## Speed Variables\n",
    "\n",
    "In this system our speed variable is $\\dot{\\theta}$\n",
    "\n",
    "## Forces\n",
    "\n",
    "There are a number of forces acting within the system\n",
    "\n",
    "* Two tension forces, one at point $p$ one at point $o$.  These may be considered internal forces if modeled correctly\n",
    "* One gravity force acting on point $p$\n",
    "\n",
    "Partial Velocities\n",
    "\n",
    "* partial velocity of particle\n",
    "* $v_{p1} = v$\n",
    "* partial velocity of f1, f2,f3\n",
    "* $v_{f1} = 0$\n",
    "* $v_{f2} = v$\n",
    "* $v_{f3} = v$\n",
    "\n",
    "Generalized effective force of a particle\n",
    "$$\n",
    " {}^{N}{}{F}{Q}{u_r} = \\frac{\\partial{^N\\vec{v}^Q}}{\\partial u_r} \\cdot  \\left(m^Q*  {}^{N}{}{\\vec{a}}^{Q}{}\\right)\n",
    "$$\n",
    "\n",
    "Kane's Equation for a system of particles and masses for speed variable $u_r$, $m$ forces, $n$ moments, $o$ particles, and $p$ bodies\n",
    "$$\n",
    "\\sum_{i=1}^{m}{\\vec{f}_i} \\cdot \\frac{\\partial\\vec{v}_{\\vec{f}_i}}{\\partial u_r} + \\sum_{j=1}^{n}{\\vec{\\tau}_j} \\cdot \\frac{\\partial\\vec{\\omega}_{\\vec{\\tau}_j}}{\\partial u_r} = \\sum_{k=1}^{o}\\frac{\\partial\\vec{v}_{k}}{ \\partial u_r} \\cdot m_{k}\\vec{a}_{k} +    \\sum_{l=1}^{p}\\left( \\frac{\\partial\\vec{v}_{l}}{\\partial u_r} \\cdot m_{l}\\vec{a}_{l} +\n",
    "\\frac{\\partial\\vec{\\omega}_{l}}{\\partial u_r} \\cdot \\left( \\overrightarrow{I}_{l}\\cdot\\vec{\\alpha}_l\n",
    "+ \\vec{\\omega}_l \\times \\overrightarrow{I}_{l}\\cdot\\vec{\\omega}_l\n",
    "\\right) \\right)\n",
    "$$"
   ]
  },
  {
   "cell_type": "markdown",
   "metadata": {},
   "source": [
    "## Example 1\n",
    "\n",
    "This example uses $\\vec{r}=l\\hat{a}_y$ as the position vector for describing particle p's position"
   ]
  },
  {
   "cell_type": "code",
   "execution_count": 1,
   "metadata": {},
   "outputs": [],
   "source": [
    "%matplotlib inline"
   ]
  },
  {
   "cell_type": "code",
   "execution_count": 2,
   "metadata": {},
   "outputs": [],
   "source": [
    "# -*- coding: utf-8 -*-\n",
    "\"\"\"\n",
    "Written by Daniel M. Aukes\n",
    "Email: danaukes<at>gmail.com\n",
    "Please see LICENSE for full license.\n",
    "\"\"\"\n",
    "\n",
    "import pynamics\n",
    "from pynamics.frame import Frame\n",
    "from pynamics.variable_types import Differentiable,Constant,Variable\n",
    "from pynamics.system import System\n",
    "from pynamics.body import Body\n",
    "from pynamics.dyadic import Dyadic\n",
    "from pynamics.output import Output,PointsOutput\n",
    "from pynamics.particle import Particle\n",
    "from pynamics.constraint import AccelerationConstraint\n",
    "\n",
    "import pynamics.integration\n",
    "import sympy\n",
    "import numpy\n",
    "import matplotlib.pyplot as plt\n",
    "plt.rcParams[\"animation.html\"] = \"html5\"\n",
    "plt.ion()\n",
    "from math import pi\n",
    "from matplotlib import animation, rc\n",
    "from IPython.display import HTML"
   ]
  },
  {
   "cell_type": "code",
   "execution_count": 3,
   "metadata": {},
   "outputs": [],
   "source": [
    "system = System()\n",
    "pynamics.set_system(__name__,system)"
   ]
  },
  {
   "cell_type": "code",
   "execution_count": 4,
   "metadata": {},
   "outputs": [],
   "source": [
    "lA = Constant(1,'lA',system)\n",
    "mA = Constant(1,'mA',system)\n",
    "g = Constant(9.81,'g',system)"
   ]
  },
  {
   "cell_type": "code",
   "execution_count": 5,
   "metadata": {},
   "outputs": [],
   "source": [
    "qA,qA_d,qA_dd = Differentiable('qA',system)"
   ]
  },
  {
   "cell_type": "code",
   "execution_count": 6,
   "metadata": {},
   "outputs": [],
   "source": [
    "initialvalues = {}\n",
    "initialvalues[qA]=0*pi/180\n",
    "initialvalues[qA_d]=0*pi/180\n",
    "ini = [initialvalues[item] for item in system.get_state_variables()]"
   ]
  },
  {
   "cell_type": "code",
   "execution_count": 7,
   "metadata": {},
   "outputs": [],
   "source": [
    "N = Frame('N')\n",
    "A = Frame('A')\n",
    "\n",
    "system.set_newtonian(N)\n",
    "A.rotate_fixed_axis(N,[0,0,1],qA,system)"
   ]
  },
  {
   "cell_type": "code",
   "execution_count": 8,
   "metadata": {},
   "outputs": [],
   "source": [
    "pO = 0*N.x\n",
    "pNA=lA*A.x"
   ]
  },
  {
   "cell_type": "code",
   "execution_count": 9,
   "metadata": {},
   "outputs": [],
   "source": [
    "ParticleA = Particle(pNA,mA,'ParticleA',system)"
   ]
  },
  {
   "cell_type": "code",
   "execution_count": 10,
   "metadata": {},
   "outputs": [],
   "source": [
    "system.addforcegravity(-g*N.y)"
   ]
  },
  {
   "cell_type": "code",
   "execution_count": 11,
   "metadata": {},
   "outputs": [
    {
     "name": "stderr",
     "output_type": "stream",
     "text": [
      "2021-07-22 15:55:37,474 - pynamics.system - INFO - getting dynamic equations\n"
     ]
    }
   ],
   "source": [
    "f,ma = system.getdynamics()"
   ]
  },
  {
   "cell_type": "code",
   "execution_count": 12,
   "metadata": {},
   "outputs": [
    {
     "data": {
      "text/plain": [
       "[-g⋅lA⋅mA⋅cos(qA)]"
      ]
     },
     "execution_count": 12,
     "metadata": {},
     "output_type": "execute_result"
    }
   ],
   "source": [
    "f"
   ]
  },
  {
   "cell_type": "code",
   "execution_count": 13,
   "metadata": {},
   "outputs": [
    {
     "data": {
      "text/plain": [
       "⎡  2         ⎤\n",
       "⎣lA ⋅mA⋅qA_dd⎦"
      ]
     },
     "execution_count": 13,
     "metadata": {},
     "output_type": "execute_result"
    }
   ],
   "source": [
    "ma"
   ]
  },
  {
   "cell_type": "code",
   "execution_count": 14,
   "metadata": {},
   "outputs": [
    {
     "name": "stderr",
     "output_type": "stream",
     "text": [
      "2021-07-22 15:55:37,740 - pynamics.system - INFO - solving a = f/m and creating function\n",
      "2021-07-22 15:55:37,748 - pynamics.system - INFO - substituting constrained in Ma-f.\n",
      "2021-07-22 15:55:37,826 - pynamics.system - INFO - done solving a = f/m and creating function\n"
     ]
    }
   ],
   "source": [
    "func = system.state_space_post_invert(f,ma)"
   ]
  },
  {
   "cell_type": "code",
   "execution_count": 15,
   "metadata": {},
   "outputs": [],
   "source": [
    "tinitial = 0\n",
    "tfinal = 5\n",
    "fps = 30\n",
    "t = numpy.r_[tinitial:tfinal:1/fps]\n",
    "tol=1e-12"
   ]
  },
  {
   "cell_type": "code",
   "execution_count": 16,
   "metadata": {},
   "outputs": [
    {
     "name": "stderr",
     "output_type": "stream",
     "text": [
      "2021-07-22 15:55:37,965 - pynamics.integration - INFO - beginning integration\n",
      "2021-07-22 15:55:37,965 - pynamics.system - INFO - integration at time 0000.00\n",
      "2021-07-22 15:55:38,040 - pynamics.integration - INFO - finished integration\n"
     ]
    }
   ],
   "source": [
    "states=pynamics.integration.integrate(func,ini,t,rtol=tol,atol=tol,args=({'constants':system.constant_values},))"
   ]
  },
  {
   "cell_type": "code",
   "execution_count": 18,
   "metadata": {},
   "outputs": [
    {
     "name": "stderr",
     "output_type": "stream",
     "text": [
      "2021-07-22 15:55:42,177 - pynamics.output - INFO - calculating outputs\n",
      "2021-07-22 15:55:42,185 - pynamics.output - INFO - done calculating outputs\n"
     ]
    },
    {
     "data": {
      "text/plain": [
       "<AxesSubplot:>"
      ]
     },
     "execution_count": 18,
     "metadata": {},
     "output_type": "execute_result"
    },
    {
     "data": {
      "image/png": "[encoded data removed]",
      "text/plain": [
       "<Figure size 432x288 with 1 Axes>"
      ]
     },
     "metadata": {
      "needs_background": "light"
     },
     "output_type": "display_data"
    }
   ],
   "source": [
    "points = [pO,pNA]\n",
    "points_output = PointsOutput(points,system)\n",
    "points_output.calc(states,t)\n",
    "points_output.plot_time()\n",
    "#points_output.animate(fps = fps,lw=2)"
   ]
  },
  {
   "cell_type": "code",
   "execution_count": 19,
   "metadata": {},
   "outputs": [],
   "source": [
    "del A,N,ParticleA,system, qA,qA_d,qA_dd,ini,states,t,tfinal,tinitial,tol\n",
    "del pO,pNA\n",
    "del lA,g,mA\n",
    "del f,ma\n",
    "del points"
   ]
  },
  {
   "cell_type": "markdown",
   "metadata": {},
   "source": [
    "## Example 2\n",
    "This example uses $\\vec{r}= x\\hat{n}_x + y\\hat{n}_y$ as the position vector for p.  This requires an added constraint to maintain the length of r, as in $|\\vec{r}|=l_A$"
   ]
  },
  {
   "cell_type": "code",
   "execution_count": 20,
   "metadata": {},
   "outputs": [],
   "source": [
    "system = System()\n",
    "pynamics.set_system(__name__,system)"
   ]
  },
  {
   "cell_type": "code",
   "execution_count": 21,
   "metadata": {},
   "outputs": [],
   "source": [
    "lA = Constant(1,'lA',system)\n",
    "mA = Constant(1,'mA',system)\n",
    "g = Constant(9.81,'g',system)"
   ]
  },
  {
   "cell_type": "code",
   "execution_count": 22,
   "metadata": {},
   "outputs": [],
   "source": [
    "x,x_d,x_dd = Differentiable('x',system)\n",
    "y,y_d,y_dd = Differentiable('y',system)"
   ]
  },
  {
   "cell_type": "code",
   "execution_count": 23,
   "metadata": {},
   "outputs": [],
   "source": [
    "initialvalues = {}\n",
    "initialvalues[x]=1\n",
    "initialvalues[x_d]=0\n",
    "initialvalues[y]=0\n",
    "initialvalues[y_d]=0\n",
    "ini = [initialvalues[item] for item in system.get_state_variables()]"
   ]
  },
  {
   "cell_type": "code",
   "execution_count": 24,
   "metadata": {},
   "outputs": [],
   "source": [
    "N = Frame('N')\n",
    "\n",
    "system.set_newtonian(N)"
   ]
  },
  {
   "cell_type": "code",
   "execution_count": 25,
   "metadata": {},
   "outputs": [],
   "source": [
    "pO = 0*N.x\n",
    "pNA=x*N.x+y*N.y"
   ]
  },
  {
   "cell_type": "code",
   "execution_count": 26,
   "metadata": {},
   "outputs": [],
   "source": [
    "ParticleA = Particle(pNA,mA,'ParticleA',system)"
   ]
  },
  {
   "cell_type": "code",
   "execution_count": 27,
   "metadata": {},
   "outputs": [],
   "source": [
    "system.addforcegravity(-g*N.y)"
   ]
  },
  {
   "cell_type": "code",
   "execution_count": 28,
   "metadata": {},
   "outputs": [],
   "source": [
    "eq = []\n",
    "eq.append(pNA)\n",
    "eq_d=[item.time_derivative() for item in eq]\n",
    "eq_dd=[item.time_derivative() for item in eq_d]\n",
    "eq_dd_scalar = [eq_dd[0].length()]\n",
    "constraint = AccelerationConstraint(eq_dd_scalar)\n",
    "system.add_constraint(constraint)"
   ]
  },
  {
   "cell_type": "code",
   "execution_count": 29,
   "metadata": {},
   "outputs": [
    {
     "name": "stderr",
     "output_type": "stream",
     "text": [
      "2021-07-22 15:55:59,515 - pynamics.system - INFO - getting dynamic equations\n"
     ]
    }
   ],
   "source": [
    "f,ma = system.getdynamics()"
   ]
  },
  {
   "cell_type": "code",
   "execution_count": 30,
   "metadata": {},
   "outputs": [
    {
     "name": "stderr",
     "output_type": "stream",
     "text": [
      "2021-07-22 15:56:06,499 - pynamics.system - INFO - solving a = f/m and creating function\n",
      "2021-07-22 15:56:06,510 - pynamics.system - INFO - substituting constrained in Ma-f.\n",
      "2021-07-22 15:56:06,548 - pynamics.system - INFO - done solving a = f/m and creating function\n"
     ]
    }
   ],
   "source": [
    "func = system.state_space_post_invert(f,ma,constants=system.constant_values)"
   ]
  },
  {
   "cell_type": "code",
   "execution_count": 31,
   "metadata": {},
   "outputs": [],
   "source": [
    "tinitial = 0\n",
    "tfinal = 5\n",
    "fps = 30\n",
    "t = numpy.r_[tinitial:tfinal:1/fps]\n",
    "tol=1e-12"
   ]
  },
  {
   "cell_type": "code",
   "execution_count": 33,
   "metadata": {},
   "outputs": [
    {
     "name": "stderr",
     "output_type": "stream",
     "text": [
      "2021-07-22 15:56:32,054 - pynamics.system - INFO - integration at time 0000.00\n"
     ]
    },
    {
     "ename": "TypeError",
     "evalue": "can't convert expression to float",
     "output_type": "error",
     "traceback": [
      "\u001b[1;31m---------------------------------------------------------------------------\u001b[0m",
      "\u001b[1;31mTypeError\u001b[0m                                 Traceback (most recent call last)",
      "\u001b[1;32m<ipython-input-33-a7dec5c115fc>\u001b[0m in \u001b[0;36m<module>\u001b[1;34m\u001b[0m\n\u001b[1;32m----> 1\u001b[1;33m \u001b[0mfunc\u001b[0m\u001b[1;33m(\u001b[0m\u001b[0mini\u001b[0m\u001b[1;33m,\u001b[0m\u001b[1;36m0\u001b[0m\u001b[1;33m)\u001b[0m\u001b[1;33m\u001b[0m\u001b[1;33m\u001b[0m\u001b[0m\n\u001b[0m",
      "\u001b[1;32m~\\code\\code_pynamics\\python\\pynamics\\system.py\u001b[0m in \u001b[0;36mfunc\u001b[1;34m(arg0, arg1, *args)\u001b[0m\n\u001b[0;32m    435\u001b[0m \u001b[1;33m\u001b[0m\u001b[0m\n\u001b[0;32m    436\u001b[0m \u001b[1;33m\u001b[0m\u001b[0m\n\u001b[1;32m--> 437\u001b[1;33m             \u001b[0mAi\u001b[0m \u001b[1;33m=\u001b[0m \u001b[0mnumpy\u001b[0m\u001b[1;33m.\u001b[0m\u001b[0marray\u001b[0m\u001b[1;33m(\u001b[0m\u001b[0mfA\u001b[0m\u001b[1;33m(\u001b[0m\u001b[1;33m*\u001b[0m\u001b[0mstate_i_full\u001b[0m\u001b[1;33m)\u001b[0m\u001b[1;33m,\u001b[0m\u001b[0mdtype\u001b[0m\u001b[1;33m=\u001b[0m\u001b[0mfloat\u001b[0m\u001b[1;33m)\u001b[0m\u001b[1;33m\u001b[0m\u001b[1;33m\u001b[0m\u001b[0m\n\u001b[0m\u001b[0;32m    438\u001b[0m             \u001b[0mbi\u001b[0m \u001b[1;33m=\u001b[0m \u001b[0mnumpy\u001b[0m\u001b[1;33m.\u001b[0m\u001b[0marray\u001b[0m\u001b[1;33m(\u001b[0m\u001b[0mfb\u001b[0m\u001b[1;33m(\u001b[0m\u001b[1;33m*\u001b[0m\u001b[0mstate_i_full\u001b[0m\u001b[1;33m)\u001b[0m\u001b[1;33m,\u001b[0m\u001b[0mdtype\u001b[0m\u001b[1;33m=\u001b[0m\u001b[0mfloat\u001b[0m\u001b[1;33m)\u001b[0m\u001b[1;33m\u001b[0m\u001b[1;33m\u001b[0m\u001b[0m\n\u001b[0;32m    439\u001b[0m \u001b[1;33m\u001b[0m\u001b[0m\n",
      "\u001b[1;32mC:\\Anaconda3\\lib\\site-packages\\sympy\\core\\expr.py\u001b[0m in \u001b[0;36m__float__\u001b[1;34m(self)\u001b[0m\n\u001b[0;32m    356\u001b[0m         \u001b[1;32mif\u001b[0m \u001b[0mresult\u001b[0m\u001b[1;33m.\u001b[0m\u001b[0mis_number\u001b[0m \u001b[1;32mand\u001b[0m \u001b[0mresult\u001b[0m\u001b[1;33m.\u001b[0m\u001b[0mas_real_imag\u001b[0m\u001b[1;33m(\u001b[0m\u001b[1;33m)\u001b[0m\u001b[1;33m[\u001b[0m\u001b[1;36m1\u001b[0m\u001b[1;33m]\u001b[0m\u001b[1;33m:\u001b[0m\u001b[1;33m\u001b[0m\u001b[1;33m\u001b[0m\u001b[0m\n\u001b[0;32m    357\u001b[0m             \u001b[1;32mraise\u001b[0m \u001b[0mTypeError\u001b[0m\u001b[1;33m(\u001b[0m\u001b[1;34m\"can't convert complex to float\"\u001b[0m\u001b[1;33m)\u001b[0m\u001b[1;33m\u001b[0m\u001b[1;33m\u001b[0m\u001b[0m\n\u001b[1;32m--> 358\u001b[1;33m         \u001b[1;32mraise\u001b[0m \u001b[0mTypeError\u001b[0m\u001b[1;33m(\u001b[0m\u001b[1;34m\"can't convert expression to float\"\u001b[0m\u001b[1;33m)\u001b[0m\u001b[1;33m\u001b[0m\u001b[1;33m\u001b[0m\u001b[0m\n\u001b[0m\u001b[0;32m    359\u001b[0m \u001b[1;33m\u001b[0m\u001b[0m\n\u001b[0;32m    360\u001b[0m     \u001b[1;32mdef\u001b[0m \u001b[0m__complex__\u001b[0m\u001b[1;33m(\u001b[0m\u001b[0mself\u001b[0m\u001b[1;33m)\u001b[0m\u001b[1;33m:\u001b[0m\u001b[1;33m\u001b[0m\u001b[1;33m\u001b[0m\u001b[0m\n",
      "\u001b[1;31mTypeError\u001b[0m: can't convert expression to float"
     ]
    }
   ],
   "source": [
    "func(ini,0,)"
   ]
  },
  {
   "cell_type": "code",
   "execution_count": null,
   "metadata": {},
   "outputs": [],
   "source": [
    "states=pynamics.integration.integrate(func,ini,t,rtol=tol,atol=tol)"
   ]
  },
  {
   "cell_type": "code",
   "execution_count": null,
   "metadata": {},
   "outputs": [],
   "source": [
    "points = [pO,pNA]\n",
    "points_output2 = PointsOutput(points,system)\n",
    "points_output2.calc(states,t)\n",
    "points_output2.animate(fps = fps,lw=2)"
   ]
  },
  {
   "cell_type": "code",
   "execution_count": null,
   "metadata": {},
   "outputs": [],
   "source": [
    "HTML(points_output.anim.to_html5_video())"
   ]
  },
  {
   "cell_type": "code",
   "execution_count": null,
   "metadata": {},
   "outputs": [],
   "source": [
    "HTML(points_output2.anim.to_html5_video())"
   ]
  },
  {
   "cell_type": "code",
   "execution_count": null,
   "metadata": {},
   "outputs": [],
   "source": [
    "system.constant_values\n"
   ]
  },
  {
   "cell_type": "code",
   "execution_count": null,
   "metadata": {},
   "outputs": [],
   "source": []
  }
 ],
 "metadata": {
  "kernelspec": {
   "display_name": "Python 3",
   "language": "python",
   "name": "python3"
  },
  "language_info": {
   "codemirror_mode": {
    "name": "ipython",
    "version": 3
   },
   "file_extension": ".py",
   "mimetype": "text/x-python",
   "name": "python",
   "nbconvert_exporter": "python",
   "pygments_lexer": "ipython3",
   "version": "3.8.10"
  }
 },
 "nbformat": 4,
 "nbformat_minor": 4
}
