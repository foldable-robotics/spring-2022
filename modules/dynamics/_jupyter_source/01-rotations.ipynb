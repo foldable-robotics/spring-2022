{
 "cells": [
  {
   "cell_type": "markdown",
   "metadata": {},
   "source": [
    "---\n",
    "title: Rotations\n",
    "---\n",
    "\n",
    "## Introduction\n",
    "\n",
    "While there may be many ways to navigate and describe the same three-dimensional space using reference frames, it is also necessary and desireable to be able to change representations; this can be useful for interpreting motion from a differet perspective, for adding forces or torques to a system using dirctional components which are a more natural description, or in order to perform mathematical operations between vectors which are represented by different basis vectors.  The method by which we represent one frame to another is through the concept of rotations.  \n",
    "\n",
    "Rotations may be described in a number of ways, including axis,angle representations, quaternions, Euler parameters, Euler vectors, Rodrigues' parameters, etc.  Each representation has its benefits and drawbacks, but at the end of the day, each of these methods is simply a way to find the rotational relationships between reference frames and the basis vectors they contain.  A rotation is a specific type of vector transformation that **1)** Preserve length and **2)**, preserve angles between vectors.  Generically, we may think of rotational transformations as permitting the same vector to be represented using a new set of basis vectors, or, in another way of thinking, to actually rotate a body into a new orientation with relation to some other frame.  The first one is a change of representation, while the second indicates actual motion.\n",
    "\n",
    "In *pynamics*, the rotation class can be created in a variety of ways.  You may supply a 3x3 matrix directly, generate one using an axis, angle pair, or create one by defining a rotation along an x,y,or z axis.  Rotations in *pynamics* are stored as $3x3$ matrices.  Rotations do not have to be fixed, as the matrices which encode their information can hold variables.  Thus, axis,angle pairs themselves may be composed of one or more variables.\n",
    "\n",
    "Rotation classes *in pynamics* must be defined as the relationship between two existing frames.  Thus, rotations between frames must be created after the frames themselves.  Only one rotation may be stored between two reference frames.  (though there are ways to represent more than one).  Progrmmaticaly, this is because pynamics uses the rotational connections defined by the user in determining the shortest and simplest possible representation for vectors when performing vector operations, and having multiple pathways would undesireably increase computational cost and complexity.\n",
    "\n",
    "\n",
    "## Theory\n",
    "\n",
    "![rotation between frames](/figures/dynamics/rotation_matrix.png)\n",
    "\n",
    "$$\n",
    "\\begin{array}{c|c c c}\n",
    "  {}^N{\\textbf{R}}^{A} & \\hat{a}_x &\\hat{a}_y & \\hat{a}_z\\\\\\\\\n",
    "  \\hline\n",
    "  \\hat{n}_x &\\cos q&-\\sin q &0 \\\\\\\\\n",
    "  \\hat{n}_y &\\sin q& \\cos q &0 \\\\\\\\\n",
    "  \\hat{n}_z &0&0&1\n",
    " \\end{array}\n",
    "$$\n",
    "\n",
    "## Example"
   ]
  },
  {
   "cell_type": "code",
   "execution_count": 1,
   "metadata": {},
   "outputs": [
    {
     "data": {
      "text/plain": [
       "Matrix([\n",
       "[ cos(a), sin(a), 0],\n",
       "[-sin(a), cos(a), 0],\n",
       "[      0,      0, 1]])"
      ]
     },
     "execution_count": 1,
     "metadata": {},
     "output_type": "execute_result"
    }
   ],
   "source": [
    "import pynamics\n",
    "from pynamics.system import System\n",
    "from pynamics.frame import Frame\n",
    "import sympy\n",
    "\n",
    "system = System()\n",
    "pynamics.set_system(__name__,system)\n",
    "\n",
    "a = sympy.symbols('a')\n",
    "\n",
    "N = Frame('N',system)\n",
    "A = Frame('A',system)\n",
    "\n",
    "#system.set_newtonian(N)\n",
    "A.rotate_fixed_axis(N,[0,0,1],a,system)\n",
    "\n",
    "result = A.get_r_from(N)\n",
    "result"
   ]
  },
  {
   "cell_type": "code",
   "execution_count": 2,
   "metadata": {},
   "outputs": [],
   "source": [
    "del system,N,A,a"
   ]
  },
  {
   "cell_type": "markdown",
   "metadata": {},
   "source": [
    "## Usage\n",
    "\n",
    "Rotations are used throughout pynamics but they are not utilized directly very often, other than for debugging purposes.  Use cases include\n",
    "\n",
    "* Generating basis vectors for use in general-purpose vector creation\n",
    "* They can be used with constants to generate fixed changes of reference\n",
    "* They are used in conjunction with differentiable state variables to determine rotational velocity and acceleration between frames\n",
    "\n",
    "Rotations in pynamics are typically generated in a sequential order from a base, or Newtonian frame (a non-accelerating world frame).  The ordering is not required, because internally pynamics establishes connections to neighboring rotations by creating a tree-like map of all frames connected to each other.  This can be done with or without explicitly defining the Newtonian frame first (though other functions dealing with differentiation require this declaration first)"
   ]
  },
  {
   "cell_type": "markdown",
   "metadata": {},
   "source": [
    "## Multiple Rotations\n",
    "\n",
    "Rotations can be chained together and resolved into a single expression:\n",
    "\n",
    "$${}^N{\\textbf{R}}^{B} = {}^{N}{\\textbf{R}}^{A} {}^N{\\textbf{R}}^{B}$$\n"
   ]
  },
  {
   "cell_type": "code",
   "execution_count": 3,
   "metadata": {},
   "outputs": [
    {
     "data": {
      "text/plain": [
       "Matrix([\n",
       "[cos(a)*cos(b), sin(a)*cos(b), -sin(b)],\n",
       "[      -sin(a),        cos(a),       0],\n",
       "[sin(b)*cos(a), sin(a)*sin(b),  cos(b)]])"
      ]
     },
     "execution_count": 3,
     "metadata": {},
     "output_type": "execute_result"
    }
   ],
   "source": [
    "import pynamics\n",
    "from pynamics.system import System\n",
    "from pynamics.frame import Frame\n",
    "import sympy\n",
    "\n",
    "system = System()\n",
    "pynamics.set_system(__name__,system)\n",
    "\n",
    "a,b = sympy.symbols('a,b')\n",
    "\n",
    "N = Frame('N',system)\n",
    "A = Frame('A',system)\n",
    "B = Frame('B',system)\n",
    "\n",
    "#system.set_newtonian(N)\n",
    "A.rotate_fixed_axis(N,[0,0,1],a,system)\n",
    "B.rotate_fixed_axis(A,[0,1,0],b,system)\n",
    "R_BA  = B.get_r_from(A)\n",
    "R_AN  = A.get_r_from(N)\n",
    "RBN2 = R_BA*R_AN\n",
    "RBN2"
   ]
  },
  {
   "cell_type": "code",
   "execution_count": 4,
   "metadata": {},
   "outputs": [
    {
     "data": {
      "text/plain": [
       "Matrix([\n",
       "[cos(a)*cos(b), sin(a)*cos(b), -sin(b)],\n",
       "[      -sin(a),        cos(a),       0],\n",
       "[sin(b)*cos(a), sin(a)*sin(b),  cos(b)]])"
      ]
     },
     "execution_count": 4,
     "metadata": {},
     "output_type": "execute_result"
    }
   ],
   "source": [
    "#------\n",
    "\n",
    "R_BN  = B.get_r_from(N)\n",
    "R_BN"
   ]
  },
  {
   "cell_type": "code",
   "execution_count": 5,
   "metadata": {},
   "outputs": [],
   "source": [
    "del a,b,N,A,B"
   ]
  }
 ],
 "metadata": {
  "kernelspec": {
   "display_name": "Python 3 (ipykernel)",
   "language": "python",
   "name": "python3"
  },
  "language_info": {
   "codemirror_mode": {
    "name": "ipython",
    "version": 3
   },
   "file_extension": ".py",
   "mimetype": "text/x-python",
   "name": "python",
   "nbconvert_exporter": "python",
   "pygments_lexer": "ipython3",
   "version": "3.9.7"
  }
 },
 "nbformat": 4,
 "nbformat_minor": 4
}
